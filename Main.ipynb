{
 "cells": [
  {
   "cell_type": "code",
   "execution_count": 2,
   "id": "7ce77680",
   "metadata": {},
   "outputs": [
    {
     "name": "stdout",
     "output_type": "stream",
     "text": [
      "Response Code: 0 | Event Code: 0 | Info: host '203.66.91.161:80', IP 203.66.91.161:80 (host 1 of 1) (host connection attempt 1 of 1) (total connection attempt 1 of 1) | Event: Session up\n",
      "<SecurityType.Index: 'IND'> fetch done.\n",
      "<SecurityType.Future: 'FUT'> fetch done.\n",
      "目前的系統時間為 2021-12-15 02:51:39 AM\n",
      "將設定移動停利點位為5點。\n",
      "將設定固定停損點位為5點。\n",
      "自動停損停利程式啟動，正在追蹤MXFL1的倉位...\n",
      "Response Code: 200 | Event Code: 16 | Info: TIC/v1/FOP/*/TFE/MXFL1 | Event: Subscribe or Unsubscribe ok\n",
      "<SecurityType.Stock: 'STK'> fetch done.\n",
      "<SecurityType.Option: 'OPT'> fetch done.\n"
     ]
    }
   ],
   "source": [
    "from AutoStopper import AutoStopper\n",
    "\n",
    "autostopper = AutoStopper()\n",
    "\n",
    "autostopper.startAutoStopper()"
   ]
  },
  {
   "cell_type": "code",
   "execution_count": null,
   "id": "5a7b85d7",
   "metadata": {},
   "outputs": [],
   "source": []
  }
 ],
 "metadata": {
  "kernelspec": {
   "display_name": "Python 3",
   "language": "python",
   "name": "python3"
  },
  "language_info": {
   "codemirror_mode": {
    "name": "ipython",
    "version": 3
   },
   "file_extension": ".py",
   "mimetype": "text/x-python",
   "name": "python",
   "nbconvert_exporter": "python",
   "pygments_lexer": "ipython3",
   "version": "3.8.8"
  }
 },
 "nbformat": 4,
 "nbformat_minor": 5
}
