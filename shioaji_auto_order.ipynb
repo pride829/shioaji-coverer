{
 "cells": [
  {
   "cell_type": "code",
   "execution_count": 3,
   "id": "7d272151",
   "metadata": {},
   "outputs": [
    {
     "data": {
      "text/plain": [
       "<module 'shioaji_login' from 'C:\\\\Users\\\\pride829\\\\git\\\\shioaji-coverer\\\\shioaji_login.py'>"
      ]
     },
     "execution_count": 3,
     "metadata": {},
     "output_type": "execute_result"
    }
   ],
   "source": [
    "import importlib\n",
    "import threading\n",
    "import time\n",
    "import json\n",
    "import datetime\n",
    "import os\n",
    "import codecs\n",
    "    \n",
    "from tcoreapi_mq import * \n",
    "import tcoreapi_mq\n",
    "\n",
    "from pathlib import Path\n",
    "\n",
    "import shioaji as sj\n",
    "import shioaji_login\n",
    "# Need to reload this for some reason that I can't remember.\n",
    "importlib.reload(shioaji_login)"
   ]
  },
  {
   "cell_type": "code",
   "execution_count": 4,
   "id": "cb01c94f",
   "metadata": {},
   "outputs": [],
   "source": [
    "def write_log(text):\n",
    "    \"\"\"\n",
    "    Write into log file.\n",
    "    \n",
    "    :param text: (str)\n",
    "    :return: None\n",
    "    \"\"\"\n",
    "\n",
    "    now = datetime.datetime.now()\n",
    "    path = 'auto_order_logs'\n",
    "    try:\n",
    "        Path(path).mkdir(parents=True, exist_ok=True)\n",
    "    except FileExistsError:\n",
    "        # directory already exists\n",
    "        pass\n",
    "    \n",
    "    log_name = now.strftime('%Y%m%d') + '.log'\n",
    "    path = os.path.join(path, log_name)\n",
    "\n",
    "    # In order to let json dumps chinese correctly, codecs is needed.\n",
    "    # When ever use json dumps, specify ensure_ascii=False\n",
    "    fp = codecs.open(path, 'a+', 'utf16')\n",
    "    fp.write(str(datetime.datetime.now()) + \": \" + text + \"\\n\")\n",
    "    fp.close()\n",
    "    "
   ]
  },
  {
   "cell_type": "code",
   "execution_count": 6,
   "id": "95b80240",
   "metadata": {},
   "outputs": [],
   "source": [
    "def place_order(quantity, action):\n",
    "    \"\"\"\n",
    "    Place a FOK order with price=MKT.\n",
    "    :param: action = sj.constant.Action.Buy or sj.constant.Action.Sell\n",
    "    :global param: api (shioaji.shioaji.Shioaji)\n",
    "    :return: None\n",
    "    \"\"\"\n",
    "    \n",
    "    global auto_order_testing\n",
    "    \n",
    "    if not auto_order_testing:\n",
    "        fut_order = api.Order(\n",
    "            action=action,\n",
    "            price=0,\n",
    "            quantity=quantity,\n",
    "            price_type=sj.constant.FuturesPriceType.MKT,\n",
    "            order_type=sj.constant.FuturesOrderType.FOK, \n",
    "            octype=sj.constant.FuturesOCType.Auto,\n",
    "            account=api.futopt_account\n",
    "        )\n",
    "\n",
    "        # Placing order\n",
    "        trade = api.place_order(contract, fut_order)\n",
    "\n",
    "        print('***')\n",
    "        log_msg = f'A FOK order with action={action}, quantity={quantity} has been placed!'\n",
    "        print(log_msg)\n",
    "        write_log(log_msg)\n",
    "        print(f'Trade msg: {trade.status.msg}')\n",
    "        write_log(f'Trade msg: {trade.status.msg}')\n",
    "        print('***\\n')\n",
    "    else:\n",
    "        print('***')\n",
    "        log_msg = f'A TESTING FOK order with action={action}, quantity={quantity} has been placed!'\n",
    "        print(log_msg)\n",
    "        write_log(log_msg)\n",
    "        print('***\\n')"
   ]
  },
  {
   "cell_type": "code",
   "execution_count": 7,
   "id": "8ab19258",
   "metadata": {},
   "outputs": [],
   "source": [
    "def get_future_code(future_name):\n",
    "    \"\"\"\n",
    "    Return future code based on future name\n",
    "    \n",
    "    :param future_name: (str)\n",
    "    \n",
    "    :return: future_code (str)\n",
    "    \"\"\"\n",
    "    \n",
    "    now = datetime.datetime.now()\n",
    "    month = now.month\n",
    "    year = now.year\n",
    "    first_weekday = now.replace(day=1).weekday()\n",
    "    \n",
    "    # Calculate the dayt of the third wednesday\n",
    "    if(first_weekday < 3):\n",
    "        third_wednesday = 17 - first_weekday\n",
    "    else:\n",
    "        third_wednesday = 24 - first_weekday\n",
    "    \n",
    "    if(\n",
    "        now.day == third_wednesday and now.time() > datetime.time(13, 30) or\n",
    "        now.day > third_wednesday\n",
    "    ):\n",
    "        month = month + 1\n",
    "        if(month == 13):\n",
    "            month = 1\n",
    "            year += 1\n",
    "    \n",
    "    month_to_code = '0ABCDEFGHIJKL'\n",
    "    \n",
    "    future_code = future_name\n",
    "    future_code += month_to_code[month]\n",
    "    future_code += str(year%10)\n",
    "    \n",
    "    return future_code"
   ]
  },
  {
   "cell_type": "code",
   "execution_count": 8,
   "id": "6aaf5ff7",
   "metadata": {},
   "outputs": [],
   "source": [
    "def update_config():\n",
    "    \n",
    "    global future_name, future_code, auto_order_time, auto_buy_trigger, auto_sell_trigger, auto_order_testing\n",
    "    \n",
    "    pre_future_code = pre_auto_order_time = pre_auto_buy_trigger = pre_auto_sell_trigger = pre_auto_order_testing = None\n",
    "    \n",
    "    \n",
    "    while(True):\n",
    "        \n",
    "        with open('config.json') as f:\n",
    "            config_data = json.load(f)\n",
    "            \n",
    "            future_name = config_data['future_name']\n",
    "            auto_order_time = int(config_data['auto_order_time'])\n",
    "            auto_buy_trigger = float(config_data['auto_buy_trigger'])\n",
    "            auto_sell_trigger = float(config_data['auto_sell_trigger'])\n",
    "            auto_order_testing = bool(config_data['auto_order_testing'])\n",
    "        \n",
    "            # If auto_recent_future, get the most recent future code.\n",
    "            if(config_data['auto_recent_future'].lower() == 'true'):\n",
    "                future_code = get_future_code(future_name)\n",
    "            else:\n",
    "                future_code = config_data['future_code']\n",
    "        \n",
    "            if(pre_future_code != future_code):\n",
    "                print(f'Future code has been set to {future_code}')\n",
    "                pre_future_code = future_code\n",
    "            \n",
    "            if(pre_auto_order_time != auto_order_time):\n",
    "                print(f'Auto order time has been set to {auto_order_time}')\n",
    "                pre_auto_order_time = auto_order_time\n",
    "            \n",
    "            if(pre_auto_buy_trigger != auto_buy_trigger):\n",
    "                print(f'Auto buy trigger has been set to {auto_buy_trigger}')\n",
    "                pre_auto_buy_trigger = auto_buy_trigger\n",
    "                \n",
    "            if(pre_auto_sell_trigger != auto_sell_trigger):\n",
    "                print(f'Auto sell trigger has been set to {auto_sell_trigger}')\n",
    "                pre_auto_sell_trigger = auto_sell_trigger\n",
    "                \n",
    "            if(pre_auto_order_testing != auto_order_testing):\n",
    "                print(f'Auto order testing has been set to {auto_order_testing}')\n",
    "                pre_auto_order_testing = auto_order_testing\n",
    "                \n",
    "            time.sleep(1)"
   ]
  },
  {
   "cell_type": "code",
   "execution_count": 18,
   "id": "7908ba0b",
   "metadata": {},
   "outputs": [],
   "source": [
    "def OnRealTimeQuote(symbol):\n",
    "    global NQ_price, price_history\n",
    "    NQ_price = float(symbol['TradingPrice'])\n",
    "    print(NQ_price)\n",
    "    price_history.append([NQ_price, datetime.datetime.now()])\n",
    "    if NQ_price - price_history[0][0] > auto_buy_trigger:\n",
    "        msg_log = \"A huge increasing in price has been detected!\\n\"\n",
    "        msg_log += \"NQ_Price \" + str((datetime.datetime.now() - price_history[0][1]).total_seconds()) + \" seconds ago: \" + str(price_history[0][0]) + \"\\n\"\n",
    "        msg_log += \"NQ_Price now: \" + str(NQ_price)\n",
    "        write_log(msg_log)\n",
    "        print(msg_log)\n",
    "        place_order(1, sj.constant.Action.Buy)\n",
    "        price_history = []\n",
    "    elif price_history[0][0] - NQ_price > auto_sell_trigger:\n",
    "        msg_log = \"A huge decreasing in price has been detected!\\n\"\n",
    "        msg_log += \"NQ_Price \" + str((datetime.datetime.now() - price_history[0][1]).total_seconds()) + \" seconds ago: \" + str(price_history[0][0]) + \"\\n\"\n",
    "        msg_log += \"NQ_Price now: \" + str(NQ_price)\n",
    "        write_log(msg_log)\n",
    "        print(msg_log)\n",
    "        place_order(1, sj.constant.Action.Sell)\n",
    "        price_history = []\n",
    "    else:\n",
    "        while (datetime.datetime.now() - price_history[0][1]).total_seconds() > auto_order_time:\n",
    "            # Delete data that is too old\n",
    "            del price_history[0]\n",
    "            "
   ]
  },
  {
   "cell_type": "code",
   "execution_count": 19,
   "id": "244d45b8",
   "metadata": {},
   "outputs": [],
   "source": [
    "def quote_sub_th(obj,sub_port,filter = \"\"):\n",
    "    socket_sub = obj.context.socket(zmq.SUB)\n",
    "    #socket_sub.RCVTIMEO=7000   #ZMQ超時設定\n",
    "    socket_sub.connect(\"tcp://127.0.0.1:%s\" % sub_port)\n",
    "    socket_sub.setsockopt_string(zmq.SUBSCRIBE,filter)\n",
    "    while(True):\n",
    "        message = (socket_sub.recv()[:-1]).decode(\"utf-8\")\n",
    "        index =  re.search(\":\",message).span()[1]  # filter\n",
    "        message = message[index:]\n",
    "        message = json.loads(message)\n",
    "        #for message in messages:\n",
    "        if(message[\"DataType\"]==\"REALTIME\"):\n",
    "            OnRealTimeQuote(message[\"Quote\"])\n",
    "        elif(message[\"DataType\"]==\"GREEKS\"):\n",
    "            OnGreeks(message[\"Quote\"])\n",
    "        elif(message[\"DataType\"]==\"TICKS\" or message[\"DataType\"]==\"1K\" or message[\"DataType\"]==\"DK\" ):\n",
    "            #print(\"@@@@@@@@@@@@@@@@@@@@@@@\",message)\n",
    "            strQryIndex = \"\"\n",
    "            while(True):\n",
    "                s_history = obj.GetHistory(g_QuoteSession, message[\"Symbol\"], message[\"DataType\"], message[\"StartTime\"], message[\"EndTime\"], strQryIndex)\n",
    "                historyData = s_history[\"HisData\"]\n",
    "                if len(historyData) == 0:\n",
    "                    break\n",
    "                last = \"\"\n",
    "                for data in historyData:\n",
    "                    last = data\n",
    "                    print(\"歷史行情：Time:%s, Volume:%s, QryIndex:%s\" % (data[\"Time\"], data[\"Volume\"], data[\"QryIndex\"]))\n",
    "                \n",
    "                strQryIndex = last[\"QryIndex\"]\n",
    "                    \n",
    "    return"
   ]
  },
  {
   "cell_type": "code",
   "execution_count": 20,
   "id": "f0c341f9",
   "metadata": {
    "scrolled": true
   },
   "outputs": [
    {
     "name": "stdout",
     "output_type": "stream",
     "text": [
      "Future code has been set to MXFD2\n",
      "Auto order time has been set to 12\n",
      "Auto buy trigger has been set to 1.0\n",
      "Auto sell trigger has been set to 1.0\n",
      "Auto order testing has been set to True\n",
      "Response Code: 0 | Event Code: 0 | Info: host '203.66.91.161:80', hostname '203.66.91.161:80' IP 203.66.91.161:80 (host 1 of 1) (host connection attempt 1 of 1) (total connection attempt 1 of 1) | Event: Session up\n",
      "Login with ID N125685958\n",
      "Login status: [FutureAccount(person_id='N125685958', broker_id='F002000', account_id='1645949', signed=True, username='曾天裕'), Account(account_type=<AccountType.H: 'H'>, person_id='N125685958', broker_id='9A9X', account_id='0137289', username='曾天裕'), StockAccount(person_id='N125685958', broker_id='9A9X', account_id='0498332', signed=True, username='曾天裕\\u3000\\u3000')]\n",
      "Activating CA at the path C:\\Users\\pride829\\git\\shioaji-coverer\\sinopac\\Sinopac.pfx\n",
      "\n",
      "\n"
     ]
    }
   ],
   "source": [
    "future_name = future_code = None\n",
    "\n",
    "auto_order_time = auto_buy_trigger = auto_sell_trigger = None\n",
    "\n",
    "auto_order_testing = None\n",
    "\n",
    "update_config_thread = threading.Thread(target = update_config)\n",
    "update_config_thread.start()\n",
    "\n",
    "time.sleep(3)\n",
    "\n",
    "api = shioaji_login.login()\n",
    "\n",
    "contract = api.Contracts.Futures[future_code]\n",
    "try:\n",
    "    if(not contract):\n",
    "        raise ValueError(f'Error: contract {future_code} does not exsits.')\n",
    "except ValueError as err:\n",
    "    traceback.print_exc()"
   ]
  },
  {
   "cell_type": "code",
   "execution_count": 25,
   "id": "efba3524",
   "metadata": {},
   "outputs": [
    {
     "name": "stdout",
     "output_type": "stream",
     "text": [
      "{'Reply': 'LOGIN', 'Success': 'OK', 'SessionKey': '9c32ff8c77ccbe36510a5c43579d960b', 'SubPort': '54330'}\n",
      "Subscribing to CME.NQ .\n"
     ]
    },
    {
     "data": {
      "text/plain": [
       "{'Reply': 'SUBQUOTE', 'Success': 'OK'}"
      ]
     },
     "execution_count": 25,
     "metadata": {},
     "output_type": "execute_result"
    },
    {
     "name": "stdout",
     "output_type": "stream",
     "text": [
      "13892.25\n",
      "13892.25\n",
      "13892.25\n",
      "13892.25\n",
      "13892.25\n",
      "13892.25\n",
      "13892.25\n",
      "13892.2513892.25\n",
      "13892.25\n",
      "13892.25\n",
      "13892.2513892.25\n",
      "\n",
      "\n",
      "13892.25\n",
      "13892.2513892.25\n",
      "\n",
      "13892.25\n",
      "13892.2513892.25\n",
      "\n",
      "13892.25\n",
      "13892.25\n"
     ]
    }
   ],
   "source": [
    "NQ_price = 0\n",
    "\n",
    "price_history = []\n",
    "\n",
    "g_QuoteZMQ = None\n",
    "g_QuoteSession = \"\"\n",
    "\n",
    "#登入(與 TOUCHANCE zmq 連線用，不可改)\n",
    "g_QuoteZMQ = QuoteAPI(\"ZMQ\",\"8076c9867a372d2a9a814ae710c256e2\")\n",
    "q_data = g_QuoteZMQ.Connect(\"51237\")\n",
    "print(q_data)\n",
    "\n",
    "if q_data[\"Success\"] != \"OK\":\n",
    "    print(\"[quote]connection failed\")\n",
    "\n",
    "g_QuoteSession = q_data[\"SessionKey\"]\n",
    "\n",
    "\n",
    "#查詢指定合约訊息\n",
    "quoteSymbol = \"TC.F.CME.NQ.HOT\"\n",
    "\n",
    "print(\"Subscribing to CME.NQ .\")\n",
    "\n",
    "t2 = threading.Thread(target = quote_sub_th,args=(g_QuoteZMQ,q_data[\"SubPort\"],))\n",
    "t2.start()\n",
    "#實時行情訂閱\n",
    "#解除訂閱\n",
    "g_QuoteZMQ.UnsubQuote(g_QuoteSession, quoteSymbol)\n",
    "#訂閱實時行情\n",
    "g_QuoteZMQ.SubQuote(g_QuoteSession, quoteSymbol)"
   ]
  },
  {
   "cell_type": "code",
   "execution_count": 16,
   "id": "bf95303e",
   "metadata": {},
   "outputs": [
    {
     "name": "stdout",
     "output_type": "stream",
     "text": [
      "2\n",
      "[[13892.25, datetime.datetime(2022, 4, 15, 22, 44, 48, 454618)], [13892.25, datetime.datetime(2022, 4, 15, 22, 44, 48, 455617)]]\n"
     ]
    }
   ],
   "source": [
    "print(len(price_history))\n",
    "print(price_history)"
   ]
  },
  {
   "cell_type": "code",
   "execution_count": 17,
   "id": "70fe57b5",
   "metadata": {
    "scrolled": true
   },
   "outputs": [
    {
     "data": {
      "text/plain": [
       "True"
      ]
     },
     "execution_count": 17,
     "metadata": {},
     "output_type": "execute_result"
    }
   ],
   "source": [
    "auto_order_testing"
   ]
  },
  {
   "cell_type": "code",
   "execution_count": null,
   "id": "0bf9a8c0",
   "metadata": {},
   "outputs": [],
   "source": [
    "# Touchance傳資料\n",
    "# 過一分鐘自動回報\n",
    "\n",
    "# 連續下跌 n 個tick\n",
    "# 並且跌了幾點\n",
    "# 或是漲了幾點\n",
    "# 這中間要在幾秒之內的時間差\n"
   ]
  }
 ],
 "metadata": {
  "kernelspec": {
   "display_name": "Python 3 (ipykernel)",
   "language": "python",
   "name": "python3"
  },
  "language_info": {
   "codemirror_mode": {
    "name": "ipython",
    "version": 3
   },
   "file_extension": ".py",
   "mimetype": "text/x-python",
   "name": "python",
   "nbconvert_exporter": "python",
   "pygments_lexer": "ipython3",
   "version": "3.7.11"
  }
 },
 "nbformat": 4,
 "nbformat_minor": 5
}
