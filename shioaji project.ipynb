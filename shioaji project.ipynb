{
 "cells": [
  {
   "cell_type": "code",
   "execution_count": 1,
<<<<<<< HEAD
   "id": "c90a9887",
=======
>>>>>>> 853a099831372b3b85e80f88a1e5e39332fd3aef
   "metadata": {},
   "outputs": [],
   "source": [
    "import shioaji as sj\n",
    "import json\n",
    "import threading\n",
    "import time"
   ]
  },
  {
   "cell_type": "code",
<<<<<<< HEAD
   "execution_count": null,
   "id": "687db523",
=======
   "execution_count": 2,
>>>>>>> 853a099831372b3b85e80f88a1e5e39332fd3aef
   "metadata": {},
   "outputs": [],
   "source": [
    "\n"
   ]
  },
  {
   "cell_type": "code",
<<<<<<< HEAD
   "execution_count": 2,
   "id": "3b20fb61",
=======
   "execution_count": 3,
>>>>>>> 853a099831372b3b85e80f88a1e5e39332fd3aef
   "metadata": {},
   "outputs": [],
   "source": [
    "class OrderPlacing:\n",
    "    \n",
    "    def __init__(self, account_info: str):\n",
    "        #account_data: File path used to login\n",
    "        with open(account_info, newline='') as jsonfile:\n",
    "            account_data = json.load(jsonfile)\n",
    "        self.api = sj.Shioaji()\n",
    "        self.api_login = self.api.login(\n",
    "                            person_id= account_data['person_id'],  \n",
    "                            passwd= account_data['passwd'], \n",
    "                            contracts_cb=lambda security_type: print(f\"{repr(security_type)} fetch done.\")\n",
    "                            )\n",
    "        self.holding = {}\n",
    "        \n",
    "    def buy(self, stock_id: str, buying_price: float, fixed_stop_loss_percent: float, moving_stop_profit_percent: float):\n",
    "        \n",
    "        #place a buying order\n",
    "        \n",
    "        buying_success = True\n",
    "        \n",
    "        if buying_success:\n",
    "            if stock_id in self.holding:\n",
    "                self.holding[stock_id] += 1\n",
    "            else:\n",
    "                self.holding[stock_id] = 1\n",
    "        \n",
    "    def checking(self):\n",
    "        while True:\n",
    "            if '2890' in self.holding:\n",
    "                print('holding 2890...')\n",
    "                \n",
    "            time.sleep(1)\n",
    "        \n",
    "        \n",
    "    def UI(self):\n",
    "        t = threading.Thread(target = self.checking)\n",
    "        t.start()\n",
    "        \n",
    "        \n",
    "        \n",
    "# 下單->確認下單成功->檢查價格(循環)->價格超出限制->下FOK單(未成功交易循環)\n",
    "\n",
    "\n"
   ]
  },
  {
   "cell_type": "code",
<<<<<<< HEAD
   "execution_count": 3,
   "id": "7c546ccb",
=======
   "execution_count": 4,
>>>>>>> 853a099831372b3b85e80f88a1e5e39332fd3aef
   "metadata": {},
   "outputs": [
    {
     "name": "stdout",
     "output_type": "stream",
     "text": [
      "Response Code: 0 | Event Code: 0 | Info: host '203.66.91.161:80', IP 203.66.91.161:80 (host 1 of 1) (host connection attempt 1 of 1) (total connection attempt 1 of 1) | Event: Session up\n",
      "<SecurityType.Index: 'IND'> fetch done.\n",
      "<SecurityType.Future: 'FUT'> fetch done.\n",
      "<SecurityType.Stock: 'STK'> fetch done.\n",
      "<SecurityType.Option: 'OPT'> fetch done.\n",
      "Response Code: 0 | Event Code: 12 | Info: solClient.c:12219                    (7efea37fe700) Session '(c0,s1)_sinopac' keep-alive on tcp_TxRx detected session down, client name 'PYAPI/R122157530/1026/093915/448054/114.137.119.50', VPN name 'sinopac', peer address 'IP 203.66.91.161:80', connectio | Event: Session reconnecting\n",
      "Session Down.\n",
      "Response Code: 0 | Event Code: 1 | Info: solClientOS.c:3797                   (7efea37fe700) TCP connection failure for fd 48, error = Network is unreachable (101) | Event: Session down\n"
     ]
    }
   ],
   "source": [
    "order_placing = OrderPlacing('account_info.json')"
   ]
  },
  {
   "cell_type": "code",
   "execution_count": 5,
<<<<<<< HEAD
   "id": "d8eb1a59",
=======
>>>>>>> 853a099831372b3b85e80f88a1e5e39332fd3aef
   "metadata": {},
   "outputs": [],
   "source": [
    "order_placing.UI()"
   ]
  },
  {
   "cell_type": "code",
   "execution_count": 6,
<<<<<<< HEAD
   "id": "96b27618",
=======
>>>>>>> 853a099831372b3b85e80f88a1e5e39332fd3aef
   "metadata": {},
   "outputs": [],
   "source": [
    "order_placing.buy('2890', 123, 123, 123)"
   ]
<<<<<<< HEAD
=======
  },
  {
   "cell_type": "code",
   "execution_count": 7,
   "metadata": {},
   "outputs": [
    {
     "name": "stdout",
     "output_type": "stream",
     "text": [
      "holding 2890...\n",
      "Response Code: 0 | Event Code: 0 | Info: host '218.32.76.102:80', IP 218.32.76.102:80 (host 1 of 1) (host connection attempt 1 of 1) (total connection attempt 1 of 1) | Event: Session up\n",
      "holding 2890...\n",
      "<SecurityType.Stock: 'STK'> fetch done.\n",
      "holding 2890...\n",
      "<SecurityType.Option: 'OPT'> fetch done.\n"
     ]
    },
    {
     "data": {
      "text/plain": [
       "[FutureAccount(person_id='QBCCAIGJBJ', broker_id='F002000', account_id='9100020', signed=True, username='PAPIUSER01'),\n",
       " StockAccount(person_id='QBCCAIGJBJ', broker_id='9A95', account_id='0504350', signed=True, username='PAPIUSER01')]"
      ]
     },
     "execution_count": 7,
     "metadata": {},
     "output_type": "execute_result"
    }
   ],
   "source": [
    "import shioaji as sj\n",
    "api = sj.Shioaji(simulation=True) \n",
    "api.login(\n",
    "    person_id=\"PAPIUSER01\", \n",
    "    passwd=\"2222\", \n",
    "    contracts_cb=lambda security_type: print(f\"{repr(security_type)} fetch done.\")\n",
    ")"
   ]
  },
  {
   "cell_type": "code",
   "execution_count": 8,
   "metadata": {},
   "outputs": [],
   "source": [
    "order = api.Order(\n",
    "    price=12, \n",
    "    quantity=1, \n",
    "    action=sj.constant.Action.Buy, \n",
    "    price_type=sj.constant.StockPriceType.LMT, \n",
    "    order_type=sj.constant.TFTOrderType.FOK, \n",
    "    order_lot=sj.constant.TFTStockOrderLot.Common, \n",
    "    account=api.stock_account\n",
    ")"
   ]
  },
  {
   "cell_type": "code",
   "execution_count": 9,
   "metadata": {},
   "outputs": [
    {
     "name": "stdout",
     "output_type": "stream",
     "text": [
      "<SecurityType.Index: 'IND'> fetch done.\n",
      "holding 2890...\n",
      "holding 2890...\n",
      "holding 2890...\n",
      "holding 2890...\n",
      "holding 2890...\n",
      "<SecurityType.Stock: 'STK'> fetch done.\n",
      "holding 2890...\n",
      "<SecurityType.Future: 'FUT'> fetch done.\n"
     ]
    }
   ],
   "source": [
    "contract = api.Contracts.Stocks.TSE.TSE2330\n",
    "\n",
    "trade = api.place_order(contract, order)"
   ]
  },
  {
   "cell_type": "code",
   "execution_count": 10,
   "metadata": {},
   "outputs": [
    {
     "data": {
      "text/plain": [
       "Trade(contract=Stock(exchange=<Exchange.TSE: 'TSE'>, code='2330', symbol='TSE2330', name='台積電', category='24', unit=1000, limit_up=630.0, limit_down=516.0, reference=573.0, update_date='2021/10/15', margin_trading_balance=6565, short_selling_balance=365, day_trade=<DayTrade.Yes: 'Yes'>), order=Order(action=<Action.Buy: 'Buy'>, price=12, quantity=1, account=Account(account_type=<AccountType.Stock: 'S'>, person_id='QBCCAIGJBJ', broker_id='9A95', account_id='0504350', signed=True), price_type=<StockPriceType.LMT: 'LMT'>, order_type=<FuturesOrderType.FOK: 'FOK'>), status=OrderStatus(status=<Status.Failed: 'Failed'>, status_code='30030', order_datetime=datetime.datetime(2021, 10, 17, 9, 56, 55), msg='作業中的Server process 連線終止', deals=[]))"
      ]
     },
     "execution_count": 10,
     "metadata": {},
     "output_type": "execute_result"
    }
   ],
   "source": [
    "trade"
   ]
  },
  {
   "cell_type": "code",
   "execution_count": 11,
   "metadata": {},
   "outputs": [],
   "source": [
    "#應該先使用FOK單, 否則部份成交會很麻煩"
   ]
  },
  {
   "cell_type": "code",
   "execution_count": 12,
   "metadata": {},
   "outputs": [],
   "source": [
    "contract_txf = api.Contracts.Futures['TXFC0']\n",
    "\n",
    "contract_txf"
   ]
  },
  {
   "cell_type": "code",
   "execution_count": 14,
   "metadata": {},
   "outputs": [
    {
     "name": "stdout",
     "output_type": "stream",
     "text": [
      "holding 2890...\n",
      "holding 2890...\n",
      "holding 2890...\n",
      "holding 2890...\n",
      "holding 2890...\n",
      "holding 2890...\n",
      "holding 2890...\n",
      "holding 2890...\n",
      "holding 2890...\n",
      "holding 2890...\n",
      "holding 2890...\n",
      "holding 2890...\n",
      "holding 2890...\n",
      "holding 2890...\n",
      "holding 2890...\n",
      "holding 2890...\n",
      "holding 2890...\n",
      "holding 2890...\n",
      "holding 2890...\n",
      "holding 2890...\n",
      "holding 2890...\n",
      "holding 2890...\n",
      "holding 2890...\n",
      "holding 2890...\n",
      "holding 2890...\n",
      "holding 2890...\n",
      "holding 2890...\n",
      "holding 2890...\n",
      "holding 2890...\n",
      "holding 2890...\n",
      "holding 2890...\n",
      "holding 2890...\n",
      "holding 2890...\n",
      "holding 2890...\n",
      "holding 2890...\n",
      "holding 2890...\n",
      "holding 2890...\n",
      "holding 2890...\n",
      "holding 2890...\n",
      "holding 2890...\n",
      "holding 2890...\n",
      "holding 2890...\n",
      "holding 2890...\n",
      "holding 2890...\n",
      "holding 2890...\n",
      "holding 2890...\n",
      "holding 2890...\n",
      "holding 2890...\n",
      "holding 2890...\n",
      "holding 2890...\n",
      "holding 2890...\n",
      "holding 2890...\n",
      "holding 2890...\n",
      "holding 2890...\n",
      "holding 2890...\n",
      "holding 2890...\n",
      "holding 2890...\n",
      "holding 2890...\n",
      "holding 2890...\n",
      "holding 2890...\n",
      "holding 2890...\n",
      "holding 2890...\n",
      "holding 2890...\n",
      "holding 2890...\n",
      "holding 2890...\n",
      "holding 2890...\n",
      "holding 2890...\n",
      "holding 2890...\n",
      "holding 2890...\n",
      "holding 2890...\n",
      "holding 2890...\n",
      "holding 2890...\n",
      "holding 2890...\n",
      "holding 2890...\n",
      "holding 2890...\n",
      "holding 2890...\n",
      "holding 2890...\n",
      "holding 2890...\n",
      "holding 2890...\n",
      "holding 2890...\n",
      "holding 2890...\n",
      "holding 2890...\n",
      "holding 2890...\n",
      "holding 2890...\n",
      "holding 2890...\n",
      "holding 2890...\n",
      "holding 2890...\n",
      "holding 2890...\n",
      "holding 2890...\n",
      "holding 2890...\n",
      "holding 2890...\n",
      "holding 2890...\n",
      "holding 2890...\n",
      "holding 2890...\n",
      "holding 2890...\n",
      "holding 2890...\n",
      "holding 2890...\n",
      "holding 2890...\n"
     ]
    }
   ],
   "source": [
    "contract_txf\n",
    "#期貨目前找不到價格 是因為還沒開市嗎?\n"
   ]
  },
  {
   "cell_type": "code",
   "execution_count": 5,
   "metadata": {},
   "outputs": [
    {
     "name": "stdout",
     "output_type": "stream",
     "text": [
      "Response Code: 0 | Event Code: 0 | Info: host '203.66.91.161:80', IP 203.66.91.161:80 (host 1 of 1) (host connection attempt 1 of 1) (total connection attempt 1 of 1) | Event: Session up\n",
      "<SecurityType.Index: 'IND'> fetch done.\n",
      "<SecurityType.Future: 'FUT'> fetch done.\n",
      "<SecurityType.Stock: 'STK'> fetch done.\n",
      "<SecurityType.Option: 'OPT'> fetch done.\n"
     ]
    },
    {
     "data": {
      "text/plain": [
       "Contracts(Indexs=(OTC, TSE), Stocks=(OES, OTC, TSE), Futures=(BRF, BTF, CAF, CBF, CCF, CDF, CE1, CEF, CFF, CGF, CHF, CJ1, CJF, CKF, CLF, CM1, CMF, CNF, CQF, CRF, CSF, CUF, CWF, CYF, CZF, DC1, DCF, DD1, DDF, DEF, DFF, DGF, DHF, DIF, DJF, DKF, DLF, DN1, DNF, DOF, DP1, DPF, DQF, DSF, DVF, DW1, DWF, DXF, DYF, DZ1, DZF, E4F, EEF, EGF, EHF, EMF, EP1, EPF, ERF, EXF, EYF, EZF, F1F, FBF, FE1, FEF, FF1, FFF, FGF, FKF, FNF, FQF, FRF, FTF, FVF, FWF, FXF, FYF, FZF, G2F, GAF, GCF, GDF, GHF, GIF, GJF, GLF, GMF, GNF, GOF, GRF, GTF, GUF, GWF, GXF, GZF, HAF, HBF, HCF, HHF, HI1, HIF, HLF, HOF, HSF, HYF, IA1, IAF, IHF, IIF, IJF, IMF, IOF, IPF, IQF, IRF, ITF, IXF, IYF, IZF, JBF, JF1, JFF, JMF, JNF, JPF, JSF, JWF, JZF, KAF, KBF, KCF, KDF, KEF, KFF, KGF, KIF, KKF, KLF, KOF, KP1, KPF, KSF, KUF, KWF, LBF, LCF, LEF, LIF, LMF, LO1, LOF, LQF, LRF, LTF, LUF, LV1, LVF, LWF, LXF, LYF, MAF, MBF, MJF, MK1, MKF, MPF, MQF, MVF, MXF, MYF, NAF, NBF, NCF, NDF, NEF, NGF, NI1, NIF, NJF, NLF, NMF, NOF, NQF, NSF, NUF, NVF, NWF, NXF, NYF, NZF, OAF, OBF, OCF, ODF, OEF, OHF, OJF, OKF, OLF, OMF, OOF, OPF, OQF, ORF, OSF, OTF, OUF, OVF, OWF, OXF, OYF, OZF, PAF, PBF, PCF, PDF, PEF, PFF, PGF, PHF, PIF, PJF, PKF, PL1, PLF, PMF, PNF, POF, PPF, PQF, PRF, PSF, PTF, PUF, PVF, PWF, PXF, PYF, PZF, QAF, QBF, QCF, QDF, QEF, QFF, QGF, QHF, QIF, QJF, QKF, QLF, QM1, QMF, QNF, QOF, QPF, QQF, QRF, QSF, RHF, RTF, SPF, T5F, TGF, TJF, TXF, UDF, UNF, XAF, XBF, XEF, XIF, XJF, ZEF), Options=(CAO, CBO, CCO, CDA, CDO, CEA, CEO, CFO, CGO, CHO, CJO, CKO, CLO, CMO, CNO, CQO, CRO, CSO, CZO, DCO, DEO, DFO, DGO, DHO, DJO, DKO, DLO, DNO, DOO, DPO, DQO, DSO, DVO, DWO, DXO, GIO, GXO, HCO, IJO, LOO, NYO, NZO, OAO, OBO, OCO, OJO, OKO, OOO, OZO, QBO, RHO, RTO, TEO, TFO, TGO, TXO))"
      ]
     },
     "execution_count": 5,
     "metadata": {},
     "output_type": "execute_result"
    }
   ],
   "source": [
    "import shioaji as sj\n",
    "api = sj.Shioaji()\n",
    "api.login(\n",
    "    person_id=\"R122157530\", \n",
    "    passwd=\"a63546389\", \n",
    "    contracts_cb=lambda security_type: print(f\"{repr(security_type)} fetch done.\")\n",
    ")\n",
    "api.Contracts"
   ]
  },
  {
   "cell_type": "code",
   "execution_count": 6,
   "metadata": {},
   "outputs": [
    {
     "data": {
      "text/plain": [
       "Stock(exchange=<Exchange.TSE: 'TSE'>, code='2890', symbol='TSE2890', name='永豐金', category='17', unit=1000, limit_up=15.2, limit_down=12.5, reference=13.85, update_date='2021/10/18', day_trade=<DayTrade.Yes: 'Yes'>)"
      ]
     },
     "execution_count": 6,
     "metadata": {},
     "output_type": "execute_result"
    }
   ],
   "source": [
    "contract_2890 = api.Contracts.Stocks[\"2890\"]\n",
    "contract_2890"
   ]
  },
  {
   "cell_type": "code",
   "execution_count": 9,
   "metadata": {},
   "outputs": [
    {
     "data": {
      "text/plain": [
       "NoneType"
      ]
     },
     "execution_count": 9,
     "metadata": {},
     "output_type": "execute_result"
    }
   ],
   "source": [
    "contract_txf = api.Contracts.Futures['TXFC0']\n",
    "\n",
    "type(contract_txf)"
   ]
  },
  {
   "cell_type": "code",
   "execution_count": null,
   "metadata": {},
   "outputs": [],
   "source": []
>>>>>>> 853a099831372b3b85e80f88a1e5e39332fd3aef
  }
 ],
 "metadata": {
  "kernelspec": {
   "display_name": "Python 3 (ipykernel)",
   "language": "python",
   "name": "python3"
  },
  "language_info": {
   "codemirror_mode": {
    "name": "ipython",
    "version": 3
   },
   "file_extension": ".py",
   "mimetype": "text/x-python",
   "name": "python",
   "nbconvert_exporter": "python",
   "pygments_lexer": "ipython3",
   "version": "3.8.10"
  }
 },
 "nbformat": 4,
 "nbformat_minor": 5
}
