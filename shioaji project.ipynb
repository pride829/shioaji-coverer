{
 "cells": [
  {
   "cell_type": "code",
   "execution_count": 1,
   "id": "c90a9887",
   "metadata": {},
   "outputs": [],
   "source": [
    "import shioaji as sj\n",
    "import json\n",
    "import threading\n",
    "import time"
   ]
  },
  {
   "cell_type": "code",
   "execution_count": null,
   "id": "687db523",
   "metadata": {},
   "outputs": [],
   "source": [
    "\n"
   ]
  },
  {
   "cell_type": "code",
   "execution_count": 2,
   "id": "3b20fb61",
   "metadata": {},
   "outputs": [],
   "source": [
    "class OrderPlacing:\n",
    "    \n",
    "    def __init__(self, account_info: str):\n",
    "        #account_data: File path used to login\n",
    "        with open(account_info, newline='') as jsonfile:\n",
    "            account_data = json.load(jsonfile)\n",
    "        self.api = sj.Shioaji()\n",
    "        self.api_login = self.api.login(\n",
    "                            person_id= account_data['person_id'],  \n",
    "                            passwd= account_data['passwd'], \n",
    "                            contracts_cb=lambda security_type: print(f\"{repr(security_type)} fetch done.\")\n",
    "                            )\n",
    "        self.holding = {}\n",
    "        \n",
    "    def buy(self, stock_id: str, buying_price: float, fixed_stop_loss_percent: float, moving_stop_profit_percent: float):\n",
    "        \n",
    "        #place a buying order\n",
    "        \n",
    "        buying_success = True\n",
    "        \n",
    "        if buying_success:\n",
    "            if stock_id in self.holding:\n",
    "                self.holding[stock_id] += 1\n",
    "            else:\n",
    "                self.holding[stock_id] = 1\n",
    "        \n",
    "    def checking(self):\n",
    "        while True:\n",
    "            if '2890' in self.holding:\n",
    "                print('holding 2890...')\n",
    "                \n",
    "            time.sleep(1)\n",
    "        \n",
    "        \n",
    "    def UI(self):\n",
    "        t = threading.Thread(target = self.checking)\n",
    "        t.start()\n",
    "        \n",
    "        \n",
    "        \n",
    "# 下單->確認下單成功->檢查價格(循環)->價格超出限制->下FOK單(未成功交易循環)\n",
    "\n",
    "\n"
   ]
  },
  {
   "cell_type": "code",
   "execution_count": 3,
   "id": "7c546ccb",
   "metadata": {},
   "outputs": [
    {
     "name": "stdout",
     "output_type": "stream",
     "text": [
      "Response Code: 0 | Event Code: 0 | Info: host '203.66.91.161:80', IP 203.66.91.161:80 (host 1 of 1) (host connection attempt 1 of 1) (total connection attempt 1 of 1) | Event: Session up\n",
      "<SecurityType.Index: 'IND'> fetch done.\n",
      "<SecurityType.Future: 'FUT'> fetch done.\n",
      "<SecurityType.Stock: 'STK'> fetch done.\n",
      "<SecurityType.Option: 'OPT'> fetch done.\n",
      "Response Code: 0 | Event Code: 12 | Info: solClient.c:12219                    (7efea37fe700) Session '(c0,s1)_sinopac' keep-alive on tcp_TxRx detected session down, client name 'PYAPI/R122157530/1026/093915/448054/114.137.119.50', VPN name 'sinopac', peer address 'IP 203.66.91.161:80', connectio | Event: Session reconnecting\n",
      "Session Down.\n",
      "Response Code: 0 | Event Code: 1 | Info: solClientOS.c:3797                   (7efea37fe700) TCP connection failure for fd 48, error = Network is unreachable (101) | Event: Session down\n"
     ]
    }
   ],
   "source": [
    "order_placing = OrderPlacing('account_info.json')"
   ]
  },
  {
   "cell_type": "code",
   "execution_count": 5,
   "id": "d8eb1a59",
   "metadata": {},
   "outputs": [],
   "source": [
    "order_placing.UI()"
   ]
  },
  {
   "cell_type": "code",
   "execution_count": 6,
   "id": "96b27618",
   "metadata": {},
   "outputs": [],
   "source": [
    "order_placing.buy('2890', 123, 123, 123)"
   ]
  }
 ],
 "metadata": {
  "kernelspec": {
   "display_name": "Python 3",
   "language": "python",
   "name": "python3"
  },
  "language_info": {
   "codemirror_mode": {
    "name": "ipython",
    "version": 3
   },
   "file_extension": ".py",
   "mimetype": "text/x-python",
   "name": "python",
   "nbconvert_exporter": "python",
   "pygments_lexer": "ipython3",
   "version": "3.8.8"
  }
 },
 "nbformat": 4,
 "nbformat_minor": 5
}
