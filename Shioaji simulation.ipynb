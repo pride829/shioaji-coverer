{
 "cells": [
  {
   "cell_type": "code",
   "execution_count": 1,
   "id": "fd25311d",
   "metadata": {},
   "outputs": [
    {
     "name": "stdout",
     "output_type": "stream",
     "text": [
      "Response Code: 0 | Event Code: 0 | Info: host '218.32.76.102:80', IP 218.32.76.102:80 (host 1 of 1) (host connection attempt 1 of 1) (total connection attempt 1 of 1) | Event: Session up\n",
      "<SecurityType.Index: 'IND'> fetch done.\n"
     ]
    },
    {
     "data": {
      "text/plain": [
       "[FutureAccount(person_id='QBCCAIGJBJ', broker_id='F002000', account_id='9100020', signed=True, username='PAPIUSER01'),\n",
       " StockAccount(person_id='QBCCAIGJBJ', broker_id='9A95', account_id='0504350', signed=True, username='PAPIUSER01')]"
      ]
     },
     "execution_count": 1,
     "metadata": {},
     "output_type": "execute_result"
    },
    {
     "name": "stdout",
     "output_type": "stream",
     "text": [
      "<SecurityType.Future: 'FUT'> fetch done.\n",
      "<SecurityType.Stock: 'STK'> fetch done.\n",
      "<SecurityType.Option: 'OPT'> fetch done.\n"
     ]
    }
   ],
   "source": [
    "import shioaji as sj\n",
    "api = sj.Shioaji(simulation=True) \n",
    "api.login(\n",
    "    person_id=\"PAPIUSER01\", \n",
    "    passwd=\"2222\", \n",
    "    contracts_cb=lambda security_type: print(f\"{repr(security_type)} fetch done.\")\n",
    ")"
   ]
  },
  {
   "cell_type": "code",
   "execution_count": 9,
   "id": "87117fa7",
   "metadata": {},
   "outputs": [],
   "source": [
    "contract = api.Contracts.Futures['MXFL1']\n",
    "\n",
    "def place_cb(stat, msg):\n",
    "    print(msg)\n",
    "    \n",
    "api.set_order_callback(place_cb)"
   ]
  },
  {
   "cell_type": "code",
   "execution_count": 18,
   "id": "a733bc65",
   "metadata": {},
   "outputs": [],
   "source": [
    "fut_order = api.Order(\n",
    "    action=sj.constant.Action.Buy,\n",
    "    price=0,\n",
    "    quantity=1,\n",
    "    price_type=sj.constant.FuturesPriceType.MKT,\n",
    "    order_type=sj.constant.FuturesOrderType.FOK, \n",
    "    octype=sj.constant.FuturesOCType.Auto,\n",
    "    account=api.futopt_account\n",
    ")\n",
    "\n",
    "#下單\n",
    "trade = api.place_order(contract, fut_order)"
   ]
  },
  {
   "cell_type": "code",
   "execution_count": 8,
   "id": "d5fdece1",
   "metadata": {},
   "outputs": [
    {
     "data": {
      "text/plain": [
       "Trade(contract=Future(code='MXFL1', symbol='MXF202112', name='小型臺指12', category='MXF', delivery_month='202112', delivery_date='2021/12/15', underlying_kind='I', unit=1, limit_up=19528.0, limit_down=15978.0, reference=17753.0, update_date='2021/12/14'), order=Order(action=<Action.Buy: 'Buy'>, price=0, quantity=1, id='3aa514f4', seqno='101201', account=Account(account_type=<AccountType.Future: 'F'>, person_id='QBCCAIGJBJ', broker_id='F002000', account_id='9100020', signed=True), price_type=<FuturesPriceType.MKT: 'MKT'>, order_type=<FuturesOrderType.FOK: 'FOK'>), status=OrderStatus(id='3aa514f4', status=<Status.PendingSubmit: 'PendingSubmit'>, status_code='    ', order_datetime=datetime.datetime(2021, 12, 15, 0, 36, 49), deals=[]))"
      ]
     },
     "execution_count": 8,
     "metadata": {},
     "output_type": "execute_result"
    }
   ],
   "source": [
    "trade"
   ]
  },
  {
   "cell_type": "code",
   "execution_count": 17,
   "id": "491cbe0e",
   "metadata": {},
   "outputs": [
    {
     "data": {
      "text/plain": [
       "<module 'shioaji.position' from '/home/pride829/anaconda3/lib/python3.8/site-packages/shioaji/position.py'>"
      ]
     },
     "execution_count": 17,
     "metadata": {},
     "output_type": "execute_result"
    }
   ],
   "source": [
    "sj.position"
   ]
  },
  {
   "cell_type": "code",
   "execution_count": 28,
   "id": "25f95d24",
   "metadata": {},
   "outputs": [
    {
     "data": {
      "text/plain": [
       "[Position(code='00648R', direction=<Action.Buy: 'Buy'>, quantity=10120, price=7.98, last_price=6.49, pnl=-15270864.0, yd_quantity=10120),\n",
       " Position(code='1536', direction=<Action.Buy: 'Buy'>, quantity=107, price=93.15, last_price=95.8, pnl=238869.0, yd_quantity=107),\n",
       " Position(code='6673', direction=<Action.Buy: 'Buy'>, quantity=109, price=0.0, last_price=13.35, pnl=1450893.0, yd_quantity=109)]"
      ]
     },
     "execution_count": 28,
     "metadata": {},
     "output_type": "execute_result"
    }
   ],
   "source": [
    "api.list_positions(api.list_accounts()[1])"
   ]
  },
  {
   "cell_type": "code",
   "execution_count": 27,
   "id": "fba62236",
   "metadata": {},
   "outputs": [
    {
     "name": "stdout",
     "output_type": "stream",
     "text": [
      "<class 'shioaji.account.FutureAccount'>\n"
     ]
    }
   ],
   "source": [
    "print(type(api.list_accounts()[0]))"
   ]
  },
  {
   "cell_type": "code",
   "execution_count": null,
   "id": "136d3f2f",
   "metadata": {},
   "outputs": [],
   "source": []
  }
 ],
 "metadata": {
  "kernelspec": {
   "display_name": "Python 3",
   "language": "python",
   "name": "python3"
  },
  "language_info": {
   "codemirror_mode": {
    "name": "ipython",
    "version": 3
   },
   "file_extension": ".py",
   "mimetype": "text/x-python",
   "name": "python",
   "nbconvert_exporter": "python",
   "pygments_lexer": "ipython3",
   "version": "3.8.8"
  }
 },
 "nbformat": 4,
 "nbformat_minor": 5
}
