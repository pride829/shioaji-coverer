{
 "cells": [
  {
   "cell_type": "code",
   "execution_count": 1,
   "id": "5494f1fb",
   "metadata": {},
   "outputs": [],
   "source": [
    "import importlib\n",
    "import shioaji_login\n",
    "importlib.reload(shioaji_login)\n",
    "import shioaji as sj\n",
    "import pandas as pd"
   ]
  },
  {
   "cell_type": "code",
   "execution_count": 2,
   "id": "df7996f2",
   "metadata": {},
   "outputs": [
    {
     "name": "stdout",
     "output_type": "stream",
     "text": [
      "Response Code: 0 | Event Code: 0 | Info: host '203.66.91.161:80', IP 203.66.91.161:80 (host 1 of 1) (host connection attempt 1 of 1) (total connection attempt 1 of 1) | Event: Session up\n",
      "<SecurityType.Index: 'IND'> fetch done.\n",
      "<SecurityType.Future: 'FUT'> fetch done.\n",
      "True\n",
      "<SecurityType.Stock: 'STK'> fetch done.\n",
      "<SecurityType.Option: 'OPT'> fetch done.\n"
     ]
    }
   ],
   "source": [
    "api = shioaji_login.shioaji_login()"
   ]
  },
  {
   "cell_type": "code",
   "execution_count": 3,
   "id": "e200c36a",
   "metadata": {},
   "outputs": [
    {
     "data": {
      "text/plain": [
       "[FutureAccount(person_id='N125685958', broker_id='F002000', account_id='1645949', signed=True, username='曾天裕'),\n",
       " Account(account_type=<AccountType.H: 'H'>, person_id='N125685958', broker_id='9A9X', account_id='0137289', username='曾天裕'),\n",
       " StockAccount(person_id='N125685958', broker_id='9A9X', account_id='0498332', signed=True, username='曾天裕\\u3000\\u3000')]"
      ]
     },
     "execution_count": 3,
     "metadata": {},
     "output_type": "execute_result"
    }
   ],
   "source": [
    "api.list_accounts()"
   ]
  },
  {
   "cell_type": "code",
   "execution_count": 4,
   "id": "9220ff0b",
   "metadata": {},
   "outputs": [
    {
     "data": {
      "text/plain": [
       "[]"
      ]
     },
     "execution_count": 4,
     "metadata": {},
     "output_type": "execute_result"
    }
   ],
   "source": [
    "api.list_positions(api.futopt_account)"
   ]
  },
  {
   "cell_type": "code",
   "execution_count": 5,
   "id": "d0e761a8",
   "metadata": {},
   "outputs": [
    {
     "data": {
      "text/plain": [
       "FutureAccount(person_id='N125685958', broker_id='F002000', account_id='1645949', signed=True, username='曾天裕')"
      ]
     },
     "execution_count": 5,
     "metadata": {},
     "output_type": "execute_result"
    },
    {
     "name": "stdout",
     "output_type": "stream",
     "text": [
      "OrderState.FOrder {'operation': {'op_type': 'Cancel', 'op_code': '00', 'op_msg': ''}, 'order': {'id': 'f54fad96', 'seqno': '431135', 'ordno': 'tn0gJ', 'account': {'account_type': 'F', 'person_id': '', 'broker_id': 'F002000', 'account_id': '1645949', 'signed': True}, 'action': 'Buy', 'price': 17000.0, 'quantity': 1, 'order_type': 'ROD', 'market_type': 'Day', 'oc_type': 'New', 'subaccount': ''}, 'status': {'id': 'f54fad96', 'exchange_ts': 1639457138, 'modified_price': 0.0, 'cancel_quantity': 1, 'order_quantity': 1}, 'contract': {'security_type': 'FUT', 'code': 'MXF', 'exchange': 'TIM', 'delivery_month': '202112', 'delivery_date': '', 'strike_price': 0.0, 'option_right': 'Future'}}\n",
      "OrderState.FDeal {'trade_id': '476aee53', 'seqno': '431854', 'ordno': 'qn0BTK14', 'exchange_seq': 'f4005908', 'broker_id': 'F002000', 'account_id': '1645949', 'action': 'Sell', 'code': 'MXF', 'price': 17607.0, 'quantity': 1, 'subaccount': '', 'security_type': 'FUT', 'delivery_month': '202112', 'strike_price': 0.0, 'option_right': 'Future', 'market_type': 'Day', 'ts': 1639457180}\n",
      "OrderState.FOrder {'operation': {'op_type': 'New', 'op_code': '00', 'op_msg': ''}, 'order': {'id': '476aee53', 'seqno': '431854', 'ordno': 'qn0BT', 'account': {'account_type': 'F', 'person_id': '', 'broker_id': 'F002000', 'account_id': '1645949', 'signed': True}, 'action': 'Sell', 'price': 0.0, 'quantity': 1, 'order_type': 'FOK', 'market_type': 'Day', 'oc_type': 'Cover', 'subaccount': ''}, 'status': {'id': '476aee53', 'exchange_ts': 1639457180, 'modified_price': 0.0, 'cancel_quantity': 0, 'order_quantity': 1}, 'contract': {'security_type': 'FUT', 'code': 'MXF', 'exchange': 'TIM', 'delivery_month': '202112', 'delivery_date': '', 'strike_price': 0.0, 'option_right': 'Future'}}\n",
      "OrderState.FOrder {'operation': {'op_type': 'New', 'op_code': '00', 'op_msg': ''}, 'order': {'id': '048e6b02', 'seqno': '431911', 'ordno': 'qn0BZ', 'account': {'account_type': 'F', 'person_id': '', 'broker_id': 'F002000', 'account_id': '1645949', 'signed': True}, 'action': 'Buy', 'price': 0.0, 'quantity': 1, 'order_type': 'FOK', 'market_type': 'Day', 'oc_type': 'New', 'subaccount': ''}, 'status': {'id': '048e6b02', 'exchange_ts': 1639457279, 'modified_price': 0.0, 'cancel_quantity': 0, 'order_quantity': 1}, 'contract': {'security_type': 'FUT', 'code': 'MXF', 'exchange': 'TIM', 'delivery_month': '202112', 'delivery_date': '', 'strike_price': 0.0, 'option_right': 'Future'}}\n",
      "OrderState.FDeal {'trade_id': '048e6b02', 'seqno': '431911', 'ordno': 'qn0BZK1O', 'exchange_seq': 'f4005928', 'broker_id': 'F002000', 'account_id': '1645949', 'action': 'Buy', 'code': 'MXF', 'price': 17604.0, 'quantity': 1, 'subaccount': '', 'security_type': 'FUT', 'delivery_month': '202112', 'strike_price': 0.0, 'option_right': 'Future', 'market_type': 'Day', 'ts': 1639457279}\n",
      "OrderState.FDeal {'trade_id': '9eb5f5f7', 'seqno': '432335', 'ordno': 'qn0BwN14', 'exchange_seq': 'f4006016', 'broker_id': 'F002000', 'account_id': '1645949', 'action': 'Sell', 'code': 'MXF', 'price': 17595.0, 'quantity': 1, 'subaccount': '', 'security_type': 'FUT', 'delivery_month': '202112', 'strike_price': 0.0, 'option_right': 'Future', 'market_type': 'Day', 'ts': 1639457750}\n",
      "OrderState.FOrder {'operation': {'op_type': 'New', 'op_code': '00', 'op_msg': ''}, 'order': {'id': '9eb5f5f7', 'seqno': '432335', 'ordno': 'qn0Bw', 'account': {'account_type': 'F', 'person_id': '', 'broker_id': 'F002000', 'account_id': '1645949', 'signed': True}, 'action': 'Sell', 'price': 0.0, 'quantity': 1, 'order_type': 'FOK', 'market_type': 'Day', 'oc_type': 'Cover', 'subaccount': ''}, 'status': {'id': '9eb5f5f7', 'exchange_ts': 1639457750, 'modified_price': 0.0, 'cancel_quantity': 0, 'order_quantity': 1}, 'contract': {'security_type': 'FUT', 'code': 'MXF', 'exchange': 'TIM', 'delivery_month': '202112', 'delivery_date': '', 'strike_price': 0.0, 'option_right': 'Future'}}\n"
     ]
    }
   ],
   "source": [
    "api.futopt_account"
   ]
  },
  {
   "cell_type": "code",
   "execution_count": null,
   "id": "6f641ee1",
   "metadata": {},
   "outputs": [],
   "source": []
  }
 ],
 "metadata": {
  "kernelspec": {
   "display_name": "Python 3",
   "language": "python",
   "name": "python3"
  },
  "language_info": {
   "codemirror_mode": {
    "name": "ipython",
    "version": 3
   },
   "file_extension": ".py",
   "mimetype": "text/x-python",
   "name": "python",
   "nbconvert_exporter": "python",
   "pygments_lexer": "ipython3",
   "version": "3.8.8"
  }
 },
 "nbformat": 4,
 "nbformat_minor": 5
}
