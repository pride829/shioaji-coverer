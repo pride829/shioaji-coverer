{
 "cells": [
  {
   "cell_type": "code",
   "execution_count": 3,
   "id": "c3f3494a",
   "metadata": {},
   "outputs": [
    {
     "name": "stdout",
     "output_type": "stream",
     "text": [
      "start waiting1: 13:39:34\n",
      "start waiting2: 13:39:34\n",
      "\n",
      "\n",
      "start join: 13:39:34\n",
      "\n",
      "stop waiting1: 13:39:37\n",
      "\n",
      "stop waiting2:  13:39:42\n",
      "\n",
      "end join: 13:39:42\n",
      "\n"
     ]
    }
   ],
   "source": [
    "# coding: utf-8\n",
    "# 測試多執行緒中join的功能\n",
    "import threading, time  \n",
    "def doWaiting():  \n",
    "    print ('start waiting1: ' + time.strftime('%H:%M:%S') + \"\\n\")  \n",
    "    time.sleep(3)  \n",
    "    print ('stop waiting1: ' + time.strftime('%H:%M:%S') + \"\\n\") \n",
    "def doWaiting1():  \n",
    "    print ('start waiting2: ' + time.strftime('%H:%M:%S') + \"\\n\")   \n",
    "    time.sleep(8)  \n",
    "    print ('stop waiting2: ', time.strftime('%H:%M:%S') + \"\\n\")  \n",
    "tsk = []    \n",
    "thread1 = threading.Thread(target = doWaiting)  \n",
    "thread1.start()  \n",
    "tsk.append(thread1)\n",
    "thread2 = threading.Thread(target = doWaiting1)  \n",
    "thread2.start()  \n",
    "tsk.append(thread2)\n",
    "print ('start join: ' + time.strftime('%H:%M:%S') + \"\\n\")   \n",
    "for tt in tsk:\n",
    "    tt.join()\n",
    "print ('end join: ' + time.strftime('%H:%M:%S') + \"\\n\")"
   ]
  },
  {
   "cell_type": "code",
   "execution_count": null,
   "id": "0c567ab4",
   "metadata": {},
   "outputs": [],
   "source": []
  }
 ],
 "metadata": {
  "kernelspec": {
   "display_name": "Python 3",
   "language": "python",
   "name": "python3"
  },
  "language_info": {
   "codemirror_mode": {
    "name": "ipython",
    "version": 3
   },
   "file_extension": ".py",
   "mimetype": "text/x-python",
   "name": "python",
   "nbconvert_exporter": "python",
   "pygments_lexer": "ipython3",
   "version": "3.8.8"
  }
 },
 "nbformat": 4,
 "nbformat_minor": 5
}
