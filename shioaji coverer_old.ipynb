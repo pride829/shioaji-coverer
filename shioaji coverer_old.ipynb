{
 "cells": [
  {
   "cell_type": "code",
   "execution_count": 13,
   "id": "e31a3733",
   "metadata": {},
   "outputs": [
    {
     "name": "stdout",
     "output_type": "stream",
     "text": [
      "正在使用R122157530的ID登入...\n",
      "Response Code: 0 | Event Code: 0 | Info: host '203.66.91.161:80', hostname '203.66.91.161:80' IP 203.66.91.161:80 (host 1 of 1) (host connection attempt 1 of 1) (total connection attempt 1 of 1) | Event: Session up\n",
      "<SecurityType.Index: 'IND'> fetch done.\n",
      "<SecurityType.Future: 'FUT'> fetch done.\n",
      "正在啟用位於C:\\Users\\pride\\git\\Shioaji-Project\\Sinopac.pfx的憑證...\n",
      "自動停損停利程式啟動，正在追蹤MXFA2的倉位...\n",
      "Response Code: 200 | Event Code: 16 | Info: TIC/v1/FOP/*/TFE/MXFA2 | Event: Subscribe or Unsubscribe ok\n",
      "目前的系統時間為 2021-12-20 17:39:05 PM\n",
      "將設定移動停利點位為15點。\n",
      "將設定固定停損點位為15點。\n",
      "<SecurityType.Stock: 'STK'> fetch done.\n",
      "<SecurityType.Option: 'OPT'> fetch done.\n"
     ]
    }
   ],
   "source": [
    "import importlib\n",
    "import shioaji_login\n",
    "importlib.reload(shioaji_login)\n",
    "import shioaji as sj\n",
    "from shioaji import TickFOPv1, Exchange\n",
    "import time\n",
    "import threading\n",
    "from shioaji import constant\n",
    "import json\n",
    "from datetime import datetime\n",
    "\n",
    "\n",
    "msg_test = None\n",
    "\n",
    "class AutoStopper:\n",
    "    \n",
    "    def __init__(self):\n",
    "        \n",
    "        self.deal_list = [] #為msg的list\n",
    "        self.order_list = []\n",
    "        self.cover_deal_list = [] #為seqno的list\n",
    "        \n",
    "        #如果使用threading可以讓api完全登入之後再繼續嗎?\n",
    "        '''\n",
    "        thread_api = threading.Thread(\n",
    "            target = shioaji_login.shioaji_login\n",
    "        )\n",
    "        self.api = thread_api.start()\n",
    "        thread_api.join()\n",
    "        '''\n",
    "        self.api = shioaji_login.shioaji_login()\n",
    "        \n",
    "        #TODO: 讓AutoStopper可以自動獲取近月的合約\n",
    "        #預設指定contract為近月小台期期貨合約\n",
    "        #預設指定停損停利皆為10點\n",
    "        \n",
    "        self.profit_stop = 0\n",
    "        self.loss_stop = 0\n",
    "        self.future_name = 'MXFA2'\n",
    "        \n",
    "        #不能使用自動單！否則會導致程式判斷錯誤\n",
    "        \n",
    "\n",
    "        thread_time_tracking = threading.Thread(target = self.timeUpdater)\n",
    "        thread_time_tracking.start()\n",
    "        \n",
    "        \n",
    "        \n",
    "        self.contract = self.api.Contracts.Futures[self.future_name]\n",
    "        \n",
    "        if(not self.contract):\n",
    "            print(\"警告：合約不存在，請確認設定檔。\")\n",
    "            \n",
    "        self.market_price = 0\n",
    "    \n",
    "    def timeUpdater(self):\n",
    "        \n",
    "        old_profit_stop = self.profit_stop\n",
    "        old_loss_stop = self.loss_stop\n",
    "        \n",
    "        while(True):\n",
    "            time.sleep(1)\n",
    "        \n",
    "            #從config.json之中讀取時間，停損停利點位，和合約名稱\n",
    "            with open('config.json') as f:\n",
    "                data = json.load(f)\n",
    "                if(\n",
    "                    datetime.now().hour < int(data['morning_intense_hour']) \n",
    "                    or\n",
    "                    datetime.now().hour == int(data['morning_intense_hour']) and\n",
    "                    datetime.now().minute < int(data['morning_intense_minute']) \n",
    "                    or\n",
    "                    datetime.now().hour == int(data['afternoon_intense_hour']) and \n",
    "                    datetime.now().minute > int(data['afternoon_intense_minute'])  \n",
    "                ):\n",
    "                    self.profit_stop = int(data['profit_stop_intense'])\n",
    "                    self.loss_stop = int(data['loss_stop_intense'])\n",
    "                else:\n",
    "                    self.profit_stop = int(data['profit_stop'])\n",
    "                    self.loss_stop = int(data['loss_stop'])\n",
    "                self.future_name = data['future_name']\n",
    "            \n",
    "            if(old_profit_stop != self.profit_stop and old_loss_stop != self.loss_stop):\n",
    "                print(\"目前的系統時間為\", datetime.now().strftime(\"%Y-%m-%d %H:%M:%S %p\"))\n",
    "                print(f\"將設定移動停利點位為{self.profit_stop}點。\")\n",
    "                print(f\"將設定固定停損點位為{self.profit_stop}點。\")\n",
    "                old_profit_stop = self.profit_stop\n",
    "                old_loss_stop = self.loss_stop\n",
    "    \n",
    "    def startAutoStopper(self):\n",
    "        \n",
    "        #更改api的order callback\n",
    "        def place_cb(stat, msg):\n",
    "            \n",
    "            #print(msg)\n",
    "            global msg_test\n",
    "            msg_test = msg\n",
    "\n",
    "            if(stat == constant.OrderState.FOrder):\n",
    "                self.order_list.append(msg)\n",
    "                \n",
    "            elif(stat == constant.OrderState.FDeal):\n",
    "                \n",
    "                #Debug message\n",
    "                #if(msg['seqno'] in self.cover_deal_list):\n",
    "                #    print('Blocked by cover_deal_list')\n",
    "                \n",
    "                if(\n",
    "                    msg['security_type'] == 'FUT' and\n",
    "                    #API沒辦法判斷FDeal是否是程式自己送出的或者是由使用者送出的\n",
    "                    #因此，必須要有self.cover_deal_list來紀錄由程式自己送出的單\n",
    "                    msg['seqno'] not in self.cover_deal_list\n",
    "                  ):\n",
    "                    for o in self.order_list:\n",
    "                        if o['order']['seqno'] == msg['seqno']:\n",
    "                            if o['order']['oc_type'] != 'New':\n",
    "                                print('*******Wrong type.*******')\n",
    "                                return\n",
    "                            \n",
    "                    print(f'偵測到在價格 {msg[\"price\"]} 的成交')\n",
    "                    self.deal_list.append(msg)\n",
    "                    thread_auto_stop = threading.Thread(\n",
    "                        target = self.auto_stop,\n",
    "                        args = (msg,)\n",
    "                    )\n",
    "                    thread_auto_stop.start()\n",
    "        \n",
    "        print(f\"自動停損停利程式啟動，正在追蹤{self.future_name}的倉位...\")\n",
    "        \n",
    "        self.api.set_order_callback(place_cb)\n",
    "        \n",
    "        #追蹤近月期貨價格為self.market_price\n",
    "        thread_price_tracking = threading.Thread(target = self.price_tracking)\n",
    "        thread_price_tracking.start()\n",
    "        \n",
    "    def price_tracking(self):\n",
    "        \n",
    "        @self.api.on_tick_fop_v1()\n",
    "        def quote_callback(exchange:Exchange, tick:TickFOPv1):\n",
    "            self.market_price = tick['close']\n",
    "\n",
    "        self.api.quote.subscribe(\n",
    "            self.contract,\n",
    "            quote_type = sj.constant.QuoteType.Tick, # or 'tick'\n",
    "            version = sj.constant.QuoteVersion.v1, # or 'v1'\n",
    "        )\n",
    "    \n",
    "    def auto_stop(self, msg):\n",
    "        \n",
    "        while(self.market_price == 0):\n",
    "            pass\n",
    "        \n",
    "        print(f'開始追蹤成交價為{msg[\"price\"]}的倉位')\n",
    "        print(f'固定停損價為 {msg[\"price\"]-self.loss_stop}')\n",
    "        action = None\n",
    "        if(msg['action'] == 'Buy'):\n",
    "            action = sj.constant.Action.Sell\n",
    "            \n",
    "            deal_price = float(msg['price'])\n",
    "            max_price = deal_price\n",
    "            print(type(max_price))\n",
    "            high_stop = float(max_price) - float(self.profit_stop)\n",
    "            low_stop = float(deal_price) - float(self.loss_stop)\n",
    "            \n",
    "            flag = 0\n",
    "            while(self.market_price > high_stop and self.market_price > low_stop and\n",
    "                 not (datetime.now().hour == 13 and datetime.now().minute == 44 and datetime.now().seconds > 30)\n",
    "                 ):\n",
    "                if(datetime.now().hour == 13 and datetime.now().minute == 44 and datetime.now().seconds > 30):\n",
    "                    flag = 1\n",
    "                \n",
    "                time.sleep(0.1)\n",
    "                max_price = max(max_price, self.market_price)\n",
    "                high_stop = max_price - self.profit_stop\n",
    "            \n",
    "            if(flag == 0):\n",
    "                print(f'買單觸發停損！市價為 {self.market_price} \\n停利價為 {high_stop} \\n停損價為 {low_stop} ')\n",
    "            else:\n",
    "                print(f'收盤前自動平倉！市價為 {self.market_price}，目前時間為{datetime.now().strftime(\"%Y-%m-%d %H:%M:%S %p\")}')\n",
    "            \n",
    "        else:\n",
    "            action = sj.constant.Action.Buy\n",
    "            \n",
    "            deal_price = float(msg['price'])\n",
    "            min_price = deal_price\n",
    "            high_stop = float(deal_price) + float(self.loss_stop)\n",
    "            low_stop = float(min_price) + float(self.profit_stop)\n",
    "            \n",
    "            flag = 0\n",
    "            while(self.market_price < high_stop and self.market_price < low_stop and\n",
    "                 not (datetime.now().hour == 13 and datetime.now().minute == 44 and datetime.now().seconds > 30)\n",
    "                 ):\n",
    "                if(datetime.now().hour == 13 and datetime.now().minute == 44 and datetime.now().seconds > 30):\n",
    "                    flag = 1\n",
    "                time.sleep(0.1)\n",
    "                min_price = min(min_price, self.market_price)\n",
    "                low_stop = min_price + self.profit_stop\n",
    "            \n",
    "            if(flag == 0):\n",
    "                print(f'賣單觸發停損！市價為 {self.market_price} \\n停利價為 {low_stop} \\n停損價為 {high_stop} ')\n",
    "            else:\n",
    "                print(f'收盤前自動平倉！市價為 {self.market_price}，目前時間為{datetime.now().strftime(\"%Y-%m-%d %H:%M:%S %p\")}')\n",
    "            \n",
    "        #平倉\n",
    "        \n",
    "        fut_order = self.api.Order(\n",
    "            action=action,\n",
    "            price=0,\n",
    "            quantity=msg['quantity'],\n",
    "            price_type=sj.constant.FuturesPriceType.MKT,\n",
    "            order_type=sj.constant.FuturesOrderType.FOK, \n",
    "            octype=sj.constant.FuturesOCType.Cover,\n",
    "            account=self.api.futopt_account\n",
    "        )\n",
    "        \n",
    "        #下單\n",
    "        trade = self.api.place_order(self.contract, fut_order)\n",
    "        \n",
    "        print(f'已經送出口數為{msg[\"quantity\"]}的平倉單！')\n",
    "        self.cover_deal_list.append(trade['order']['seqno'])\n",
    "            \n",
    "A = AutoStopper()\n",
    "A.startAutoStopper()"
   ]
  },
  {
   "cell_type": "code",
   "execution_count": 11,
   "id": "28be6380",
   "metadata": {},
   "outputs": [
    {
     "data": {
      "text/plain": [
       "Decimal('17521')"
      ]
     },
     "execution_count": 11,
     "metadata": {},
     "output_type": "execute_result"
    }
   ],
   "source": [
    "A.market_price"
   ]
  },
  {
   "cell_type": "code",
   "execution_count": 14,
   "id": "71b93e9e",
   "metadata": {},
   "outputs": [],
   "source": [
    "fut_order = A.api.Order(\n",
    "    action=sj.constant.Action.Buy,\n",
    "    price=0,\n",
    "    quantity=1,\n",
    "    price_type=sj.constant.FuturesPriceType.MKT,\n",
    "    order_type=sj.constant.FuturesOrderType.FOK, \n",
    "    octype=sj.constant.FuturesOCType.New,\n",
    "    account=A.api.futopt_account\n",
    ")"
   ]
  },
  {
   "cell_type": "code",
   "execution_count": 15,
   "id": "2406169d",
   "metadata": {},
   "outputs": [],
   "source": [
    "trade = A.api.place_order(A.contract, fut_order)"
   ]
  },
  {
   "cell_type": "code",
   "execution_count": 17,
   "id": "5a7db697",
   "metadata": {},
   "outputs": [
    {
     "data": {
      "text/plain": [
       "Trade(contract=Future(code='MXFA2', symbol='MXF202201', name='小型臺指01', category='MXF', delivery_month='202201', delivery_date='2022/01/19', underlying_kind='I', unit=1, limit_up=19563.0, limit_down=16007.0, reference=17785.0, update_date='2021/12/20'), order=Order(action=<Action.Buy: 'Buy'>, price=0, quantity=1, account=FutureAccount(person_id='R122157530', broker_id='F002000', account_id='1149940', username='孫宏民'), price_type=<FuturesPriceType.MKT: 'MKT'>, order_type=<FuturesOrderType.FOK: 'FOK'>, octype=<FuturesOCType.New: 'New'>), status=OrderStatus(status=<Status.Failed: 'Failed'>))"
      ]
     },
     "execution_count": 17,
     "metadata": {},
     "output_type": "execute_result"
    }
   ],
   "source": [
    "trade"
   ]
  },
  {
   "cell_type": "code",
   "execution_count": 16,
   "id": "aa99fcbe",
   "metadata": {},
   "outputs": [
    {
     "data": {
      "text/plain": [
       "[]"
      ]
     },
     "execution_count": 16,
     "metadata": {},
     "output_type": "execute_result"
    }
   ],
   "source": [
    "A.api.list_positions(A.api.futopt_account)"
   ]
  },
  {
   "cell_type": "code",
   "execution_count": 8,
   "id": "648c426b",
   "metadata": {},
   "outputs": [
    {
     "data": {
      "text/plain": [
       "<enum 'FuturesOCType'>"
      ]
     },
     "execution_count": 8,
     "metadata": {},
     "output_type": "execute_result"
    }
   ],
   "source": [
    "import shioaji as sj\n",
    "sj.constant.FuturesOCType"
   ]
  },
  {
   "cell_type": "code",
   "execution_count": 9,
   "id": "fd8c5e12",
   "metadata": {},
   "outputs": [
    {
     "data": {
      "text/plain": [
       "['Auto',\n",
       " 'Cover',\n",
       " 'DayTrade',\n",
       " 'New',\n",
       " '__class__',\n",
       " '__doc__',\n",
       " '__members__',\n",
       " '__module__']"
      ]
     },
     "execution_count": 9,
     "metadata": {},
     "output_type": "execute_result"
    }
   ],
   "source": [
    "dir(sj.constant.FuturesOCType)C"
   ]
  },
  {
   "cell_type": "code",
   "execution_count": null,
   "id": "454b5309",
   "metadata": {},
   "outputs": [],
   "source": []
  }
 ],
 "metadata": {
  "kernelspec": {
   "display_name": "Python 3 (ipykernel)",
   "language": "python",
   "name": "python3"
  },
  "language_info": {
   "codemirror_mode": {
    "name": "ipython",
    "version": 3
   },
   "file_extension": ".py",
   "mimetype": "text/x-python",
   "name": "python",
   "nbconvert_exporter": "python",
   "pygments_lexer": "ipython3",
   "version": "3.7.0"
  }
 },
 "nbformat": 4,
 "nbformat_minor": 5
}
