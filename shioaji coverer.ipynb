{
 "cells": [
  {
   "cell_type": "code",
   "execution_count": 1,
   "id": "dd71b151",
   "metadata": {
    "scrolled": false
   },
   "outputs": [
    {
     "data": {
      "text/plain": [
       "<module 'shioaji_login' from 'C:\\\\Users\\\\pride\\\\git\\\\shioaji-coverer\\\\shioaji_login.py'>"
      ]
     },
     "execution_count": 1,
     "metadata": {},
     "output_type": "execute_result"
    }
   ],
   "source": [
    "import json\n",
    "import time\n",
    "import datetime\n",
    "import threading\n",
    "import importlib\n",
    "\n",
    "import shioaji_login\n",
    "# Need to reload this for some reason that I can't remember.\n",
    "importlib.reload(shioaji_login)"
   ]
  },
  {
   "cell_type": "code",
   "execution_count": 2,
   "id": "7630728c",
   "metadata": {},
   "outputs": [
    {
     "name": "stdout",
     "output_type": "stream",
     "text": [
      "Response Code: 0 | Event Code: 0 | Info: host '203.66.91.161:80', hostname '203.66.91.161:80' IP 203.66.91.161:80 (host 1 of 1) (host connection attempt 1 of 1) (total connection attempt 1 of 1) | Event: Session up\n",
      "Login with ID N125685958\n",
      "Activating CA at the path C:\\sinopac\\Sinopac_ROR.pfx\n"
     ]
    }
   ],
   "source": [
    "api = shioaji_login.login()"
   ]
  },
  {
   "cell_type": "code",
   "execution_count": 3,
   "id": "764903a7",
   "metadata": {},
   "outputs": [],
   "source": [
    "def stop_price_updater():\n",
    "    \"\"\"\n",
    "    Update stop price every single seconds.\n",
    "    If the time for now is inside of the range intense time, set the prices to intense version.\n",
    "    Otherwise, set them to normal version.\n",
    "    This thread will run as long as the program is running.\n",
    "    \n",
    "    :global param profit_stop: (int)\n",
    "    :global param loss_stop: (int)\n",
    "    :global param normal_profit_stop: (int)\n",
    "    :global param normal_loss_stop: (int)\n",
    "    :global param intense_profit_stop: (int)\n",
    "    :global param intense_loss_stop: (int)\n",
    "    \n",
    "    :return: None\n",
    "    \"\"\"\n",
    "    \n",
    "    pre_profit_stop = 0\n",
    "    pre_loss_stop = 0\n",
    "    \n",
    "    while(True):\n",
    "        now = datetime.datetime.now().time()\n",
    "        \n",
    "        if(now > intense_begin_time or now < intense_end_time):\n",
    "            profit_stop = intense_profit_stop\n",
    "            loss_stop = intense_loss_stop\n",
    "        else:\n",
    "            profit_stop = normal_profit_stop\n",
    "            loss_stop = normal_loss_stop\n",
    "        \n",
    "        if(pre_profit_stop != profit_stop or pre_loss_stop != loss_stop):\n",
    "            \n",
    "            print(f'Time is now {now.strftime(\"%H:%M:%S\")}')\n",
    "            print(f'Profit stop has been set to {profit_stop}')\n",
    "            print(f'Loss stop has been set to {loss_stop}')\n",
    "        \n",
    "        pre_profit_stop = profit_stop\n",
    "        pre_loss_stop = loss_stop\n",
    "        \n",
    "        time.sleep(1)\n",
    "        \n",
    "    return"
   ]
  },
  {
   "cell_type": "code",
   "execution_count": 28,
   "id": "9bccefeb",
   "metadata": {},
   "outputs": [],
   "source": [
    "def future_code(future_name):\n",
    "    \"\"\"\n",
    "    Return future code based on future name\n",
    "    \n",
    "    :param future_name: (str)\n",
    "    \n",
    "    :return: future_code (str)\n",
    "    \"\"\"\n",
    "    \n",
    "    now = datetime.datetime.now().replace(month=12)\n",
    "    month = now.month\n",
    "    year = now.year\n",
    "    first_weekday = now.replace(day=1).weekday()\n",
    "    \n",
    "    if(first_weekday < 3):\n",
    "        third_wednesday = 17 - first_weekday\n",
    "    else:\n",
    "        third_wednesday = 24 - first_weekday\n",
    "    \n",
    "    print(f'Third_wednesday = {third_wednesday}')\n",
    "    \n",
    "    if(\n",
    "        now.day == third_wednesday and now.time() > datetime.time(13, 30) or\n",
    "        now.day > third_wednesday\n",
    "    ):\n",
    "        month = month + 1\n",
    "        if(month == 13):\n",
    "            month = 1\n",
    "            year += 1\n",
    "    \n",
    "    month_to_code = '0ABCDEFGHIJKL'\n",
    "    \n",
    "    future_code = future_name\n",
    "    future_code += month_to_code[month]\n",
    "    future_code += str(year%10)\n",
    "    \n",
    "    return future_code"
   ]
  },
  {
   "cell_type": "code",
   "execution_count": 29,
   "id": "6f1c6a2d",
   "metadata": {},
   "outputs": [
    {
     "name": "stdout",
     "output_type": "stream",
     "text": [
      "Third_wednesday = 21\n"
     ]
    },
    {
     "data": {
      "text/plain": [
       "'TXFL2'"
      ]
     },
     "execution_count": 29,
     "metadata": {},
     "output_type": "execute_result"
    }
   ],
   "source": [
    "future_code('TXF')"
   ]
  },
  {
   "cell_type": "code",
   "execution_count": 4,
   "id": "b1d68537",
   "metadata": {},
   "outputs": [
    {
     "name": "stdout",
     "output_type": "stream",
     "text": [
      "Time is now 22:50:06\n",
      "Profit stop has been set to 4\n",
      "Loss stop has been set to 5\n"
     ]
    }
   ],
   "source": [
    "# Parsing config.json\n",
    "\n",
    "with open('config.json') as f:\n",
    "    config_data = json.load(f)\n",
    "    \n",
    "    intense_begin_time = datetime.datetime.strptime(config_data['intense_begin'], '%H:%M').time()\n",
    "    intense_end_time = datetime.datetime.strptime(config_data['intense_end'], '%H:%M').time()\n",
    "    \n",
    "    normal_profit_stop = config_data['normal_profit_stop']\n",
    "    normal_loss_stop = config_data['normal_loss_stop']\n",
    "    intense_profit_stop = config_data['intense_profit_stop']\n",
    "    intense_loss_stop = config_data['intense_loss_stop']\n",
    "    \n",
    "    future_name = config_data['future_name']\n",
    "\n",
    "# profit_stop and loss_stop need to be initialize as None before calling stop_price_updater\n",
    "profit_stop = None\n",
    "loss_stop = None\n",
    "\n",
    "stop_price_updater_thread = threading.Thread(target = stop_price_updater)\n",
    "stop_price_updater_thread.start()"
   ]
  },
  {
   "cell_type": "code",
   "execution_count": null,
   "id": "bcd1f21e",
   "metadata": {},
   "outputs": [],
   "source": []
  }
 ],
 "metadata": {
  "kernelspec": {
   "display_name": "Python 3 (ipykernel)",
   "language": "python",
   "name": "python3"
  },
  "language_info": {
   "codemirror_mode": {
    "name": "ipython",
    "version": 3
   },
   "file_extension": ".py",
   "mimetype": "text/x-python",
   "name": "python",
   "nbconvert_exporter": "python",
   "pygments_lexer": "ipython3",
   "version": "3.7.0"
  }
 },
 "nbformat": 4,
 "nbformat_minor": 5
}
