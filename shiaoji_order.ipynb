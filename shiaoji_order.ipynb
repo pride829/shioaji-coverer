{
 "cells": [
  {
   "cell_type": "code",
   "execution_count": 69,
   "id": "114e9a81",
   "metadata": {},
   "outputs": [],
   "source": [
    "import importlib\n",
    "import shioaji_login\n",
    "importlib.reload(shioaji_login)\n",
    "import shioaji as sj\n",
    "import pandas as pd"
   ]
  },
  {
   "cell_type": "code",
   "execution_count": 70,
   "id": "a1e2c37c",
   "metadata": {},
   "outputs": [
    {
     "name": "stdout",
     "output_type": "stream",
     "text": [
      "Response Code: 0 | Event Code: 0 | Info: host '203.66.91.161:80', IP 203.66.91.161:80 (host 1 of 1) (host connection attempt 1 of 1) (total connection attempt 1 of 1) | Event: Session up\n",
      "<SecurityType.Index: 'IND'> fetch done.\n",
      "<SecurityType.Future: 'FUT'> fetch done.\n",
      "True\n"
     ]
    }
   ],
   "source": [
    "api = shioaji_login.shioaji_login()"
   ]
  },
  {
   "cell_type": "markdown",
   "id": "34a9902d",
   "metadata": {},
   "source": [
    "股票下單"
   ]
  },
  {
   "cell_type": "code",
   "execution_count": 73,
   "id": "1c703379",
   "metadata": {},
   "outputs": [
    {
     "data": {
      "text/plain": [
       "Stock(exchange=<Exchange.TSE: 'TSE'>, code='2330', symbol='TSE2330', name='台積電', category='24', unit=1000, limit_up=660.0, limit_down=540.0, reference=600.0, update_date='2021/12/07', margin_trading_balance=1284, short_selling_balance=168, day_trade=<DayTrade.Yes: 'Yes'>)"
      ]
     },
     "execution_count": 73,
     "metadata": {},
     "output_type": "execute_result"
    }
   ],
   "source": [
    "contract = api.Contracts.Stocks.TSE.TSE2330\n",
    "contract"
   ]
  },
  {
   "cell_type": "code",
   "execution_count": 87,
   "id": "7c236e80",
   "metadata": {},
   "outputs": [],
   "source": [
    "contract = api.Contracts.Stocks.TSE.TSE2330\n",
    "order = api.Order(price=541, \n",
    "                  quantity=1, \n",
    "                  action=\"Buy\", \n",
    "                  price_type=\"LMT\", \n",
    "                  order_type=\"FOK\", \n",
    "                  order_lot=\"Common\", \n",
    "                  account=api.stock_account\n",
    "                  )"
   ]
  },
  {
   "cell_type": "code",
   "execution_count": 75,
   "id": "ae53462a",
   "metadata": {},
   "outputs": [
    {
     "data": {
      "text/plain": [
       "Trade(contract=Stock(exchange=<Exchange.TSE: 'TSE'>, code='2330', symbol='TSE2330', name='台積電', category='24', unit=1000, limit_up=660.0, limit_down=540.0, reference=600.0, update_date='2021/12/07', margin_trading_balance=1284, short_selling_balance=168, day_trade=<DayTrade.Yes: 'Yes'>), order=Order(action=<Action.Buy: 'Buy'>, price=541, quantity=1, account=Account(account_type=<AccountType.Stock: 'S'>, person_id='N125685958', broker_id='9A9X', account_id='0498332', signed=True), price_type=<StockPriceType.LMT: 'LMT'>, order_type=<FuturesOrderType.FOK: 'FOK'>), status=OrderStatus(status=<Status.Failed: 'Failed'>, status_code='74009', order_datetime=datetime.datetime(2021, 12, 7, 13, 39, 59), msg='非委託時間', deals=[]))"
      ]
     },
     "execution_count": 75,
     "metadata": {},
     "output_type": "execute_result"
    }
   ],
   "source": [
    "trade = api.place_order(contract, order)\n",
    "trade"
   ]
  },
  {
   "cell_type": "code",
   "execution_count": 88,
   "id": "2f50ecb1",
   "metadata": {},
   "outputs": [
    {
     "data": {
      "text/plain": [
       "FutureAccount(person_id='N125685958', broker_id='F002000', account_id='1645949', username='曾天裕')"
      ]
     },
     "execution_count": 88,
     "metadata": {},
     "output_type": "execute_result"
    }
   ],
   "source": [
    "api.futopt_account"
   ]
  },
  {
   "cell_type": "markdown",
   "id": "994a796f",
   "metadata": {},
   "source": [
    "期貨下單"
   ]
  },
  {
   "cell_type": "code",
   "execution_count": 89,
   "id": "19384b10",
   "metadata": {},
   "outputs": [
    {
     "data": {
      "text/plain": [
       "Order(action=<Action.Buy: 'Buy'>, price=17000, quantity=1, account=FutureAccount(person_id='N125685958', broker_id='F002000', account_id='1645949', username='曾天裕'), price_type=<StockPriceType.LMT: 'LMT'>, order_type=<FuturesOrderType.ROD: 'ROD'>)"
      ]
     },
     "execution_count": 89,
     "metadata": {},
     "output_type": "execute_result"
    }
   ],
   "source": [
    "fut_order = api.Order(\n",
    "    action=sj.constant.Action.Buy,\n",
    "    price=17000,\n",
    "    quantity=1,\n",
    "    price_type=sj.constant.StockPriceType.LMT,\n",
    "    order_type=sj.constant.FuturesOrderType.ROD, \n",
    "    octype=sj.constant.FuturesOCType.Auto,\n",
    "    account=api.futopt_account   #這一行指定帳戶\n",
    ")\n",
    "fut_order"
   ]
  },
  {
   "cell_type": "code",
   "execution_count": 90,
   "id": "05ea14b6",
   "metadata": {},
   "outputs": [
    {
     "data": {
      "text/plain": [
       "Future(code='MXFL1', symbol='MXF202112', name='小型臺指12', category='MXF', delivery_month='202112', delivery_date='2021/12/15', underlying_kind='I', unit=1, limit_up=19461.0, limit_down=15923.0, reference=17692.0, update_date='2021/12/07')"
      ]
     },
     "execution_count": 90,
     "metadata": {},
     "output_type": "execute_result"
    }
   ],
   "source": [
    "contract_txf = api.Contracts.Futures.MXF.MXF202112\n",
    "contract_txf"
   ]
  },
  {
   "cell_type": "code",
   "execution_count": 91,
   "id": "f9740dd5",
   "metadata": {},
   "outputs": [],
   "source": [
    "trade = api.place_order(contract_txf, fut_order)"
   ]
  },
  {
   "cell_type": "code",
   "execution_count": 92,
   "id": "650ab42a",
   "metadata": {},
   "outputs": [
    {
     "data": {
      "text/plain": [
       "Trade(contract=Future(code='MXFL1', symbol='MXF202112', name='小型臺指12', category='MXF', delivery_month='202112', delivery_date='2021/12/15', underlying_kind='I', unit=1, limit_up=19461.0, limit_down=15923.0, reference=17692.0, update_date='2021/12/07'), order=Order(action=<Action.Buy: 'Buy'>, price=17000, quantity=1, account=FutureAccount(person_id='N125685958', broker_id='F002000', account_id='1645949', username='曾天裕'), price_type=<StockPriceType.LMT: 'LMT'>, order_type=<FuturesOrderType.ROD: 'ROD'>), status=OrderStatus(status=<Status.Failed: 'Failed'>))"
      ]
     },
     "execution_count": 92,
     "metadata": {},
     "output_type": "execute_result"
    }
   ],
   "source": [
    "trade"
   ]
  },
  {
   "cell_type": "code",
   "execution_count": 85,
   "id": "a56bfc4c",
   "metadata": {},
   "outputs": [
    {
     "ename": "Exception",
     "evalue": "{'status': {'status_code': 406}, 'response': {'detail': 'Account Not Acceptable.'}}",
     "output_type": "error",
     "traceback": [
      "\u001b[0;31m---------------------------------------------------------------------------\u001b[0m",
      "\u001b[0;31mException\u001b[0m                                 Traceback (most recent call last)",
      "\u001b[0;32m<ipython-input-85-f617b2cf4958>\u001b[0m in \u001b[0;36m<module>\u001b[0;34m\u001b[0m\n\u001b[1;32m      2\u001b[0m \u001b[0;31m# ok\u001b[0m\u001b[0;34m\u001b[0m\u001b[0;34m\u001b[0m\u001b[0;34m\u001b[0m\u001b[0m\n\u001b[1;32m      3\u001b[0m \u001b[0;34m\u001b[0m\u001b[0m\n\u001b[0;32m----> 4\u001b[0;31m \u001b[0mapi\u001b[0m\u001b[0;34m.\u001b[0m\u001b[0mupdate_status\u001b[0m\u001b[0;34m(\u001b[0m\u001b[0mapi\u001b[0m\u001b[0;34m.\u001b[0m\u001b[0mfutopt_account\u001b[0m\u001b[0;34m)\u001b[0m\u001b[0;34m\u001b[0m\u001b[0;34m\u001b[0m\u001b[0m\n\u001b[0m\u001b[1;32m      5\u001b[0m \u001b[0;31m# 'Account Not Acceptable.'\u001b[0m\u001b[0;34m\u001b[0m\u001b[0;34m\u001b[0m\u001b[0;34m\u001b[0m\u001b[0m\n",
      "\u001b[0;32m~/anaconda3/lib/python3.8/site-packages/shioaji/shioaji.py\u001b[0m in \u001b[0;36mupdate_status\u001b[0;34m(self, account, timeout, cb)\u001b[0m\n\u001b[1;32m    440\u001b[0m         \u001b[0;34m\"\"\"update status of all trades you have\"\"\"\u001b[0m\u001b[0;34m\u001b[0m\u001b[0;34m\u001b[0m\u001b[0m\n\u001b[1;32m    441\u001b[0m         \u001b[0;32mif\u001b[0m \u001b[0maccount\u001b[0m\u001b[0;34m:\u001b[0m\u001b[0;34m\u001b[0m\u001b[0;34m\u001b[0m\u001b[0m\n\u001b[0;32m--> 442\u001b[0;31m             \u001b[0mself\u001b[0m\u001b[0;34m.\u001b[0m\u001b[0m_solace\u001b[0m\u001b[0;34m.\u001b[0m\u001b[0mupdate_status\u001b[0m\u001b[0;34m(\u001b[0m\u001b[0maccount\u001b[0m\u001b[0;34m,\u001b[0m \u001b[0mtimeout\u001b[0m\u001b[0;34m=\u001b[0m\u001b[0mtimeout\u001b[0m\u001b[0;34m,\u001b[0m \u001b[0mcb\u001b[0m\u001b[0;34m=\u001b[0m\u001b[0mcb\u001b[0m\u001b[0;34m)\u001b[0m\u001b[0;34m\u001b[0m\u001b[0;34m\u001b[0m\u001b[0m\n\u001b[0m\u001b[1;32m    443\u001b[0m         \u001b[0;32melse\u001b[0m\u001b[0;34m:\u001b[0m\u001b[0;34m\u001b[0m\u001b[0;34m\u001b[0m\u001b[0m\n\u001b[1;32m    444\u001b[0m             \u001b[0;32mif\u001b[0m \u001b[0mself\u001b[0m\u001b[0;34m.\u001b[0m\u001b[0mstock_account\u001b[0m\u001b[0;34m:\u001b[0m\u001b[0;34m\u001b[0m\u001b[0;34m\u001b[0m\u001b[0m\n",
      "\u001b[0;32mshioaji/backend/solace/api.pyx\u001b[0m in \u001b[0;36mshioaji.backend.solace.api.SolaceAPI.update_status\u001b[0;34m()\u001b[0m\n",
      "\u001b[0;32mshioaji/backend/solace/api.pyx\u001b[0m in \u001b[0;36mshioaji.backend.solace.api.SolaceAPI._update_status_cb\u001b[0;34m()\u001b[0m\n",
      "\u001b[0;32m~/anaconda3/lib/python3.8/site-packages/shioaji/utils.py\u001b[0m in \u001b[0;36mraise_resp_error\u001b[0;34m(status_code, resp)\u001b[0m\n\u001b[1;32m     48\u001b[0m         \u001b[0;32mraise\u001b[0m \u001b[0mSystemMaintenance\u001b[0m\u001b[0;34m(\u001b[0m\u001b[0mstatus_code\u001b[0m\u001b[0;34m,\u001b[0m \u001b[0mdetail\u001b[0m\u001b[0;34m)\u001b[0m\u001b[0;34m\u001b[0m\u001b[0;34m\u001b[0m\u001b[0m\n\u001b[1;32m     49\u001b[0m     \u001b[0;32melse\u001b[0m\u001b[0;34m:\u001b[0m\u001b[0;34m\u001b[0m\u001b[0;34m\u001b[0m\u001b[0m\n\u001b[0;32m---> 50\u001b[0;31m         \u001b[0;32mraise\u001b[0m \u001b[0mException\u001b[0m\u001b[0;34m(\u001b[0m\u001b[0mresp\u001b[0m\u001b[0;34m)\u001b[0m\u001b[0;34m\u001b[0m\u001b[0;34m\u001b[0m\u001b[0m\n\u001b[0m",
      "\u001b[0;31mException\u001b[0m: {'status': {'status_code': 406}, 'response': {'detail': 'Account Not Acceptable.'}}"
     ]
    }
   ],
   "source": [
    "api.update_status(api.stock_account)\n",
    "# ok\n",
    "\n",
    "api.update_status(api.futopt_account)\n",
    "# 'Account Not Acceptable.'"
   ]
  },
  {
   "cell_type": "code",
   "execution_count": 86,
   "id": "babc65a6",
   "metadata": {},
   "outputs": [
    {
     "name": "stdout",
     "output_type": "stream",
     "text": [
      "person_id='N125685958' broker_id='F002000' account_id='1645949' username='曾天裕'\n"
     ]
    }
   ],
   "source": [
    "print(api.futopt_account)"
   ]
  },
  {
   "cell_type": "code",
   "execution_count": 62,
   "id": "4a81a765",
   "metadata": {},
   "outputs": [
    {
     "data": {
      "text/plain": [
       "[FutureAccount(person_id='N125685958', broker_id='F002000', account_id='1645949', username='曾天裕'),\n",
       " Account(account_type=<AccountType.H: 'H'>, person_id='N125685958', broker_id='9A9X', account_id='0137289', username='曾天裕'),\n",
       " StockAccount(person_id='N125685958', broker_id='9A9X', account_id='0498332', signed=True, username='曾天裕\\u3000\\u3000')]"
      ]
     },
     "execution_count": 62,
     "metadata": {},
     "output_type": "execute_result"
    }
   ],
   "source": [
    "api.list_accounts()"
   ]
  },
  {
   "cell_type": "code",
   "execution_count": null,
   "id": "e3197fff",
   "metadata": {},
   "outputs": [],
   "source": []
  }
 ],
 "metadata": {
  "kernelspec": {
   "display_name": "Python 3",
   "language": "python",
   "name": "python3"
  },
  "language_info": {
   "codemirror_mode": {
    "name": "ipython",
    "version": 3
   },
   "file_extension": ".py",
   "mimetype": "text/x-python",
   "name": "python",
   "nbconvert_exporter": "python",
   "pygments_lexer": "ipython3",
   "version": "3.8.8"
  }
 },
 "nbformat": 4,
 "nbformat_minor": 5
}
