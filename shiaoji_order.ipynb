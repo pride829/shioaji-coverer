{
 "cells": [
  {
   "cell_type": "code",
   "execution_count": 62,
   "id": "114e9a81",
   "metadata": {},
   "outputs": [],
   "source": [
    "import importlib\n",
    "import shioaji_login\n",
    "importlib.reload(shioaji_login)\n",
    "import shioaji as sj\n",
    "import pandas as pd"
   ]
  },
  {
   "cell_type": "code",
   "execution_count": 63,
   "id": "a1e2c37c",
   "metadata": {},
   "outputs": [
    {
     "name": "stdout",
     "output_type": "stream",
     "text": [
      "Response Code: 0 | Event Code: 0 | Info: host '203.66.91.161:80', IP 203.66.91.161:80 (host 1 of 1) (host connection attempt 1 of 1) (total connection attempt 1 of 1) | Event: Session up\n",
      "<SecurityType.Index: 'IND'> fetch done.\n",
      "<SecurityType.Future: 'FUT'> fetch done.\n",
      "<SecurityType.Stock: 'STK'> fetch done.\n",
      "<SecurityType.Option: 'OPT'> fetch done.\n"
     ]
    }
   ],
   "source": [
    "api = shioaji_login.shioaji_login()"
   ]
  },
  {
   "cell_type": "markdown",
   "id": "34a9902d",
   "metadata": {},
   "source": [
    "股票下單"
   ]
  },
  {
   "cell_type": "code",
   "execution_count": 15,
   "id": "1c703379",
   "metadata": {},
   "outputs": [
    {
     "data": {
      "text/plain": [
       "Stock(exchange=<Exchange.TSE: 'TSE'>, code='2330', symbol='TSE2330', name='台積電', category='24', unit=1000, limit_up=661.0, limit_down=541.0, reference=601.0, update_date='2021/12/14', margin_trading_balance=1289, day_trade=<DayTrade.OnlyBuy: 'OnlyBuy'>)"
      ]
     },
     "execution_count": 15,
     "metadata": {},
     "output_type": "execute_result"
    }
   ],
   "source": [
    "contract = api.Contracts.Stocks.TSE.TSE2330\n",
    "contract"
   ]
  },
  {
   "cell_type": "code",
   "execution_count": 4,
   "id": "7c236e80",
   "metadata": {},
   "outputs": [],
   "source": [
    "contract = api.Contracts.Stocks.TSE.TSE2330\n",
    "order = api.Order(price=541, \n",
    "                  quantity=1, \n",
    "                  action=\"Buy\", \n",
    "                  price_type=\"LMT\", \n",
    "                  order_type=\"FOK\", \n",
    "                  order_lot=\"Common\", \n",
    "                  account=api.stock_account\n",
    "                  )"
   ]
  },
  {
   "cell_type": "code",
   "execution_count": 5,
   "id": "ae53462a",
   "metadata": {},
   "outputs": [
    {
     "name": "stdout",
     "output_type": "stream",
     "text": [
      "OrderState.TFTOrder {'operation': {'op_type': 'New', 'op_code': '88', 'op_msg': '該客戶超過投資上限，餘額 200000 元，尚可委託 0 張'}, 'order': {'id': '1437cbb0', 'seqno': '433517', 'ordno': 'X0000', 'account': {'account_type': 'S', 'person_id': '', 'broker_id': '9A9X', 'account_id': '0498332', 'signed': True}, 'action': 'Buy', 'price': 541.0, 'quantity': 1, 'order_type': 'FOK', 'order_cond': 'Cash', 'order_lot': 'Common', 'price_type': 'LMT'}, 'status': {'id': '1437cbb0', 'exchange_ts': 1639456023, 'modified_price': 0.0, 'cancel_quantity': 0, 'order_quantity': 0}, 'contract': {'security_type': 'STK', 'exchange': 'TSE', 'code': '2330', 'symbol': '', 'name': '', 'currency': 'TWD'}}\n"
     ]
    },
    {
     "data": {
      "text/plain": [
       "Trade(contract=Stock(exchange=<Exchange.TSE: 'TSE'>, code='2330', symbol='TSE2330', name='台積電', category='24', unit=1000, limit_up=661.0, limit_down=541.0, reference=601.0, update_date='2021/12/14', margin_trading_balance=1289, day_trade=<DayTrade.OnlyBuy: 'OnlyBuy'>), order=Order(action=<Action.Buy: 'Buy'>, price=541, quantity=1, id='1437cbb0', seqno='433517', ordno='X0000', account=Account(account_type=<AccountType.Stock: 'S'>, person_id='N125685958', broker_id='9A9X', account_id='0498332', signed=True), price_type=<StockPriceType.LMT: 'LMT'>, order_type=<FuturesOrderType.FOK: 'FOK'>), status=OrderStatus(id='1437cbb0', status=<Status.PendingSubmit: 'PendingSubmit'>, status_code='0', order_datetime=datetime.datetime(2021, 12, 14, 12, 27, 3), deals=[]))"
      ]
     },
     "execution_count": 5,
     "metadata": {},
     "output_type": "execute_result"
    }
   ],
   "source": [
    "\n",
    "##########下單##########\n",
    "\n",
    "trade = api.place_order(contract, order)\n",
    "trade"
   ]
  },
  {
   "cell_type": "code",
   "execution_count": 65,
   "id": "2c105981",
   "metadata": {},
   "outputs": [
    {
     "name": "stdout",
     "output_type": "stream",
     "text": [
      "Response Code: 200 | Event Code: 16 | Info: TIC/v1/FOP/*/TFE/MXFL1 | Event: Subscribe or Unsubscribe ok\n",
      "Exchange.TAIFEX Tick(code='MXFL1', datetime=datetime.datetime(2021, 12, 15, 1, 5, 57, 757000), open=Decimal('17590'), underlying_price=Decimal('17599.37'), bid_side_total_vol=45078, ask_side_total_vol=43805, avg_price=Decimal('17550.51036'), close=Decimal('17506'), high=Decimal('17614'), low=Decimal('17500'), amount=Decimal('17506'), total_amount=Decimal('1074845906'), volume=1, total_volume=61243, tick_type=2, chg_type=4, price_chg=Decimal('-96'), pct_chg=Decimal('-0.545393'), simtrade=0)\n",
      "Exchange.TAIFEX Tick(code='MXFL1', datetime=datetime.datetime(2021, 12, 15, 1, 5, 58, 674000), open=Decimal('17590'), underlying_price=Decimal('17599.37'), bid_side_total_vol=45079, ask_side_total_vol=43806, avg_price=Decimal('17550.509634'), close=Decimal('17506'), high=Decimal('17614'), low=Decimal('17500'), amount=Decimal('17506'), total_amount=Decimal('1074863412'), volume=1, total_volume=61244, tick_type=2, chg_type=4, price_chg=Decimal('-96'), pct_chg=Decimal('-0.545393'), simtrade=0)\n",
      "Exchange.TAIFEX Tick(code='MXFL1', datetime=datetime.datetime(2021, 12, 15, 1, 6, 0, 168000), open=Decimal('17590'), underlying_price=Decimal('17599.37'), bid_side_total_vol=45080, ask_side_total_vol=43807, avg_price=Decimal('17550.508923'), close=Decimal('17507'), high=Decimal('17614'), low=Decimal('17500'), amount=Decimal('17507'), total_amount=Decimal('1074880919'), volume=1, total_volume=61245, tick_type=2, chg_type=4, price_chg=Decimal('-95'), pct_chg=Decimal('-0.539711'), simtrade=0)\n",
      "Exchange.TAIFEX Tick(code='MXFL1', datetime=datetime.datetime(2021, 12, 15, 1, 6, 0, 168000), open=Decimal('17590'), underlying_price=Decimal('17599.37'), bid_side_total_vol=45081, ask_side_total_vol=43809, avg_price=Decimal('17550.507502'), close=Decimal('17507'), high=Decimal('17614'), low=Decimal('17500'), amount=Decimal('35014'), total_amount=Decimal('1074915933'), volume=2, total_volume=61247, tick_type=2, chg_type=4, price_chg=Decimal('-95'), pct_chg=Decimal('-0.539711'), simtrade=0)\n",
      "Exchange.TAIFEX Tick(code='MXFL1', datetime=datetime.datetime(2021, 12, 15, 1, 6, 0, 168000), open=Decimal('17590'), underlying_price=Decimal('17599.37'), bid_side_total_vol=45083, ask_side_total_vol=43812, avg_price=Decimal('17550.504661'), close=Decimal('17507'), high=Decimal('17614'), low=Decimal('17500'), amount=Decimal('70028'), total_amount=Decimal('1074985961'), volume=4, total_volume=61251, tick_type=2, chg_type=4, price_chg=Decimal('-95'), pct_chg=Decimal('-0.539711'), simtrade=0)\n",
      "Exchange.TAIFEX Tick(code='MXFL1', datetime=datetime.datetime(2021, 12, 15, 1, 6, 0, 169000), open=Decimal('17590'), underlying_price=Decimal('17599.37'), bid_side_total_vol=45087, ask_side_total_vol=43810, avg_price=Decimal('17550.503951'), close=Decimal('17507'), high=Decimal('17614'), low=Decimal('17500'), amount=Decimal('17507'), total_amount=Decimal('1075003468'), volume=1, total_volume=61252, tick_type=2, chg_type=4, price_chg=Decimal('-95'), pct_chg=Decimal('-0.539711'), simtrade=0)\n",
      "Exchange.TAIFEX Tick(code='MXFL1', datetime=datetime.datetime(2021, 12, 15, 1, 6, 0, 169000), open=Decimal('17590'), underlying_price=Decimal('17599.37'), bid_side_total_vol=45088, ask_side_total_vol=43811, avg_price=Decimal('17550.503241'), close=Decimal('17507'), high=Decimal('17614'), low=Decimal('17500'), amount=Decimal('17507'), total_amount=Decimal('1075020975'), volume=1, total_volume=61253, tick_type=2, chg_type=4, price_chg=Decimal('-95'), pct_chg=Decimal('-0.539711'), simtrade=0)\n",
      "Exchange.TAIFEX Tick(code='MXFL1', datetime=datetime.datetime(2021, 12, 15, 1, 6, 0, 169000), open=Decimal('17590'), underlying_price=Decimal('17599.37'), bid_side_total_vol=45089, ask_side_total_vol=43812, avg_price=Decimal('17550.502514'), close=Decimal('17506'), high=Decimal('17614'), low=Decimal('17500'), amount=Decimal('17506'), total_amount=Decimal('1075038481'), volume=1, total_volume=61254, tick_type=2, chg_type=4, price_chg=Decimal('-96'), pct_chg=Decimal('-0.545393'), simtrade=0)\n",
      "Exchange.TAIFEX Tick(code='MXFL1', datetime=datetime.datetime(2021, 12, 15, 1, 6, 0, 169000), open=Decimal('17590'), underlying_price=Decimal('17599.37'), bid_side_total_vol=45090, ask_side_total_vol=43813, avg_price=Decimal('17550.501788'), close=Decimal('17506'), high=Decimal('17614'), low=Decimal('17500'), amount=Decimal('17506'), total_amount=Decimal('1075055987'), volume=1, total_volume=61255, tick_type=2, chg_type=4, price_chg=Decimal('-96'), pct_chg=Decimal('-0.545393'), simtrade=0)\n",
      "Exchange.TAIFEX Tick(code='MXFL1', datetime=datetime.datetime(2021, 12, 15, 1, 6, 0, 169000), open=Decimal('17590'), underlying_price=Decimal('17599.37'), bid_side_total_vol=45091, ask_side_total_vol=43815, avg_price=Decimal('17550.500335'), close=Decimal('17506'), high=Decimal('17614'), low=Decimal('17500'), amount=Decimal('35012'), total_amount=Decimal('1075090999'), volume=2, total_volume=61257, tick_type=2, chg_type=4, price_chg=Decimal('-96'), pct_chg=Decimal('-0.545393'), simtrade=0)\n",
      "Exchange.TAIFEX Tick(code='MXFL1', datetime=datetime.datetime(2021, 12, 15, 1, 6, 0, 169000), open=Decimal('17590'), underlying_price=Decimal('17599.37'), bid_side_total_vol=45093, ask_side_total_vol=43815, avg_price=Decimal('17550.499608'), close=Decimal('17506'), high=Decimal('17614'), low=Decimal('17500'), amount=Decimal('17506'), total_amount=Decimal('1075108505'), volume=1, total_volume=61258, tick_type=2, chg_type=4, price_chg=Decimal('-96'), pct_chg=Decimal('-0.545393'), simtrade=0)\n",
      "Exchange.TAIFEX Tick(code='MXFL1', datetime=datetime.datetime(2021, 12, 15, 1, 6, 0, 169000), open=Decimal('17590'), underlying_price=Decimal('17599.37'), bid_side_total_vol=45094, ask_side_total_vol=43817, avg_price=Decimal('17550.498155'), close=Decimal('17506'), high=Decimal('17614'), low=Decimal('17500'), amount=Decimal('35012'), total_amount=Decimal('1075143517'), volume=2, total_volume=61260, tick_type=2, chg_type=4, price_chg=Decimal('-96'), pct_chg=Decimal('-0.545393'), simtrade=0)\n",
      "Exchange.TAIFEX Tick(code='MXFL1', datetime=datetime.datetime(2021, 12, 15, 1, 6, 0, 169000), open=Decimal('17590'), underlying_price=Decimal('17599.37'), bid_side_total_vol=45095, ask_side_total_vol=43817, avg_price=Decimal('17550.497429'), close=Decimal('17506'), high=Decimal('17614'), low=Decimal('17500'), amount=Decimal('17506'), total_amount=Decimal('1075161023'), volume=1, total_volume=61261, tick_type=2, chg_type=4, price_chg=Decimal('-96'), pct_chg=Decimal('-0.545393'), simtrade=0)\n",
      "Exchange.TAIFEX Tick(code='MXFL1', datetime=datetime.datetime(2021, 12, 15, 1, 6, 0, 169000), open=Decimal('17590'), underlying_price=Decimal('17599.37'), bid_side_total_vol=45096, ask_side_total_vol=43818, avg_price=Decimal('17550.496703'), close=Decimal('17506'), high=Decimal('17614'), low=Decimal('17500'), amount=Decimal('17506'), total_amount=Decimal('1075178529'), volume=1, total_volume=61262, tick_type=2, chg_type=4, price_chg=Decimal('-96'), pct_chg=Decimal('-0.545393'), simtrade=0)\n",
      "Exchange.TAIFEX Tick(code='MXFL1', datetime=datetime.datetime(2021, 12, 15, 1, 6, 0, 169000), open=Decimal('17590'), underlying_price=Decimal('17599.37'), bid_side_total_vol=45097, ask_side_total_vol=43820, avg_price=Decimal('17550.49525'), close=Decimal('17506'), high=Decimal('17614'), low=Decimal('17500'), amount=Decimal('35012'), total_amount=Decimal('1075213541'), volume=2, total_volume=61264, tick_type=2, chg_type=4, price_chg=Decimal('-96'), pct_chg=Decimal('-0.545393'), simtrade=0)\n",
      "Exchange.TAIFEX Tick(code='MXFL1', datetime=datetime.datetime(2021, 12, 15, 1, 6, 0, 169000), open=Decimal('17590'), underlying_price=Decimal('17599.37'), bid_side_total_vol=45099, ask_side_total_vol=43821, avg_price=Decimal('17550.493798'), close=Decimal('17506'), high=Decimal('17614'), low=Decimal('17500'), amount=Decimal('35012'), total_amount=Decimal('1075248553'), volume=2, total_volume=61266, tick_type=2, chg_type=4, price_chg=Decimal('-96'), pct_chg=Decimal('-0.545393'), simtrade=0)\n",
      "Exchange.TAIFEX Tick(code='MXFL1', datetime=datetime.datetime(2021, 12, 15, 1, 6, 0, 170000), open=Decimal('17590'), underlying_price=Decimal('17599.37'), bid_side_total_vol=45100, ask_side_total_vol=43821, avg_price=Decimal('17550.493071'), close=Decimal('17506'), high=Decimal('17614'), low=Decimal('17500'), amount=Decimal('17506'), total_amount=Decimal('1075266059'), volume=1, total_volume=61267, tick_type=2, chg_type=4, price_chg=Decimal('-96'), pct_chg=Decimal('-0.545393'), simtrade=0)\n",
      "Exchange.TAIFEX Tick(code='MXFL1', datetime=datetime.datetime(2021, 12, 15, 1, 6, 0, 170000), open=Decimal('17590'), underlying_price=Decimal('17599.37'), bid_side_total_vol=45101, ask_side_total_vol=43822, avg_price=Decimal('17550.492345'), close=Decimal('17506'), high=Decimal('17614'), low=Decimal('17500'), amount=Decimal('17506'), total_amount=Decimal('1075283565'), volume=1, total_volume=61268, tick_type=2, chg_type=4, price_chg=Decimal('-96'), pct_chg=Decimal('-0.545393'), simtrade=0)\n",
      "Exchange.TAIFEX Tick(code='MXFL1', datetime=datetime.datetime(2021, 12, 15, 1, 6, 0, 171000), open=Decimal('17590'), underlying_price=Decimal('17599.37'), bid_side_total_vol=45102, ask_side_total_vol=43823, avg_price=Decimal('17550.491619'), close=Decimal('17506'), high=Decimal('17614'), low=Decimal('17500'), amount=Decimal('17506'), total_amount=Decimal('1075301071'), volume=1, total_volume=61269, tick_type=2, chg_type=4, price_chg=Decimal('-96'), pct_chg=Decimal('-0.545393'), simtrade=0)\n",
      "Exchange.TAIFEX Tick(code='MXFL1', datetime=datetime.datetime(2021, 12, 15, 1, 6, 0, 171000), open=Decimal('17590'), underlying_price=Decimal('17599.37'), bid_side_total_vol=45103, ask_side_total_vol=43824, avg_price=Decimal('17550.490893'), close=Decimal('17506'), high=Decimal('17614'), low=Decimal('17500'), amount=Decimal('17506'), total_amount=Decimal('1075318577'), volume=1, total_volume=61270, tick_type=2, chg_type=4, price_chg=Decimal('-96'), pct_chg=Decimal('-0.545393'), simtrade=0)\n"
     ]
    },
    {
     "name": "stdout",
     "output_type": "stream",
     "text": [
      "Exchange.TAIFEX Tick(code='MXFL1', datetime=datetime.datetime(2021, 12, 15, 1, 6, 0, 431000), open=Decimal('17590'), underlying_price=Decimal('17599.37'), bid_side_total_vol=45104, ask_side_total_vol=43825, avg_price=Decimal('17550.490183'), close=Decimal('17507'), high=Decimal('17614'), low=Decimal('17500'), amount=Decimal('17507'), total_amount=Decimal('1075336084'), volume=1, total_volume=61271, tick_type=2, chg_type=4, price_chg=Decimal('-95'), pct_chg=Decimal('-0.539711'), simtrade=0)\n",
      "Exchange.TAIFEX Tick(code='MXFL1', datetime=datetime.datetime(2021, 12, 15, 1, 6, 0, 521000), open=Decimal('17590'), underlying_price=Decimal('17599.37'), bid_side_total_vol=45105, ask_side_total_vol=43827, avg_price=Decimal('17550.488731'), close=Decimal('17506'), high=Decimal('17614'), low=Decimal('17500'), amount=Decimal('35012'), total_amount=Decimal('1075371096'), volume=2, total_volume=61273, tick_type=2, chg_type=4, price_chg=Decimal('-96'), pct_chg=Decimal('-0.545393'), simtrade=0)\n",
      "Exchange.TAIFEX Tick(code='MXFL1', datetime=datetime.datetime(2021, 12, 15, 1, 6, 1, 65000), open=Decimal('17590'), underlying_price=Decimal('17599.37'), bid_side_total_vol=45107, ask_side_total_vol=43828, avg_price=Decimal('17550.487279'), close=Decimal('17506'), high=Decimal('17614'), low=Decimal('17500'), amount=Decimal('35012'), total_amount=Decimal('1075406108'), volume=2, total_volume=61275, tick_type=2, chg_type=4, price_chg=Decimal('-96'), pct_chg=Decimal('-0.545393'), simtrade=0)\n",
      "Exchange.TAIFEX Tick(code='MXFL1', datetime=datetime.datetime(2021, 12, 15, 1, 6, 2, 228000), open=Decimal('17590'), underlying_price=Decimal('17599.37'), bid_side_total_vol=45108, ask_side_total_vol=43828, avg_price=Decimal('17550.486553'), close=Decimal('17506'), high=Decimal('17614'), low=Decimal('17500'), amount=Decimal('17506'), total_amount=Decimal('1075423614'), volume=1, total_volume=61276, tick_type=2, chg_type=4, price_chg=Decimal('-96'), pct_chg=Decimal('-0.545393'), simtrade=0)\n",
      "Exchange.TAIFEX Tick(code='MXFL1', datetime=datetime.datetime(2021, 12, 15, 1, 6, 2, 697000), open=Decimal('17590'), underlying_price=Decimal('17599.37'), bid_side_total_vol=45114, ask_side_total_vol=43828, avg_price=Decimal('17550.483086'), close=Decimal('17508'), high=Decimal('17614'), low=Decimal('17500'), amount=Decimal('87540'), total_amount=Decimal('1075511154'), volume=5, total_volume=61281, tick_type=1, chg_type=4, price_chg=Decimal('-94'), pct_chg=Decimal('-0.53403'), simtrade=0)\n",
      "Exchange.TAIFEX Tick(code='MXFL1', datetime=datetime.datetime(2021, 12, 15, 1, 6, 2, 705000), open=Decimal('17590'), underlying_price=Decimal('17599.37'), bid_side_total_vol=45111, ask_side_total_vol=43833, avg_price=Decimal('17550.482409'), close=Decimal('17509'), high=Decimal('17614'), low=Decimal('17500'), amount=Decimal('17509'), total_amount=Decimal('1075528663'), volume=1, total_volume=61282, tick_type=1, chg_type=4, price_chg=Decimal('-93'), pct_chg=Decimal('-0.528349'), simtrade=0)\n",
      "Exchange.TAIFEX Tick(code='MXFL1', datetime=datetime.datetime(2021, 12, 15, 1, 6, 2, 792000), open=Decimal('17590'), underlying_price=Decimal('17599.37'), bid_side_total_vol=45111, ask_side_total_vol=43835, avg_price=Decimal('17550.481716'), close=Decimal('17508'), high=Decimal('17614'), low=Decimal('17500'), amount=Decimal('17508'), total_amount=Decimal('1075546171'), volume=1, total_volume=61283, tick_type=2, chg_type=4, price_chg=Decimal('-94'), pct_chg=Decimal('-0.53403'), simtrade=0)\n",
      "Exchange.TAIFEX Tick(code='MXFL1', datetime=datetime.datetime(2021, 12, 15, 1, 6, 2, 792000), open=Decimal('17590'), underlying_price=Decimal('17599.37'), bid_side_total_vol=45112, ask_side_total_vol=43836, avg_price=Decimal('17550.481023'), close=Decimal('17508'), high=Decimal('17614'), low=Decimal('17500'), amount=Decimal('17508'), total_amount=Decimal('1075563679'), volume=1, total_volume=61284, tick_type=2, chg_type=4, price_chg=Decimal('-94'), pct_chg=Decimal('-0.53403'), simtrade=0)\n",
      "Exchange.TAIFEX Tick(code='MXFL1', datetime=datetime.datetime(2021, 12, 15, 1, 6, 2, 792000), open=Decimal('17590'), underlying_price=Decimal('17599.37'), bid_side_total_vol=45113, ask_side_total_vol=43837, avg_price=Decimal('17550.48033'), close=Decimal('17508'), high=Decimal('17614'), low=Decimal('17500'), amount=Decimal('17508'), total_amount=Decimal('1075581187'), volume=1, total_volume=61285, tick_type=2, chg_type=4, price_chg=Decimal('-94'), pct_chg=Decimal('-0.53403'), simtrade=0)\n",
      "Exchange.TAIFEX Tick(code='MXFL1', datetime=datetime.datetime(2021, 12, 15, 1, 6, 2, 793000), open=Decimal('17590'), underlying_price=Decimal('17599.37'), bid_side_total_vol=45114, ask_side_total_vol=43838, avg_price=Decimal('17550.479636'), close=Decimal('17508'), high=Decimal('17614'), low=Decimal('17500'), amount=Decimal('17508'), total_amount=Decimal('1075598695'), volume=1, total_volume=61286, tick_type=2, chg_type=4, price_chg=Decimal('-94'), pct_chg=Decimal('-0.53403'), simtrade=0)\n",
      "Exchange.TAIFEX Tick(code='MXFL1', datetime=datetime.datetime(2021, 12, 15, 1, 6, 2, 793000), open=Decimal('17590'), underlying_price=Decimal('17599.37'), bid_side_total_vol=45115, ask_side_total_vol=43839, avg_price=Decimal('17550.478943'), close=Decimal('17508'), high=Decimal('17614'), low=Decimal('17500'), amount=Decimal('17508'), total_amount=Decimal('1075616203'), volume=1, total_volume=61287, tick_type=2, chg_type=4, price_chg=Decimal('-94'), pct_chg=Decimal('-0.53403'), simtrade=0)\n",
      "Exchange.TAIFEX Tick(code='MXFL1', datetime=datetime.datetime(2021, 12, 15, 1, 6, 3, 101000), open=Decimal('17590'), underlying_price=Decimal('17599.37'), bid_side_total_vol=45117, ask_side_total_vol=43839, avg_price=Decimal('17550.478267'), close=Decimal('17509'), high=Decimal('17614'), low=Decimal('17500'), amount=Decimal('17509'), total_amount=Decimal('1075633712'), volume=1, total_volume=61288, tick_type=1, chg_type=4, price_chg=Decimal('-93'), pct_chg=Decimal('-0.528349'), simtrade=0)\n",
      "Exchange.TAIFEX Tick(code='MXFL1', datetime=datetime.datetime(2021, 12, 15, 1, 6, 3, 294000), open=Decimal('17590'), underlying_price=Decimal('17599.37'), bid_side_total_vol=45117, ask_side_total_vol=43841, avg_price=Decimal('17550.477557'), close=Decimal('17507'), high=Decimal('17614'), low=Decimal('17500'), amount=Decimal('17507'), total_amount=Decimal('1075651219'), volume=1, total_volume=61289, tick_type=2, chg_type=4, price_chg=Decimal('-95'), pct_chg=Decimal('-0.539711'), simtrade=0)\n",
      "Exchange.TAIFEX Tick(code='MXFL1', datetime=datetime.datetime(2021, 12, 15, 1, 6, 4, 527000), open=Decimal('17590'), underlying_price=Decimal('17599.37'), bid_side_total_vol=45119, ask_side_total_vol=43841, avg_price=Decimal('17550.476864'), close=Decimal('17508'), high=Decimal('17614'), low=Decimal('17500'), amount=Decimal('17508'), total_amount=Decimal('1075668727'), volume=1, total_volume=61290, tick_type=1, chg_type=4, price_chg=Decimal('-94'), pct_chg=Decimal('-0.53403'), simtrade=0)\n",
      "Exchange.TAIFEX Tick(code='MXFL1', datetime=datetime.datetime(2021, 12, 15, 1, 6, 4, 702000), open=Decimal('17590'), underlying_price=Decimal('17599.37'), bid_side_total_vol=45119, ask_side_total_vol=43843, avg_price=Decimal('17550.476138'), close=Decimal('17506'), high=Decimal('17614'), low=Decimal('17500'), amount=Decimal('17506'), total_amount=Decimal('1075686233'), volume=1, total_volume=61291, tick_type=2, chg_type=4, price_chg=Decimal('-96'), pct_chg=Decimal('-0.545393'), simtrade=0)\n",
      "Exchange.TAIFEX Tick(code='MXFL1', datetime=datetime.datetime(2021, 12, 15, 1, 6, 4, 780000), open=Decimal('17590'), underlying_price=Decimal('17599.37'), bid_side_total_vol=45120, ask_side_total_vol=43844, avg_price=Decimal('17550.475413'), close=Decimal('17506'), high=Decimal('17614'), low=Decimal('17500'), amount=Decimal('17506'), total_amount=Decimal('1075703739'), volume=1, total_volume=61292, tick_type=2, chg_type=4, price_chg=Decimal('-96'), pct_chg=Decimal('-0.545393'), simtrade=0)\n",
      "Exchange.TAIFEX Tick(code='MXFL1', datetime=datetime.datetime(2021, 12, 15, 1, 6, 6, 46000), open=Decimal('17590'), underlying_price=Decimal('17599.37'), bid_side_total_vol=45122, ask_side_total_vol=43844, avg_price=Decimal('17550.47472'), close=Decimal('17508'), high=Decimal('17614'), low=Decimal('17500'), amount=Decimal('17508'), total_amount=Decimal('1075721247'), volume=1, total_volume=61293, tick_type=1, chg_type=4, price_chg=Decimal('-94'), pct_chg=Decimal('-0.53403'), simtrade=0)\n"
     ]
    },
    {
     "name": "stdout",
     "output_type": "stream",
     "text": [
      "Exchange.TAIFEX Tick(code='MXFL1', datetime=datetime.datetime(2021, 12, 15, 1, 6, 7, 668000), open=Decimal('17590'), underlying_price=Decimal('17599.37'), bid_side_total_vol=45122, ask_side_total_vol=43846, avg_price=Decimal('17550.473994'), close=Decimal('17506'), high=Decimal('17614'), low=Decimal('17500'), amount=Decimal('17506'), total_amount=Decimal('1075738753'), volume=1, total_volume=61294, tick_type=2, chg_type=4, price_chg=Decimal('-96'), pct_chg=Decimal('-0.545393'), simtrade=0)\n",
      "Exchange.TAIFEX Tick(code='MXFL1', datetime=datetime.datetime(2021, 12, 15, 1, 6, 7, 668000), open=Decimal('17590'), underlying_price=Decimal('17599.37'), bid_side_total_vol=45123, ask_side_total_vol=43847, avg_price=Decimal('17550.473269'), close=Decimal('17506'), high=Decimal('17614'), low=Decimal('17500'), amount=Decimal('17506'), total_amount=Decimal('1075756259'), volume=1, total_volume=61295, tick_type=2, chg_type=4, price_chg=Decimal('-96'), pct_chg=Decimal('-0.545393'), simtrade=0)\n",
      "Exchange.TAIFEX Tick(code='MXFL1', datetime=datetime.datetime(2021, 12, 15, 1, 6, 7, 668000), open=Decimal('17590'), underlying_price=Decimal('17599.37'), bid_side_total_vol=45124, ask_side_total_vol=43848, avg_price=Decimal('17550.472527'), close=Decimal('17505'), high=Decimal('17614'), low=Decimal('17500'), amount=Decimal('17505'), total_amount=Decimal('1075773764'), volume=1, total_volume=61296, tick_type=2, chg_type=4, price_chg=Decimal('-97'), pct_chg=Decimal('-0.551074'), simtrade=0)\n",
      "Exchange.TAIFEX Tick(code='MXFL1', datetime=datetime.datetime(2021, 12, 15, 1, 6, 7, 982000), open=Decimal('17590'), underlying_price=Decimal('17599.37'), bid_side_total_vol=45126, ask_side_total_vol=43848, avg_price=Decimal('17550.471801'), close=Decimal('17506'), high=Decimal('17614'), low=Decimal('17500'), amount=Decimal('17506'), total_amount=Decimal('1075791270'), volume=1, total_volume=61297, tick_type=1, chg_type=4, price_chg=Decimal('-96'), pct_chg=Decimal('-0.545393'), simtrade=0)\n",
      "Exchange.TAIFEX Tick(code='MXFL1', datetime=datetime.datetime(2021, 12, 15, 1, 6, 12, 598000), open=Decimal('17590'), underlying_price=Decimal('17599.37'), bid_side_total_vol=45127, ask_side_total_vol=43849, avg_price=Decimal('17550.471108'), close=Decimal('17508'), high=Decimal('17614'), low=Decimal('17500'), amount=Decimal('17508'), total_amount=Decimal('1075808778'), volume=1, total_volume=61298, tick_type=1, chg_type=4, price_chg=Decimal('-94'), pct_chg=Decimal('-0.53403'), simtrade=0)\n",
      "Exchange.TAIFEX Tick(code='MXFL1', datetime=datetime.datetime(2021, 12, 15, 1, 6, 14, 134000), open=Decimal('17590'), underlying_price=Decimal('17599.37'), bid_side_total_vol=45128, ask_side_total_vol=43850, avg_price=Decimal('17550.470432'), close=Decimal('17509'), high=Decimal('17614'), low=Decimal('17500'), amount=Decimal('17509'), total_amount=Decimal('1075826287'), volume=1, total_volume=61299, tick_type=1, chg_type=4, price_chg=Decimal('-93'), pct_chg=Decimal('-0.528349'), simtrade=0)\n",
      "Exchange.TAIFEX Tick(code='MXFL1', datetime=datetime.datetime(2021, 12, 15, 1, 6, 16, 615000), open=Decimal('17590'), underlying_price=Decimal('17599.37'), bid_side_total_vol=45128, ask_side_total_vol=43852, avg_price=Decimal('17550.469755'), close=Decimal('17509'), high=Decimal('17614'), low=Decimal('17500'), amount=Decimal('17509'), total_amount=Decimal('1075843796'), volume=1, total_volume=61300, tick_type=2, chg_type=4, price_chg=Decimal('-93'), pct_chg=Decimal('-0.528349'), simtrade=0)\n",
      "Exchange.TAIFEX Tick(code='MXFL1', datetime=datetime.datetime(2021, 12, 15, 1, 6, 17, 472000), open=Decimal('17590'), underlying_price=Decimal('17599.37'), bid_side_total_vol=45132, ask_side_total_vol=43852, avg_price=Decimal('17550.467775'), close=Decimal('17510'), high=Decimal('17614'), low=Decimal('17500'), amount=Decimal('52530'), total_amount=Decimal('1075896326'), volume=3, total_volume=61303, tick_type=1, chg_type=4, price_chg=Decimal('-92'), pct_chg=Decimal('-0.522668'), simtrade=0)\n",
      "Exchange.TAIFEX Tick(code='MXFL1', datetime=datetime.datetime(2021, 12, 15, 1, 6, 18, 348000), open=Decimal('17590'), underlying_price=Decimal('17599.37'), bid_side_total_vol=45138, ask_side_total_vol=43853, avg_price=Decimal('17550.462494'), close=Decimal('17510'), high=Decimal('17614'), low=Decimal('17500'), amount=Decimal('140080'), total_amount=Decimal('1076036406'), volume=8, total_volume=61311, tick_type=1, chg_type=4, price_chg=Decimal('-92'), pct_chg=Decimal('-0.522668'), simtrade=0)\n",
      "Exchange.TAIFEX Tick(code='MXFL1', datetime=datetime.datetime(2021, 12, 15, 1, 6, 18, 348000), open=Decimal('17590'), underlying_price=Decimal('17599.37'), bid_side_total_vol=45133, ask_side_total_vol=43857, avg_price=Decimal('17550.461175'), close=Decimal('17510'), high=Decimal('17614'), low=Decimal('17500'), amount=Decimal('35020'), total_amount=Decimal('1076071426'), volume=2, total_volume=61313, tick_type=1, chg_type=4, price_chg=Decimal('-92'), pct_chg=Decimal('-0.522668'), simtrade=0)\n",
      "Exchange.TAIFEX Tick(code='MXFL1', datetime=datetime.datetime(2021, 12, 15, 1, 6, 18, 348000), open=Decimal('17590'), underlying_price=Decimal('17599.37'), bid_side_total_vol=45137, ask_side_total_vol=43859, avg_price=Decimal('17550.457875'), close=Decimal('17510'), high=Decimal('17614'), low=Decimal('17500'), amount=Decimal('87550'), total_amount=Decimal('1076158976'), volume=5, total_volume=61318, tick_type=1, chg_type=4, price_chg=Decimal('-92'), pct_chg=Decimal('-0.522668'), simtrade=0)\n",
      "Exchange.TAIFEX Tick(code='MXFL1', datetime=datetime.datetime(2021, 12, 15, 1, 6, 18, 348000), open=Decimal('17590'), underlying_price=Decimal('17599.37'), bid_side_total_vol=45148, ask_side_total_vol=43863, avg_price=Decimal('17550.448225'), close=Decimal('17511'), high=Decimal('17614'), low=Decimal('17500'), amount=Decimal('262665'), total_amount=Decimal('1076421641'), volume=15, total_volume=61333, tick_type=1, chg_type=4, price_chg=Decimal('-91'), pct_chg=Decimal('-0.516987'), simtrade=0)\n",
      "Exchange.TAIFEX Tick(code='MXFL1', datetime=datetime.datetime(2021, 12, 15, 1, 6, 18, 414000), open=Decimal('17590'), underlying_price=Decimal('17599.37'), bid_side_total_vol=45135, ask_side_total_vol=43873, avg_price=Decimal('17550.447566'), close=Decimal('17510'), high=Decimal('17614'), low=Decimal('17500'), amount=Decimal('17510'), total_amount=Decimal('1076439151'), volume=1, total_volume=61334, tick_type=1, chg_type=4, price_chg=Decimal('-92'), pct_chg=Decimal('-0.522668'), simtrade=0)\n",
      "Exchange.TAIFEX Tick(code='MXFL1', datetime=datetime.datetime(2021, 12, 15, 1, 6, 18, 416000), open=Decimal('17590'), underlying_price=Decimal('17599.37'), bid_side_total_vol=45135, ask_side_total_vol=43875, avg_price=Decimal('17550.446906'), close=Decimal('17510'), high=Decimal('17614'), low=Decimal('17500'), amount=Decimal('17510'), total_amount=Decimal('1076456661'), volume=1, total_volume=61335, tick_type=2, chg_type=4, price_chg=Decimal('-92'), pct_chg=Decimal('-0.522668'), simtrade=0)\n",
      "Exchange.TAIFEX Tick(code='MXFL1', datetime=datetime.datetime(2021, 12, 15, 1, 6, 18, 417000), open=Decimal('17590'), underlying_price=Decimal('17599.37'), bid_side_total_vol=45136, ask_side_total_vol=43876, avg_price=Decimal('17550.446247'), close=Decimal('17510'), high=Decimal('17614'), low=Decimal('17500'), amount=Decimal('17510'), total_amount=Decimal('1076474171'), volume=1, total_volume=61336, tick_type=2, chg_type=4, price_chg=Decimal('-92'), pct_chg=Decimal('-0.522668'), simtrade=0)\n",
      "Exchange.TAIFEX Tick(code='MXFL1', datetime=datetime.datetime(2021, 12, 15, 1, 6, 18, 417000), open=Decimal('17590'), underlying_price=Decimal('17599.37'), bid_side_total_vol=45137, ask_side_total_vol=43877, avg_price=Decimal('17550.445587'), close=Decimal('17510'), high=Decimal('17614'), low=Decimal('17500'), amount=Decimal('17510'), total_amount=Decimal('1076491681'), volume=1, total_volume=61337, tick_type=2, chg_type=4, price_chg=Decimal('-92'), pct_chg=Decimal('-0.522668'), simtrade=0)\n",
      "Exchange.TAIFEX Tick(code='MXFL1', datetime=datetime.datetime(2021, 12, 15, 1, 6, 18, 417000), open=Decimal('17590'), underlying_price=Decimal('17599.37'), bid_side_total_vol=45138, ask_side_total_vol=43878, avg_price=Decimal('17550.444912'), close=Decimal('17509'), high=Decimal('17614'), low=Decimal('17500'), amount=Decimal('17509'), total_amount=Decimal('1076509190'), volume=1, total_volume=61338, tick_type=2, chg_type=4, price_chg=Decimal('-93'), pct_chg=Decimal('-0.528349'), simtrade=0)\n",
      "Exchange.TAIFEX Tick(code='MXFL1', datetime=datetime.datetime(2021, 12, 15, 1, 6, 18, 418000), open=Decimal('17590'), underlying_price=Decimal('17599.37'), bid_side_total_vol=45139, ask_side_total_vol=43879, avg_price=Decimal('17550.444236'), close=Decimal('17509'), high=Decimal('17614'), low=Decimal('17500'), amount=Decimal('17509'), total_amount=Decimal('1076526699'), volume=1, total_volume=61339, tick_type=2, chg_type=4, price_chg=Decimal('-93'), pct_chg=Decimal('-0.528349'), simtrade=0)\n",
      "Exchange.TAIFEX Tick(code='MXFL1', datetime=datetime.datetime(2021, 12, 15, 1, 6, 18, 418000), open=Decimal('17590'), underlying_price=Decimal('17599.37'), bid_side_total_vol=45140, ask_side_total_vol=43880, avg_price=Decimal('17550.44356'), close=Decimal('17509'), high=Decimal('17614'), low=Decimal('17500'), amount=Decimal('17509'), total_amount=Decimal('1076544208'), volume=1, total_volume=61340, tick_type=2, chg_type=4, price_chg=Decimal('-93'), pct_chg=Decimal('-0.528349'), simtrade=0)\n",
      "Exchange.TAIFEX Tick(code='MXFL1', datetime=datetime.datetime(2021, 12, 15, 1, 6, 18, 418000), open=Decimal('17590'), underlying_price=Decimal('17599.37'), bid_side_total_vol=45141, ask_side_total_vol=43881, avg_price=Decimal('17550.442885'), close=Decimal('17509'), high=Decimal('17614'), low=Decimal('17500'), amount=Decimal('17509'), total_amount=Decimal('1076561717'), volume=1, total_volume=61341, tick_type=2, chg_type=4, price_chg=Decimal('-93'), pct_chg=Decimal('-0.528349'), simtrade=0)\n",
      "Exchange.TAIFEX Tick(code='MXFL1', datetime=datetime.datetime(2021, 12, 15, 1, 6, 18, 418000), open=Decimal('17590'), underlying_price=Decimal('17599.37'), bid_side_total_vol=45142, ask_side_total_vol=43882, avg_price=Decimal('17550.442209'), close=Decimal('17509'), high=Decimal('17614'), low=Decimal('17500'), amount=Decimal('17509'), total_amount=Decimal('1076579226'), volume=1, total_volume=61342, tick_type=2, chg_type=4, price_chg=Decimal('-93'), pct_chg=Decimal('-0.528349'), simtrade=0)\n",
      "Exchange.TAIFEX Tick(code='MXFL1', datetime=datetime.datetime(2021, 12, 15, 1, 6, 18, 418000), open=Decimal('17590'), underlying_price=Decimal('17599.37'), bid_side_total_vol=45143, ask_side_total_vol=43883, avg_price=Decimal('17550.441534'), close=Decimal('17509'), high=Decimal('17614'), low=Decimal('17500'), amount=Decimal('17509'), total_amount=Decimal('1076596735'), volume=1, total_volume=61343, tick_type=2, chg_type=4, price_chg=Decimal('-93'), pct_chg=Decimal('-0.528349'), simtrade=0)\n"
     ]
    },
    {
     "name": "stdout",
     "output_type": "stream",
     "text": [
      "Exchange.TAIFEX Tick(code='MXFL1', datetime=datetime.datetime(2021, 12, 15, 1, 6, 18, 901000), open=Decimal('17590'), underlying_price=Decimal('17599.37'), bid_side_total_vol=45144, ask_side_total_vol=43884, avg_price=Decimal('17550.440858'), close=Decimal('17509'), high=Decimal('17614'), low=Decimal('17500'), amount=Decimal('17509'), total_amount=Decimal('1076614244'), volume=1, total_volume=61344, tick_type=2, chg_type=4, price_chg=Decimal('-93'), pct_chg=Decimal('-0.528349'), simtrade=0)\n",
      "Exchange.TAIFEX Tick(code='MXFL1', datetime=datetime.datetime(2021, 12, 15, 1, 6, 23, 296000), open=Decimal('17590'), underlying_price=Decimal('17599.37'), bid_side_total_vol=45145, ask_side_total_vol=43885, avg_price=Decimal('17550.440183'), close=Decimal('17509'), high=Decimal('17614'), low=Decimal('17500'), amount=Decimal('17509'), total_amount=Decimal('1076631753'), volume=1, total_volume=61345, tick_type=2, chg_type=4, price_chg=Decimal('-93'), pct_chg=Decimal('-0.528349'), simtrade=0)\n",
      "Exchange.TAIFEX Tick(code='MXFL1', datetime=datetime.datetime(2021, 12, 15, 1, 6, 28, 494000), open=Decimal('17590'), underlying_price=Decimal('17599.37'), bid_side_total_vol=45146, ask_side_total_vol=43886, avg_price=Decimal('17550.439507'), close=Decimal('17509'), high=Decimal('17614'), low=Decimal('17500'), amount=Decimal('17509'), total_amount=Decimal('1076649262'), volume=1, total_volume=61346, tick_type=2, chg_type=4, price_chg=Decimal('-93'), pct_chg=Decimal('-0.528349'), simtrade=0)\n",
      "Exchange.TAIFEX Tick(code='MXFL1', datetime=datetime.datetime(2021, 12, 15, 1, 6, 30, 167000), open=Decimal('17590'), underlying_price=Decimal('17599.37'), bid_side_total_vol=45147, ask_side_total_vol=43887, avg_price=Decimal('17550.438815'), close=Decimal('17508'), high=Decimal('17614'), low=Decimal('17500'), amount=Decimal('17508'), total_amount=Decimal('1076666770'), volume=1, total_volume=61347, tick_type=2, chg_type=4, price_chg=Decimal('-94'), pct_chg=Decimal('-0.53403'), simtrade=0)\n",
      "Exchange.TAIFEX Tick(code='MXFL1', datetime=datetime.datetime(2021, 12, 15, 1, 6, 30, 167000), open=Decimal('17590'), underlying_price=Decimal('17599.37'), bid_side_total_vol=45148, ask_side_total_vol=43888, avg_price=Decimal('17550.438123'), close=Decimal('17508'), high=Decimal('17614'), low=Decimal('17500'), amount=Decimal('17508'), total_amount=Decimal('1076684278'), volume=1, total_volume=61348, tick_type=2, chg_type=4, price_chg=Decimal('-94'), pct_chg=Decimal('-0.53403'), simtrade=0)\n",
      "Exchange.TAIFEX Tick(code='MXFL1', datetime=datetime.datetime(2021, 12, 15, 1, 6, 30, 168000), open=Decimal('17590'), underlying_price=Decimal('17599.37'), bid_side_total_vol=45149, ask_side_total_vol=43889, avg_price=Decimal('17550.437432'), close=Decimal('17508'), high=Decimal('17614'), low=Decimal('17500'), amount=Decimal('17508'), total_amount=Decimal('1076701786'), volume=1, total_volume=61349, tick_type=2, chg_type=4, price_chg=Decimal('-94'), pct_chg=Decimal('-0.53403'), simtrade=0)\n",
      "Exchange.TAIFEX Tick(code='MXFL1', datetime=datetime.datetime(2021, 12, 15, 1, 6, 30, 872000), open=Decimal('17590'), underlying_price=Decimal('17599.37'), bid_side_total_vol=45151, ask_side_total_vol=43889, avg_price=Decimal('17550.436756'), close=Decimal('17509'), high=Decimal('17614'), low=Decimal('17500'), amount=Decimal('17509'), total_amount=Decimal('1076719295'), volume=1, total_volume=61350, tick_type=1, chg_type=4, price_chg=Decimal('-93'), pct_chg=Decimal('-0.528349'), simtrade=0)\n",
      "Exchange.TAIFEX Tick(code='MXFL1', datetime=datetime.datetime(2021, 12, 15, 1, 6, 37, 769000), open=Decimal('17590'), underlying_price=Decimal('17599.37'), bid_side_total_vol=45151, ask_side_total_vol=43891, avg_price=Decimal('17550.436081'), close=Decimal('17509'), high=Decimal('17614'), low=Decimal('17500'), amount=Decimal('17509'), total_amount=Decimal('1076736804'), volume=1, total_volume=61351, tick_type=2, chg_type=4, price_chg=Decimal('-93'), pct_chg=Decimal('-0.528349'), simtrade=0)\n",
      "Exchange.TAIFEX Tick(code='MXFL1', datetime=datetime.datetime(2021, 12, 15, 1, 6, 42, 161000), open=Decimal('17590'), underlying_price=Decimal('17599.37'), bid_side_total_vol=45152, ask_side_total_vol=43892, avg_price=Decimal('17550.435406'), close=Decimal('17509'), high=Decimal('17614'), low=Decimal('17500'), amount=Decimal('17509'), total_amount=Decimal('1076754313'), volume=1, total_volume=61352, tick_type=2, chg_type=4, price_chg=Decimal('-93'), pct_chg=Decimal('-0.528349'), simtrade=0)\n",
      "Exchange.TAIFEX Tick(code='MXFL1', datetime=datetime.datetime(2021, 12, 15, 1, 6, 42, 206000), open=Decimal('17590'), underlying_price=Decimal('17599.37'), bid_side_total_vol=45153, ask_side_total_vol=43893, avg_price=Decimal('17550.43473'), close=Decimal('17509'), high=Decimal('17614'), low=Decimal('17500'), amount=Decimal('17509'), total_amount=Decimal('1076771822'), volume=1, total_volume=61353, tick_type=2, chg_type=4, price_chg=Decimal('-93'), pct_chg=Decimal('-0.528349'), simtrade=0)\n",
      "Exchange.TAIFEX Tick(code='MXFL1', datetime=datetime.datetime(2021, 12, 15, 1, 6, 43, 174000), open=Decimal('17590'), underlying_price=Decimal('17599.37'), bid_side_total_vol=45154, ask_side_total_vol=43894, avg_price=Decimal('17550.434055'), close=Decimal('17509'), high=Decimal('17614'), low=Decimal('17500'), amount=Decimal('17509'), total_amount=Decimal('1076789331'), volume=1, total_volume=61354, tick_type=2, chg_type=4, price_chg=Decimal('-93'), pct_chg=Decimal('-0.528349'), simtrade=0)\n",
      "Exchange.TAIFEX Tick(code='MXFL1', datetime=datetime.datetime(2021, 12, 15, 1, 6, 43, 174000), open=Decimal('17590'), underlying_price=Decimal('17599.37'), bid_side_total_vol=45155, ask_side_total_vol=43895, avg_price=Decimal('17550.43338'), close=Decimal('17509'), high=Decimal('17614'), low=Decimal('17500'), amount=Decimal('17509'), total_amount=Decimal('1076806840'), volume=1, total_volume=61355, tick_type=2, chg_type=4, price_chg=Decimal('-93'), pct_chg=Decimal('-0.528349'), simtrade=0)\n",
      "Exchange.TAIFEX Tick(code='MXFL1', datetime=datetime.datetime(2021, 12, 15, 1, 6, 43, 175000), open=Decimal('17590'), underlying_price=Decimal('17599.37'), bid_side_total_vol=45156, ask_side_total_vol=43896, avg_price=Decimal('17550.432704'), close=Decimal('17509'), high=Decimal('17614'), low=Decimal('17500'), amount=Decimal('17509'), total_amount=Decimal('1076824349'), volume=1, total_volume=61356, tick_type=2, chg_type=4, price_chg=Decimal('-93'), pct_chg=Decimal('-0.528349'), simtrade=0)\n",
      "Exchange.TAIFEX Tick(code='MXFL1', datetime=datetime.datetime(2021, 12, 15, 1, 6, 43, 175000), open=Decimal('17590'), underlying_price=Decimal('17599.37'), bid_side_total_vol=45157, ask_side_total_vol=43897, avg_price=Decimal('17550.432029'), close=Decimal('17509'), high=Decimal('17614'), low=Decimal('17500'), amount=Decimal('17509'), total_amount=Decimal('1076841858'), volume=1, total_volume=61357, tick_type=2, chg_type=4, price_chg=Decimal('-93'), pct_chg=Decimal('-0.528349'), simtrade=0)\n",
      "Exchange.TAIFEX Tick(code='MXFL1', datetime=datetime.datetime(2021, 12, 15, 1, 6, 43, 545000), open=Decimal('17590'), underlying_price=Decimal('17599.37'), bid_side_total_vol=45159, ask_side_total_vol=43897, avg_price=Decimal('17550.431354'), close=Decimal('17509'), high=Decimal('17614'), low=Decimal('17500'), amount=Decimal('17509'), total_amount=Decimal('1076859367'), volume=1, total_volume=61358, tick_type=1, chg_type=4, price_chg=Decimal('-93'), pct_chg=Decimal('-0.528349'), simtrade=0)\n",
      "Exchange.TAIFEX Tick(code='MXFL1', datetime=datetime.datetime(2021, 12, 15, 1, 6, 44, 72000), open=Decimal('17590'), underlying_price=Decimal('17599.37'), bid_side_total_vol=45160, ask_side_total_vol=43898, avg_price=Decimal('17550.430678'), close=Decimal('17509'), high=Decimal('17614'), low=Decimal('17500'), amount=Decimal('17509'), total_amount=Decimal('1076876876'), volume=1, total_volume=61359, tick_type=1, chg_type=4, price_chg=Decimal('-93'), pct_chg=Decimal('-0.528349'), simtrade=0)\n",
      "Exchange.TAIFEX Tick(code='MXFL1', datetime=datetime.datetime(2021, 12, 15, 1, 6, 44, 652000), open=Decimal('17590'), underlying_price=Decimal('17599.37'), bid_side_total_vol=45160, ask_side_total_vol=43901, avg_price=Decimal('17550.429295'), close=Decimal('17508'), high=Decimal('17614'), low=Decimal('17500'), amount=Decimal('35016'), total_amount=Decimal('1076911892'), volume=2, total_volume=61361, tick_type=2, chg_type=4, price_chg=Decimal('-94'), pct_chg=Decimal('-0.53403'), simtrade=0)\n"
     ]
    },
    {
     "name": "stdout",
     "output_type": "stream",
     "text": [
      "Exchange.TAIFEX Tick(code='MXFL1', datetime=datetime.datetime(2021, 12, 15, 1, 6, 45, 278000), open=Decimal('17590'), underlying_price=Decimal('17599.37'), bid_side_total_vol=45162, ask_side_total_vol=43901, avg_price=Decimal('17550.42862'), close=Decimal('17509'), high=Decimal('17614'), low=Decimal('17500'), amount=Decimal('17509'), total_amount=Decimal('1076929401'), volume=1, total_volume=61362, tick_type=2, chg_type=4, price_chg=Decimal('-93'), pct_chg=Decimal('-0.528349'), simtrade=0)\n",
      "Exchange.TAIFEX Tick(code='MXFL1', datetime=datetime.datetime(2021, 12, 15, 1, 6, 47, 845000), open=Decimal('17590'), underlying_price=Decimal('17599.37'), bid_side_total_vol=45163, ask_side_total_vol=43902, avg_price=Decimal('17550.427945'), close=Decimal('17509'), high=Decimal('17614'), low=Decimal('17500'), amount=Decimal('17509'), total_amount=Decimal('1076946910'), volume=1, total_volume=61363, tick_type=2, chg_type=4, price_chg=Decimal('-93'), pct_chg=Decimal('-0.528349'), simtrade=0)\n",
      "Exchange.TAIFEX Tick(code='MXFL1', datetime=datetime.datetime(2021, 12, 15, 1, 6, 47, 845000), open=Decimal('17590'), underlying_price=Decimal('17599.37'), bid_side_total_vol=45163, ask_side_total_vol=43903, avg_price=Decimal('17550.427254'), close=Decimal('17508'), high=Decimal('17614'), low=Decimal('17500'), amount=Decimal('17508'), total_amount=Decimal('1076964418'), volume=1, total_volume=61364, tick_type=2, chg_type=4, price_chg=Decimal('-94'), pct_chg=Decimal('-0.53403'), simtrade=0)\n",
      "Exchange.TAIFEX Tick(code='MXFL1', datetime=datetime.datetime(2021, 12, 15, 1, 6, 48, 165000), open=Decimal('17590'), underlying_price=Decimal('17599.37'), bid_side_total_vol=45169, ask_side_total_vol=43902, avg_price=Decimal('17550.424619'), close=Decimal('17510'), high=Decimal('17614'), low=Decimal('17500'), amount=Decimal('70040'), total_amount=Decimal('1077034458'), volume=4, total_volume=61368, tick_type=1, chg_type=4, price_chg=Decimal('-92'), pct_chg=Decimal('-0.522668'), simtrade=0)\n",
      "Exchange.TAIFEX Tick(code='MXFL1', datetime=datetime.datetime(2021, 12, 15, 1, 6, 48, 167000), open=Decimal('17590'), underlying_price=Decimal('17599.37'), bid_side_total_vol=45166, ask_side_total_vol=43907, avg_price=Decimal('17550.423944'), close=Decimal('17509'), high=Decimal('17614'), low=Decimal('17500'), amount=Decimal('17509'), total_amount=Decimal('1077051967'), volume=1, total_volume=61369, tick_type=2, chg_type=4, price_chg=Decimal('-93'), pct_chg=Decimal('-0.528349'), simtrade=0)\n",
      "Exchange.TAIFEX Tick(code='MXFL1', datetime=datetime.datetime(2021, 12, 15, 1, 6, 48, 167000), open=Decimal('17590'), underlying_price=Decimal('17599.37'), bid_side_total_vol=45167, ask_side_total_vol=43908, avg_price=Decimal('17550.423269'), close=Decimal('17509'), high=Decimal('17614'), low=Decimal('17500'), amount=Decimal('17509'), total_amount=Decimal('1077069476'), volume=1, total_volume=61370, tick_type=2, chg_type=4, price_chg=Decimal('-93'), pct_chg=Decimal('-0.528349'), simtrade=0)\n",
      "Exchange.TAIFEX Tick(code='MXFL1', datetime=datetime.datetime(2021, 12, 15, 1, 6, 48, 167000), open=Decimal('17590'), underlying_price=Decimal('17599.37'), bid_side_total_vol=45168, ask_side_total_vol=43909, avg_price=Decimal('17550.422594'), close=Decimal('17509'), high=Decimal('17614'), low=Decimal('17500'), amount=Decimal('17509'), total_amount=Decimal('1077086985'), volume=1, total_volume=61371, tick_type=2, chg_type=4, price_chg=Decimal('-93'), pct_chg=Decimal('-0.528349'), simtrade=0)\n",
      "Exchange.TAIFEX Tick(code='MXFL1', datetime=datetime.datetime(2021, 12, 15, 1, 6, 48, 167000), open=Decimal('17590'), underlying_price=Decimal('17599.37'), bid_side_total_vol=45169, ask_side_total_vol=43910, avg_price=Decimal('17550.421919'), close=Decimal('17509'), high=Decimal('17614'), low=Decimal('17500'), amount=Decimal('17509'), total_amount=Decimal('1077104494'), volume=1, total_volume=61372, tick_type=2, chg_type=4, price_chg=Decimal('-93'), pct_chg=Decimal('-0.528349'), simtrade=0)\n",
      "Exchange.TAIFEX Tick(code='MXFL1', datetime=datetime.datetime(2021, 12, 15, 1, 6, 48, 167000), open=Decimal('17590'), underlying_price=Decimal('17599.37'), bid_side_total_vol=45170, ask_side_total_vol=43911, avg_price=Decimal('17550.421244'), close=Decimal('17509'), high=Decimal('17614'), low=Decimal('17500'), amount=Decimal('17509'), total_amount=Decimal('1077122003'), volume=1, total_volume=61373, tick_type=2, chg_type=4, price_chg=Decimal('-93'), pct_chg=Decimal('-0.528349'), simtrade=0)\n",
      "Exchange.TAIFEX Tick(code='MXFL1', datetime=datetime.datetime(2021, 12, 15, 1, 6, 48, 168000), open=Decimal('17590'), underlying_price=Decimal('17599.37'), bid_side_total_vol=45171, ask_side_total_vol=43912, avg_price=Decimal('17550.420569'), close=Decimal('17509'), high=Decimal('17614'), low=Decimal('17500'), amount=Decimal('17509'), total_amount=Decimal('1077139512'), volume=1, total_volume=61374, tick_type=2, chg_type=4, price_chg=Decimal('-93'), pct_chg=Decimal('-0.528349'), simtrade=0)\n",
      "Exchange.TAIFEX Tick(code='MXFL1', datetime=datetime.datetime(2021, 12, 15, 1, 6, 48, 168000), open=Decimal('17590'), underlying_price=Decimal('17599.37'), bid_side_total_vol=45172, ask_side_total_vol=43913, avg_price=Decimal('17550.419894'), close=Decimal('17509'), high=Decimal('17614'), low=Decimal('17500'), amount=Decimal('17509'), total_amount=Decimal('1077157021'), volume=1, total_volume=61375, tick_type=2, chg_type=4, price_chg=Decimal('-93'), pct_chg=Decimal('-0.528349'), simtrade=0)\n",
      "Exchange.TAIFEX Tick(code='MXFL1', datetime=datetime.datetime(2021, 12, 15, 1, 6, 48, 168000), open=Decimal('17590'), underlying_price=Decimal('17599.37'), bid_side_total_vol=45173, ask_side_total_vol=43914, avg_price=Decimal('17550.419219'), close=Decimal('17509'), high=Decimal('17614'), low=Decimal('17500'), amount=Decimal('17509'), total_amount=Decimal('1077174530'), volume=1, total_volume=61376, tick_type=2, chg_type=4, price_chg=Decimal('-93'), pct_chg=Decimal('-0.528349'), simtrade=0)\n",
      "Exchange.TAIFEX Tick(code='MXFL1', datetime=datetime.datetime(2021, 12, 15, 1, 6, 48, 168000), open=Decimal('17590'), underlying_price=Decimal('17599.37'), bid_side_total_vol=45174, ask_side_total_vol=43915, avg_price=Decimal('17550.418544'), close=Decimal('17509'), high=Decimal('17614'), low=Decimal('17500'), amount=Decimal('17509'), total_amount=Decimal('1077192039'), volume=1, total_volume=61377, tick_type=2, chg_type=4, price_chg=Decimal('-93'), pct_chg=Decimal('-0.528349'), simtrade=0)\n",
      "Exchange.TAIFEX Tick(code='MXFL1', datetime=datetime.datetime(2021, 12, 15, 1, 6, 48, 168000), open=Decimal('17590'), underlying_price=Decimal('17599.37'), bid_side_total_vol=45175, ask_side_total_vol=43916, avg_price=Decimal('17550.41787'), close=Decimal('17509'), high=Decimal('17614'), low=Decimal('17500'), amount=Decimal('17509'), total_amount=Decimal('1077209548'), volume=1, total_volume=61378, tick_type=2, chg_type=4, price_chg=Decimal('-93'), pct_chg=Decimal('-0.528349'), simtrade=0)\n",
      "Exchange.TAIFEX Tick(code='MXFL1', datetime=datetime.datetime(2021, 12, 15, 1, 6, 48, 168000), open=Decimal('17590'), underlying_price=Decimal('17599.37'), bid_side_total_vol=45176, ask_side_total_vol=43917, avg_price=Decimal('17550.417179'), close=Decimal('17508'), high=Decimal('17614'), low=Decimal('17500'), amount=Decimal('17508'), total_amount=Decimal('1077227056'), volume=1, total_volume=61379, tick_type=2, chg_type=4, price_chg=Decimal('-94'), pct_chg=Decimal('-0.53403'), simtrade=0)\n",
      "Exchange.TAIFEX Tick(code='MXFL1', datetime=datetime.datetime(2021, 12, 15, 1, 6, 48, 168000), open=Decimal('17590'), underlying_price=Decimal('17599.37'), bid_side_total_vol=45177, ask_side_total_vol=43918, avg_price=Decimal('17550.416487'), close=Decimal('17508'), high=Decimal('17614'), low=Decimal('17500'), amount=Decimal('17508'), total_amount=Decimal('1077244564'), volume=1, total_volume=61380, tick_type=2, chg_type=4, price_chg=Decimal('-94'), pct_chg=Decimal('-0.53403'), simtrade=0)\n",
      "Exchange.TAIFEX Tick(code='MXFL1', datetime=datetime.datetime(2021, 12, 15, 1, 6, 48, 168000), open=Decimal('17590'), underlying_price=Decimal('17599.37'), bid_side_total_vol=45178, ask_side_total_vol=43919, avg_price=Decimal('17550.415796'), close=Decimal('17508'), high=Decimal('17614'), low=Decimal('17500'), amount=Decimal('17508'), total_amount=Decimal('1077262072'), volume=1, total_volume=61381, tick_type=2, chg_type=4, price_chg=Decimal('-94'), pct_chg=Decimal('-0.53403'), simtrade=0)\n",
      "Exchange.TAIFEX Tick(code='MXFL1', datetime=datetime.datetime(2021, 12, 15, 1, 6, 48, 340000), open=Decimal('17590'), underlying_price=Decimal('17599.37'), bid_side_total_vol=45180, ask_side_total_vol=43919, avg_price=Decimal('17550.415154'), close=Decimal('17511'), high=Decimal('17614'), low=Decimal('17500'), amount=Decimal('17511'), total_amount=Decimal('1077279583'), volume=1, total_volume=61382, tick_type=1, chg_type=4, price_chg=Decimal('-91'), pct_chg=Decimal('-0.516987'), simtrade=0)\n"
     ]
    },
    {
     "name": "stdout",
     "output_type": "stream",
     "text": [
      "Exchange.TAIFEX Tick(code='MXFL1', datetime=datetime.datetime(2021, 12, 15, 1, 6, 48, 615000), open=Decimal('17590'), underlying_price=Decimal('17599.37'), bid_side_total_vol=45181, ask_side_total_vol=43920, avg_price=Decimal('17550.414512'), close=Decimal('17511'), high=Decimal('17614'), low=Decimal('17500'), amount=Decimal('17511'), total_amount=Decimal('1077297094'), volume=1, total_volume=61383, tick_type=1, chg_type=4, price_chg=Decimal('-91'), pct_chg=Decimal('-0.516987'), simtrade=0)\n",
      "Exchange.TAIFEX Tick(code='MXFL1', datetime=datetime.datetime(2021, 12, 15, 1, 6, 48, 648000), open=Decimal('17590'), underlying_price=Decimal('17599.37'), bid_side_total_vol=45181, ask_side_total_vol=43922, avg_price=Decimal('17550.413854'), close=Decimal('17510'), high=Decimal('17614'), low=Decimal('17500'), amount=Decimal('17510'), total_amount=Decimal('1077314604'), volume=1, total_volume=61384, tick_type=2, chg_type=4, price_chg=Decimal('-92'), pct_chg=Decimal('-0.522668'), simtrade=0)\n",
      "Exchange.TAIFEX Tick(code='MXFL1', datetime=datetime.datetime(2021, 12, 15, 1, 6, 48, 979000), open=Decimal('17590'), underlying_price=Decimal('17599.37'), bid_side_total_vol=45183, ask_side_total_vol=43922, avg_price=Decimal('17550.413212'), close=Decimal('17511'), high=Decimal('17614'), low=Decimal('17500'), amount=Decimal('17511'), total_amount=Decimal('1077332115'), volume=1, total_volume=61385, tick_type=1, chg_type=4, price_chg=Decimal('-91'), pct_chg=Decimal('-0.516987'), simtrade=0)\n",
      "Exchange.TAIFEX Tick(code='MXFL1', datetime=datetime.datetime(2021, 12, 15, 1, 6, 49, 423000), open=Decimal('17590'), underlying_price=Decimal('17599.37'), bid_side_total_vol=45184, ask_side_total_vol=43923, avg_price=Decimal('17550.41257'), close=Decimal('17511'), high=Decimal('17614'), low=Decimal('17500'), amount=Decimal('17511'), total_amount=Decimal('1077349626'), volume=1, total_volume=61386, tick_type=1, chg_type=4, price_chg=Decimal('-91'), pct_chg=Decimal('-0.516987'), simtrade=0)\n",
      "Exchange.TAIFEX Tick(code='MXFL1', datetime=datetime.datetime(2021, 12, 15, 1, 6, 50, 306000), open=Decimal('17590'), underlying_price=Decimal('17599.37'), bid_side_total_vol=45184, ask_side_total_vol=43925, avg_price=Decimal('17550.411895'), close=Decimal('17509'), high=Decimal('17614'), low=Decimal('17500'), amount=Decimal('17509'), total_amount=Decimal('1077367135'), volume=1, total_volume=61387, tick_type=2, chg_type=4, price_chg=Decimal('-93'), pct_chg=Decimal('-0.528349'), simtrade=0)\n",
      "Exchange.TAIFEX Tick(code='MXFL1', datetime=datetime.datetime(2021, 12, 15, 1, 6, 50, 443000), open=Decimal('17590'), underlying_price=Decimal('17599.37'), bid_side_total_vol=45188, ask_side_total_vol=43925, avg_price=Decimal('17550.409969'), close=Decimal('17511'), high=Decimal('17614'), low=Decimal('17500'), amount=Decimal('52533'), total_amount=Decimal('1077419668'), volume=3, total_volume=61390, tick_type=1, chg_type=4, price_chg=Decimal('-91'), pct_chg=Decimal('-0.516987'), simtrade=0)\n",
      "Exchange.TAIFEX Tick(code='MXFL1', datetime=datetime.datetime(2021, 12, 15, 1, 6, 50, 543000), open=Decimal('17590'), underlying_price=Decimal('17599.37'), bid_side_total_vol=45186, ask_side_total_vol=43929, avg_price=Decimal('17550.409311'), close=Decimal('17510'), high=Decimal('17614'), low=Decimal('17500'), amount=Decimal('17510'), total_amount=Decimal('1077437178'), volume=1, total_volume=61391, tick_type=2, chg_type=4, price_chg=Decimal('-92'), pct_chg=Decimal('-0.522668'), simtrade=0)\n",
      "Exchange.TAIFEX Tick(code='MXFL1', datetime=datetime.datetime(2021, 12, 15, 1, 6, 50, 543000), open=Decimal('17590'), underlying_price=Decimal('17599.37'), bid_side_total_vol=45187, ask_side_total_vol=43930, avg_price=Decimal('17550.408653'), close=Decimal('17510'), high=Decimal('17614'), low=Decimal('17500'), amount=Decimal('17510'), total_amount=Decimal('1077454688'), volume=1, total_volume=61392, tick_type=2, chg_type=4, price_chg=Decimal('-92'), pct_chg=Decimal('-0.522668'), simtrade=0)\n",
      "Exchange.TAIFEX Tick(code='MXFL1', datetime=datetime.datetime(2021, 12, 15, 1, 6, 50, 543000), open=Decimal('17590'), underlying_price=Decimal('17599.37'), bid_side_total_vol=45188, ask_side_total_vol=43931, avg_price=Decimal('17550.407994'), close=Decimal('17510'), high=Decimal('17614'), low=Decimal('17500'), amount=Decimal('17510'), total_amount=Decimal('1077472198'), volume=1, total_volume=61393, tick_type=2, chg_type=4, price_chg=Decimal('-92'), pct_chg=Decimal('-0.522668'), simtrade=0)\n",
      "Exchange.TAIFEX Tick(code='MXFL1', datetime=datetime.datetime(2021, 12, 15, 1, 6, 50, 636000), open=Decimal('17590'), underlying_price=Decimal('17599.37'), bid_side_total_vol=45190, ask_side_total_vol=43931, avg_price=Decimal('17550.407353'), close=Decimal('17511'), high=Decimal('17614'), low=Decimal('17500'), amount=Decimal('17511'), total_amount=Decimal('1077489709'), volume=1, total_volume=61394, tick_type=1, chg_type=4, price_chg=Decimal('-91'), pct_chg=Decimal('-0.516987'), simtrade=0)\n",
      "Exchange.TAIFEX Tick(code='MXFL1', datetime=datetime.datetime(2021, 12, 15, 1, 6, 51, 422000), open=Decimal('17590'), underlying_price=Decimal('17599.37'), bid_side_total_vol=45191, ask_side_total_vol=43932, avg_price=Decimal('17550.406727'), close=Decimal('17512'), high=Decimal('17614'), low=Decimal('17500'), amount=Decimal('17512'), total_amount=Decimal('1077507221'), volume=1, total_volume=61395, tick_type=1, chg_type=4, price_chg=Decimal('-90'), pct_chg=Decimal('-0.511306'), simtrade=0)\n",
      "Exchange.TAIFEX Tick(code='MXFL1', datetime=datetime.datetime(2021, 12, 15, 1, 6, 53, 231000), open=Decimal('17590'), underlying_price=Decimal('17599.37'), bid_side_total_vol=45191, ask_side_total_vol=43934, avg_price=Decimal('17550.406069'), close=Decimal('17510'), high=Decimal('17614'), low=Decimal('17500'), amount=Decimal('17510'), total_amount=Decimal('1077524731'), volume=1, total_volume=61396, tick_type=2, chg_type=4, price_chg=Decimal('-92'), pct_chg=Decimal('-0.522668'), simtrade=0)\n",
      "Exchange.TAIFEX Tick(code='MXFL1', datetime=datetime.datetime(2021, 12, 15, 1, 6, 56, 104000), open=Decimal('17590'), underlying_price=Decimal('17599.37'), bid_side_total_vol=45193, ask_side_total_vol=43934, avg_price=Decimal('17550.405443'), close=Decimal('17512'), high=Decimal('17614'), low=Decimal('17500'), amount=Decimal('17512'), total_amount=Decimal('1077542243'), volume=1, total_volume=61397, tick_type=1, chg_type=4, price_chg=Decimal('-90'), pct_chg=Decimal('-0.511306'), simtrade=0)\n",
      "Exchange.TAIFEX Tick(code='MXFL1', datetime=datetime.datetime(2021, 12, 15, 1, 6, 56, 626000), open=Decimal('17590'), underlying_price=Decimal('17599.37'), bid_side_total_vol=45193, ask_side_total_vol=43938, avg_price=Decimal('17550.403518'), close=Decimal('17511'), high=Decimal('17614'), low=Decimal('17500'), amount=Decimal('52533'), total_amount=Decimal('1077594776'), volume=3, total_volume=61400, tick_type=2, chg_type=4, price_chg=Decimal('-91'), pct_chg=Decimal('-0.516987'), simtrade=0)\n",
      "Exchange.TAIFEX Tick(code='MXFL1', datetime=datetime.datetime(2021, 12, 15, 1, 6, 58, 604000), open=Decimal('17590'), underlying_price=Decimal('17599.37'), bid_side_total_vol=45198, ask_side_total_vol=43936, avg_price=Decimal('17550.401642'), close=Decimal('17512'), high=Decimal('17614'), low=Decimal('17500'), amount=Decimal('52536'), total_amount=Decimal('1077647312'), volume=3, total_volume=61403, tick_type=1, chg_type=4, price_chg=Decimal('-90'), pct_chg=Decimal('-0.511306'), simtrade=0)\n",
      "Exchange.TAIFEX Tick(code='MXFL1', datetime=datetime.datetime(2021, 12, 15, 1, 6, 58, 604000), open=Decimal('17590'), underlying_price=Decimal('17599.37'), bid_side_total_vol=45200, ask_side_total_vol=43939, avg_price=Decimal('17550.39914'), close=Decimal('17512'), high=Decimal('17614'), low=Decimal('17500'), amount=Decimal('70048'), total_amount=Decimal('1077717360'), volume=4, total_volume=61407, tick_type=1, chg_type=4, price_chg=Decimal('-90'), pct_chg=Decimal('-0.511306'), simtrade=0)\n",
      "Exchange.TAIFEX Tick(code='MXFL1', datetime=datetime.datetime(2021, 12, 15, 1, 7, 0, 361000), open=Decimal('17590'), underlying_price=Decimal('17599.37'), bid_side_total_vol=45208, ask_side_total_vol=43943, avg_price=Decimal('17550.392442'), close=Decimal('17513'), high=Decimal('17614'), low=Decimal('17500'), amount=Decimal('192643'), total_amount=Decimal('1077910003'), volume=11, total_volume=61418, tick_type=1, chg_type=4, price_chg=Decimal('-89'), pct_chg=Decimal('-0.505624'), simtrade=0)\n",
      "Exchange.TAIFEX Tick(code='MXFL1', datetime=datetime.datetime(2021, 12, 15, 1, 7, 0, 471000), open=Decimal('17590'), underlying_price=Decimal('17599.37'), bid_side_total_vol=45199, ask_side_total_vol=43949, avg_price=Decimal('17550.391849'), close=Decimal('17514'), high=Decimal('17614'), low=Decimal('17500'), amount=Decimal('17514'), total_amount=Decimal('1077927517'), volume=1, total_volume=61419, tick_type=1, chg_type=4, price_chg=Decimal('-88'), pct_chg=Decimal('-0.499943'), simtrade=0)\n",
      "Exchange.TAIFEX Tick(code='MXFL1', datetime=datetime.datetime(2021, 12, 15, 1, 7, 0, 489000), open=Decimal('17590'), underlying_price=Decimal('17599.37'), bid_side_total_vol=45200, ask_side_total_vol=43950, avg_price=Decimal('17550.391257'), close=Decimal('17514'), high=Decimal('17614'), low=Decimal('17500'), amount=Decimal('17514'), total_amount=Decimal('1077945031'), volume=1, total_volume=61420, tick_type=1, chg_type=4, price_chg=Decimal('-88'), pct_chg=Decimal('-0.499943'), simtrade=0)\n",
      "Exchange.TAIFEX Tick(code='MXFL1', datetime=datetime.datetime(2021, 12, 15, 1, 7, 0, 525000), open=Decimal('17590'), underlying_price=Decimal('17599.37'), bid_side_total_vol=45201, ask_side_total_vol=43951, avg_price=Decimal('17550.390664'), close=Decimal('17514'), high=Decimal('17614'), low=Decimal('17500'), amount=Decimal('17514'), total_amount=Decimal('1077962545'), volume=1, total_volume=61421, tick_type=1, chg_type=4, price_chg=Decimal('-88'), pct_chg=Decimal('-0.499943'), simtrade=0)\n"
     ]
    },
    {
     "name": "stdout",
     "output_type": "stream",
     "text": [
      "Exchange.TAIFEX Tick(code='MXFL1', datetime=datetime.datetime(2021, 12, 15, 1, 7, 1, 143000), open=Decimal('17590'), underlying_price=Decimal('17599.37'), bid_side_total_vol=45201, ask_side_total_vol=43953, avg_price=Decimal('17550.390056'), close=Decimal('17513'), high=Decimal('17614'), low=Decimal('17500'), amount=Decimal('17513'), total_amount=Decimal('1077980058'), volume=1, total_volume=61422, tick_type=2, chg_type=4, price_chg=Decimal('-89'), pct_chg=Decimal('-0.505624'), simtrade=0)\n",
      "Exchange.TAIFEX Tick(code='MXFL1', datetime=datetime.datetime(2021, 12, 15, 1, 7, 1, 310000), open=Decimal('17590'), underlying_price=Decimal('17599.37'), bid_side_total_vol=45206, ask_side_total_vol=43953, avg_price=Decimal('17550.387686'), close=Decimal('17514'), high=Decimal('17614'), low=Decimal('17500'), amount=Decimal('70056'), total_amount=Decimal('1078050114'), volume=4, total_volume=61426, tick_type=1, chg_type=4, price_chg=Decimal('-88'), pct_chg=Decimal('-0.499943'), simtrade=0)\n",
      "Exchange.TAIFEX Tick(code='MXFL1', datetime=datetime.datetime(2021, 12, 15, 1, 7, 1, 428000), open=Decimal('17590'), underlying_price=Decimal('17599.37'), bid_side_total_vol=45208, ask_side_total_vol=43957, avg_price=Decimal('17550.384806'), close=Decimal('17515'), high=Decimal('17614'), low=Decimal('17500'), amount=Decimal('87575'), total_amount=Decimal('1078137689'), volume=5, total_volume=61431, tick_type=1, chg_type=4, price_chg=Decimal('-87'), pct_chg=Decimal('-0.494262'), simtrade=0)\n",
      "Exchange.TAIFEX Tick(code='MXFL1', datetime=datetime.datetime(2021, 12, 15, 1, 7, 1, 428000), open=Decimal('17590'), underlying_price=Decimal('17599.37'), bid_side_total_vol=45208, ask_side_total_vol=43962, avg_price=Decimal('17550.382502'), close=Decimal('17515'), high=Decimal('17614'), low=Decimal('17500'), amount=Decimal('70060'), total_amount=Decimal('1078207749'), volume=4, total_volume=61435, tick_type=1, chg_type=4, price_chg=Decimal('-87'), pct_chg=Decimal('-0.494262'), simtrade=0)\n",
      "Exchange.TAIFEX Tick(code='MXFL1', datetime=datetime.datetime(2021, 12, 15, 1, 7, 1, 595000), open=Decimal('17590'), underlying_price=Decimal('17599.37'), bid_side_total_vol=45206, ask_side_total_vol=43966, avg_price=Decimal('17550.381942'), close=Decimal('17516'), high=Decimal('17614'), low=Decimal('17500'), amount=Decimal('17516'), total_amount=Decimal('1078225265'), volume=1, total_volume=61436, tick_type=1, chg_type=4, price_chg=Decimal('-86'), pct_chg=Decimal('-0.488581'), simtrade=0)\n",
      "Exchange.TAIFEX Tick(code='MXFL1', datetime=datetime.datetime(2021, 12, 15, 1, 7, 1, 722000), open=Decimal('17590'), underlying_price=Decimal('17599.37'), bid_side_total_vol=45207, ask_side_total_vol=43967, avg_price=Decimal('17550.381383'), close=Decimal('17516'), high=Decimal('17614'), low=Decimal('17500'), amount=Decimal('17516'), total_amount=Decimal('1078242781'), volume=1, total_volume=61437, tick_type=1, chg_type=4, price_chg=Decimal('-86'), pct_chg=Decimal('-0.488581'), simtrade=0)\n",
      "Exchange.TAIFEX Tick(code='MXFL1', datetime=datetime.datetime(2021, 12, 15, 1, 7, 1, 762000), open=Decimal('17590'), underlying_price=Decimal('17599.37'), bid_side_total_vol=45208, ask_side_total_vol=43968, avg_price=Decimal('17550.380823'), close=Decimal('17516'), high=Decimal('17614'), low=Decimal('17500'), amount=Decimal('17516'), total_amount=Decimal('1078260297'), volume=1, total_volume=61438, tick_type=1, chg_type=4, price_chg=Decimal('-86'), pct_chg=Decimal('-0.488581'), simtrade=0)\n",
      "Exchange.TAIFEX Tick(code='MXFL1', datetime=datetime.datetime(2021, 12, 15, 1, 7, 1, 812000), open=Decimal('17590'), underlying_price=Decimal('17599.37'), bid_side_total_vol=45209, ask_side_total_vol=43969, avg_price=Decimal('17550.380263'), close=Decimal('17516'), high=Decimal('17614'), low=Decimal('17500'), amount=Decimal('17516'), total_amount=Decimal('1078277813'), volume=1, total_volume=61439, tick_type=1, chg_type=4, price_chg=Decimal('-86'), pct_chg=Decimal('-0.488581'), simtrade=0)\n",
      "Exchange.TAIFEX Tick(code='MXFL1', datetime=datetime.datetime(2021, 12, 15, 1, 7, 1, 820000), open=Decimal('17590'), underlying_price=Decimal('17599.37'), bid_side_total_vol=45210, ask_side_total_vol=43970, avg_price=Decimal('17550.379704'), close=Decimal('17516'), high=Decimal('17614'), low=Decimal('17500'), amount=Decimal('17516'), total_amount=Decimal('1078295329'), volume=1, total_volume=61440, tick_type=1, chg_type=4, price_chg=Decimal('-86'), pct_chg=Decimal('-0.488581'), simtrade=0)\n",
      "Exchange.TAIFEX Tick(code='MXFL1', datetime=datetime.datetime(2021, 12, 15, 1, 7, 2, 243000), open=Decimal('17590'), underlying_price=Decimal('17599.37'), bid_side_total_vol=45211, ask_side_total_vol=43971, avg_price=Decimal('17550.379144'), close=Decimal('17516'), high=Decimal('17614'), low=Decimal('17500'), amount=Decimal('17516'), total_amount=Decimal('1078312845'), volume=1, total_volume=61441, tick_type=1, chg_type=4, price_chg=Decimal('-86'), pct_chg=Decimal('-0.488581'), simtrade=0)\n",
      "Exchange.TAIFEX Tick(code='MXFL1', datetime=datetime.datetime(2021, 12, 15, 1, 7, 2, 459000), open=Decimal('17590'), underlying_price=Decimal('17599.37'), bid_side_total_vol=45212, ask_side_total_vol=43972, avg_price=Decimal('17550.378585'), close=Decimal('17516'), high=Decimal('17614'), low=Decimal('17500'), amount=Decimal('17516'), total_amount=Decimal('1078330361'), volume=1, total_volume=61442, tick_type=1, chg_type=4, price_chg=Decimal('-86'), pct_chg=Decimal('-0.488581'), simtrade=0)\n",
      "Exchange.TAIFEX Tick(code='MXFL1', datetime=datetime.datetime(2021, 12, 15, 1, 7, 2, 571000), open=Decimal('17590'), underlying_price=Decimal('17599.37'), bid_side_total_vol=45212, ask_side_total_vol=43974, avg_price=Decimal('17550.378009'), close=Decimal('17515'), high=Decimal('17614'), low=Decimal('17500'), amount=Decimal('17515'), total_amount=Decimal('1078347876'), volume=1, total_volume=61443, tick_type=2, chg_type=4, price_chg=Decimal('-87'), pct_chg=Decimal('-0.494262'), simtrade=0)\n",
      "Exchange.TAIFEX Tick(code='MXFL1', datetime=datetime.datetime(2021, 12, 15, 1, 7, 2, 572000), open=Decimal('17590'), underlying_price=Decimal('17599.37'), bid_side_total_vol=45213, ask_side_total_vol=43975, avg_price=Decimal('17550.377433'), close=Decimal('17515'), high=Decimal('17614'), low=Decimal('17500'), amount=Decimal('17515'), total_amount=Decimal('1078365391'), volume=1, total_volume=61444, tick_type=2, chg_type=4, price_chg=Decimal('-87'), pct_chg=Decimal('-0.494262'), simtrade=0)\n",
      "Exchange.TAIFEX Tick(code='MXFL1', datetime=datetime.datetime(2021, 12, 15, 1, 7, 2, 572000), open=Decimal('17590'), underlying_price=Decimal('17599.37'), bid_side_total_vol=45214, ask_side_total_vol=43976, avg_price=Decimal('17550.376857'), close=Decimal('17515'), high=Decimal('17614'), low=Decimal('17500'), amount=Decimal('17515'), total_amount=Decimal('1078382906'), volume=1, total_volume=61445, tick_type=2, chg_type=4, price_chg=Decimal('-87'), pct_chg=Decimal('-0.494262'), simtrade=0)\n",
      "Exchange.TAIFEX Tick(code='MXFL1', datetime=datetime.datetime(2021, 12, 15, 1, 7, 2, 720000), open=Decimal('17590'), underlying_price=Decimal('17599.37'), bid_side_total_vol=45216, ask_side_total_vol=43976, avg_price=Decimal('17550.376282'), close=Decimal('17515'), high=Decimal('17614'), low=Decimal('17500'), amount=Decimal('17515'), total_amount=Decimal('1078400421'), volume=1, total_volume=61446, tick_type=1, chg_type=4, price_chg=Decimal('-87'), pct_chg=Decimal('-0.494262'), simtrade=0)\n",
      "Exchange.TAIFEX Tick(code='MXFL1', datetime=datetime.datetime(2021, 12, 15, 1, 7, 2, 818000), open=Decimal('17590'), underlying_price=Decimal('17599.37'), bid_side_total_vol=45216, ask_side_total_vol=43978, avg_price=Decimal('17550.375673'), close=Decimal('17513'), high=Decimal('17614'), low=Decimal('17500'), amount=Decimal('17513'), total_amount=Decimal('1078417934'), volume=1, total_volume=61447, tick_type=2, chg_type=4, price_chg=Decimal('-89'), pct_chg=Decimal('-0.505624'), simtrade=0)\n",
      "Exchange.TAIFEX Tick(code='MXFL1', datetime=datetime.datetime(2021, 12, 15, 1, 7, 2, 890000), open=Decimal('17590'), underlying_price=Decimal('17599.37'), bid_side_total_vol=45218, ask_side_total_vol=43978, avg_price=Decimal('17550.375098'), close=Decimal('17515'), high=Decimal('17614'), low=Decimal('17500'), amount=Decimal('17515'), total_amount=Decimal('1078435449'), volume=1, total_volume=61448, tick_type=1, chg_type=4, price_chg=Decimal('-87'), pct_chg=Decimal('-0.494262'), simtrade=0)\n"
     ]
    },
    {
     "name": "stdout",
     "output_type": "stream",
     "text": [
      "Exchange.TAIFEX Tick(code='MXFL1', datetime=datetime.datetime(2021, 12, 15, 1, 7, 3, 8000), open=Decimal('17590'), underlying_price=Decimal('17599.37'), bid_side_total_vol=45219, ask_side_total_vol=43979, avg_price=Decimal('17550.374522'), close=Decimal('17515'), high=Decimal('17614'), low=Decimal('17500'), amount=Decimal('17515'), total_amount=Decimal('1078452964'), volume=1, total_volume=61449, tick_type=1, chg_type=4, price_chg=Decimal('-87'), pct_chg=Decimal('-0.494262'), simtrade=0)\n",
      "Exchange.TAIFEX Tick(code='MXFL1', datetime=datetime.datetime(2021, 12, 15, 1, 7, 3, 427000), open=Decimal('17590'), underlying_price=Decimal('17599.37'), bid_side_total_vol=45220, ask_side_total_vol=43980, avg_price=Decimal('17550.373946'), close=Decimal('17515'), high=Decimal('17614'), low=Decimal('17500'), amount=Decimal('17515'), total_amount=Decimal('1078470479'), volume=1, total_volume=61450, tick_type=1, chg_type=4, price_chg=Decimal('-87'), pct_chg=Decimal('-0.494262'), simtrade=0)\n",
      "Exchange.TAIFEX Tick(code='MXFL1', datetime=datetime.datetime(2021, 12, 15, 1, 7, 3, 864000), open=Decimal('17590'), underlying_price=Decimal('17599.37'), bid_side_total_vol=45220, ask_side_total_vol=43983, avg_price=Decimal('17550.372762'), close=Decimal('17514'), high=Decimal('17614'), low=Decimal('17500'), amount=Decimal('35028'), total_amount=Decimal('1078505507'), volume=2, total_volume=61452, tick_type=2, chg_type=4, price_chg=Decimal('-88'), pct_chg=Decimal('-0.499943'), simtrade=0)\n",
      "Exchange.TAIFEX Tick(code='MXFL1', datetime=datetime.datetime(2021, 12, 15, 1, 7, 4, 519000), open=Decimal('17590'), underlying_price=Decimal('17599.37'), bid_side_total_vol=45224, ask_side_total_vol=43982, avg_price=Decimal('17550.371611'), close=Decimal('17515'), high=Decimal('17614'), low=Decimal('17500'), amount=Decimal('35030'), total_amount=Decimal('1078540537'), volume=2, total_volume=61454, tick_type=1, chg_type=4, price_chg=Decimal('-87'), pct_chg=Decimal('-0.494262'), simtrade=0)\n",
      "Exchange.TAIFEX Tick(code='MXFL1', datetime=datetime.datetime(2021, 12, 15, 1, 7, 4, 519000), open=Decimal('17590'), underlying_price=Decimal('17599.37'), bid_side_total_vol=45225, ask_side_total_vol=43982, avg_price=Decimal('17550.371052'), close=Decimal('17516'), high=Decimal('17614'), low=Decimal('17500'), amount=Decimal('17516'), total_amount=Decimal('1078558053'), volume=1, total_volume=61455, tick_type=1, chg_type=4, price_chg=Decimal('-86'), pct_chg=Decimal('-0.488581'), simtrade=0)\n",
      "Exchange.TAIFEX Tick(code='MXFL1', datetime=datetime.datetime(2021, 12, 15, 1, 7, 4, 576000), open=Decimal('17590'), underlying_price=Decimal('17599.37'), bid_side_total_vol=45224, ask_side_total_vol=43984, avg_price=Decimal('17550.370493'), close=Decimal('17516'), high=Decimal('17614'), low=Decimal('17500'), amount=Decimal('17516'), total_amount=Decimal('1078575569'), volume=1, total_volume=61456, tick_type=1, chg_type=4, price_chg=Decimal('-86'), pct_chg=Decimal('-0.488581'), simtrade=0)\n",
      "Exchange.TAIFEX Tick(code='MXFL1', datetime=datetime.datetime(2021, 12, 15, 1, 7, 4, 580000), open=Decimal('17590'), underlying_price=Decimal('17599.37'), bid_side_total_vol=45225, ask_side_total_vol=43985, avg_price=Decimal('17550.369933'), close=Decimal('17516'), high=Decimal('17614'), low=Decimal('17500'), amount=Decimal('17516'), total_amount=Decimal('1078593085'), volume=1, total_volume=61457, tick_type=1, chg_type=4, price_chg=Decimal('-86'), pct_chg=Decimal('-0.488581'), simtrade=0)\n",
      "Exchange.TAIFEX Tick(code='MXFL1', datetime=datetime.datetime(2021, 12, 15, 1, 7, 5, 865000), open=Decimal('17590'), underlying_price=Decimal('17599.37'), bid_side_total_vol=45226, ask_side_total_vol=43986, avg_price=Decimal('17550.369358'), close=Decimal('17515'), high=Decimal('17614'), low=Decimal('17500'), amount=Decimal('17515'), total_amount=Decimal('1078610600'), volume=1, total_volume=61458, tick_type=1, chg_type=4, price_chg=Decimal('-87'), pct_chg=Decimal('-0.494262'), simtrade=0)\n",
      "Exchange.TAIFEX Tick(code='MXFL1', datetime=datetime.datetime(2021, 12, 15, 1, 7, 5, 865000), open=Decimal('17590'), underlying_price=Decimal('17599.37'), bid_side_total_vol=45227, ask_side_total_vol=43986, avg_price=Decimal('17550.368799'), close=Decimal('17516'), high=Decimal('17614'), low=Decimal('17500'), amount=Decimal('17516'), total_amount=Decimal('1078628116'), volume=1, total_volume=61459, tick_type=1, chg_type=4, price_chg=Decimal('-86'), pct_chg=Decimal('-0.488581'), simtrade=0)\n",
      "Exchange.TAIFEX Tick(code='MXFL1', datetime=datetime.datetime(2021, 12, 15, 1, 7, 5, 949000), open=Decimal('17590'), underlying_price=Decimal('17599.37'), bid_side_total_vol=45227, ask_side_total_vol=43988, avg_price=Decimal('17550.36824'), close=Decimal('17516'), high=Decimal('17614'), low=Decimal('17500'), amount=Decimal('17516'), total_amount=Decimal('1078645632'), volume=1, total_volume=61460, tick_type=1, chg_type=4, price_chg=Decimal('-86'), pct_chg=Decimal('-0.488581'), simtrade=0)\n",
      "Exchange.TAIFEX Tick(code='MXFL1', datetime=datetime.datetime(2021, 12, 15, 1, 7, 5, 954000), open=Decimal('17590'), underlying_price=Decimal('17599.37'), bid_side_total_vol=45228, ask_side_total_vol=43989, avg_price=Decimal('17550.36768'), close=Decimal('17516'), high=Decimal('17614'), low=Decimal('17500'), amount=Decimal('17516'), total_amount=Decimal('1078663148'), volume=1, total_volume=61461, tick_type=1, chg_type=4, price_chg=Decimal('-86'), pct_chg=Decimal('-0.488581'), simtrade=0)\n",
      "Exchange.TAIFEX Tick(code='MXFL1', datetime=datetime.datetime(2021, 12, 15, 1, 7, 5, 961000), open=Decimal('17590'), underlying_price=Decimal('17599.37'), bid_side_total_vol=45229, ask_side_total_vol=43990, avg_price=Decimal('17550.367121'), close=Decimal('17516'), high=Decimal('17614'), low=Decimal('17500'), amount=Decimal('17516'), total_amount=Decimal('1078680664'), volume=1, total_volume=61462, tick_type=1, chg_type=4, price_chg=Decimal('-86'), pct_chg=Decimal('-0.488581'), simtrade=0)\n",
      "Exchange.TAIFEX Tick(code='MXFL1', datetime=datetime.datetime(2021, 12, 15, 1, 7, 5, 988000), open=Decimal('17590'), underlying_price=Decimal('17599.37'), bid_side_total_vol=45230, ask_side_total_vol=43991, avg_price=Decimal('17550.366562'), close=Decimal('17516'), high=Decimal('17614'), low=Decimal('17500'), amount=Decimal('17516'), total_amount=Decimal('1078698180'), volume=1, total_volume=61463, tick_type=1, chg_type=4, price_chg=Decimal('-86'), pct_chg=Decimal('-0.488581'), simtrade=0)\n",
      "Exchange.TAIFEX Tick(code='MXFL1', datetime=datetime.datetime(2021, 12, 15, 1, 7, 7, 171000), open=Decimal('17590'), underlying_price=Decimal('17599.37'), bid_side_total_vol=45231, ask_side_total_vol=43992, avg_price=Decimal('17550.366003'), close=Decimal('17516'), high=Decimal('17614'), low=Decimal('17500'), amount=Decimal('17516'), total_amount=Decimal('1078715696'), volume=1, total_volume=61464, tick_type=1, chg_type=4, price_chg=Decimal('-86'), pct_chg=Decimal('-0.488581'), simtrade=0)\n",
      "Exchange.TAIFEX Tick(code='MXFL1', datetime=datetime.datetime(2021, 12, 15, 1, 7, 8, 717000), open=Decimal('17590'), underlying_price=Decimal('17599.37'), bid_side_total_vol=45232, ask_side_total_vol=43993, avg_price=Decimal('17550.365444'), close=Decimal('17516'), high=Decimal('17614'), low=Decimal('17500'), amount=Decimal('17516'), total_amount=Decimal('1078733212'), volume=1, total_volume=61465, tick_type=1, chg_type=4, price_chg=Decimal('-86'), pct_chg=Decimal('-0.488581'), simtrade=0)\n",
      "Exchange.TAIFEX Tick(code='MXFL1', datetime=datetime.datetime(2021, 12, 15, 1, 7, 9, 185000), open=Decimal('17590'), underlying_price=Decimal('17599.37'), bid_side_total_vol=45232, ask_side_total_vol=43995, avg_price=Decimal('17550.364868'), close=Decimal('17515'), high=Decimal('17614'), low=Decimal('17500'), amount=Decimal('17515'), total_amount=Decimal('1078750727'), volume=1, total_volume=61466, tick_type=2, chg_type=4, price_chg=Decimal('-87'), pct_chg=Decimal('-0.494262'), simtrade=0)\n",
      "Exchange.TAIFEX Tick(code='MXFL1', datetime=datetime.datetime(2021, 12, 15, 1, 7, 9, 529000), open=Decimal('17590'), underlying_price=Decimal('17599.37'), bid_side_total_vol=45234, ask_side_total_vol=43995, avg_price=Decimal('17550.364309'), close=Decimal('17516'), high=Decimal('17614'), low=Decimal('17500'), amount=Decimal('17516'), total_amount=Decimal('1078768243'), volume=1, total_volume=61467, tick_type=1, chg_type=4, price_chg=Decimal('-86'), pct_chg=Decimal('-0.488581'), simtrade=0)\n"
     ]
    },
    {
     "name": "stdout",
     "output_type": "stream",
     "text": [
      "Exchange.TAIFEX Tick(code='MXFL1', datetime=datetime.datetime(2021, 12, 15, 1, 7, 9, 906000), open=Decimal('17590'), underlying_price=Decimal('17599.37'), bid_side_total_vol=45239, ask_side_total_vol=43996, avg_price=Decimal('17550.361514'), close=Decimal('17516'), high=Decimal('17614'), low=Decimal('17500'), amount=Decimal('87580'), total_amount=Decimal('1078855823'), volume=5, total_volume=61472, tick_type=1, chg_type=4, price_chg=Decimal('-86'), pct_chg=Decimal('-0.488581'), simtrade=0)\n",
      "Exchange.TAIFEX Tick(code='MXFL1', datetime=datetime.datetime(2021, 12, 15, 1, 7, 10, 835000), open=Decimal('17590'), underlying_price=Decimal('17599.37'), bid_side_total_vol=45236, ask_side_total_vol=43999, avg_price=Decimal('17550.360955'), close=Decimal('17516'), high=Decimal('17614'), low=Decimal('17500'), amount=Decimal('17516'), total_amount=Decimal('1078873339'), volume=1, total_volume=61473, tick_type=1, chg_type=4, price_chg=Decimal('-86'), pct_chg=Decimal('-0.488581'), simtrade=0)\n",
      "Exchange.TAIFEX Tick(code='MXFL1', datetime=datetime.datetime(2021, 12, 15, 1, 7, 10, 994000), open=Decimal('17590'), underlying_price=Decimal('17599.37'), bid_side_total_vol=45240, ask_side_total_vol=44000, avg_price=Decimal('17550.35872'), close=Decimal('17516'), high=Decimal('17614'), low=Decimal('17500'), amount=Decimal('70064'), total_amount=Decimal('1078943403'), volume=4, total_volume=61477, tick_type=1, chg_type=4, price_chg=Decimal('-86'), pct_chg=Decimal('-0.488581'), simtrade=0)\n",
      "Exchange.TAIFEX Tick(code='MXFL1', datetime=datetime.datetime(2021, 12, 15, 1, 7, 11, 909000), open=Decimal('17590'), underlying_price=Decimal('17599.37'), bid_side_total_vol=45238, ask_side_total_vol=44002, avg_price=Decimal('17550.358161'), close=Decimal('17516'), high=Decimal('17614'), low=Decimal('17500'), amount=Decimal('17516'), total_amount=Decimal('1078960919'), volume=1, total_volume=61478, tick_type=1, chg_type=4, price_chg=Decimal('-86'), pct_chg=Decimal('-0.488581'), simtrade=0)\n",
      "Exchange.TAIFEX Tick(code='MXFL1', datetime=datetime.datetime(2021, 12, 15, 1, 7, 12, 977000), open=Decimal('17590'), underlying_price=Decimal('17599.37'), bid_side_total_vol=45239, ask_side_total_vol=44003, avg_price=Decimal('17550.357602'), close=Decimal('17516'), high=Decimal('17614'), low=Decimal('17500'), amount=Decimal('17516'), total_amount=Decimal('1078978435'), volume=1, total_volume=61479, tick_type=1, chg_type=4, price_chg=Decimal('-86'), pct_chg=Decimal('-0.488581'), simtrade=0)\n",
      "Exchange.TAIFEX Tick(code='MXFL1', datetime=datetime.datetime(2021, 12, 15, 1, 7, 13, 172000), open=Decimal('17590'), underlying_price=Decimal('17599.37'), bid_side_total_vol=45240, ask_side_total_vol=44004, avg_price=Decimal('17550.357043'), close=Decimal('17516'), high=Decimal('17614'), low=Decimal('17500'), amount=Decimal('17516'), total_amount=Decimal('1078995951'), volume=1, total_volume=61480, tick_type=1, chg_type=4, price_chg=Decimal('-86'), pct_chg=Decimal('-0.488581'), simtrade=0)\n",
      "Exchange.TAIFEX Tick(code='MXFL1', datetime=datetime.datetime(2021, 12, 15, 1, 7, 13, 200000), open=Decimal('17590'), underlying_price=Decimal('17599.37'), bid_side_total_vol=45241, ask_side_total_vol=44005, avg_price=Decimal('17550.3565'), close=Decimal('17517'), high=Decimal('17614'), low=Decimal('17500'), amount=Decimal('17517'), total_amount=Decimal('1079013468'), volume=1, total_volume=61481, tick_type=1, chg_type=4, price_chg=Decimal('-85'), pct_chg=Decimal('-0.4829'), simtrade=0)\n",
      "Exchange.TAIFEX Tick(code='MXFL1', datetime=datetime.datetime(2021, 12, 15, 1, 7, 13, 420000), open=Decimal('17590'), underlying_price=Decimal('17599.37'), bid_side_total_vol=45241, ask_side_total_vol=44007, avg_price=Decimal('17550.355942'), close=Decimal('17516'), high=Decimal('17614'), low=Decimal('17500'), amount=Decimal('17516'), total_amount=Decimal('1079030984'), volume=1, total_volume=61482, tick_type=2, chg_type=4, price_chg=Decimal('-86'), pct_chg=Decimal('-0.488581'), simtrade=0)\n",
      "Exchange.TAIFEX Tick(code='MXFL1', datetime=datetime.datetime(2021, 12, 15, 1, 7, 13, 507000), open=Decimal('17590'), underlying_price=Decimal('17599.37'), bid_side_total_vol=45242, ask_side_total_vol=44008, avg_price=Decimal('17550.355367'), close=Decimal('17515'), high=Decimal('17614'), low=Decimal('17500'), amount=Decimal('17515'), total_amount=Decimal('1079048499'), volume=1, total_volume=61483, tick_type=2, chg_type=4, price_chg=Decimal('-87'), pct_chg=Decimal('-0.494262'), simtrade=0)\n",
      "OrderState.FOrder {'operation': {'op_type': 'New', 'op_code': '99Q1', 'op_msg': '超過客戶可平倉口數'}, 'order': {'id': '3c78050f', 'seqno': '921398', 'ordno': '00', 'account': {'account_type': 'F', 'person_id': '', 'broker_id': 'F002000', 'account_id': '1645949', 'signed': True}, 'action': 'Buy', 'price': 0.0, 'quantity': 1, 'order_type': 'IOC', 'market_type': 'Night', 'oc_type': 'Cover', 'subaccount': ''}, 'status': {'id': '3c78050f', 'exchange_ts': 1639415233, 'modified_price': 0.0, 'cancel_quantity': 0, 'order_quantity': 1}, 'contract': {'security_type': 'FUT', 'code': 'MXF', 'exchange': 'TIM', 'delivery_month': '202112', 'delivery_date': '', 'strike_price': 0.0, 'option_right': 'Future'}}\n",
      "Exchange.TAIFEX Tick(code='MXFL1', datetime=datetime.datetime(2021, 12, 15, 1, 7, 14, 184000), open=Decimal('17590'), underlying_price=Decimal('17599.37'), bid_side_total_vol=45243, ask_side_total_vol=44010, avg_price=Decimal('17550.354216'), close=Decimal('17515'), high=Decimal('17614'), low=Decimal('17500'), amount=Decimal('35030'), total_amount=Decimal('1079083529'), volume=2, total_volume=61485, tick_type=2, chg_type=4, price_chg=Decimal('-87'), pct_chg=Decimal('-0.494262'), simtrade=0)\n",
      "Exchange.TAIFEX Tick(code='MXFL1', datetime=datetime.datetime(2021, 12, 15, 1, 7, 14, 184000), open=Decimal('17590'), underlying_price=Decimal('17599.37'), bid_side_total_vol=45245, ask_side_total_vol=44010, avg_price=Decimal('17550.353641'), close=Decimal('17515'), high=Decimal('17614'), low=Decimal('17500'), amount=Decimal('17515'), total_amount=Decimal('1079101044'), volume=1, total_volume=61486, tick_type=2, chg_type=4, price_chg=Decimal('-87'), pct_chg=Decimal('-0.494262'), simtrade=0)\n",
      "Exchange.TAIFEX Tick(code='MXFL1', datetime=datetime.datetime(2021, 12, 15, 1, 7, 14, 184000), open=Decimal('17590'), underlying_price=Decimal('17599.37'), bid_side_total_vol=45246, ask_side_total_vol=44011, avg_price=Decimal('17550.353067'), close=Decimal('17515'), high=Decimal('17614'), low=Decimal('17500'), amount=Decimal('17515'), total_amount=Decimal('1079118559'), volume=1, total_volume=61487, tick_type=2, chg_type=4, price_chg=Decimal('-87'), pct_chg=Decimal('-0.494262'), simtrade=0)\n",
      "Exchange.TAIFEX Tick(code='MXFL1', datetime=datetime.datetime(2021, 12, 15, 1, 7, 14, 184000), open=Decimal('17590'), underlying_price=Decimal('17599.37'), bid_side_total_vol=45247, ask_side_total_vol=44012, avg_price=Decimal('17550.352492'), close=Decimal('17515'), high=Decimal('17614'), low=Decimal('17500'), amount=Decimal('17515'), total_amount=Decimal('1079136074'), volume=1, total_volume=61488, tick_type=2, chg_type=4, price_chg=Decimal('-87'), pct_chg=Decimal('-0.494262'), simtrade=0)\n",
      "Exchange.TAIFEX Tick(code='MXFL1', datetime=datetime.datetime(2021, 12, 15, 1, 7, 14, 194000), open=Decimal('17590'), underlying_price=Decimal('17599.37'), bid_side_total_vol=45248, ask_side_total_vol=44013, avg_price=Decimal('17550.351917'), close=Decimal('17515'), high=Decimal('17614'), low=Decimal('17500'), amount=Decimal('17515'), total_amount=Decimal('1079153589'), volume=1, total_volume=61489, tick_type=2, chg_type=4, price_chg=Decimal('-87'), pct_chg=Decimal('-0.494262'), simtrade=0)\n",
      "Exchange.TAIFEX Tick(code='MXFL1', datetime=datetime.datetime(2021, 12, 15, 1, 7, 14, 309000), open=Decimal('17590'), underlying_price=Decimal('17599.37'), bid_side_total_vol=45250, ask_side_total_vol=44013, avg_price=Decimal('17550.351358'), close=Decimal('17516'), high=Decimal('17614'), low=Decimal('17500'), amount=Decimal('17516'), total_amount=Decimal('1079171105'), volume=1, total_volume=61490, tick_type=1, chg_type=4, price_chg=Decimal('-86'), pct_chg=Decimal('-0.488581'), simtrade=0)\n",
      "Exchange.TAIFEX Tick(code='MXFL1', datetime=datetime.datetime(2021, 12, 15, 1, 7, 14, 475000), open=Decimal('17590'), underlying_price=Decimal('17599.37'), bid_side_total_vol=45250, ask_side_total_vol=44015, avg_price=Decimal('17550.350783'), close=Decimal('17515'), high=Decimal('17614'), low=Decimal('17500'), amount=Decimal('17515'), total_amount=Decimal('1079188620'), volume=1, total_volume=61491, tick_type=2, chg_type=4, price_chg=Decimal('-87'), pct_chg=Decimal('-0.494262'), simtrade=0)\n"
     ]
    },
    {
     "name": "stdout",
     "output_type": "stream",
     "text": [
      "Exchange.TAIFEX Tick(code='MXFL1', datetime=datetime.datetime(2021, 12, 15, 1, 7, 14, 885000), open=Decimal('17590'), underlying_price=Decimal('17599.37'), bid_side_total_vol=45251, ask_side_total_vol=44016, avg_price=Decimal('17550.350208'), close=Decimal('17515'), high=Decimal('17614'), low=Decimal('17500'), amount=Decimal('17515'), total_amount=Decimal('1079206135'), volume=1, total_volume=61492, tick_type=2, chg_type=4, price_chg=Decimal('-87'), pct_chg=Decimal('-0.494262'), simtrade=0)\n",
      "Exchange.TAIFEX Tick(code='MXFL1', datetime=datetime.datetime(2021, 12, 15, 1, 7, 14, 973000), open=Decimal('17590'), underlying_price=Decimal('17599.37'), bid_side_total_vol=45253, ask_side_total_vol=44016, avg_price=Decimal('17550.349633'), close=Decimal('17515'), high=Decimal('17614'), low=Decimal('17500'), amount=Decimal('17515'), total_amount=Decimal('1079223650'), volume=1, total_volume=61493, tick_type=1, chg_type=4, price_chg=Decimal('-87'), pct_chg=Decimal('-0.494262'), simtrade=0)\n",
      "Exchange.TAIFEX Tick(code='MXFL1', datetime=datetime.datetime(2021, 12, 15, 1, 7, 15, 259000), open=Decimal('17590'), underlying_price=Decimal('17599.37'), bid_side_total_vol=45253, ask_side_total_vol=44018, avg_price=Decimal('17550.349042'), close=Decimal('17514'), high=Decimal('17614'), low=Decimal('17500'), amount=Decimal('17514'), total_amount=Decimal('1079241164'), volume=1, total_volume=61494, tick_type=2, chg_type=4, price_chg=Decimal('-88'), pct_chg=Decimal('-0.499943'), simtrade=0)\n",
      "Exchange.TAIFEX Tick(code='MXFL1', datetime=datetime.datetime(2021, 12, 15, 1, 7, 16, 340000), open=Decimal('17590'), underlying_price=Decimal('17599.37'), bid_side_total_vol=45254, ask_side_total_vol=44019, avg_price=Decimal('17550.348451'), close=Decimal('17514'), high=Decimal('17614'), low=Decimal('17500'), amount=Decimal('17514'), total_amount=Decimal('1079258678'), volume=1, total_volume=61495, tick_type=2, chg_type=4, price_chg=Decimal('-88'), pct_chg=Decimal('-0.499943'), simtrade=0)\n",
      "Exchange.TAIFEX Tick(code='MXFL1', datetime=datetime.datetime(2021, 12, 15, 1, 7, 16, 965000), open=Decimal('17590'), underlying_price=Decimal('17599.37'), bid_side_total_vol=45255, ask_side_total_vol=44021, avg_price=Decimal('17550.347269'), close=Decimal('17514'), high=Decimal('17614'), low=Decimal('17500'), amount=Decimal('35028'), total_amount=Decimal('1079293706'), volume=2, total_volume=61497, tick_type=2, chg_type=4, price_chg=Decimal('-88'), pct_chg=Decimal('-0.499943'), simtrade=0)\n",
      "Exchange.TAIFEX Tick(code='MXFL1', datetime=datetime.datetime(2021, 12, 15, 1, 7, 16, 966000), open=Decimal('17590'), underlying_price=Decimal('17599.37'), bid_side_total_vol=45257, ask_side_total_vol=44021, avg_price=Decimal('17550.346678'), close=Decimal('17514'), high=Decimal('17614'), low=Decimal('17500'), amount=Decimal('17514'), total_amount=Decimal('1079311220'), volume=1, total_volume=61498, tick_type=2, chg_type=4, price_chg=Decimal('-88'), pct_chg=Decimal('-0.499943'), simtrade=0)\n",
      "Exchange.TAIFEX Tick(code='MXFL1', datetime=datetime.datetime(2021, 12, 15, 1, 7, 17, 337000), open=Decimal('17590'), underlying_price=Decimal('17599.37'), bid_side_total_vol=45259, ask_side_total_vol=44021, avg_price=Decimal('17550.346087'), close=Decimal('17514'), high=Decimal('17614'), low=Decimal('17500'), amount=Decimal('17514'), total_amount=Decimal('1079328734'), volume=1, total_volume=61499, tick_type=1, chg_type=4, price_chg=Decimal('-88'), pct_chg=Decimal('-0.499943'), simtrade=0)\n",
      "Exchange.TAIFEX Tick(code='MXFL1', datetime=datetime.datetime(2021, 12, 15, 1, 7, 17, 460000), open=Decimal('17590'), underlying_price=Decimal('17599.37'), bid_side_total_vol=45261, ask_side_total_vol=44022, avg_price=Decimal('17550.344905'), close=Decimal('17514'), high=Decimal('17614'), low=Decimal('17500'), amount=Decimal('35028'), total_amount=Decimal('1079363762'), volume=2, total_volume=61501, tick_type=1, chg_type=4, price_chg=Decimal('-88'), pct_chg=Decimal('-0.499943'), simtrade=0)\n",
      "Exchange.TAIFEX Tick(code='MXFL1', datetime=datetime.datetime(2021, 12, 15, 1, 7, 17, 659000), open=Decimal('17590'), underlying_price=Decimal('17599.37'), bid_side_total_vol=45262, ask_side_total_vol=44024, avg_price=Decimal('17550.343723'), close=Decimal('17514'), high=Decimal('17614'), low=Decimal('17500'), amount=Decimal('35028'), total_amount=Decimal('1079398790'), volume=2, total_volume=61503, tick_type=1, chg_type=4, price_chg=Decimal('-88'), pct_chg=Decimal('-0.499943'), simtrade=0)\n",
      "Exchange.TAIFEX Tick(code='MXFL1', datetime=datetime.datetime(2021, 12, 15, 1, 7, 18, 974000), open=Decimal('17590'), underlying_price=Decimal('17599.37'), bid_side_total_vol=45261, ask_side_total_vol=44027, avg_price=Decimal('17550.343116'), close=Decimal('17513'), high=Decimal('17614'), low=Decimal('17500'), amount=Decimal('17513'), total_amount=Decimal('1079416303'), volume=1, total_volume=61504, tick_type=2, chg_type=4, price_chg=Decimal('-89'), pct_chg=Decimal('-0.505624'), simtrade=0)\n",
      "Exchange.TAIFEX Tick(code='MXFL1', datetime=datetime.datetime(2021, 12, 15, 1, 7, 23, 828000), open=Decimal('17590'), underlying_price=Decimal('17599.37'), bid_side_total_vol=45262, ask_side_total_vol=44028, avg_price=Decimal('17550.342509'), close=Decimal('17513'), high=Decimal('17614'), low=Decimal('17500'), amount=Decimal('17513'), total_amount=Decimal('1079433816'), volume=1, total_volume=61505, tick_type=2, chg_type=4, price_chg=Decimal('-89'), pct_chg=Decimal('-0.505624'), simtrade=0)\n",
      "Exchange.TAIFEX Tick(code='MXFL1', datetime=datetime.datetime(2021, 12, 15, 1, 7, 25, 220000), open=Decimal('17590'), underlying_price=Decimal('17599.37'), bid_side_total_vol=45263, ask_side_total_vol=44031, avg_price=Decimal('17550.340687'), close=Decimal('17513'), high=Decimal('17614'), low=Decimal('17500'), amount=Decimal('52539'), total_amount=Decimal('1079486355'), volume=3, total_volume=61508, tick_type=2, chg_type=4, price_chg=Decimal('-89'), pct_chg=Decimal('-0.505624'), simtrade=0)\n",
      "Exchange.TAIFEX Tick(code='MXFL1', datetime=datetime.datetime(2021, 12, 15, 1, 7, 25, 926000), open=Decimal('17590'), underlying_price=Decimal('17599.37'), bid_side_total_vol=45265, ask_side_total_vol=44029, avg_price=Decimal('17550.34008'), close=Decimal('17513'), high=Decimal('17614'), low=Decimal('17500'), amount=Decimal('17513'), total_amount=Decimal('1079503868'), volume=1, total_volume=61509, tick_type=1, chg_type=4, price_chg=Decimal('-89'), pct_chg=Decimal('-0.505624'), simtrade=0)\n",
      "Exchange.TAIFEX Tick(code='MXFL1', datetime=datetime.datetime(2021, 12, 15, 1, 7, 25, 958000), open=Decimal('17590'), underlying_price=Decimal('17599.37'), bid_side_total_vol=45266, ask_side_total_vol=44030, avg_price=Decimal('17550.339473'), close=Decimal('17513'), high=Decimal('17614'), low=Decimal('17500'), amount=Decimal('17513'), total_amount=Decimal('1079521381'), volume=1, total_volume=61510, tick_type=1, chg_type=4, price_chg=Decimal('-89'), pct_chg=Decimal('-0.505624'), simtrade=0)\n",
      "Exchange.TAIFEX Tick(code='MXFL1', datetime=datetime.datetime(2021, 12, 15, 1, 7, 26, 389000), open=Decimal('17590'), underlying_price=Decimal('17599.37'), bid_side_total_vol=45267, ask_side_total_vol=44031, avg_price=Decimal('17550.338866'), close=Decimal('17513'), high=Decimal('17614'), low=Decimal('17500'), amount=Decimal('17513'), total_amount=Decimal('1079538894'), volume=1, total_volume=61511, tick_type=1, chg_type=4, price_chg=Decimal('-89'), pct_chg=Decimal('-0.505624'), simtrade=0)\n",
      "Exchange.TAIFEX Tick(code='MXFL1', datetime=datetime.datetime(2021, 12, 15, 1, 7, 26, 662000), open=Decimal('17590'), underlying_price=Decimal('17599.37'), bid_side_total_vol=45267, ask_side_total_vol=44035, avg_price=Decimal('17550.336996'), close=Decimal('17512'), high=Decimal('17614'), low=Decimal('17500'), amount=Decimal('52536'), total_amount=Decimal('1079591430'), volume=3, total_volume=61514, tick_type=2, chg_type=4, price_chg=Decimal('-90'), pct_chg=Decimal('-0.511306'), simtrade=0)\n",
      "Exchange.TAIFEX Tick(code='MXFL1', datetime=datetime.datetime(2021, 12, 15, 1, 7, 28, 553000), open=Decimal('17590'), underlying_price=Decimal('17599.37'), bid_side_total_vol=45271, ask_side_total_vol=44033, avg_price=Decimal('17550.336389'), close=Decimal('17513'), high=Decimal('17614'), low=Decimal('17500'), amount=Decimal('17513'), total_amount=Decimal('1079608943'), volume=1, total_volume=61515, tick_type=1, chg_type=4, price_chg=Decimal('-89'), pct_chg=Decimal('-0.505624'), simtrade=0)\n"
     ]
    },
    {
     "name": "stdout",
     "output_type": "stream",
     "text": [
      "Exchange.TAIFEX Tick(code='MXFL1', datetime=datetime.datetime(2021, 12, 15, 1, 7, 29, 265000), open=Decimal('17590'), underlying_price=Decimal('17599.37'), bid_side_total_vol=45271, ask_side_total_vol=44037, avg_price=Decimal('17550.334471'), close=Decimal('17511'), high=Decimal('17614'), low=Decimal('17500'), amount=Decimal('52533'), total_amount=Decimal('1079661476'), volume=3, total_volume=61518, tick_type=2, chg_type=4, price_chg=Decimal('-91'), pct_chg=Decimal('-0.516987'), simtrade=0)\n",
      "Exchange.TAIFEX Tick(code='MXFL1', datetime=datetime.datetime(2021, 12, 15, 1, 7, 38, 213000), open=Decimal('17590'), underlying_price=Decimal('17599.37'), bid_side_total_vol=45273, ask_side_total_vol=44037, avg_price=Decimal('17550.333225'), close=Decimal('17512'), high=Decimal('17614'), low=Decimal('17500'), amount=Decimal('35024'), total_amount=Decimal('1079696500'), volume=2, total_volume=61520, tick_type=2, chg_type=4, price_chg=Decimal('-90'), pct_chg=Decimal('-0.511306'), simtrade=0)\n",
      "Exchange.TAIFEX Tick(code='MXFL1', datetime=datetime.datetime(2021, 12, 15, 1, 7, 40, 649000), open=Decimal('17590'), underlying_price=Decimal('17599.37'), bid_side_total_vol=45275, ask_side_total_vol=44038, avg_price=Decimal('17550.331979'), close=Decimal('17512'), high=Decimal('17614'), low=Decimal('17500'), amount=Decimal('35024'), total_amount=Decimal('1079731524'), volume=2, total_volume=61522, tick_type=2, chg_type=4, price_chg=Decimal('-90'), pct_chg=Decimal('-0.511306'), simtrade=0)\n",
      "Exchange.TAIFEX Tick(code='MXFL1', datetime=datetime.datetime(2021, 12, 15, 1, 7, 43, 392000), open=Decimal('17590'), underlying_price=Decimal('17599.37'), bid_side_total_vol=45277, ask_side_total_vol=44038, avg_price=Decimal('17550.331339'), close=Decimal('17511'), high=Decimal('17614'), low=Decimal('17500'), amount=Decimal('17511'), total_amount=Decimal('1079749035'), volume=1, total_volume=61523, tick_type=2, chg_type=4, price_chg=Decimal('-91'), pct_chg=Decimal('-0.516987'), simtrade=0)\n",
      "Exchange.TAIFEX Tick(code='MXFL1', datetime=datetime.datetime(2021, 12, 15, 1, 7, 43, 677000), open=Decimal('17590'), underlying_price=Decimal('17599.37'), bid_side_total_vol=45279, ask_side_total_vol=44038, avg_price=Decimal('17550.330716'), close=Decimal('17512'), high=Decimal('17614'), low=Decimal('17500'), amount=Decimal('17512'), total_amount=Decimal('1079766547'), volume=1, total_volume=61524, tick_type=1, chg_type=4, price_chg=Decimal('-90'), pct_chg=Decimal('-0.511306'), simtrade=0)\n",
      "Exchange.TAIFEX Tick(code='MXFL1', datetime=datetime.datetime(2021, 12, 15, 1, 7, 45, 282000), open=Decimal('17590'), underlying_price=Decimal('17599.37'), bid_side_total_vol=45279, ask_side_total_vol=44040, avg_price=Decimal('17550.330093'), close=Decimal('17512'), high=Decimal('17614'), low=Decimal('17500'), amount=Decimal('17512'), total_amount=Decimal('1079784059'), volume=1, total_volume=61525, tick_type=2, chg_type=4, price_chg=Decimal('-90'), pct_chg=Decimal('-0.511306'), simtrade=0)\n",
      "Exchange.TAIFEX Tick(code='MXFL1', datetime=datetime.datetime(2021, 12, 15, 1, 7, 45, 808000), open=Decimal('17590'), underlying_price=Decimal('17599.37'), bid_side_total_vol=45281, ask_side_total_vol=44040, avg_price=Decimal('17550.329487'), close=Decimal('17513'), high=Decimal('17614'), low=Decimal('17500'), amount=Decimal('17513'), total_amount=Decimal('1079801572'), volume=1, total_volume=61526, tick_type=1, chg_type=4, price_chg=Decimal('-89'), pct_chg=Decimal('-0.505624'), simtrade=0)\n",
      "Exchange.TAIFEX Tick(code='MXFL1', datetime=datetime.datetime(2021, 12, 15, 1, 7, 45, 916000), open=Decimal('17590'), underlying_price=Decimal('17599.37'), bid_side_total_vol=45281, ask_side_total_vol=44042, avg_price=Decimal('17550.328864'), close=Decimal('17512'), high=Decimal('17614'), low=Decimal('17500'), amount=Decimal('17512'), total_amount=Decimal('1079819084'), volume=1, total_volume=61527, tick_type=2, chg_type=4, price_chg=Decimal('-90'), pct_chg=Decimal('-0.511306'), simtrade=0)\n",
      "Exchange.TAIFEX Tick(code='MXFL1', datetime=datetime.datetime(2021, 12, 15, 1, 7, 46, 221000), open=Decimal('17590'), underlying_price=Decimal('17599.37'), bid_side_total_vol=45283, ask_side_total_vol=44042, avg_price=Decimal('17550.328241'), close=Decimal('17512'), high=Decimal('17614'), low=Decimal('17500'), amount=Decimal('17512'), total_amount=Decimal('1079836596'), volume=1, total_volume=61528, tick_type=1, chg_type=4, price_chg=Decimal('-90'), pct_chg=Decimal('-0.511306'), simtrade=0)\n",
      "Exchange.TAIFEX Tick(code='MXFL1', datetime=datetime.datetime(2021, 12, 15, 1, 7, 46, 589000), open=Decimal('17590'), underlying_price=Decimal('17599.37'), bid_side_total_vol=45285, ask_side_total_vol=44043, avg_price=Decimal('17550.326995'), close=Decimal('17512'), high=Decimal('17614'), low=Decimal('17500'), amount=Decimal('35024'), total_amount=Decimal('1079871620'), volume=2, total_volume=61530, tick_type=1, chg_type=4, price_chg=Decimal('-90'), pct_chg=Decimal('-0.511306'), simtrade=0)\n",
      "Exchange.TAIFEX Tick(code='MXFL1', datetime=datetime.datetime(2021, 12, 15, 1, 7, 46, 589000), open=Decimal('17590'), underlying_price=Decimal('17599.37'), bid_side_total_vol=45285, ask_side_total_vol=44044, avg_price=Decimal('17550.326372'), close=Decimal('17512'), high=Decimal('17614'), low=Decimal('17500'), amount=Decimal('17512'), total_amount=Decimal('1079889132'), volume=1, total_volume=61531, tick_type=1, chg_type=4, price_chg=Decimal('-90'), pct_chg=Decimal('-0.511306'), simtrade=0)\n",
      "Exchange.TAIFEX Tick(code='MXFL1', datetime=datetime.datetime(2021, 12, 15, 1, 7, 49, 301000), open=Decimal('17590'), underlying_price=Decimal('17599.37'), bid_side_total_vol=45285, ask_side_total_vol=44046, avg_price=Decimal('17550.325749'), close=Decimal('17512'), high=Decimal('17614'), low=Decimal('17500'), amount=Decimal('17512'), total_amount=Decimal('1079906644'), volume=1, total_volume=61532, tick_type=2, chg_type=4, price_chg=Decimal('-90'), pct_chg=Decimal('-0.511306'), simtrade=0)\n",
      "Exchange.TAIFEX Tick(code='MXFL1', datetime=datetime.datetime(2021, 12, 15, 1, 7, 49, 822000), open=Decimal('17590'), underlying_price=Decimal('17599.37'), bid_side_total_vol=45287, ask_side_total_vol=44046, avg_price=Decimal('17550.325143'), close=Decimal('17513'), high=Decimal('17614'), low=Decimal('17500'), amount=Decimal('17513'), total_amount=Decimal('1079924157'), volume=1, total_volume=61533, tick_type=1, chg_type=4, price_chg=Decimal('-89'), pct_chg=Decimal('-0.505624'), simtrade=0)\n",
      "Exchange.TAIFEX Tick(code='MXFL1', datetime=datetime.datetime(2021, 12, 15, 1, 7, 50, 814000), open=Decimal('17590'), underlying_price=Decimal('17599.37'), bid_side_total_vol=45288, ask_side_total_vol=44047, avg_price=Decimal('17550.324552'), close=Decimal('17514'), high=Decimal('17614'), low=Decimal('17500'), amount=Decimal('17514'), total_amount=Decimal('1079941671'), volume=1, total_volume=61534, tick_type=1, chg_type=4, price_chg=Decimal('-88'), pct_chg=Decimal('-0.499943'), simtrade=0)\n",
      "Exchange.TAIFEX Tick(code='MXFL1', datetime=datetime.datetime(2021, 12, 15, 1, 7, 50, 846000), open=Decimal('17590'), underlying_price=Decimal('17599.37'), bid_side_total_vol=45288, ask_side_total_vol=44049, avg_price=Decimal('17550.323946'), close=Decimal('17513'), high=Decimal('17614'), low=Decimal('17500'), amount=Decimal('17513'), total_amount=Decimal('1079959184'), volume=1, total_volume=61535, tick_type=2, chg_type=4, price_chg=Decimal('-89'), pct_chg=Decimal('-0.505624'), simtrade=0)\n",
      "Exchange.TAIFEX Tick(code='MXFL1', datetime=datetime.datetime(2021, 12, 15, 1, 7, 52, 424000), open=Decimal('17590'), underlying_price=Decimal('17599.37'), bid_side_total_vol=45289, ask_side_total_vol=44050, avg_price=Decimal('17550.323323'), close=Decimal('17512'), high=Decimal('17614'), low=Decimal('17500'), amount=Decimal('17512'), total_amount=Decimal('1079976696'), volume=1, total_volume=61536, tick_type=2, chg_type=4, price_chg=Decimal('-90'), pct_chg=Decimal('-0.511306'), simtrade=0)\n",
      "Exchange.TAIFEX Tick(code='MXFL1', datetime=datetime.datetime(2021, 12, 15, 1, 7, 58, 108000), open=Decimal('17590'), underlying_price=Decimal('17599.37'), bid_side_total_vol=45290, ask_side_total_vol=44051, avg_price=Decimal('17550.322716'), close=Decimal('17513'), high=Decimal('17614'), low=Decimal('17500'), amount=Decimal('17513'), total_amount=Decimal('1079994209'), volume=1, total_volume=61537, tick_type=2, chg_type=4, price_chg=Decimal('-89'), pct_chg=Decimal('-0.505624'), simtrade=0)\n"
     ]
    },
    {
     "name": "stdout",
     "output_type": "stream",
     "text": [
      "Exchange.TAIFEX Tick(code='MXFL1', datetime=datetime.datetime(2021, 12, 15, 1, 8, 3, 11000), open=Decimal('17590'), underlying_price=Decimal('17599.37'), bid_side_total_vol=45294, ask_side_total_vol=44051, avg_price=Decimal('17550.320848'), close=Decimal('17512'), high=Decimal('17614'), low=Decimal('17500'), amount=Decimal('52536'), total_amount=Decimal('1080046745'), volume=3, total_volume=61540, tick_type=1, chg_type=4, price_chg=Decimal('-90'), pct_chg=Decimal('-0.511306'), simtrade=0)\n",
      "Exchange.TAIFEX Tick(code='MXFL1', datetime=datetime.datetime(2021, 12, 15, 1, 8, 3, 654000), open=Decimal('17590'), underlying_price=Decimal('17599.37'), bid_side_total_vol=45293, ask_side_total_vol=44054, avg_price=Decimal('17550.320242'), close=Decimal('17513'), high=Decimal('17614'), low=Decimal('17500'), amount=Decimal('17513'), total_amount=Decimal('1080064258'), volume=1, total_volume=61541, tick_type=1, chg_type=4, price_chg=Decimal('-89'), pct_chg=Decimal('-0.505624'), simtrade=0)\n",
      "Exchange.TAIFEX Tick(code='MXFL1', datetime=datetime.datetime(2021, 12, 15, 1, 8, 6, 536000), open=Decimal('17590'), underlying_price=Decimal('17599.37'), bid_side_total_vol=45294, ask_side_total_vol=44055, avg_price=Decimal('17550.319635'), close=Decimal('17513'), high=Decimal('17614'), low=Decimal('17500'), amount=Decimal('17513'), total_amount=Decimal('1080081771'), volume=1, total_volume=61542, tick_type=1, chg_type=4, price_chg=Decimal('-89'), pct_chg=Decimal('-0.505624'), simtrade=0)\n",
      "Exchange.TAIFEX Tick(code='MXFL1', datetime=datetime.datetime(2021, 12, 15, 1, 8, 8, 917000), open=Decimal('17590'), underlying_price=Decimal('17599.37'), bid_side_total_vol=45294, ask_side_total_vol=44057, avg_price=Decimal('17550.319013'), close=Decimal('17512'), high=Decimal('17614'), low=Decimal('17500'), amount=Decimal('17512'), total_amount=Decimal('1080099283'), volume=1, total_volume=61543, tick_type=2, chg_type=4, price_chg=Decimal('-90'), pct_chg=Decimal('-0.511306'), simtrade=0)\n",
      "Exchange.TAIFEX Tick(code='MXFL1', datetime=datetime.datetime(2021, 12, 15, 1, 8, 10, 622000), open=Decimal('17590'), underlying_price=Decimal('17599.37'), bid_side_total_vol=45296, ask_side_total_vol=44057, avg_price=Decimal('17550.31839'), close=Decimal('17512'), high=Decimal('17614'), low=Decimal('17500'), amount=Decimal('17512'), total_amount=Decimal('1080116795'), volume=1, total_volume=61544, tick_type=1, chg_type=4, price_chg=Decimal('-90'), pct_chg=Decimal('-0.511306'), simtrade=0)\n",
      "Exchange.TAIFEX Tick(code='MXFL1', datetime=datetime.datetime(2021, 12, 15, 1, 8, 11, 694000), open=Decimal('17590'), underlying_price=Decimal('17599.37'), bid_side_total_vol=45296, ask_side_total_vol=44059, avg_price=Decimal('17550.317751'), close=Decimal('17511'), high=Decimal('17614'), low=Decimal('17500'), amount=Decimal('17511'), total_amount=Decimal('1080134306'), volume=1, total_volume=61545, tick_type=2, chg_type=4, price_chg=Decimal('-91'), pct_chg=Decimal('-0.516987'), simtrade=0)\n",
      "Exchange.TAIFEX Tick(code='MXFL1', datetime=datetime.datetime(2021, 12, 15, 1, 8, 11, 694000), open=Decimal('17590'), underlying_price=Decimal('17599.37'), bid_side_total_vol=45297, ask_side_total_vol=44061, avg_price=Decimal('17550.316474'), close=Decimal('17511'), high=Decimal('17614'), low=Decimal('17500'), amount=Decimal('35022'), total_amount=Decimal('1080169328'), volume=2, total_volume=61547, tick_type=2, chg_type=4, price_chg=Decimal('-91'), pct_chg=Decimal('-0.516987'), simtrade=0)\n",
      "Exchange.TAIFEX Tick(code='MXFL1', datetime=datetime.datetime(2021, 12, 15, 1, 8, 11, 696000), open=Decimal('17590'), underlying_price=Decimal('17599.37'), bid_side_total_vol=45299, ask_side_total_vol=44071, avg_price=Decimal('17550.309448'), close=Decimal('17511'), high=Decimal('17614'), low=Decimal('17500'), amount=Decimal('192621'), total_amount=Decimal('1080361949'), volume=11, total_volume=61558, tick_type=2, chg_type=4, price_chg=Decimal('-91'), pct_chg=Decimal('-0.516987'), simtrade=0)\n",
      "Exchange.TAIFEX Tick(code='MXFL1', datetime=datetime.datetime(2021, 12, 15, 1, 8, 12, 134000), open=Decimal('17590'), underlying_price=Decimal('17599.37'), bid_side_total_vol=45311, ask_side_total_vol=44061, avg_price=Decimal('17550.308826'), close=Decimal('17512'), high=Decimal('17614'), low=Decimal('17500'), amount=Decimal('17512'), total_amount=Decimal('1080379461'), volume=1, total_volume=61559, tick_type=1, chg_type=4, price_chg=Decimal('-90'), pct_chg=Decimal('-0.511306'), simtrade=0)\n",
      "Exchange.TAIFEX Tick(code='MXFL1', datetime=datetime.datetime(2021, 12, 15, 1, 8, 15, 966000), open=Decimal('17590'), underlying_price=Decimal('17599.37'), bid_side_total_vol=45311, ask_side_total_vol=44063, avg_price=Decimal('17550.308187'), close=Decimal('17511'), high=Decimal('17614'), low=Decimal('17500'), amount=Decimal('17511'), total_amount=Decimal('1080396972'), volume=1, total_volume=61560, tick_type=2, chg_type=4, price_chg=Decimal('-91'), pct_chg=Decimal('-0.516987'), simtrade=0)\n",
      "Exchange.TAIFEX Tick(code='MXFL1', datetime=datetime.datetime(2021, 12, 15, 1, 8, 20, 855000), open=Decimal('17590'), underlying_price=Decimal('17599.37'), bid_side_total_vol=45313, ask_side_total_vol=44063, avg_price=Decimal('17550.307549'), close=Decimal('17511'), high=Decimal('17614'), low=Decimal('17500'), amount=Decimal('17511'), total_amount=Decimal('1080414483'), volume=1, total_volume=61561, tick_type=1, chg_type=4, price_chg=Decimal('-91'), pct_chg=Decimal('-0.516987'), simtrade=0)\n",
      "Exchange.TAIFEX Tick(code='MXFL1', datetime=datetime.datetime(2021, 12, 15, 1, 8, 27, 205000), open=Decimal('17590'), underlying_price=Decimal('17599.37'), bid_side_total_vol=45313, ask_side_total_vol=44065, avg_price=Decimal('17550.30691'), close=Decimal('17511'), high=Decimal('17614'), low=Decimal('17500'), amount=Decimal('17511'), total_amount=Decimal('1080431994'), volume=1, total_volume=61562, tick_type=2, chg_type=4, price_chg=Decimal('-91'), pct_chg=Decimal('-0.516987'), simtrade=0)\n",
      "Exchange.TAIFEX Tick(code='MXFL1', datetime=datetime.datetime(2021, 12, 15, 1, 8, 47, 963000), open=Decimal('17590'), underlying_price=Decimal('17599.37'), bid_side_total_vol=45314, ask_side_total_vol=44066, avg_price=Decimal('17550.306272'), close=Decimal('17511'), high=Decimal('17614'), low=Decimal('17500'), amount=Decimal('17511'), total_amount=Decimal('1080449505'), volume=1, total_volume=61563, tick_type=2, chg_type=4, price_chg=Decimal('-91'), pct_chg=Decimal('-0.516987'), simtrade=0)\n",
      "Exchange.TAIFEX Tick(code='MXFL1', datetime=datetime.datetime(2021, 12, 15, 1, 8, 50, 26000), open=Decimal('17590'), underlying_price=Decimal('17599.37'), bid_side_total_vol=45316, ask_side_total_vol=44066, avg_price=Decimal('17550.305633'), close=Decimal('17511'), high=Decimal('17614'), low=Decimal('17500'), amount=Decimal('17511'), total_amount=Decimal('1080467016'), volume=1, total_volume=61564, tick_type=1, chg_type=4, price_chg=Decimal('-91'), pct_chg=Decimal('-0.516987'), simtrade=0)\n",
      "Exchange.TAIFEX Tick(code='MXFL1', datetime=datetime.datetime(2021, 12, 15, 1, 8, 52, 423000), open=Decimal('17590'), underlying_price=Decimal('17599.37'), bid_side_total_vol=45317, ask_side_total_vol=44067, avg_price=Decimal('17550.304995'), close=Decimal('17511'), high=Decimal('17614'), low=Decimal('17500'), amount=Decimal('17511'), total_amount=Decimal('1080484527'), volume=1, total_volume=61565, tick_type=1, chg_type=4, price_chg=Decimal('-91'), pct_chg=Decimal('-0.516987'), simtrade=0)\n",
      "Exchange.TAIFEX Tick(code='MXFL1', datetime=datetime.datetime(2021, 12, 15, 1, 8, 58, 254000), open=Decimal('17590'), underlying_price=Decimal('17599.37'), bid_side_total_vol=45318, ask_side_total_vol=44068, avg_price=Decimal('17550.304356'), close=Decimal('17511'), high=Decimal('17614'), low=Decimal('17500'), amount=Decimal('17511'), total_amount=Decimal('1080502038'), volume=1, total_volume=61566, tick_type=1, chg_type=4, price_chg=Decimal('-91'), pct_chg=Decimal('-0.516987'), simtrade=0)\n",
      "Exchange.TAIFEX Tick(code='MXFL1', datetime=datetime.datetime(2021, 12, 15, 1, 9, 8, 974000), open=Decimal('17590'), underlying_price=Decimal('17599.37'), bid_side_total_vol=45324, ask_side_total_vol=44069, avg_price=Decimal('17550.300624'), close=Decimal('17512'), high=Decimal('17614'), low=Decimal('17500'), amount=Decimal('105072'), total_amount=Decimal('1080607110'), volume=6, total_volume=61572, tick_type=1, chg_type=4, price_chg=Decimal('-90'), pct_chg=Decimal('-0.511306'), simtrade=0)\n",
      "Exchange.TAIFEX Tick(code='MXFL1', datetime=datetime.datetime(2021, 12, 15, 1, 9, 9, 5000), open=Decimal('17590'), underlying_price=Decimal('17599.37'), bid_side_total_vol=45321, ask_side_total_vol=44073, avg_price=Decimal('17550.299412'), close=Decimal('17513'), high=Decimal('17614'), low=Decimal('17500'), amount=Decimal('35026'), total_amount=Decimal('1080642136'), volume=2, total_volume=61574, tick_type=1, chg_type=4, price_chg=Decimal('-89'), pct_chg=Decimal('-0.505624'), simtrade=0)\n"
     ]
    },
    {
     "name": "stdout",
     "output_type": "stream",
     "text": [
      "Exchange.TAIFEX Tick(code='MXFL1', datetime=datetime.datetime(2021, 12, 15, 1, 9, 16, 539000), open=Decimal('17590'), underlying_price=Decimal('17599.37'), bid_side_total_vol=45321, ask_side_total_vol=44075, avg_price=Decimal('17550.29879'), close=Decimal('17512'), high=Decimal('17614'), low=Decimal('17500'), amount=Decimal('17512'), total_amount=Decimal('1080659648'), volume=1, total_volume=61575, tick_type=1, chg_type=4, price_chg=Decimal('-90'), pct_chg=Decimal('-0.511306'), simtrade=0)\n",
      "Exchange.TAIFEX Tick(code='MXFL1', datetime=datetime.datetime(2021, 12, 15, 1, 9, 17, 546000), open=Decimal('17590'), underlying_price=Decimal('17599.37'), bid_side_total_vol=45321, ask_side_total_vol=44077, avg_price=Decimal('17550.298152'), close=Decimal('17511'), high=Decimal('17614'), low=Decimal('17500'), amount=Decimal('17511'), total_amount=Decimal('1080677159'), volume=1, total_volume=61576, tick_type=2, chg_type=4, price_chg=Decimal('-91'), pct_chg=Decimal('-0.516987'), simtrade=0)\n",
      "Exchange.TAIFEX Tick(code='MXFL1', datetime=datetime.datetime(2021, 12, 15, 1, 9, 22, 172000), open=Decimal('17590'), underlying_price=Decimal('17599.37'), bid_side_total_vol=45323, ask_side_total_vol=44077, avg_price=Decimal('17550.297546'), close=Decimal('17513'), high=Decimal('17614'), low=Decimal('17500'), amount=Decimal('17513'), total_amount=Decimal('1080694672'), volume=1, total_volume=61577, tick_type=1, chg_type=4, price_chg=Decimal('-89'), pct_chg=Decimal('-0.505624'), simtrade=0)\n",
      "Exchange.TAIFEX Tick(code='MXFL1', datetime=datetime.datetime(2021, 12, 15, 1, 9, 22, 545000), open=Decimal('17590'), underlying_price=Decimal('17599.37'), bid_side_total_vol=45323, ask_side_total_vol=44079, avg_price=Decimal('17550.296924'), close=Decimal('17512'), high=Decimal('17614'), low=Decimal('17500'), amount=Decimal('17512'), total_amount=Decimal('1080712184'), volume=1, total_volume=61578, tick_type=2, chg_type=4, price_chg=Decimal('-90'), pct_chg=Decimal('-0.511306'), simtrade=0)\n",
      "Exchange.TAIFEX Tick(code='MXFL1', datetime=datetime.datetime(2021, 12, 15, 1, 9, 26, 262000), open=Decimal('17590'), underlying_price=Decimal('17599.37'), bid_side_total_vol=45325, ask_side_total_vol=44079, avg_price=Decimal('17550.296302'), close=Decimal('17512'), high=Decimal('17614'), low=Decimal('17500'), amount=Decimal('17512'), total_amount=Decimal('1080729696'), volume=1, total_volume=61579, tick_type=1, chg_type=4, price_chg=Decimal('-90'), pct_chg=Decimal('-0.511306'), simtrade=0)\n",
      "Exchange.TAIFEX Tick(code='MXFL1', datetime=datetime.datetime(2021, 12, 15, 1, 9, 28, 894000), open=Decimal('17590'), underlying_price=Decimal('17599.37'), bid_side_total_vol=45325, ask_side_total_vol=44084, avg_price=Decimal('17550.29375'), close=Decimal('17511'), high=Decimal('17614'), low=Decimal('17500'), amount=Decimal('70044'), total_amount=Decimal('1080799740'), volume=4, total_volume=61583, tick_type=2, chg_type=4, price_chg=Decimal('-91'), pct_chg=Decimal('-0.516987'), simtrade=0)\n",
      "Exchange.TAIFEX Tick(code='MXFL1', datetime=datetime.datetime(2021, 12, 15, 1, 9, 28, 894000), open=Decimal('17590'), underlying_price=Decimal('17599.37'), bid_side_total_vol=45326, ask_side_total_vol=44083, avg_price=Decimal('17550.292474'), close=Decimal('17511'), high=Decimal('17614'), low=Decimal('17500'), amount=Decimal('35022'), total_amount=Decimal('1080834762'), volume=2, total_volume=61585, tick_type=2, chg_type=4, price_chg=Decimal('-91'), pct_chg=Decimal('-0.516987'), simtrade=0)\n",
      "Exchange.TAIFEX Tick(code='MXFL1', datetime=datetime.datetime(2021, 12, 15, 1, 9, 29, 372000), open=Decimal('17590'), underlying_price=Decimal('17599.37'), bid_side_total_vol=45328, ask_side_total_vol=44083, avg_price=Decimal('17550.29182'), close=Decimal('17510'), high=Decimal('17614'), low=Decimal('17500'), amount=Decimal('17510'), total_amount=Decimal('1080852272'), volume=1, total_volume=61586, tick_type=2, chg_type=4, price_chg=Decimal('-92'), pct_chg=Decimal('-0.522668'), simtrade=0)\n",
      "Exchange.TAIFEX Tick(code='MXFL1', datetime=datetime.datetime(2021, 12, 15, 1, 9, 31, 293000), open=Decimal('17590'), underlying_price=Decimal('17599.37'), bid_side_total_vol=45329, ask_side_total_vol=44084, avg_price=Decimal('17550.291165'), close=Decimal('17510'), high=Decimal('17614'), low=Decimal('17500'), amount=Decimal('17510'), total_amount=Decimal('1080869782'), volume=1, total_volume=61587, tick_type=2, chg_type=4, price_chg=Decimal('-92'), pct_chg=Decimal('-0.522668'), simtrade=0)\n",
      "Exchange.TAIFEX Tick(code='MXFL1', datetime=datetime.datetime(2021, 12, 15, 1, 9, 32, 32000), open=Decimal('17590'), underlying_price=Decimal('17599.37'), bid_side_total_vol=45330, ask_side_total_vol=44085, avg_price=Decimal('17550.290511'), close=Decimal('17510'), high=Decimal('17614'), low=Decimal('17500'), amount=Decimal('17510'), total_amount=Decimal('1080887292'), volume=1, total_volume=61588, tick_type=2, chg_type=4, price_chg=Decimal('-92'), pct_chg=Decimal('-0.522668'), simtrade=0)\n",
      "Exchange.TAIFEX Tick(code='MXFL1', datetime=datetime.datetime(2021, 12, 15, 1, 9, 36, 375000), open=Decimal('17590'), underlying_price=Decimal('17599.37'), bid_side_total_vol=45331, ask_side_total_vol=44087, avg_price=Decimal('17550.289203'), close=Decimal('17510'), high=Decimal('17614'), low=Decimal('17500'), amount=Decimal('35020'), total_amount=Decimal('1080922312'), volume=2, total_volume=61590, tick_type=2, chg_type=4, price_chg=Decimal('-92'), pct_chg=Decimal('-0.522668'), simtrade=0)\n",
      "Exchange.TAIFEX Tick(code='MXFL1', datetime=datetime.datetime(2021, 12, 15, 1, 9, 38, 323000), open=Decimal('17590'), underlying_price=Decimal('17599.37'), bid_side_total_vol=45334, ask_side_total_vol=44086, avg_price=Decimal('17550.288565'), close=Decimal('17511'), high=Decimal('17614'), low=Decimal('17500'), amount=Decimal('17511'), total_amount=Decimal('1080939823'), volume=1, total_volume=61591, tick_type=1, chg_type=4, price_chg=Decimal('-91'), pct_chg=Decimal('-0.516987'), simtrade=0)\n",
      "Exchange.TAIFEX Tick(code='MXFL1', datetime=datetime.datetime(2021, 12, 15, 1, 9, 41, 108000), open=Decimal('17590'), underlying_price=Decimal('17599.37'), bid_side_total_vol=45336, ask_side_total_vol=44087, avg_price=Decimal('17550.287322'), close=Decimal('17512'), high=Decimal('17614'), low=Decimal('17500'), amount=Decimal('35024'), total_amount=Decimal('1080974847'), volume=2, total_volume=61593, tick_type=1, chg_type=4, price_chg=Decimal('-90'), pct_chg=Decimal('-0.511306'), simtrade=0)\n",
      "Exchange.TAIFEX Tick(code='MXFL1', datetime=datetime.datetime(2021, 12, 15, 1, 9, 41, 110000), open=Decimal('17590'), underlying_price=Decimal('17599.37'), bid_side_total_vol=45336, ask_side_total_vol=44088, avg_price=Decimal('17550.2867'), close=Decimal('17512'), high=Decimal('17614'), low=Decimal('17500'), amount=Decimal('17512'), total_amount=Decimal('1080992359'), volume=1, total_volume=61594, tick_type=1, chg_type=4, price_chg=Decimal('-90'), pct_chg=Decimal('-0.511306'), simtrade=0)\n",
      "Exchange.TAIFEX Tick(code='MXFL1', datetime=datetime.datetime(2021, 12, 15, 1, 9, 42, 521000), open=Decimal('17590'), underlying_price=Decimal('17599.37'), bid_side_total_vol=45343, ask_side_total_vol=44089, avg_price=Decimal('17550.282463'), close=Decimal('17513'), high=Decimal('17614'), low=Decimal('17500'), amount=Decimal('122591'), total_amount=Decimal('1081114950'), volume=7, total_volume=61601, tick_type=1, chg_type=4, price_chg=Decimal('-89'), pct_chg=Decimal('-0.505624'), simtrade=0)\n",
      "Exchange.TAIFEX Tick(code='MXFL1', datetime=datetime.datetime(2021, 12, 15, 1, 9, 42, 521000), open=Decimal('17590'), underlying_price=Decimal('17599.37'), bid_side_total_vol=45340, ask_side_total_vol=44092, avg_price=Decimal('17550.280647'), close=Decimal('17513'), high=Decimal('17614'), low=Decimal('17500'), amount=Decimal('52539'), total_amount=Decimal('1081167489'), volume=3, total_volume=61604, tick_type=1, chg_type=4, price_chg=Decimal('-89'), pct_chg=Decimal('-0.505624'), simtrade=0)\n",
      "Exchange.TAIFEX Tick(code='MXFL1', datetime=datetime.datetime(2021, 12, 15, 1, 9, 42, 521000), open=Decimal('17590'), underlying_price=Decimal('17599.37'), bid_side_total_vol=45341, ask_side_total_vol=44094, avg_price=Decimal('17550.278832'), close=Decimal('17513'), high=Decimal('17614'), low=Decimal('17500'), amount=Decimal('52539'), total_amount=Decimal('1081220028'), volume=3, total_volume=61607, tick_type=1, chg_type=4, price_chg=Decimal('-89'), pct_chg=Decimal('-0.505624'), simtrade=0)\n",
      "Exchange.TAIFEX Tick(code='MXFL1', datetime=datetime.datetime(2021, 12, 15, 1, 9, 42, 521000), open=Decimal('17590'), underlying_price=Decimal('17599.37'), bid_side_total_vol=45340, ask_side_total_vol=44097, avg_price=Decimal('17550.278227'), close=Decimal('17513'), high=Decimal('17614'), low=Decimal('17500'), amount=Decimal('17513'), total_amount=Decimal('1081237541'), volume=1, total_volume=61608, tick_type=1, chg_type=4, price_chg=Decimal('-89'), pct_chg=Decimal('-0.505624'), simtrade=0)\n"
     ]
    },
    {
     "name": "stdout",
     "output_type": "stream",
     "text": [
      "Exchange.TAIFEX Tick(code='MXFL1', datetime=datetime.datetime(2021, 12, 15, 1, 9, 44, 847000), open=Decimal('17590'), underlying_price=Decimal('17599.37'), bid_side_total_vol=45341, ask_side_total_vol=44098, avg_price=Decimal('17550.277622'), close=Decimal('17513'), high=Decimal('17614'), low=Decimal('17500'), amount=Decimal('17513'), total_amount=Decimal('1081255054'), volume=1, total_volume=61609, tick_type=1, chg_type=4, price_chg=Decimal('-89'), pct_chg=Decimal('-0.505624'), simtrade=0)\n",
      "Exchange.TAIFEX Tick(code='MXFL1', datetime=datetime.datetime(2021, 12, 15, 1, 9, 45, 803000), open=Decimal('17590'), underlying_price=Decimal('17599.37'), bid_side_total_vol=45344, ask_side_total_vol=44099, avg_price=Decimal('17550.275855'), close=Decimal('17514'), high=Decimal('17614'), low=Decimal('17500'), amount=Decimal('52542'), total_amount=Decimal('1081307596'), volume=3, total_volume=61612, tick_type=1, chg_type=4, price_chg=Decimal('-88'), pct_chg=Decimal('-0.499943'), simtrade=0)\n",
      "Exchange.TAIFEX Tick(code='MXFL1', datetime=datetime.datetime(2021, 12, 15, 1, 9, 50, 767000), open=Decimal('17590'), underlying_price=Decimal('17599.37'), bid_side_total_vol=45342, ask_side_total_vol=44103, avg_price=Decimal('17550.27525'), close=Decimal('17513'), high=Decimal('17614'), low=Decimal('17500'), amount=Decimal('17513'), total_amount=Decimal('1081325109'), volume=1, total_volume=61613, tick_type=2, chg_type=4, price_chg=Decimal('-89'), pct_chg=Decimal('-0.505624'), simtrade=0)\n",
      "Exchange.TAIFEX Tick(code='MXFL1', datetime=datetime.datetime(2021, 12, 15, 1, 9, 50, 768000), open=Decimal('17590'), underlying_price=Decimal('17599.37'), bid_side_total_vol=45344, ask_side_total_vol=44103, avg_price=Decimal('17550.274662'), close=Decimal('17514'), high=Decimal('17614'), low=Decimal('17500'), amount=Decimal('17514'), total_amount=Decimal('1081342623'), volume=1, total_volume=61614, tick_type=1, chg_type=4, price_chg=Decimal('-88'), pct_chg=Decimal('-0.499943'), simtrade=0)\n",
      "Exchange.TAIFEX Tick(code='MXFL1', datetime=datetime.datetime(2021, 12, 15, 1, 9, 51, 932000), open=Decimal('17590'), underlying_price=Decimal('17599.37'), bid_side_total_vol=45344, ask_side_total_vol=44105, avg_price=Decimal('17550.274073'), close=Decimal('17514'), high=Decimal('17614'), low=Decimal('17500'), amount=Decimal('17514'), total_amount=Decimal('1081360137'), volume=1, total_volume=61615, tick_type=2, chg_type=4, price_chg=Decimal('-88'), pct_chg=Decimal('-0.499943'), simtrade=0)\n",
      "Exchange.TAIFEX Tick(code='MXFL1', datetime=datetime.datetime(2021, 12, 15, 1, 9, 54, 926000), open=Decimal('17590'), underlying_price=Decimal('17599.37'), bid_side_total_vol=45346, ask_side_total_vol=44105, avg_price=Decimal('17550.273484'), close=Decimal('17514'), high=Decimal('17614'), low=Decimal('17500'), amount=Decimal('17514'), total_amount=Decimal('1081377651'), volume=1, total_volume=61616, tick_type=1, chg_type=4, price_chg=Decimal('-88'), pct_chg=Decimal('-0.499943'), simtrade=0)\n",
      "Exchange.TAIFEX Tick(code='MXFL1', datetime=datetime.datetime(2021, 12, 15, 1, 9, 57, 491000), open=Decimal('17590'), underlying_price=Decimal('17599.37'), bid_side_total_vol=45347, ask_side_total_vol=44106, avg_price=Decimal('17550.272895'), close=Decimal('17514'), high=Decimal('17614'), low=Decimal('17500'), amount=Decimal('17514'), total_amount=Decimal('1081395165'), volume=1, total_volume=61617, tick_type=1, chg_type=4, price_chg=Decimal('-88'), pct_chg=Decimal('-0.499943'), simtrade=0)\n",
      "Exchange.TAIFEX Tick(code='MXFL1', datetime=datetime.datetime(2021, 12, 15, 1, 9, 59, 170000), open=Decimal('17590'), underlying_price=Decimal('17599.37'), bid_side_total_vol=45349, ask_side_total_vol=44107, avg_price=Decimal('17550.271718'), close=Decimal('17514'), high=Decimal('17614'), low=Decimal('17500'), amount=Decimal('35028'), total_amount=Decimal('1081430193'), volume=2, total_volume=61619, tick_type=1, chg_type=4, price_chg=Decimal('-88'), pct_chg=Decimal('-0.499943'), simtrade=0)\n",
      "Exchange.TAIFEX Tick(code='MXFL1', datetime=datetime.datetime(2021, 12, 15, 1, 10, 10, 204000), open=Decimal('17590'), underlying_price=Decimal('17599.37'), bid_side_total_vol=45350, ask_side_total_vol=44108, avg_price=Decimal('17550.270541'), close=Decimal('17514'), high=Decimal('17614'), low=Decimal('17500'), amount=Decimal('35028'), total_amount=Decimal('1081465221'), volume=2, total_volume=61621, tick_type=1, chg_type=4, price_chg=Decimal('-88'), pct_chg=Decimal('-0.499943'), simtrade=0)\n",
      "Exchange.TAIFEX Tick(code='MXFL1', datetime=datetime.datetime(2021, 12, 15, 1, 10, 11, 271000), open=Decimal('17590'), underlying_price=Decimal('17599.37'), bid_side_total_vol=45349, ask_side_total_vol=44110, avg_price=Decimal('17550.269936'), close=Decimal('17513'), high=Decimal('17614'), low=Decimal('17500'), amount=Decimal('17513'), total_amount=Decimal('1081482734'), volume=1, total_volume=61622, tick_type=2, chg_type=4, price_chg=Decimal('-89'), pct_chg=Decimal('-0.505624'), simtrade=0)\n",
      "Exchange.TAIFEX Tick(code='MXFL1', datetime=datetime.datetime(2021, 12, 15, 1, 10, 11, 272000), open=Decimal('17590'), underlying_price=Decimal('17599.37'), bid_side_total_vol=45352, ask_side_total_vol=44110, avg_price=Decimal('17550.268759'), close=Decimal('17514'), high=Decimal('17614'), low=Decimal('17500'), amount=Decimal('35028'), total_amount=Decimal('1081517762'), volume=2, total_volume=61624, tick_type=1, chg_type=4, price_chg=Decimal('-88'), pct_chg=Decimal('-0.499943'), simtrade=0)\n",
      "Exchange.TAIFEX Tick(code='MXFL1', datetime=datetime.datetime(2021, 12, 15, 1, 10, 11, 705000), open=Decimal('17590'), underlying_price=Decimal('17599.37'), bid_side_total_vol=45351, ask_side_total_vol=44113, avg_price=Decimal('17550.267549'), close=Decimal('17513'), high=Decimal('17614'), low=Decimal('17500'), amount=Decimal('35026'), total_amount=Decimal('1081552788'), volume=2, total_volume=61626, tick_type=2, chg_type=4, price_chg=Decimal('-89'), pct_chg=Decimal('-0.505624'), simtrade=0)\n",
      "Exchange.TAIFEX Tick(code='MXFL1', datetime=datetime.datetime(2021, 12, 15, 1, 10, 12, 137000), open=Decimal('17590'), underlying_price=Decimal('17599.37'), bid_side_total_vol=45354, ask_side_total_vol=44112, avg_price=Decimal('17550.266977'), close=Decimal('17515'), high=Decimal('17614'), low=Decimal('17500'), amount=Decimal('17515'), total_amount=Decimal('1081570303'), volume=1, total_volume=61627, tick_type=1, chg_type=4, price_chg=Decimal('-87'), pct_chg=Decimal('-0.494262'), simtrade=0)\n",
      "Exchange.TAIFEX Tick(code='MXFL1', datetime=datetime.datetime(2021, 12, 15, 1, 10, 17, 694000), open=Decimal('17590'), underlying_price=Decimal('17599.37'), bid_side_total_vol=45355, ask_side_total_vol=44113, avg_price=Decimal('17550.266405'), close=Decimal('17515'), high=Decimal('17614'), low=Decimal('17500'), amount=Decimal('17515'), total_amount=Decimal('1081587818'), volume=1, total_volume=61628, tick_type=1, chg_type=4, price_chg=Decimal('-87'), pct_chg=Decimal('-0.494262'), simtrade=0)\n",
      "Exchange.TAIFEX Tick(code='MXFL1', datetime=datetime.datetime(2021, 12, 15, 1, 10, 19, 260000), open=Decimal('17590'), underlying_price=Decimal('17599.37'), bid_side_total_vol=45357, ask_side_total_vol=44114, avg_price=Decimal('17550.26526'), close=Decimal('17515'), high=Decimal('17614'), low=Decimal('17500'), amount=Decimal('35030'), total_amount=Decimal('1081622848'), volume=2, total_volume=61630, tick_type=1, chg_type=4, price_chg=Decimal('-87'), pct_chg=Decimal('-0.494262'), simtrade=0)\n",
      "Exchange.TAIFEX Tick(code='MXFL1', datetime=datetime.datetime(2021, 12, 15, 1, 10, 19, 571000), open=Decimal('17590'), underlying_price=Decimal('17599.37'), bid_side_total_vol=45357, ask_side_total_vol=44116, avg_price=Decimal('17550.264688'), close=Decimal('17515'), high=Decimal('17614'), low=Decimal('17500'), amount=Decimal('17515'), total_amount=Decimal('1081640363'), volume=1, total_volume=61631, tick_type=1, chg_type=4, price_chg=Decimal('-87'), pct_chg=Decimal('-0.494262'), simtrade=0)\n",
      "Exchange.TAIFEX Tick(code='MXFL1', datetime=datetime.datetime(2021, 12, 15, 1, 10, 19, 934000), open=Decimal('17590'), underlying_price=Decimal('17599.37'), bid_side_total_vol=45357, ask_side_total_vol=44120, avg_price=Decimal('17550.262923'), close=Decimal('17514'), high=Decimal('17614'), low=Decimal('17500'), amount=Decimal('52542'), total_amount=Decimal('1081692905'), volume=3, total_volume=61634, tick_type=2, chg_type=4, price_chg=Decimal('-88'), pct_chg=Decimal('-0.499943'), simtrade=0)\n"
     ]
    },
    {
     "name": "stdout",
     "output_type": "stream",
     "text": [
      "Exchange.TAIFEX Tick(code='MXFL1', datetime=datetime.datetime(2021, 12, 15, 1, 10, 22, 60000), open=Decimal('17590'), underlying_price=Decimal('17599.37'), bid_side_total_vol=45362, ask_side_total_vol=44118, avg_price=Decimal('17550.261207'), close=Decimal('17515'), high=Decimal('17614'), low=Decimal('17500'), amount=Decimal('52545'), total_amount=Decimal('1081745450'), volume=3, total_volume=61637, tick_type=1, chg_type=4, price_chg=Decimal('-87'), pct_chg=Decimal('-0.494262'), simtrade=0)\n",
      "Exchange.TAIFEX Tick(code='MXFL1', datetime=datetime.datetime(2021, 12, 15, 1, 10, 23, 67000), open=Decimal('17590'), underlying_price=Decimal('17599.37'), bid_side_total_vol=45361, ask_side_total_vol=44121, avg_price=Decimal('17550.260635'), close=Decimal('17515'), high=Decimal('17614'), low=Decimal('17500'), amount=Decimal('17515'), total_amount=Decimal('1081762965'), volume=1, total_volume=61638, tick_type=1, chg_type=4, price_chg=Decimal('-87'), pct_chg=Decimal('-0.494262'), simtrade=0)\n",
      "Exchange.TAIFEX Tick(code='MXFL1', datetime=datetime.datetime(2021, 12, 15, 1, 10, 23, 769000), open=Decimal('17590'), underlying_price=Decimal('17599.37'), bid_side_total_vol=45364, ask_side_total_vol=44122, avg_price=Decimal('17550.258919'), close=Decimal('17515'), high=Decimal('17614'), low=Decimal('17500'), amount=Decimal('52545'), total_amount=Decimal('1081815510'), volume=3, total_volume=61641, tick_type=1, chg_type=4, price_chg=Decimal('-87'), pct_chg=Decimal('-0.494262'), simtrade=0)\n",
      "Exchange.TAIFEX Tick(code='MXFL1', datetime=datetime.datetime(2021, 12, 15, 1, 10, 24, 990000), open=Decimal('17590'), underlying_price=Decimal('17599.37'), bid_side_total_vol=45363, ask_side_total_vol=44124, avg_price=Decimal('17550.258347'), close=Decimal('17515'), high=Decimal('17614'), low=Decimal('17500'), amount=Decimal('17515'), total_amount=Decimal('1081833025'), volume=1, total_volume=61642, tick_type=1, chg_type=4, price_chg=Decimal('-87'), pct_chg=Decimal('-0.494262'), simtrade=0)\n",
      "Exchange.TAIFEX Tick(code='MXFL1', datetime=datetime.datetime(2021, 12, 15, 1, 10, 24, 990000), open=Decimal('17590'), underlying_price=Decimal('17599.37'), bid_side_total_vol=45364, ask_side_total_vol=44125, avg_price=Decimal('17550.257775'), close=Decimal('17515'), high=Decimal('17614'), low=Decimal('17500'), amount=Decimal('17515'), total_amount=Decimal('1081850540'), volume=1, total_volume=61643, tick_type=1, chg_type=4, price_chg=Decimal('-87'), pct_chg=Decimal('-0.494262'), simtrade=0)\n",
      "Exchange.TAIFEX Tick(code='MXFL1', datetime=datetime.datetime(2021, 12, 15, 1, 10, 25, 306000), open=Decimal('17590'), underlying_price=Decimal('17599.37'), bid_side_total_vol=45364, ask_side_total_vol=44127, avg_price=Decimal('17550.257186'), close=Decimal('17514'), high=Decimal('17614'), low=Decimal('17500'), amount=Decimal('17514'), total_amount=Decimal('1081868054'), volume=1, total_volume=61644, tick_type=2, chg_type=4, price_chg=Decimal('-88'), pct_chg=Decimal('-0.499943'), simtrade=0)\n",
      "Exchange.TAIFEX Tick(code='MXFL1', datetime=datetime.datetime(2021, 12, 15, 1, 10, 26, 169000), open=Decimal('17590'), underlying_price=Decimal('17599.37'), bid_side_total_vol=45365, ask_side_total_vol=44128, avg_price=Decimal('17550.256614'), close=Decimal('17515'), high=Decimal('17614'), low=Decimal('17500'), amount=Decimal('17515'), total_amount=Decimal('1081885569'), volume=1, total_volume=61645, tick_type=2, chg_type=4, price_chg=Decimal('-87'), pct_chg=Decimal('-0.494262'), simtrade=0)\n",
      "Exchange.TAIFEX Tick(code='MXFL1', datetime=datetime.datetime(2021, 12, 15, 1, 10, 28, 193000), open=Decimal('17590'), underlying_price=Decimal('17599.37'), bid_side_total_vol=45367, ask_side_total_vol=44128, avg_price=Decimal('17550.256059'), close=Decimal('17516'), high=Decimal('17614'), low=Decimal('17500'), amount=Decimal('17516'), total_amount=Decimal('1081903085'), volume=1, total_volume=61646, tick_type=1, chg_type=4, price_chg=Decimal('-86'), pct_chg=Decimal('-0.488581'), simtrade=0)\n",
      "Exchange.TAIFEX Tick(code='MXFL1', datetime=datetime.datetime(2021, 12, 15, 1, 10, 28, 315000), open=Decimal('17590'), underlying_price=Decimal('17599.37'), bid_side_total_vol=45367, ask_side_total_vol=44130, avg_price=Decimal('17550.255471'), close=Decimal('17514'), high=Decimal('17614'), low=Decimal('17500'), amount=Decimal('17514'), total_amount=Decimal('1081920599'), volume=1, total_volume=61647, tick_type=2, chg_type=4, price_chg=Decimal('-88'), pct_chg=Decimal('-0.499943'), simtrade=0)\n",
      "Exchange.TAIFEX Tick(code='MXFL1', datetime=datetime.datetime(2021, 12, 15, 1, 10, 28, 484000), open=Decimal('17590'), underlying_price=Decimal('17599.37'), bid_side_total_vol=45369, ask_side_total_vol=44130, avg_price=Decimal('17550.254915'), close=Decimal('17516'), high=Decimal('17614'), low=Decimal('17500'), amount=Decimal('17516'), total_amount=Decimal('1081938115'), volume=1, total_volume=61648, tick_type=1, chg_type=4, price_chg=Decimal('-86'), pct_chg=Decimal('-0.488581'), simtrade=0)\n",
      "Exchange.TAIFEX Tick(code='MXFL1', datetime=datetime.datetime(2021, 12, 15, 1, 10, 30, 842000), open=Decimal('17590'), underlying_price=Decimal('17599.37'), bid_side_total_vol=45370, ask_side_total_vol=44131, avg_price=Decimal('17550.254359'), close=Decimal('17516'), high=Decimal('17614'), low=Decimal('17500'), amount=Decimal('17516'), total_amount=Decimal('1081955631'), volume=1, total_volume=61649, tick_type=1, chg_type=4, price_chg=Decimal('-86'), pct_chg=Decimal('-0.488581'), simtrade=0)\n",
      "Exchange.TAIFEX Tick(code='MXFL1', datetime=datetime.datetime(2021, 12, 15, 1, 10, 31, 923000), open=Decimal('17590'), underlying_price=Decimal('17599.37'), bid_side_total_vol=45371, ask_side_total_vol=44132, avg_price=Decimal('17550.253804'), close=Decimal('17516'), high=Decimal('17614'), low=Decimal('17500'), amount=Decimal('17516'), total_amount=Decimal('1081973147'), volume=1, total_volume=61650, tick_type=1, chg_type=4, price_chg=Decimal('-86'), pct_chg=Decimal('-0.488581'), simtrade=0)\n",
      "Exchange.TAIFEX Tick(code='MXFL1', datetime=datetime.datetime(2021, 12, 15, 1, 10, 35, 215000), open=Decimal('17590'), underlying_price=Decimal('17599.37'), bid_side_total_vol=45371, ask_side_total_vol=44134, avg_price=Decimal('17550.253232'), close=Decimal('17515'), high=Decimal('17614'), low=Decimal('17500'), amount=Decimal('17515'), total_amount=Decimal('1081990662'), volume=1, total_volume=61651, tick_type=2, chg_type=4, price_chg=Decimal('-87'), pct_chg=Decimal('-0.494262'), simtrade=0)\n",
      "Exchange.TAIFEX Tick(code='MXFL1', datetime=datetime.datetime(2021, 12, 15, 1, 10, 35, 231000), open=Decimal('17590'), underlying_price=Decimal('17599.37'), bid_side_total_vol=45373, ask_side_total_vol=44134, avg_price=Decimal('17550.252676'), close=Decimal('17516'), high=Decimal('17614'), low=Decimal('17500'), amount=Decimal('17516'), total_amount=Decimal('1082008178'), volume=1, total_volume=61652, tick_type=1, chg_type=4, price_chg=Decimal('-86'), pct_chg=Decimal('-0.488581'), simtrade=0)\n",
      "Exchange.TAIFEX Tick(code='MXFL1', datetime=datetime.datetime(2021, 12, 15, 1, 10, 37, 718000), open=Decimal('17590'), underlying_price=Decimal('17599.37'), bid_side_total_vol=45374, ask_side_total_vol=44135, avg_price=Decimal('17550.252105'), close=Decimal('17515'), high=Decimal('17614'), low=Decimal('17500'), amount=Decimal('17515'), total_amount=Decimal('1082025693'), volume=1, total_volume=61653, tick_type=1, chg_type=4, price_chg=Decimal('-87'), pct_chg=Decimal('-0.494262'), simtrade=0)\n",
      "Exchange.TAIFEX Tick(code='MXFL1', datetime=datetime.datetime(2021, 12, 15, 1, 10, 38, 392000), open=Decimal('17590'), underlying_price=Decimal('17599.37'), bid_side_total_vol=45375, ask_side_total_vol=44136, avg_price=Decimal('17550.251533'), close=Decimal('17515'), high=Decimal('17614'), low=Decimal('17500'), amount=Decimal('17515'), total_amount=Decimal('1082043208'), volume=1, total_volume=61654, tick_type=1, chg_type=4, price_chg=Decimal('-87'), pct_chg=Decimal('-0.494262'), simtrade=0)\n",
      "Exchange.TAIFEX Tick(code='MXFL1', datetime=datetime.datetime(2021, 12, 15, 1, 10, 39, 360000), open=Decimal('17590'), underlying_price=Decimal('17599.37'), bid_side_total_vol=45378, ask_side_total_vol=44137, avg_price=Decimal('17550.249818'), close=Decimal('17515'), high=Decimal('17614'), low=Decimal('17500'), amount=Decimal('52545'), total_amount=Decimal('1082095753'), volume=3, total_volume=61657, tick_type=1, chg_type=4, price_chg=Decimal('-87'), pct_chg=Decimal('-0.494262'), simtrade=0)\n"
     ]
    },
    {
     "name": "stdout",
     "output_type": "stream",
     "text": [
      "Exchange.TAIFEX Tick(code='MXFL1', datetime=datetime.datetime(2021, 12, 15, 1, 10, 39, 851000), open=Decimal('17590'), underlying_price=Decimal('17599.37'), bid_side_total_vol=45376, ask_side_total_vol=44140, avg_price=Decimal('17550.24923'), close=Decimal('17514'), high=Decimal('17614'), low=Decimal('17500'), amount=Decimal('17514'), total_amount=Decimal('1082113267'), volume=1, total_volume=61658, tick_type=2, chg_type=4, price_chg=Decimal('-88'), pct_chg=Decimal('-0.499943'), simtrade=0)\n",
      "Exchange.TAIFEX Tick(code='MXFL1', datetime=datetime.datetime(2021, 12, 15, 1, 10, 41, 525000), open=Decimal('17590'), underlying_price=Decimal('17599.37'), bid_side_total_vol=45378, ask_side_total_vol=44140, avg_price=Decimal('17550.248658'), close=Decimal('17515'), high=Decimal('17614'), low=Decimal('17500'), amount=Decimal('17515'), total_amount=Decimal('1082130782'), volume=1, total_volume=61659, tick_type=1, chg_type=4, price_chg=Decimal('-87'), pct_chg=Decimal('-0.494262'), simtrade=0)\n",
      "Exchange.TAIFEX Tick(code='MXFL1', datetime=datetime.datetime(2021, 12, 15, 1, 10, 43, 476000), open=Decimal('17590'), underlying_price=Decimal('17599.37'), bid_side_total_vol=45378, ask_side_total_vol=44143, avg_price=Decimal('17550.247482'), close=Decimal('17514'), high=Decimal('17614'), low=Decimal('17500'), amount=Decimal('35028'), total_amount=Decimal('1082165810'), volume=2, total_volume=61661, tick_type=2, chg_type=4, price_chg=Decimal('-88'), pct_chg=Decimal('-0.499943'), simtrade=0)\n",
      "Exchange.TAIFEX Tick(code='MXFL1', datetime=datetime.datetime(2021, 12, 15, 1, 10, 48, 176000), open=Decimal('17590'), underlying_price=Decimal('17599.37'), bid_side_total_vol=45381, ask_side_total_vol=44142, avg_price=Decimal('17550.246911'), close=Decimal('17515'), high=Decimal('17614'), low=Decimal('17500'), amount=Decimal('17515'), total_amount=Decimal('1082183325'), volume=1, total_volume=61662, tick_type=1, chg_type=4, price_chg=Decimal('-87'), pct_chg=Decimal('-0.494262'), simtrade=0)\n",
      "Exchange.TAIFEX Tick(code='MXFL1', datetime=datetime.datetime(2021, 12, 15, 1, 10, 54, 526000), open=Decimal('17590'), underlying_price=Decimal('17599.37'), bid_side_total_vol=45382, ask_side_total_vol=44143, avg_price=Decimal('17550.246339'), close=Decimal('17515'), high=Decimal('17614'), low=Decimal('17500'), amount=Decimal('17515'), total_amount=Decimal('1082200840'), volume=1, total_volume=61663, tick_type=1, chg_type=4, price_chg=Decimal('-87'), pct_chg=Decimal('-0.494262'), simtrade=0)\n",
      "Exchange.TAIFEX Tick(code='MXFL1', datetime=datetime.datetime(2021, 12, 15, 1, 11, 3, 84000), open=Decimal('17590'), underlying_price=Decimal('17599.37'), bid_side_total_vol=45382, ask_side_total_vol=44145, avg_price=Decimal('17550.245751'), close=Decimal('17514'), high=Decimal('17614'), low=Decimal('17500'), amount=Decimal('17514'), total_amount=Decimal('1082218354'), volume=1, total_volume=61664, tick_type=2, chg_type=4, price_chg=Decimal('-88'), pct_chg=Decimal('-0.499943'), simtrade=0)\n",
      "Exchange.TAIFEX Tick(code='MXFL1', datetime=datetime.datetime(2021, 12, 15, 1, 11, 3, 85000), open=Decimal('17590'), underlying_price=Decimal('17599.37'), bid_side_total_vol=45383, ask_side_total_vol=44147, avg_price=Decimal('17550.244576'), close=Decimal('17514'), high=Decimal('17614'), low=Decimal('17500'), amount=Decimal('35028'), total_amount=Decimal('1082253382'), volume=2, total_volume=61666, tick_type=2, chg_type=4, price_chg=Decimal('-88'), pct_chg=Decimal('-0.499943'), simtrade=0)\n",
      "Exchange.TAIFEX Tick(code='MXFL1', datetime=datetime.datetime(2021, 12, 15, 1, 11, 13, 297000), open=Decimal('17590'), underlying_price=Decimal('17599.37'), bid_side_total_vol=45385, ask_side_total_vol=44147, avg_price=Decimal('17550.243972'), close=Decimal('17513'), high=Decimal('17614'), low=Decimal('17500'), amount=Decimal('17513'), total_amount=Decimal('1082270895'), volume=1, total_volume=61667, tick_type=2, chg_type=4, price_chg=Decimal('-89'), pct_chg=Decimal('-0.505624'), simtrade=0)\n",
      "Exchange.TAIFEX Tick(code='MXFL1', datetime=datetime.datetime(2021, 12, 15, 1, 11, 13, 297000), open=Decimal('17590'), underlying_price=Decimal('17599.37'), bid_side_total_vol=45386, ask_side_total_vol=44153, avg_price=Decimal('17550.240348'), close=Decimal('17513'), high=Decimal('17614'), low=Decimal('17500'), amount=Decimal('105078'), total_amount=Decimal('1082375973'), volume=6, total_volume=61673, tick_type=2, chg_type=4, price_chg=Decimal('-89'), pct_chg=Decimal('-0.505624'), simtrade=0)\n",
      "Exchange.TAIFEX Tick(code='MXFL1', datetime=datetime.datetime(2021, 12, 15, 1, 11, 15, 323000), open=Decimal('17590'), underlying_price=Decimal('17599.37'), bid_side_total_vol=45393, ask_side_total_vol=44148, avg_price=Decimal('17550.239173'), close=Decimal('17514'), high=Decimal('17614'), low=Decimal('17500'), amount=Decimal('35028'), total_amount=Decimal('1082411001'), volume=2, total_volume=61675, tick_type=1, chg_type=4, price_chg=Decimal('-88'), pct_chg=Decimal('-0.499943'), simtrade=0)\n",
      "Exchange.TAIFEX Tick(code='MXFL1', datetime=datetime.datetime(2021, 12, 15, 1, 11, 22, 524000), open=Decimal('17590'), underlying_price=Decimal('17599.37'), bid_side_total_vol=45395, ask_side_total_vol=44150, avg_price=Decimal('17550.23741'), close=Decimal('17514'), high=Decimal('17614'), low=Decimal('17500'), amount=Decimal('52542'), total_amount=Decimal('1082463543'), volume=3, total_volume=61678, tick_type=1, chg_type=4, price_chg=Decimal('-88'), pct_chg=Decimal('-0.499943'), simtrade=0)\n",
      "Exchange.TAIFEX Tick(code='MXFL1', datetime=datetime.datetime(2021, 12, 15, 1, 11, 23, 459000), open=Decimal('17590'), underlying_price=Decimal('17599.37'), bid_side_total_vol=45393, ask_side_total_vol=44154, avg_price=Decimal('17550.23679'), close=Decimal('17512'), high=Decimal('17614'), low=Decimal('17500'), amount=Decimal('17512'), total_amount=Decimal('1082481055'), volume=1, total_volume=61679, tick_type=2, chg_type=4, price_chg=Decimal('-90'), pct_chg=Decimal('-0.511306'), simtrade=0)\n",
      "Exchange.TAIFEX Tick(code='MXFL1', datetime=datetime.datetime(2021, 12, 15, 1, 11, 25, 686000), open=Decimal('17590'), underlying_price=Decimal('17599.37'), bid_side_total_vol=45395, ask_side_total_vol=44154, avg_price=Decimal('17550.236187'), close=Decimal('17513'), high=Decimal('17614'), low=Decimal('17500'), amount=Decimal('17513'), total_amount=Decimal('1082498568'), volume=1, total_volume=61680, tick_type=1, chg_type=4, price_chg=Decimal('-89'), pct_chg=Decimal('-0.505624'), simtrade=0)\n",
      "Exchange.TAIFEX Tick(code='MXFL1', datetime=datetime.datetime(2021, 12, 15, 1, 11, 30, 559000), open=Decimal('17590'), underlying_price=Decimal('17599.37'), bid_side_total_vol=45396, ask_side_total_vol=44155, avg_price=Decimal('17550.235583'), close=Decimal('17513'), high=Decimal('17614'), low=Decimal('17500'), amount=Decimal('17513'), total_amount=Decimal('1082516081'), volume=1, total_volume=61681, tick_type=1, chg_type=4, price_chg=Decimal('-89'), pct_chg=Decimal('-0.505624'), simtrade=0)\n",
      "Exchange.TAIFEX Tick(code='MXFL1', datetime=datetime.datetime(2021, 12, 15, 1, 11, 30, 564000), open=Decimal('17590'), underlying_price=Decimal('17599.37'), bid_side_total_vol=45397, ask_side_total_vol=44156, avg_price=Decimal('17550.234979'), close=Decimal('17513'), high=Decimal('17614'), low=Decimal('17500'), amount=Decimal('17513'), total_amount=Decimal('1082533594'), volume=1, total_volume=61682, tick_type=1, chg_type=4, price_chg=Decimal('-89'), pct_chg=Decimal('-0.505624'), simtrade=0)\n",
      "Exchange.TAIFEX Tick(code='MXFL1', datetime=datetime.datetime(2021, 12, 15, 1, 11, 32, 694000), open=Decimal('17590'), underlying_price=Decimal('17599.37'), bid_side_total_vol=45398, ask_side_total_vol=44157, avg_price=Decimal('17550.234376'), close=Decimal('17513'), high=Decimal('17614'), low=Decimal('17500'), amount=Decimal('17513'), total_amount=Decimal('1082551107'), volume=1, total_volume=61683, tick_type=1, chg_type=4, price_chg=Decimal('-89'), pct_chg=Decimal('-0.505624'), simtrade=0)\n"
     ]
    }
   ],
   "source": [
    "api.quote.subscribe(\n",
    "    api.Contracts.Futures['MXFL1'],\n",
    "    quote_type = sj.constant.QuoteType.Tick, # or 'tick'\n",
    "    version = sj.constant.QuoteVersion.v1, # or 'v1'\n",
    "    intraday_odd = True\n",
    ")"
   ]
  },
  {
   "cell_type": "code",
   "execution_count": 3,
   "id": "2f50ecb1",
   "metadata": {},
   "outputs": [
    {
     "data": {
      "text/plain": [
       "FutureAccount(person_id='N125685958', broker_id='F002000', account_id='1645949', signed=True, username='曾天裕')"
      ]
     },
     "execution_count": 3,
     "metadata": {},
     "output_type": "execute_result"
    },
    {
     "name": "stdout",
     "output_type": "stream",
     "text": [
      "<SecurityType.Stock: 'STK'> fetch done.\n",
      "<SecurityType.Option: 'OPT'> fetch done.\n"
     ]
    }
   ],
   "source": [
    "api.futopt_account"
   ]
  },
  {
   "cell_type": "markdown",
   "id": "994a796f",
   "metadata": {},
   "source": [
    "期貨下單"
   ]
  },
  {
   "cell_type": "code",
   "execution_count": 66,
   "id": "19384b10",
   "metadata": {},
   "outputs": [
    {
     "data": {
      "text/plain": [
       "Order(action=<Action.Buy: 'Buy'>, price=0, quantity=1, account=FutureAccount(person_id='N125685958', broker_id='F002000', account_id='1645949', signed=True, username='曾天裕'), price_type=<FuturesPriceType.MKT: 'MKT'>, order_type=<FuturesOrderType.FOK: 'FOK'>)"
      ]
     },
     "execution_count": 66,
     "metadata": {},
     "output_type": "execute_result"
    },
    {
     "name": "stdout",
     "output_type": "stream",
     "text": [
      "Exchange.TAIFEX Tick(code='MXFL1', datetime=datetime.datetime(2021, 12, 15, 1, 11, 36, 766000), open=Decimal('17590'), underlying_price=Decimal('17599.37'), bid_side_total_vol=45400, ask_side_total_vol=44158, avg_price=Decimal('17550.233201'), close=Decimal('17514'), high=Decimal('17614'), low=Decimal('17500'), amount=Decimal('35028'), total_amount=Decimal('1082586135'), volume=2, total_volume=61685, tick_type=1, chg_type=4, price_chg=Decimal('-88'), pct_chg=Decimal('-0.499943'), simtrade=0)\n"
     ]
    }
   ],
   "source": [
    "fut_order = api.Order(\n",
    "    action=sj.constant.Action.Buy,\n",
    "    price=0,\n",
    "    quantity=1,\n",
    "    price_type=sj.constant.FuturesPriceType.MKT,\n",
    "    order_type=sj.constant.FuturesOrderType.FOK, \n",
    "    octype=sj.constant.FuturesOCType.Auto,\n",
    "    account=api.futopt_account   #這一行指定帳戶\n",
    ")\n",
    "fut_order"
   ]
  },
  {
   "cell_type": "code",
   "execution_count": 68,
   "id": "05ea14b6",
   "metadata": {},
   "outputs": [
    {
     "data": {
      "text/plain": [
       "Future(code='MXFL1', symbol='MXF202112', name='小型臺指12', category='MXF', delivery_month='202112', delivery_date='2021/12/15', underlying_kind='I', unit=1, limit_up=19528.0, limit_down=15978.0, reference=17753.0, update_date='2021/12/14')"
      ]
     },
     "execution_count": 68,
     "metadata": {},
     "output_type": "execute_result"
    }
   ],
   "source": [
    "contract_txf = api.Contracts.Futures.MXF.MXF202112\n",
    "contract_txf"
   ]
  },
  {
   "cell_type": "code",
   "execution_count": 69,
   "id": "f9740dd5",
   "metadata": {},
   "outputs": [
    {
     "name": "stdout",
     "output_type": "stream",
     "text": [
      "Exchange.TAIFEX Tick(code='MXFL1', datetime=datetime.datetime(2021, 12, 15, 1, 11, 46, 359000), open=Decimal('17590'), underlying_price=Decimal('17599.37'), bid_side_total_vol=45402, ask_side_total_vol=44164, avg_price=Decimal('17550.229106'), close=Decimal('17515'), high=Decimal('17614'), low=Decimal('17500'), amount=Decimal('17515'), total_amount=Decimal('1082708734'), volume=1, total_volume=61692, tick_type=1, chg_type=4, price_chg=Decimal('-87'), pct_chg=Decimal('-0.494262'), simtrade=0)\n",
      "OrderState.FOrder {'operation': {'op_type': 'New', 'op_code': '00', 'op_msg': ''}, 'order': {'id': '72ed812e', 'seqno': '447660', 'ordno': 'tM0VB', 'account': {'account_type': 'F', 'person_id': '', 'broker_id': 'F002000', 'account_id': '1645949', 'signed': True}, 'action': 'Buy', 'price': 0.0, 'quantity': 1, 'order_type': 'FOK', 'market_type': 'Night', 'oc_type': 'New', 'subaccount': ''}, 'status': {'id': '72ed812e', 'exchange_ts': 1639415506, 'modified_price': 0.0, 'cancel_quantity': 0, 'order_quantity': 1}, 'contract': {'security_type': 'FUT', 'code': 'MXF', 'exchange': 'TIM', 'delivery_month': '202112', 'delivery_date': '', 'strike_price': 0.0, 'option_right': 'Future'}}\n",
      "OrderState.FDeal {'trade_id': '72ed812e', 'seqno': '447660', 'ordno': 'tM0VB31K', 'exchange_seq': 'j0009200', 'broker_id': 'F002000', 'account_id': '1645949', 'action': 'Buy', 'code': 'MXF', 'price': 17515.0, 'quantity': 1, 'subaccount': '', 'security_type': 'FUT', 'delivery_month': '202112', 'strike_price': 0.0, 'option_right': 'Future', 'market_type': 'Night', 'ts': 1639415506}\n",
      "Exchange.TAIFEX Tick(code='MXFL1', datetime=datetime.datetime(2021, 12, 15, 1, 11, 50, 884000), open=Decimal('17590'), underlying_price=Decimal('17599.37'), bid_side_total_vol=45406, ask_side_total_vol=44165, avg_price=Decimal('17550.226822'), close=Decimal('17515'), high=Decimal('17614'), low=Decimal('17500'), amount=Decimal('70060'), total_amount=Decimal('1082778794'), volume=4, total_volume=61696, tick_type=1, chg_type=4, price_chg=Decimal('-87'), pct_chg=Decimal('-0.494262'), simtrade=0)\n",
      "Exchange.TAIFEX Tick(code='MXFL1', datetime=datetime.datetime(2021, 12, 15, 1, 11, 52, 558000), open=Decimal('17590'), underlying_price=Decimal('17599.37'), bid_side_total_vol=45404, ask_side_total_vol=44168, avg_price=Decimal('17550.226251'), close=Decimal('17515'), high=Decimal('17614'), low=Decimal('17500'), amount=Decimal('17515'), total_amount=Decimal('1082796309'), volume=1, total_volume=61697, tick_type=1, chg_type=4, price_chg=Decimal('-87'), pct_chg=Decimal('-0.494262'), simtrade=0)\n",
      "Exchange.TAIFEX Tick(code='MXFL1', datetime=datetime.datetime(2021, 12, 15, 1, 11, 52, 618000), open=Decimal('17590'), underlying_price=Decimal('17599.37'), bid_side_total_vol=45404, ask_side_total_vol=44172, avg_price=Decimal('17550.224489'), close=Decimal('17514'), high=Decimal('17614'), low=Decimal('17500'), amount=Decimal('52542'), total_amount=Decimal('1082848851'), volume=3, total_volume=61700, tick_type=2, chg_type=4, price_chg=Decimal('-88'), pct_chg=Decimal('-0.499943'), simtrade=0)\n",
      "Exchange.TAIFEX Tick(code='MXFL1', datetime=datetime.datetime(2021, 12, 15, 1, 12, 0, 817000), open=Decimal('17590'), underlying_price=Decimal('17599.37'), bid_side_total_vol=45408, ask_side_total_vol=44170, avg_price=Decimal('17550.223902'), close=Decimal('17514'), high=Decimal('17614'), low=Decimal('17500'), amount=Decimal('17514'), total_amount=Decimal('1082866365'), volume=1, total_volume=61701, tick_type=1, chg_type=4, price_chg=Decimal('-88'), pct_chg=Decimal('-0.499943'), simtrade=0)\n",
      "Exchange.TAIFEX Tick(code='MXFL1', datetime=datetime.datetime(2021, 12, 15, 1, 12, 1, 89000), open=Decimal('17590'), underlying_price=Decimal('17599.37'), bid_side_total_vol=45408, ask_side_total_vol=44172, avg_price=Decimal('17550.223299'), close=Decimal('17513'), high=Decimal('17614'), low=Decimal('17500'), amount=Decimal('17513'), total_amount=Decimal('1082883878'), volume=1, total_volume=61702, tick_type=2, chg_type=4, price_chg=Decimal('-89'), pct_chg=Decimal('-0.505624'), simtrade=0)\n",
      "Exchange.TAIFEX Tick(code='MXFL1', datetime=datetime.datetime(2021, 12, 15, 1, 12, 1, 620000), open=Decimal('17590'), underlying_price=Decimal('17599.37'), bid_side_total_vol=45409, ask_side_total_vol=44173, avg_price=Decimal('17550.222696'), close=Decimal('17513'), high=Decimal('17614'), low=Decimal('17500'), amount=Decimal('17513'), total_amount=Decimal('1082901391'), volume=1, total_volume=61703, tick_type=2, chg_type=4, price_chg=Decimal('-89'), pct_chg=Decimal('-0.505624'), simtrade=0)\n",
      "Exchange.TAIFEX Tick(code='MXFL1', datetime=datetime.datetime(2021, 12, 15, 1, 12, 1, 901000), open=Decimal('17590'), underlying_price=Decimal('17599.37'), bid_side_total_vol=45414, ask_side_total_vol=44173, avg_price=Decimal('17550.220348'), close=Decimal('17514'), high=Decimal('17614'), low=Decimal('17500'), amount=Decimal('70056'), total_amount=Decimal('1082971447'), volume=4, total_volume=61707, tick_type=1, chg_type=4, price_chg=Decimal('-88'), pct_chg=Decimal('-0.499943'), simtrade=0)\n"
     ]
    }
   ],
   "source": [
    "##########下單##########\n",
    "\n",
    "trade = api.place_order(contract_txf, fut_order)\n",
    "\n",
    "##########下單##########"
   ]
  },
  {
   "cell_type": "code",
   "execution_count": 71,
   "id": "650ab42a",
   "metadata": {},
   "outputs": [
    {
     "data": {
      "text/plain": [
       "Trade(contract=Future(code='MXFL1', symbol='MXF202112', name='小型臺指12', category='MXF', delivery_month='202112', delivery_date='2021/12/15', underlying_kind='I', unit=1, limit_up=19528.0, limit_down=15978.0, reference=17753.0, update_date='2021/12/14'), order=Order(action=<Action.Buy: 'Buy'>, price=0, quantity=1, id='72ed812e', seqno='447660', ordno='tM0VB', account=Account(account_type=<AccountType.Future: 'F'>, person_id='N125685958', broker_id='F002000', account_id='1645949', signed=True), price_type=<FuturesPriceType.MKT: 'MKT'>, order_type=<FuturesOrderType.FOK: 'FOK'>), status=OrderStatus(id='72ed812e', status=<Status.PendingSubmit: 'PendingSubmit'>, status_code='    ', order_datetime=datetime.datetime(2021, 12, 15, 1, 11, 46), deals=[]))"
      ]
     },
     "execution_count": 71,
     "metadata": {},
     "output_type": "execute_result"
    }
   ],
   "source": [
    "trade"
   ]
  },
  {
   "cell_type": "code",
   "execution_count": 60,
   "id": "358968a9",
   "metadata": {},
   "outputs": [],
   "source": [
    "ao = api.get_account_openposition()"
   ]
  },
  {
   "cell_type": "code",
   "execution_count": 55,
   "id": "6eecd78e",
   "metadata": {},
   "outputs": [],
   "source": [
    "am = api.get_account_margin()"
   ]
  },
  {
   "cell_type": "code",
   "execution_count": 61,
   "id": "9320b470",
   "metadata": {},
   "outputs": [
    {
     "data": {
      "text/plain": [
       "[{'Account': 'FF0020001645949',\n",
       "  'Date': '20211215',\n",
       "  'Code': 'MXFL1',\n",
       "  'CodeName': '小型台指 12',\n",
       "  'OrderNum': 'qM037',\n",
       "  'OrderBS': 'S',\n",
       "  'OrderType': '',\n",
       "  'Currency': 'NTD',\n",
       "  'paddingByte': '',\n",
       "  'Volume': '1.000000',\n",
       "  'ContractAverPrice': 17512.0,\n",
       "  'SettlePrice': 17602.0,\n",
       "  'RealPrice': 17507.0,\n",
       "  'FlowProfitLoss': '250.000000',\n",
       "  'SettleProfitLoss': '-4500.000000',\n",
       "  'StartSecurity': '46000.000000',\n",
       "  'UpKeepSecurity': '35250.000000',\n",
       "  'OTAMT': '46000.000000',\n",
       "  'MTAMT': '35250.000000'}]"
      ]
     },
     "execution_count": 61,
     "metadata": {},
     "output_type": "execute_result"
    },
    {
     "name": "stdout",
     "output_type": "stream",
     "text": [
      "OrderState.FOrder {'operation': {'op_type': 'New', 'op_code': '99Q1', 'op_msg': '超過客戶可平倉口數'}, 'order': {'id': '9bef40c9', 'seqno': '447556', 'ordno': '00', 'account': {'account_type': 'F', 'person_id': '', 'broker_id': 'F002000', 'account_id': '1645949', 'signed': True}, 'action': 'Buy', 'price': 0.0, 'quantity': 1, 'order_type': 'FOK', 'market_type': 'Night', 'oc_type': 'Cover', 'subaccount': ''}, 'status': {'id': '9bef40c9', 'exchange_ts': 1639414884, 'modified_price': 0.0, 'cancel_quantity': 0, 'order_quantity': 1}, 'contract': {'security_type': 'FUT', 'code': 'MXF', 'exchange': 'TIM', 'delivery_month': '202112', 'delivery_date': '', 'strike_price': 0.0, 'option_right': 'Future'}}\n"
     ]
    }
   ],
   "source": [
    "ao.data()"
   ]
  },
  {
   "cell_type": "code",
   "execution_count": 70,
   "id": "b9c0716c",
   "metadata": {},
   "outputs": [
    {
     "name": "stdout",
     "output_type": "stream",
     "text": [
      "Response Code: 200 | Event Code: 16 | Info: TIC/v1/FOP/*/TFE/MXFL1 | Event: Subscribe or Unsubscribe ok\n"
     ]
    }
   ],
   "source": [
    "api.quote.unsubscribe(\n",
    "    api.Contracts.Futures['MXFL1'],\n",
    "    quote_type = sj.constant.QuoteType.Tick, # or 'tick'\n",
    "    version = sj.constant.QuoteVersion.v1, # or 'v1'\n",
    "    intraday_odd = True\n",
    ")"
   ]
  },
  {
   "cell_type": "code",
   "execution_count": 13,
   "id": "babc65a6",
   "metadata": {},
   "outputs": [
    {
     "name": "stdout",
     "output_type": "stream",
     "text": [
      "person_id='N125685958' broker_id='F002000' account_id='1645949' signed=True username='曾天裕'\n"
     ]
    }
   ],
   "source": [
    "print(api.futopt_account)"
   ]
  },
  {
   "cell_type": "code",
   "execution_count": 14,
   "id": "4a81a765",
   "metadata": {},
   "outputs": [
    {
     "data": {
      "text/plain": [
       "[FutureAccount(person_id='N125685958', broker_id='F002000', account_id='1645949', signed=True, username='曾天裕'),\n",
       " Account(account_type=<AccountType.H: 'H'>, person_id='N125685958', broker_id='9A9X', account_id='0137289', username='曾天裕'),\n",
       " StockAccount(person_id='N125685958', broker_id='9A9X', account_id='0498332', signed=True, username='曾天裕\\u3000\\u3000')]"
      ]
     },
     "execution_count": 14,
     "metadata": {},
     "output_type": "execute_result"
    }
   ],
   "source": [
    "api.list_accounts()"
   ]
  },
  {
   "cell_type": "code",
   "execution_count": 17,
   "id": "fcb10cbf",
   "metadata": {},
   "outputs": [
    {
     "data": {
      "text/plain": [
       "[]"
      ]
     },
     "execution_count": 17,
     "metadata": {},
     "output_type": "execute_result"
    }
   ],
   "source": [
    "api.list_positions(api.futopt_account)"
   ]
  },
  {
   "cell_type": "code",
   "execution_count": 35,
   "id": "8e9a7bec",
   "metadata": {},
   "outputs": [
    {
     "data": {
      "text/plain": [
       "[]"
      ]
     },
     "execution_count": 35,
     "metadata": {},
     "output_type": "execute_result"
    }
   ],
   "source": [
    "api.list_profit_loss(api.futopt_account,'2021-12-01','2021-12-14')"
   ]
  },
  {
   "cell_type": "code",
   "execution_count": 44,
   "id": "e3530aac",
   "metadata": {},
   "outputs": [],
   "source": [
    "contract_txf = api.Contracts.Futures['MXFL1']"
   ]
  },
  {
   "cell_type": "code",
   "execution_count": 45,
   "id": "8a1f9d12",
   "metadata": {},
   "outputs": [
    {
     "data": {
      "text/plain": [
       "Future(code='MXFL1', symbol='MXF202112', name='小型臺指12', category='MXF', delivery_month='202112', delivery_date='2021/12/15', underlying_kind='I', unit=1, limit_up=19528.0, limit_down=15978.0, reference=17753.0, update_date='2021/12/14')"
      ]
     },
     "execution_count": 45,
     "metadata": {},
     "output_type": "execute_result"
    },
    {
     "name": "stdout",
     "output_type": "stream",
     "text": [
      "OrderState.FOrder {'operation': {'op_type': 'New', 'op_code': '00', 'op_msg': ''}, 'order': {'id': '8f98e88a', 'seqno': '445427', 'ordno': 'qM02j', 'account': {'account_type': 'F', 'person_id': '', 'broker_id': 'F002000', 'account_id': '1645949', 'signed': True}, 'action': 'Buy', 'price': 0.0, 'quantity': 1, 'order_type': 'FOK', 'market_type': 'Night', 'oc_type': 'New', 'subaccount': ''}, 'status': {'id': '8f98e88a', 'exchange_ts': 1639496179, 'modified_price': 0.0, 'cancel_quantity': 0, 'order_quantity': 1}, 'contract': {'security_type': 'FUT', 'code': 'MXF', 'exchange': 'TIM', 'delivery_month': '202112', 'delivery_date': '', 'strike_price': 0.0, 'option_right': 'Future'}}\n",
      "OrderState.FDeal {'trade_id': '8f98e88a', 'seqno': '445427', 'ordno': 'qM02jC1U', 'exchange_seq': 'p0001758', 'broker_id': 'F002000', 'account_id': '1645949', 'action': 'Buy', 'code': 'MXF', 'price': 17560.0, 'quantity': 1, 'subaccount': '', 'security_type': 'FUT', 'delivery_month': '202112', 'strike_price': 0.0, 'option_right': 'Future', 'market_type': 'Night', 'ts': 1639496179}\n",
      "OrderState.FDeal {'trade_id': '8ebdf88b', 'seqno': '445465', 'ordno': 'qM02kD14', 'exchange_seq': 'p0001768', 'broker_id': 'F002000', 'account_id': '1645949', 'action': 'Sell', 'code': 'MXF', 'price': 17559.0, 'quantity': 1, 'subaccount': '', 'security_type': 'FUT', 'delivery_month': '202112', 'strike_price': 0.0, 'option_right': 'Future', 'market_type': 'Night', 'ts': 1639496289}\n",
      "OrderState.FOrder {'operation': {'op_type': 'New', 'op_code': '00', 'op_msg': ''}, 'order': {'id': '8ebdf88b', 'seqno': '445465', 'ordno': 'qM02k', 'account': {'account_type': 'F', 'person_id': '', 'broker_id': 'F002000', 'account_id': '1645949', 'signed': True}, 'action': 'Sell', 'price': 0.0, 'quantity': 1, 'order_type': 'FOK', 'market_type': 'Night', 'oc_type': 'Cover', 'subaccount': ''}, 'status': {'id': '8ebdf88b', 'exchange_ts': 1639496289, 'modified_price': 0.0, 'cancel_quantity': 0, 'order_quantity': 1}, 'contract': {'security_type': 'FUT', 'code': 'MXF', 'exchange': 'TIM', 'delivery_month': '202112', 'delivery_date': '', 'strike_price': 0.0, 'option_right': 'Future'}}\n",
      "OrderState.FDeal {'trade_id': '1c5b93f5', 'seqno': '445489', 'ordno': 'qM02mD19', 'exchange_seq': 'p0001773', 'broker_id': 'F002000', 'account_id': '1645949', 'action': 'Buy', 'code': 'MXF', 'price': 17555.0, 'quantity': 1, 'subaccount': '', 'security_type': 'FUT', 'delivery_month': '202112', 'strike_price': 0.0, 'option_right': 'Future', 'market_type': 'Night', 'ts': 1639496347}\n",
      "OrderState.FOrder {'operation': {'op_type': 'New', 'op_code': '00', 'op_msg': ''}, 'order': {'id': '1c5b93f5', 'seqno': '445489', 'ordno': 'qM02m', 'account': {'account_type': 'F', 'person_id': '', 'broker_id': 'F002000', 'account_id': '1645949', 'signed': True}, 'action': 'Buy', 'price': 0.0, 'quantity': 1, 'order_type': 'FOK', 'market_type': 'Night', 'oc_type': 'New', 'subaccount': ''}, 'status': {'id': '1c5b93f5', 'exchange_ts': 1639496347, 'modified_price': 0.0, 'cancel_quantity': 0, 'order_quantity': 1}, 'contract': {'security_type': 'FUT', 'code': 'MXF', 'exchange': 'TIM', 'delivery_month': '202112', 'delivery_date': '', 'strike_price': 0.0, 'option_right': 'Future'}}\n",
      "OrderState.FOrder {'operation': {'op_type': 'New', 'op_code': '00', 'op_msg': ''}, 'order': {'id': 'b8bf782f', 'seqno': '445528', 'ordno': 'qM02n', 'account': {'account_type': 'F', 'person_id': '', 'broker_id': 'F002000', 'account_id': '1645949', 'signed': True}, 'action': 'Sell', 'price': 0.0, 'quantity': 1, 'order_type': 'FOK', 'market_type': 'Night', 'oc_type': 'Cover', 'subaccount': ''}, 'status': {'id': 'b8bf782f', 'exchange_ts': 1639496456, 'modified_price': 0.0, 'cancel_quantity': 0, 'order_quantity': 1}, 'contract': {'security_type': 'FUT', 'code': 'MXF', 'exchange': 'TIM', 'delivery_month': '202112', 'delivery_date': '', 'strike_price': 0.0, 'option_right': 'Future'}}\n",
      "OrderState.FDeal {'trade_id': 'b8bf782f', 'seqno': '445528', 'ordno': 'qM02nD1F', 'exchange_seq': 'p0001779', 'broker_id': 'F002000', 'account_id': '1645949', 'action': 'Sell', 'code': 'MXF', 'price': 17552.0, 'quantity': 1, 'subaccount': '', 'security_type': 'FUT', 'delivery_month': '202112', 'strike_price': 0.0, 'option_right': 'Future', 'market_type': 'Night', 'ts': 1639496456}\n",
      "OrderState.FDeal {'trade_id': 'f8dc203f', 'seqno': '445578', 'ordno': 'qM02oD1Q', 'exchange_seq': 'p0001790', 'broker_id': 'F002000', 'account_id': '1645949', 'action': 'Buy', 'code': 'MXF', 'price': 17546.0, 'quantity': 1, 'subaccount': '', 'security_type': 'FUT', 'delivery_month': '202112', 'strike_price': 0.0, 'option_right': 'Future', 'market_type': 'Night', 'ts': 1639496548}\n",
      "OrderState.FOrder {'operation': {'op_type': 'New', 'op_code': '00', 'op_msg': ''}, 'order': {'id': 'f8dc203f', 'seqno': '445578', 'ordno': 'qM02o', 'account': {'account_type': 'F', 'person_id': '', 'broker_id': 'F002000', 'account_id': '1645949', 'signed': True}, 'action': 'Buy', 'price': 0.0, 'quantity': 1, 'order_type': 'FOK', 'market_type': 'Night', 'oc_type': 'New', 'subaccount': ''}, 'status': {'id': 'f8dc203f', 'exchange_ts': 1639496548, 'modified_price': 0.0, 'cancel_quantity': 0, 'order_quantity': 1}, 'contract': {'security_type': 'FUT', 'code': 'MXF', 'exchange': 'TIM', 'delivery_month': '202112', 'delivery_date': '', 'strike_price': 0.0, 'option_right': 'Future'}}\n",
      "OrderState.FOrder {'operation': {'op_type': 'New', 'op_code': '00', 'op_msg': ''}, 'order': {'id': 'e7325a67', 'seqno': '445831', 'ordno': 'qM02q', 'account': {'account_type': 'F', 'person_id': '', 'broker_id': 'F002000', 'account_id': '1645949', 'signed': True}, 'action': 'Sell', 'price': 0.0, 'quantity': 1, 'order_type': 'FOK', 'market_type': 'Night', 'oc_type': 'Cover', 'subaccount': ''}, 'status': {'id': 'e7325a67', 'exchange_ts': 1639496621, 'modified_price': 0.0, 'cancel_quantity': 0, 'order_quantity': 1}, 'contract': {'security_type': 'FUT', 'code': 'MXF', 'exchange': 'TIM', 'delivery_month': '202112', 'delivery_date': '', 'strike_price': 0.0, 'option_right': 'Future'}}\n",
      "OrderState.FDeal {'trade_id': 'e7325a67', 'seqno': '445831', 'ordno': 'qM02qE1G', 'exchange_seq': 'p0001816', 'broker_id': 'F002000', 'account_id': '1645949', 'action': 'Sell', 'code': 'MXF', 'price': 17543.0, 'quantity': 1, 'subaccount': '', 'security_type': 'FUT', 'delivery_month': '202112', 'strike_price': 0.0, 'option_right': 'Future', 'market_type': 'Night', 'ts': 1639496621}\n",
      "OrderState.FOrder {'operation': {'op_type': 'New', 'op_code': '99Q1', 'op_msg': '超過客戶可平倉口數'}, 'order': {'id': '21d1ddab', 'seqno': '445926', 'ordno': '00', 'account': {'account_type': 'F', 'person_id': '', 'broker_id': 'F002000', 'account_id': '1645949', 'signed': True}, 'action': 'Sell', 'price': 0.0, 'quantity': 1, 'order_type': 'FOK', 'market_type': 'Night', 'oc_type': 'Cover', 'subaccount': ''}, 'status': {'id': '21d1ddab', 'exchange_ts': 1639496735, 'modified_price': 0.0, 'cancel_quantity': 0, 'order_quantity': 1}, 'contract': {'security_type': 'FUT', 'code': 'MXF', 'exchange': 'TIM', 'delivery_month': '202112', 'delivery_date': '', 'strike_price': 0.0, 'option_right': 'Future'}}\n",
      "OrderState.FDeal {'trade_id': 'ae33948e', 'seqno': '445940', 'ordno': 'qM02rF12', 'exchange_seq': 'p0001838', 'broker_id': 'F002000', 'account_id': '1645949', 'action': 'Sell', 'code': 'MXF', 'price': 17546.0, 'quantity': 1, 'subaccount': '', 'security_type': 'FUT', 'delivery_month': '202112', 'strike_price': 0.0, 'option_right': 'Future', 'market_type': 'Night', 'ts': 1639496759}\n",
      "OrderState.FOrder {'operation': {'op_type': 'New', 'op_code': '00', 'op_msg': ''}, 'order': {'id': 'ae33948e', 'seqno': '445940', 'ordno': 'qM02r', 'account': {'account_type': 'F', 'person_id': '', 'broker_id': 'F002000', 'account_id': '1645949', 'signed': True}, 'action': 'Sell', 'price': 0.0, 'quantity': 1, 'order_type': 'FOK', 'market_type': 'Night', 'oc_type': 'New', 'subaccount': ''}, 'status': {'id': 'ae33948e', 'exchange_ts': 1639496759, 'modified_price': 0.0, 'cancel_quantity': 0, 'order_quantity': 1}, 'contract': {'security_type': 'FUT', 'code': 'MXF', 'exchange': 'TIM', 'delivery_month': '202112', 'delivery_date': '', 'strike_price': 0.0, 'option_right': 'Future'}}\n",
      "OrderState.FOrder {'operation': {'op_type': 'New', 'op_code': '00', 'op_msg': ''}, 'order': {'id': 'd7040184', 'seqno': '446029', 'ordno': 'qM02s', 'account': {'account_type': 'F', 'person_id': '', 'broker_id': 'F002000', 'account_id': '1645949', 'signed': True}, 'action': 'Buy', 'price': 0.0, 'quantity': 1, 'order_type': 'FOK', 'market_type': 'Night', 'oc_type': 'Cover', 'subaccount': ''}, 'status': {'id': 'd7040184', 'exchange_ts': 1639496921, 'modified_price': 0.0, 'cancel_quantity': 0, 'order_quantity': 1}, 'contract': {'security_type': 'FUT', 'code': 'MXF', 'exchange': 'TIM', 'delivery_month': '202112', 'delivery_date': '', 'strike_price': 0.0, 'option_right': 'Future'}}\n",
      "OrderState.FDeal {'trade_id': 'd7040184', 'seqno': '446029', 'ordno': 'qM02s91Y', 'exchange_seq': 'p1000358', 'broker_id': 'F002000', 'account_id': '1645949', 'action': 'Buy', 'code': 'MXF', 'price': 17538.0, 'quantity': 1, 'subaccount': '', 'security_type': 'FUT', 'delivery_month': '202112', 'strike_price': 0.0, 'option_right': 'Future', 'market_type': 'Night', 'ts': 1639496921}\n"
     ]
    }
   ],
   "source": [
    "contract_txf"
   ]
  },
  {
   "cell_type": "code",
   "execution_count": 21,
   "id": "02c4e2ea",
   "metadata": {},
   "outputs": [
    {
     "name": "stdout",
     "output_type": "stream",
     "text": [
      "__my_place_callback__\n",
      "OrderState.FOrder {'operation': {'op_type': 'Cancel', 'op_code': '00', 'op_msg': ''}, 'order': {'id': 'f54fad96', 'seqno': '431135', 'ordno': 'tn0gJ', 'account': {'account_type': 'F', 'person_id': '', 'broker_id': 'F002000', 'account_id': '1645949', 'signed': True}, 'action': 'Buy', 'price': 17000.0, 'quantity': 1, 'order_type': 'ROD', 'market_type': 'Day', 'oc_type': 'New', 'subaccount': ''}, 'status': {'id': 'f54fad96', 'exchange_ts': 1639457138, 'modified_price': 0.0, 'cancel_quantity': 1, 'order_quantity': 1}, 'contract': {'security_type': 'FUT', 'code': 'MXF', 'exchange': 'TIM', 'delivery_month': '202112', 'delivery_date': '', 'strike_price': 0.0, 'option_right': 'Future'}}\n",
      "__my_place_callback__\n",
      "OrderState.FDeal {'trade_id': '476aee53', 'seqno': '431854', 'ordno': 'qn0BTK14', 'exchange_seq': 'f4005908', 'broker_id': 'F002000', 'account_id': '1645949', 'action': 'Sell', 'code': 'MXF', 'price': 17607.0, 'quantity': 1, 'subaccount': '', 'security_type': 'FUT', 'delivery_month': '202112', 'strike_price': 0.0, 'option_right': 'Future', 'market_type': 'Day', 'ts': 1639457180}\n",
      "__my_place_callback__\n",
      "OrderState.FOrder {'operation': {'op_type': 'New', 'op_code': '00', 'op_msg': ''}, 'order': {'id': '476aee53', 'seqno': '431854', 'ordno': 'qn0BT', 'account': {'account_type': 'F', 'person_id': '', 'broker_id': 'F002000', 'account_id': '1645949', 'signed': True}, 'action': 'Sell', 'price': 0.0, 'quantity': 1, 'order_type': 'FOK', 'market_type': 'Day', 'oc_type': 'Cover', 'subaccount': ''}, 'status': {'id': '476aee53', 'exchange_ts': 1639457180, 'modified_price': 0.0, 'cancel_quantity': 0, 'order_quantity': 1}, 'contract': {'security_type': 'FUT', 'code': 'MXF', 'exchange': 'TIM', 'delivery_month': '202112', 'delivery_date': '', 'strike_price': 0.0, 'option_right': 'Future'}}\n",
      "__my_place_callback__\n",
      "OrderState.FOrder {'operation': {'op_type': 'New', 'op_code': '00', 'op_msg': ''}, 'order': {'id': '048e6b02', 'seqno': '431911', 'ordno': 'qn0BZ', 'account': {'account_type': 'F', 'person_id': '', 'broker_id': 'F002000', 'account_id': '1645949', 'signed': True}, 'action': 'Buy', 'price': 0.0, 'quantity': 1, 'order_type': 'FOK', 'market_type': 'Day', 'oc_type': 'New', 'subaccount': ''}, 'status': {'id': '048e6b02', 'exchange_ts': 1639457279, 'modified_price': 0.0, 'cancel_quantity': 0, 'order_quantity': 1}, 'contract': {'security_type': 'FUT', 'code': 'MXF', 'exchange': 'TIM', 'delivery_month': '202112', 'delivery_date': '', 'strike_price': 0.0, 'option_right': 'Future'}}\n",
      "__my_place_callback__\n",
      "OrderState.FDeal {'trade_id': '048e6b02', 'seqno': '431911', 'ordno': 'qn0BZK1O', 'exchange_seq': 'f4005928', 'broker_id': 'F002000', 'account_id': '1645949', 'action': 'Buy', 'code': 'MXF', 'price': 17604.0, 'quantity': 1, 'subaccount': '', 'security_type': 'FUT', 'delivery_month': '202112', 'strike_price': 0.0, 'option_right': 'Future', 'market_type': 'Day', 'ts': 1639457279}\n"
     ]
    }
   ],
   "source": [
    "def place_cb(stat, msg):\n",
    "    print('__my_place_callback__')\n",
    "    print(stat, msg)\n",
    "\n",
    "api.set_order_callback(place_cb)"
   ]
  },
  {
   "cell_type": "code",
   "execution_count": 82,
   "id": "24d6d6c8",
   "metadata": {},
   "outputs": [],
   "source": [
    "class auto_detect:\n",
    "    \n",
    "    deal_list = []\n",
    "    \n",
    "    def __init__(self):\n",
    "        pass\n",
    "    \n",
    "    def add_deal(deal):\n",
    "        auto_detect.deal_list.append(deal)\n",
    "    \n",
    "    def all_deals():\n",
    "        return auto_detect.deal_list\n",
    "    \n",
    "    def print_deals():\n",
    "        while(True):\n",
    "            print(auto_detect.deal_list)\n",
    "    "
   ]
  },
  {
   "cell_type": "code",
   "execution_count": 41,
   "id": "6056f295",
   "metadata": {},
   "outputs": [],
   "source": [
    "auto_detect.add_deal(\"afd\")\n",
    "f = auto_detect.all_deals()"
   ]
  },
  {
   "cell_type": "code",
   "execution_count": null,
   "id": "c682b6d8",
   "metadata": {},
   "outputs": [],
   "source": [
    "#當股票下單時 會執行另外一個方法獲取 stat, msg"
   ]
  },
  {
   "cell_type": "code",
   "execution_count": 69,
   "id": "4fd4625a",
   "metadata": {},
   "outputs": [
    {
     "name": "stdout",
     "output_type": "stream",
     "text": [
      "__my_place_callback__\n",
      "OrderState.FOrder\n",
      "msg: ====\n",
      "{'operation': {'op_type': 'New', 'op_code': '00', 'op_msg': ''}, 'order': {'id': '92813f08', 'seqno': '435439', 'ordno': 'qn0DK', 'account': {'account_type': 'F', 'person_id': '', 'broker_id': 'F002000', 'account_id': '1645949', 'signed': True}, 'action': 'Buy', 'price': 17000.0, 'quantity': 1, 'order_type': 'ROD', 'market_type': 'Day', 'oc_type': 'New', 'subaccount': ''}, 'status': {'id': '92813f08', 'exchange_ts': 1639459963, 'modified_price': 0.0, 'cancel_quantity': 0, 'order_quantity': 1}, 'contract': {'security_type': 'FUT', 'code': 'MXF', 'exchange': 'TIM', 'delivery_month': '202112', 'delivery_date': '', 'strike_price': 0.0, 'option_right': 'Future'}}\n",
      "<enum 'OrderState'> <class 'dict'>\n",
      "['__class__', '__doc__', '__module__', 'capitalize', 'casefold', 'center', 'count', 'encode', 'endswith', 'expandtabs', 'find', 'format', 'format_map', 'index', 'isalnum', 'isalpha', 'isascii', 'isdecimal', 'isdigit', 'isidentifier', 'islower', 'isnumeric', 'isprintable', 'isspace', 'istitle', 'isupper', 'join', 'ljust', 'lower', 'lstrip', 'maketrans', 'name', 'partition', 'replace', 'rfind', 'rindex', 'rjust', 'rpartition', 'rsplit', 'rstrip', 'split', 'splitlines', 'startswith', 'strip', 'swapcase', 'title', 'translate', 'upper', 'value', 'zfill']\n"
     ]
    }
   ],
   "source": [
    "a = None\n",
    "b = None\n",
    "\n",
    "\n",
    "def place_cb(stat, msg):\n",
    "    print('__my_place_callback__')\n",
    "    print(stat)\n",
    "    print(\"msg: ====\")\n",
    "    print(msg)\n",
    "    print(type(stat), type(msg))\n",
    "    auto_detect.add_deal(msg)\n",
    "    print(dir(stat))\n",
    "\n",
    "api.set_order_callback(place_cb)"
   ]
  },
  {
   "cell_type": "code",
   "execution_count": 71,
   "id": "1061ad5a",
   "metadata": {},
   "outputs": [
    {
     "name": "stdout",
     "output_type": "stream",
     "text": [
      "['afd', <OrderState.FOrder: 'FORDER'>, <OrderState.FOrder: 'FORDER'>, <OrderState.FOrder: 'FORDER'>, <OrderState.FOrder: 'FORDER'>, <OrderState.FOrder: 'FORDER'>, {'operation': {'op_type': 'New', 'op_code': '00', 'op_msg': ''}, 'order': {'id': '92813f08', 'seqno': '435439', 'ordno': 'qn0DK', 'account': {'account_type': 'F', 'person_id': '', 'broker_id': 'F002000', 'account_id': '1645949', 'signed': True}, 'action': 'Buy', 'price': 17000.0, 'quantity': 1, 'order_type': 'ROD', 'market_type': 'Day', 'oc_type': 'New', 'subaccount': ''}, 'status': {'id': '92813f08', 'exchange_ts': 1639459963, 'modified_price': 0.0, 'cancel_quantity': 0, 'order_quantity': 1}, 'contract': {'security_type': 'FUT', 'code': 'MXF', 'exchange': 'TIM', 'delivery_month': '202112', 'delivery_date': '', 'strike_price': 0.0, 'option_right': 'Future'}}]\n"
     ]
    }
   ],
   "source": [
    "f = auto_detect.all_deals()\n",
    "print(f)\n",
    "a = f[6]"
   ]
  },
  {
   "cell_type": "code",
   "execution_count": 75,
   "id": "a9207c8a",
   "metadata": {},
   "outputs": [
    {
     "data": {
      "text/plain": [
       "{'id': '92813f08',\n",
       " 'seqno': '435439',\n",
       " 'ordno': 'qn0DK',\n",
       " 'account': {'account_type': 'F',\n",
       "  'person_id': '',\n",
       "  'broker_id': 'F002000',\n",
       "  'account_id': '1645949',\n",
       "  'signed': True},\n",
       " 'action': 'Buy',\n",
       " 'price': 17000.0,\n",
       " 'quantity': 1,\n",
       " 'order_type': 'ROD',\n",
       " 'market_type': 'Day',\n",
       " 'oc_type': 'New',\n",
       " 'subaccount': ''}"
      ]
     },
     "execution_count": 75,
     "metadata": {},
     "output_type": "execute_result"
    }
   ],
   "source": [
    "a['order']"
   ]
  },
  {
   "cell_type": "code",
   "execution_count": null,
   "id": "00cf4d85",
   "metadata": {},
   "outputs": [],
   "source": [
    "import threading\n",
    "\n",
    "t = threading.Thread(target=auto_detect.print_deals, args=())\n",
    "\n",
    "t.start()"
   ]
  },
  {
   "cell_type": "code",
   "execution_count": null,
   "id": "62edbb13",
   "metadata": {},
   "outputs": [],
   "source": [
    "t.join()"
   ]
  },
  {
   "cell_type": "code",
   "execution_count": 60,
   "id": "9c13da45",
   "metadata": {},
   "outputs": [
    {
     "data": {
      "text/plain": [
       "['__class__',\n",
       " '__doc__',\n",
       " '__module__',\n",
       " 'capitalize',\n",
       " 'casefold',\n",
       " 'center',\n",
       " 'count',\n",
       " 'encode',\n",
       " 'endswith',\n",
       " 'expandtabs',\n",
       " 'find',\n",
       " 'format',\n",
       " 'format_map',\n",
       " 'index',\n",
       " 'isalnum',\n",
       " 'isalpha',\n",
       " 'isascii',\n",
       " 'isdecimal',\n",
       " 'isdigit',\n",
       " 'isidentifier',\n",
       " 'islower',\n",
       " 'isnumeric',\n",
       " 'isprintable',\n",
       " 'isspace',\n",
       " 'istitle',\n",
       " 'isupper',\n",
       " 'join',\n",
       " 'ljust',\n",
       " 'lower',\n",
       " 'lstrip',\n",
       " 'maketrans',\n",
       " 'name',\n",
       " 'partition',\n",
       " 'replace',\n",
       " 'rfind',\n",
       " 'rindex',\n",
       " 'rjust',\n",
       " 'rpartition',\n",
       " 'rsplit',\n",
       " 'rstrip',\n",
       " 'split',\n",
       " 'splitlines',\n",
       " 'startswith',\n",
       " 'strip',\n",
       " 'swapcase',\n",
       " 'title',\n",
       " 'translate',\n",
       " 'upper',\n",
       " 'value',\n",
       " 'zfill']"
      ]
     },
     "execution_count": 60,
     "metadata": {},
     "output_type": "execute_result"
    }
   ],
   "source": [
    "dir(order2)"
   ]
  },
  {
   "cell_type": "code",
   "execution_count": 66,
   "id": "8d504204",
   "metadata": {},
   "outputs": [
    {
     "data": {
      "text/plain": [
       "{'_value_': 'FORDER', '_name_': 'FOrder', '__objclass__': <enum 'OrderState'>}"
      ]
     },
     "execution_count": 66,
     "metadata": {},
     "output_type": "execute_result"
    },
    {
     "name": "stdout",
     "output_type": "stream",
     "text": [
      "__my_place_callback__\n",
      "OrderState.FOrder\n",
      "msg: ====\n",
      "{'operation': {'op_type': 'Cancel', 'op_code': '00', 'op_msg': ''}, 'order': {'id': 'e70687c3', 'seqno': '433005', 'ordno': 'qn0CT', 'account': {'account_type': 'F', 'person_id': '', 'broker_id': 'F002000', 'account_id': '1645949', 'signed': True}, 'action': 'Buy', 'price': 17001.0, 'quantity': 1, 'order_type': 'ROD', 'market_type': 'Day', 'oc_type': 'New', 'subaccount': ''}, 'status': {'id': 'e70687c3', 'exchange_ts': 1639459730, 'modified_price': 0.0, 'cancel_quantity': 1, 'order_quantity': 1}, 'contract': {'security_type': 'FUT', 'code': 'MXF', 'exchange': 'TIM', 'delivery_month': '202112', 'delivery_date': '', 'strike_price': 0.0, 'option_right': 'Future'}}\n",
      "<enum 'OrderState'> <class 'dict'>\n"
     ]
    }
   ],
   "source": [
    "vars(order2)"
   ]
  },
  {
   "cell_type": "code",
   "execution_count": 26,
   "id": "072ea397",
   "metadata": {},
   "outputs": [],
   "source": [
    "api.update_status(api.futopt_account)"
   ]
  },
  {
   "cell_type": "code",
   "execution_count": 30,
   "id": "1f6228fc",
   "metadata": {},
   "outputs": [
    {
     "data": {
      "text/plain": [
       "NoneType"
      ]
     },
     "execution_count": 30,
     "metadata": {},
     "output_type": "execute_result"
    }
   ],
   "source": [
    "type(a)"
   ]
  },
  {
   "cell_type": "code",
   "execution_count": 32,
   "id": "cac2d2b8",
   "metadata": {},
   "outputs": [
    {
     "name": "stdout",
     "output_type": "stream",
     "text": [
      "3\n"
     ]
    }
   ],
   "source": [
    "### Global example\n",
    "\n",
    "a = None\n",
    "\n",
    "def set_a():\n",
    "    global a\n",
    "    a = 3\n",
    "    \n",
    "set_a()\n",
    "\n",
    "print(a)"
   ]
  },
  {
   "cell_type": "code",
   "execution_count": null,
   "id": "fac2fac6",
   "metadata": {},
   "outputs": [],
   "source": []
  }
 ],
 "metadata": {
  "kernelspec": {
   "display_name": "Python 3",
   "language": "python",
   "name": "python3"
  },
  "language_info": {
   "codemirror_mode": {
    "name": "ipython",
    "version": 3
   },
   "file_extension": ".py",
   "mimetype": "text/x-python",
   "name": "python",
   "nbconvert_exporter": "python",
   "pygments_lexer": "ipython3",
   "version": "3.8.8"
  }
 },
 "nbformat": 4,
 "nbformat_minor": 5
}
