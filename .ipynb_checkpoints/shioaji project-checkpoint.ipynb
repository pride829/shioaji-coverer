{
 "cells": [
  {
   "cell_type": "code",
   "execution_count": 1,
   "id": "f9c77a2d",
   "metadata": {},
   "outputs": [],
   "source": [
    "import shioaji as sj\n",
    "import json\n",
    "import threading\n",
    "import time"
   ]
  },
  {
   "cell_type": "code",
   "execution_count": 2,
   "id": "7edad0ce",
   "metadata": {},
   "outputs": [],
   "source": [
    "#contract_2890 = api.Contracts.Stocks[\"2890\"]\n",
    "\n",
    "#contract_2890\n"
   ]
  },
  {
   "cell_type": "code",
   "execution_count": 3,
   "id": "a620de8d",
   "metadata": {},
   "outputs": [],
   "source": [
    "class OrderPlacing:\n",
    "    \n",
    "    def __init__(self, account_info: str):\n",
    "        #account_data: File path used to login\n",
    "        with open(account_info, newline='') as jsonfile:\n",
    "            account_data = json.load(jsonfile)\n",
    "        self.api = sj.Shioaji()\n",
    "        self.api_login = self.api.login(\n",
    "                            person_id= account_data['person_id'],  \n",
    "                            passwd= account_data['passwd'], \n",
    "                            contracts_cb=lambda security_type: print(f\"{repr(security_type)} fetch done.\")\n",
    "                            )\n",
    "        self.holding = {}\n",
    "        \n",
    "    def buy(self, stock_id: str, buying_price: float, fixed_stop_loss_percent: float, moving_stop_profit_percent: float):\n",
    "        \n",
    "        #place a buying order\n",
    "        \n",
    "        buying_success = True\n",
    "        \n",
    "        if buying_success:\n",
    "            if stock_id in self.holding:\n",
    "                self.holding[stock_id] += 1\n",
    "            else:\n",
    "                self.holding[stock_id] = 1\n",
    "        \n",
    "    def checking(self):\n",
    "        while True:\n",
    "            if '2890' in self.holding:\n",
    "                print('holding 2890...')\n",
    "                \n",
    "            time.sleep(1)\n",
    "        \n",
    "        \n",
    "    def UI(self):\n",
    "        t = threading.Thread(target = self.checking)\n",
    "        t.start()\n",
    "        \n",
    "        \n",
    "        \n",
    "# 下單->確認下單成功->檢查價格(循環)->價格超出限制->下FOK單(未成功交易循環)\n",
    "\n",
    "\n"
   ]
  },
  {
   "cell_type": "code",
   "execution_count": 4,
   "id": "466996a9",
   "metadata": {},
   "outputs": [
    {
     "name": "stdout",
     "output_type": "stream",
     "text": [
      "Response Code: 0 | Event Code: 0 | Info: host '203.66.91.161:80', IP 203.66.91.161:80 (host 1 of 1) (host connection attempt 1 of 1) (total connection attempt 1 of 1) | Event: Session up\n",
      "<SecurityType.Index: 'IND'> fetch done.\n",
      "<SecurityType.Future: 'FUT'> fetch done.\n"
     ]
    }
   ],
   "source": [
    "order_placing = OrderPlacing('account_info.json')"
   ]
  },
  {
   "cell_type": "code",
   "execution_count": 5,
   "id": "254de48b",
   "metadata": {},
   "outputs": [],
   "source": [
    "order_placing.UI()"
   ]
  },
  {
   "cell_type": "code",
   "execution_count": 6,
   "id": "7bdfd8fa",
   "metadata": {},
   "outputs": [],
   "source": [
    "order_placing.buy('2890', 123, 123, 123)"
   ]
  },
  {
   "cell_type": "code",
   "execution_count": 7,
   "id": "b190d712",
   "metadata": {},
   "outputs": [
    {
     "name": "stdout",
     "output_type": "stream",
     "text": [
      "holding 2890...\n",
      "Response Code: 0 | Event Code: 0 | Info: host '218.32.76.102:80', IP 218.32.76.102:80 (host 1 of 1) (host connection attempt 1 of 1) (total connection attempt 1 of 1) | Event: Session up\n",
      "holding 2890...\n",
      "<SecurityType.Stock: 'STK'> fetch done.\n",
      "holding 2890...\n",
      "<SecurityType.Option: 'OPT'> fetch done.\n"
     ]
    },
    {
     "data": {
      "text/plain": [
       "[FutureAccount(person_id='QBCCAIGJBJ', broker_id='F002000', account_id='9100020', signed=True, username='PAPIUSER01'),\n",
       " StockAccount(person_id='QBCCAIGJBJ', broker_id='9A95', account_id='0504350', signed=True, username='PAPIUSER01')]"
      ]
     },
     "execution_count": 7,
     "metadata": {},
     "output_type": "execute_result"
    }
   ],
   "source": [
    "import shioaji as sj\n",
    "api = sj.Shioaji(simulation=True) \n",
    "api.login(\n",
    "    person_id=\"PAPIUSER01\", \n",
    "    passwd=\"2222\", \n",
    "    contracts_cb=lambda security_type: print(f\"{repr(security_type)} fetch done.\")\n",
    ")"
   ]
  },
  {
   "cell_type": "code",
   "execution_count": 8,
   "id": "2f98999d",
   "metadata": {},
   "outputs": [],
   "source": [
    "order = api.Order(\n",
    "    price=12, \n",
    "    quantity=1, \n",
    "    action=sj.constant.Action.Buy, \n",
    "    price_type=sj.constant.StockPriceType.LMT, \n",
    "    order_type=sj.constant.TFTOrderType.FOK, \n",
    "    order_lot=sj.constant.TFTStockOrderLot.Common, \n",
    "    account=api.stock_account\n",
    ")"
   ]
  },
  {
   "cell_type": "code",
   "execution_count": 9,
   "id": "35097e7b",
   "metadata": {},
   "outputs": [
    {
     "name": "stdout",
     "output_type": "stream",
     "text": [
      "<SecurityType.Index: 'IND'> fetch done.\n",
      "holding 2890...\n",
      "holding 2890...\n",
      "holding 2890...\n",
      "holding 2890...\n",
      "holding 2890...\n",
      "<SecurityType.Stock: 'STK'> fetch done.\n",
      "holding 2890...\n",
      "<SecurityType.Future: 'FUT'> fetch done.\n"
     ]
    }
   ],
   "source": [
    "contract = api.Contracts.Stocks.TSE.TSE2330\n",
    "\n",
    "trade = api.place_order(contract, order)"
   ]
  },
  {
   "cell_type": "code",
   "execution_count": 10,
   "id": "74363673",
   "metadata": {},
   "outputs": [
    {
     "data": {
      "text/plain": [
       "Trade(contract=Stock(exchange=<Exchange.TSE: 'TSE'>, code='2330', symbol='TSE2330', name='台積電', category='24', unit=1000, limit_up=630.0, limit_down=516.0, reference=573.0, update_date='2021/10/15', margin_trading_balance=6565, short_selling_balance=365, day_trade=<DayTrade.Yes: 'Yes'>), order=Order(action=<Action.Buy: 'Buy'>, price=12, quantity=1, account=Account(account_type=<AccountType.Stock: 'S'>, person_id='QBCCAIGJBJ', broker_id='9A95', account_id='0504350', signed=True), price_type=<StockPriceType.LMT: 'LMT'>, order_type=<FuturesOrderType.FOK: 'FOK'>), status=OrderStatus(status=<Status.Failed: 'Failed'>, status_code='30030', order_datetime=datetime.datetime(2021, 10, 17, 9, 56, 55), msg='作業中的Server process 連線終止', deals=[]))"
      ]
     },
     "execution_count": 10,
     "metadata": {},
     "output_type": "execute_result"
    }
   ],
   "source": [
    "trade"
   ]
  },
  {
   "cell_type": "code",
   "execution_count": 11,
   "id": "28fd1eb6",
   "metadata": {},
   "outputs": [],
   "source": [
    "#應該先使用FOK單, 否則部份成交會很麻煩"
   ]
  },
  {
   "cell_type": "code",
   "execution_count": 12,
   "id": "ae105a6b",
   "metadata": {},
   "outputs": [],
   "source": [
    "contract_txf = api.Contracts.Futures['TXFC0']\n",
    "\n",
    "contract_txf"
   ]
  },
  {
   "cell_type": "code",
   "execution_count": 14,
   "id": "d2017bca",
   "metadata": {},
   "outputs": [
    {
     "name": "stdout",
     "output_type": "stream",
     "text": [
      "holding 2890...\n",
      "holding 2890...\n",
      "holding 2890...\n",
      "holding 2890...\n",
      "holding 2890...\n",
      "holding 2890...\n",
      "holding 2890...\n",
      "holding 2890...\n",
      "holding 2890...\n",
      "holding 2890...\n",
      "holding 2890...\n",
      "holding 2890...\n",
      "holding 2890...\n",
      "holding 2890...\n",
      "holding 2890...\n",
      "holding 2890...\n",
      "holding 2890...\n",
      "holding 2890...\n",
      "holding 2890...\n",
      "holding 2890...\n",
      "holding 2890...\n",
      "holding 2890...\n",
      "holding 2890...\n",
      "holding 2890...\n",
      "holding 2890...\n",
      "holding 2890...\n",
      "holding 2890...\n",
      "holding 2890...\n",
      "holding 2890...\n",
      "holding 2890...\n",
      "holding 2890...\n",
      "holding 2890...\n",
      "holding 2890...\n",
      "holding 2890...\n",
      "holding 2890...\n",
      "holding 2890...\n",
      "holding 2890...\n",
      "holding 2890...\n",
      "holding 2890...\n",
      "holding 2890...\n",
      "holding 2890...\n",
      "holding 2890...\n",
      "holding 2890...\n",
      "holding 2890...\n",
      "holding 2890...\n",
      "holding 2890...\n",
      "holding 2890...\n",
      "holding 2890...\n",
      "holding 2890...\n",
      "holding 2890...\n",
      "holding 2890...\n",
      "holding 2890...\n",
      "holding 2890...\n",
      "holding 2890...\n",
      "holding 2890...\n",
      "holding 2890...\n",
      "holding 2890...\n",
      "holding 2890...\n",
      "holding 2890...\n",
      "holding 2890...\n",
      "holding 2890...\n",
      "holding 2890...\n",
      "holding 2890...\n",
      "holding 2890...\n",
      "holding 2890...\n",
      "holding 2890...\n",
      "holding 2890...\n",
      "holding 2890...\n",
      "holding 2890...\n",
      "holding 2890...\n",
      "holding 2890...\n",
      "holding 2890...\n",
      "holding 2890...\n",
      "holding 2890...\n",
      "holding 2890...\n",
      "holding 2890...\n",
      "holding 2890...\n",
      "holding 2890...\n",
      "holding 2890...\n",
      "holding 2890...\n",
      "holding 2890...\n",
      "holding 2890...\n",
      "holding 2890...\n",
      "holding 2890...\n",
      "holding 2890...\n",
      "holding 2890...\n",
      "holding 2890...\n",
      "holding 2890...\n",
      "holding 2890...\n",
      "holding 2890...\n",
      "holding 2890...\n",
      "holding 2890...\n",
      "holding 2890...\n",
      "holding 2890...\n",
      "holding 2890...\n",
      "holding 2890...\n",
      "holding 2890...\n",
      "holding 2890...\n"
     ]
    }
   ],
   "source": [
    "contract_txf\n",
    "#期貨目前找不到價格 是因為還沒開市嗎?\n"
   ]
  },
  {
   "cell_type": "code",
   "execution_count": null,
   "id": "e856f2b5",
   "metadata": {},
   "outputs": [],
   "source": []
  }
 ],
 "metadata": {
  "kernelspec": {
   "display_name": "Python 3",
   "language": "python",
   "name": "python3"
  },
  "language_info": {
   "codemirror_mode": {
    "name": "ipython",
    "version": 3
   },
   "file_extension": ".py",
   "mimetype": "text/x-python",
   "name": "python",
   "nbconvert_exporter": "python",
   "pygments_lexer": "ipython3",
   "version": "3.8.8"
  }
 },
 "nbformat": 4,
 "nbformat_minor": 5
}
