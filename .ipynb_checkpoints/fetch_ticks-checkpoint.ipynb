{
 "cells": [
  {
   "cell_type": "code",
   "execution_count": 24,
   "id": "fd35aff6",
   "metadata": {},
   "outputs": [
    {
     "name": "stdout",
     "output_type": "stream",
     "text": [
      "Response Code: 0 | Event Code: 0 | Info: host '203.66.91.161:80', IP 203.66.91.161:80 (host 1 of 1) (host connection attempt 1 of 1) (total connection attempt 1 of 1) | Event: Session up\n",
      "<SecurityType.Index: 'IND'> fetch done.\n",
      "<SecurityType.Future: 'FUT'> fetch done.\n",
      "<SecurityType.Stock: 'STK'> fetch done.\n",
      "<SecurityType.Option: 'OPT'> fetch done.\n"
     ]
    }
   ],
   "source": [
    "import shioaji_login\n",
    "import shioaji as sj"
   ]
  },
  {
   "cell_type": "code",
   "execution_count": null,
   "id": "8d1bf3c6",
   "metadata": {},
   "outputs": [],
   "source": [
    "api = shioaji_login.shioaji_login()"
   ]
  },
  {
   "cell_type": "code",
   "execution_count": 9,
   "id": "0beef3b5",
   "metadata": {},
   "outputs": [
    {
     "data": {
      "text/plain": [
       "Stock(exchange=<Exchange.TSE: 'TSE'>, code='0050', symbol='TSE0050', name='元大台灣50', category='00', unit=1000, limit_up=155.45, limit_down=127.25, reference=141.35, update_date='2021/12/07', margin_trading_balance=6403, day_trade=<DayTrade.Yes: 'Yes'>)"
      ]
     },
     "execution_count": 9,
     "metadata": {},
     "output_type": "execute_result"
    }
   ],
   "source": [
    "contract_0050 = api.Contracts.Stocks[\"0050\"]\n",
    "contract_0050"
   ]
  },
  {
   "cell_type": "code",
   "execution_count": 18,
   "id": "fc40ce2e",
   "metadata": {},
   "outputs": [
    {
     "data": {
      "text/plain": [
       "Ticks(ts=[], close=[], volume=[], bid_price=[], bid_volume=[], ask_price=[], ask_volume=[])"
      ]
     },
     "execution_count": 18,
     "metadata": {},
     "output_type": "execute_result"
    }
   ],
   "source": [
    "ticks = api.ticks(contract_0050, \"2012-12-06\")\n",
    "ticks\n",
    "\n",
    "### 不能用，誰知道為什麼呢？"
   ]
  },
  {
   "cell_type": "code",
   "execution_count": 16,
   "id": "ea00a418",
   "metadata": {},
   "outputs": [
    {
     "data": {
      "text/html": [
       "<div>\n",
       "<style scoped>\n",
       "    .dataframe tbody tr th:only-of-type {\n",
       "        vertical-align: middle;\n",
       "    }\n",
       "\n",
       "    .dataframe tbody tr th {\n",
       "        vertical-align: top;\n",
       "    }\n",
       "\n",
       "    .dataframe thead th {\n",
       "        text-align: right;\n",
       "    }\n",
       "</style>\n",
       "<table border=\"1\" class=\"dataframe\">\n",
       "  <thead>\n",
       "    <tr style=\"text-align: right;\">\n",
       "      <th></th>\n",
       "      <th>Volume</th>\n",
       "      <th>Low</th>\n",
       "      <th>Amount</th>\n",
       "      <th>High</th>\n",
       "      <th>ts</th>\n",
       "      <th>Close</th>\n",
       "      <th>Open</th>\n",
       "    </tr>\n",
       "  </thead>\n",
       "  <tbody>\n",
       "    <tr>\n",
       "      <th>147</th>\n",
       "      <td>0</td>\n",
       "      <td>140.75</td>\n",
       "      <td>0.0</td>\n",
       "      <td>140.75</td>\n",
       "      <td>2021-12-07 11:28:00</td>\n",
       "      <td>140.75</td>\n",
       "      <td>140.75</td>\n",
       "    </tr>\n",
       "    <tr>\n",
       "      <th>148</th>\n",
       "      <td>16</td>\n",
       "      <td>140.75</td>\n",
       "      <td>2252050.0</td>\n",
       "      <td>140.80</td>\n",
       "      <td>2021-12-07 11:29:00</td>\n",
       "      <td>140.75</td>\n",
       "      <td>140.80</td>\n",
       "    </tr>\n",
       "    <tr>\n",
       "      <th>149</th>\n",
       "      <td>0</td>\n",
       "      <td>140.75</td>\n",
       "      <td>0.0</td>\n",
       "      <td>140.75</td>\n",
       "      <td>2021-12-07 11:30:00</td>\n",
       "      <td>140.75</td>\n",
       "      <td>140.75</td>\n",
       "    </tr>\n",
       "    <tr>\n",
       "      <th>150</th>\n",
       "      <td>2</td>\n",
       "      <td>140.70</td>\n",
       "      <td>281450.0</td>\n",
       "      <td>140.75</td>\n",
       "      <td>2021-12-07 11:31:00</td>\n",
       "      <td>140.75</td>\n",
       "      <td>140.70</td>\n",
       "    </tr>\n",
       "    <tr>\n",
       "      <th>151</th>\n",
       "      <td>2</td>\n",
       "      <td>140.75</td>\n",
       "      <td>281500.0</td>\n",
       "      <td>140.75</td>\n",
       "      <td>2021-12-07 11:32:00</td>\n",
       "      <td>140.75</td>\n",
       "      <td>140.75</td>\n",
       "    </tr>\n",
       "  </tbody>\n",
       "</table>\n",
       "</div>"
      ],
      "text/plain": [
       "     Volume     Low     Amount    High                  ts   Close    Open\n",
       "147       0  140.75        0.0  140.75 2021-12-07 11:28:00  140.75  140.75\n",
       "148      16  140.75  2252050.0  140.80 2021-12-07 11:29:00  140.75  140.80\n",
       "149       0  140.75        0.0  140.75 2021-12-07 11:30:00  140.75  140.75\n",
       "150       2  140.70   281450.0  140.75 2021-12-07 11:31:00  140.75  140.70\n",
       "151       2  140.75   281500.0  140.75 2021-12-07 11:32:00  140.75  140.75"
      ]
     },
     "execution_count": 16,
     "metadata": {},
     "output_type": "execute_result"
    }
   ],
   "source": [
    "import pandas as pd\n",
    "kbars = api.kbars(contract_0050, start=\"2021-12-07\", end=\"2021-12-07\")\n",
    "kbars_df = pd.DataFrame({**kbars})\n",
    "kbars_df.ts = pd.to_datetime(kbars_df.ts)\n",
    "#kbars_df.head()\n",
    "kbars_df.tail()"
   ]
  },
  {
   "cell_type": "code",
   "execution_count": 19,
   "id": "8a8aef17",
   "metadata": {},
   "outputs": [
    {
     "data": {
      "text/plain": [
       "Future(code='MXFL1', symbol='MXF202112', name='小型臺指12', category='MXF', delivery_month='202112', delivery_date='2021/12/15', underlying_kind='I', unit=1, limit_up=19461.0, limit_down=15923.0, reference=17692.0, update_date='2021/12/07')"
      ]
     },
     "execution_count": 19,
     "metadata": {},
     "output_type": "execute_result"
    }
   ],
   "source": [
    "contract_txf = api.Contracts.Futures['MXFL1']\n",
    "contract_txf"
   ]
  },
  {
   "cell_type": "code",
   "execution_count": 20,
   "id": "91d449c8",
   "metadata": {},
   "outputs": [
    {
     "data": {
      "text/plain": [
       "Ticks(ts=[], close=[], volume=[], bid_price=[], bid_volume=[], ask_price=[], ask_volume=[])"
      ]
     },
     "execution_count": 20,
     "metadata": {},
     "output_type": "execute_result"
    }
   ],
   "source": [
    "ticks = api.ticks(contract_txf, \"2012-12-06\")\n",
    "ticks"
   ]
  },
  {
   "cell_type": "markdown",
   "id": "2212d58e",
   "metadata": {},
   "source": [
    "這可以接受最新的kbar"
   ]
  },
  {
   "cell_type": "code",
   "execution_count": 21,
   "id": "ed68fff7",
   "metadata": {},
   "outputs": [
    {
     "data": {
      "text/html": [
       "<div>\n",
       "<style scoped>\n",
       "    .dataframe tbody tr th:only-of-type {\n",
       "        vertical-align: middle;\n",
       "    }\n",
       "\n",
       "    .dataframe tbody tr th {\n",
       "        vertical-align: top;\n",
       "    }\n",
       "\n",
       "    .dataframe thead th {\n",
       "        text-align: right;\n",
       "    }\n",
       "</style>\n",
       "<table border=\"1\" class=\"dataframe\">\n",
       "  <thead>\n",
       "    <tr style=\"text-align: right;\">\n",
       "      <th></th>\n",
       "      <th>Volume</th>\n",
       "      <th>Low</th>\n",
       "      <th>Amount</th>\n",
       "      <th>High</th>\n",
       "      <th>ts</th>\n",
       "      <th>Close</th>\n",
       "      <th>Open</th>\n",
       "    </tr>\n",
       "  </thead>\n",
       "  <tbody>\n",
       "    <tr>\n",
       "      <th>475</th>\n",
       "      <td>105</td>\n",
       "      <td>17638.0</td>\n",
       "      <td>1852130.0</td>\n",
       "      <td>17642.0</td>\n",
       "      <td>2021-12-07 11:41:00</td>\n",
       "      <td>17639.0</td>\n",
       "      <td>17640.0</td>\n",
       "    </tr>\n",
       "    <tr>\n",
       "      <th>476</th>\n",
       "      <td>107</td>\n",
       "      <td>17635.0</td>\n",
       "      <td>1887139.0</td>\n",
       "      <td>17640.0</td>\n",
       "      <td>2021-12-07 11:42:00</td>\n",
       "      <td>17640.0</td>\n",
       "      <td>17639.0</td>\n",
       "    </tr>\n",
       "    <tr>\n",
       "      <th>477</th>\n",
       "      <td>217</td>\n",
       "      <td>17640.0</td>\n",
       "      <td>3828863.0</td>\n",
       "      <td>17647.0</td>\n",
       "      <td>2021-12-07 11:43:00</td>\n",
       "      <td>17643.0</td>\n",
       "      <td>17640.0</td>\n",
       "    </tr>\n",
       "    <tr>\n",
       "      <th>478</th>\n",
       "      <td>244</td>\n",
       "      <td>17641.0</td>\n",
       "      <td>4305621.0</td>\n",
       "      <td>17650.0</td>\n",
       "      <td>2021-12-07 11:44:00</td>\n",
       "      <td>17649.0</td>\n",
       "      <td>17644.0</td>\n",
       "    </tr>\n",
       "    <tr>\n",
       "      <th>479</th>\n",
       "      <td>29</td>\n",
       "      <td>17645.0</td>\n",
       "      <td>511788.0</td>\n",
       "      <td>17650.0</td>\n",
       "      <td>2021-12-07 11:45:00</td>\n",
       "      <td>17647.0</td>\n",
       "      <td>17649.0</td>\n",
       "    </tr>\n",
       "  </tbody>\n",
       "</table>\n",
       "</div>"
      ],
      "text/plain": [
       "     Volume      Low     Amount     High                  ts    Close     Open\n",
       "475     105  17638.0  1852130.0  17642.0 2021-12-07 11:41:00  17639.0  17640.0\n",
       "476     107  17635.0  1887139.0  17640.0 2021-12-07 11:42:00  17640.0  17639.0\n",
       "477     217  17640.0  3828863.0  17647.0 2021-12-07 11:43:00  17643.0  17640.0\n",
       "478     244  17641.0  4305621.0  17650.0 2021-12-07 11:44:00  17649.0  17644.0\n",
       "479      29  17645.0   511788.0  17650.0 2021-12-07 11:45:00  17647.0  17649.0"
      ]
     },
     "execution_count": 21,
     "metadata": {},
     "output_type": "execute_result"
    }
   ],
   "source": [
    "kbars = api.kbars(contract_txf, start=\"2021-12-07\", end=\"2021-12-07\")\n",
    "kbars_df = pd.DataFrame({**kbars})\n",
    "kbars_df.ts = pd.to_datetime(kbars_df.ts)\n",
    "#kbars_df.head()\n",
    "kbars_df.tail()"
   ]
  },
  {
   "cell_type": "markdown",
   "id": "3f721781",
   "metadata": {},
   "source": [
    "可以利用callback(?)修改class中的資料然後獲得最新報價"
   ]
  },
  {
   "cell_type": "code",
   "execution_count": 48,
   "id": "9ea9abce",
   "metadata": {},
   "outputs": [],
   "source": [
    "class QuoteManager:\n",
    "    \n",
    "    def __init__(self):\n",
    "        self.quote = ''\n",
    "        \n",
    "    def print_quote(self):\n",
    "        print(f\"My quote is: {self.quote}!\")\n",
    "\n",
    "q = QuoteManager()"
   ]
  },
  {
   "cell_type": "code",
   "execution_count": 49,
   "id": "779f6e10",
   "metadata": {},
   "outputs": [
    {
     "name": "stdout",
     "output_type": "stream",
     "text": [
      "Topic: L/TFE/MXFL1, Quote: {'Amount': [53004.0], 'AmountSum': [2030644264.0], 'AvgPrice': [17639.982835], 'Close': [17668.0], 'Code': 'MXFL1', 'Date': '2021/12/07', 'DiffPrice': [-24.0], 'DiffRate': [-0.135655], 'DiffType': [4], 'High': [17698.0], 'Low': [17588.0], 'Open': 17669.0, 'TargetKindPrice': 17685.03, 'TickType': [2], 'Time': '12:10:37.240000', 'TradeAskVolSum': 81264, 'TradeBidVolSum': 85682, 'VolSum': [115116], 'Volume': [3]}\n",
      "My quote is: {'Amount': [53004.0], 'AmountSum': [2030644264.0], 'AvgPrice': [17639.982835], 'Close': [17668.0], 'Code': 'MXFL1', 'Date': '2021/12/07', 'DiffPrice': [-24.0], 'DiffRate': [-0.135655], 'DiffType': [4], 'High': [17698.0], 'Low': [17588.0], 'Open': 17669.0, 'TargetKindPrice': 17685.03, 'TickType': [2], 'Time': '12:10:37.240000', 'TradeAskVolSum': 81264, 'TradeBidVolSum': 85682, 'VolSum': [115116], 'Volume': [3]}!\n",
      "My quote is: {'Amount': [17669.0], 'AmountSum': [2030661933.0], 'AvgPrice': [17639.983087], 'Close': [17669.0], 'Code': 'MXFL1', 'Date': '2021/12/07', 'DiffPrice': [-23.0], 'DiffRate': [-0.130002], 'DiffType': [4], 'High': [17698.0], 'Low': [17588.0], 'Open': 17669.0, 'TargetKindPrice': 17685.03, 'TickType': [1], 'Time': '12:10:38.138000', 'TradeAskVolSum': 81262, 'TradeBidVolSum': 85685, 'VolSum': [115117], 'Volume': [1]}!\n",
      "My quote is: {'Amount': [282688.0], 'AmountSum': [2030944621.0], 'AvgPrice': [17639.98698], 'Close': [17668.0], 'Code': 'MXFL1', 'Date': '2021/12/07', 'DiffPrice': [-24.0], 'DiffRate': [-0.135655], 'DiffType': [4], 'High': [17698.0], 'Low': [17588.0], 'Open': 17669.0, 'TargetKindPrice': 17685.03, 'TickType': [2], 'Time': '12:10:38.967000', 'TradeAskVolSum': 81279, 'TradeBidVolSum': 85685, 'VolSum': [115133], 'Volume': [16]}!\n",
      "My quote is: {'Amount': [35336.0], 'AmountSum': [2030979957.0], 'AvgPrice': [17639.987467], 'Close': [17668.0], 'Code': 'MXFL1', 'Date': '2021/12/07', 'DiffPrice': [-24.0], 'DiffRate': [-0.135655], 'DiffType': [4], 'High': [17698.0], 'Low': [17588.0], 'Open': 17669.0, 'TargetKindPrice': 17685.03, 'TickType': [2], 'Time': '12:10:39.456000', 'TradeAskVolSum': 81266, 'TradeBidVolSum': 85691, 'VolSum': [115135], 'Volume': [2]}!\n",
      "My quote is: {'Amount': [17669.0], 'AmountSum': [2030997626.0], 'AvgPrice': [17639.987719], 'Close': [17669.0], 'Code': 'MXFL1', 'Date': '2021/12/07', 'DiffPrice': [-23.0], 'DiffRate': [-0.130002], 'DiffType': [4], 'High': [17698.0], 'Low': [17588.0], 'Open': 17669.0, 'TargetKindPrice': 17683.22, 'TickType': [1], 'Time': '12:10:40.835000', 'TradeAskVolSum': 81265, 'TradeBidVolSum': 85693, 'VolSum': [115136], 'Volume': [1]}!\n",
      "My quote is: {'Amount': [53004.0], 'AmountSum': [2031050630.0], 'AvgPrice': [17639.988449], 'Close': [17668.0], 'Code': 'MXFL1', 'Date': '2021/12/07', 'DiffPrice': [-24.0], 'DiffRate': [-0.135655], 'DiffType': [4], 'High': [17698.0], 'Low': [17588.0], 'Open': 17669.0, 'TargetKindPrice': 17683.22, 'TickType': [2], 'Time': '12:10:42.413000', 'TradeAskVolSum': 81269, 'TradeBidVolSum': 85693, 'VolSum': [115139], 'Volume': [3]}!\n",
      "My quote is: {'Amount': [53004.0], 'AmountSum': [2031103634.0], 'AvgPrice': [17639.989179], 'Close': [17668.0], 'Code': 'MXFL1', 'Date': '2021/12/07', 'DiffPrice': [-24.0], 'DiffRate': [-0.135655], 'DiffType': [4], 'High': [17698.0], 'Low': [17588.0], 'Open': 17669.0, 'TargetKindPrice': 17683.22, 'TickType': [2], 'Time': '12:10:42.671000', 'TradeAskVolSum': 81270, 'TradeBidVolSum': 85694, 'VolSum': [115142], 'Volume': [3]}!\n",
      "My quote is: {'Amount': [17668.0], 'AmountSum': [2031121302.0], 'AvgPrice': [17639.989422], 'Close': [17668.0], 'Code': 'MXFL1', 'Date': '2021/12/07', 'DiffPrice': [-24.0], 'DiffRate': [-0.135655], 'DiffType': [4], 'High': [17698.0], 'Low': [17588.0], 'Open': 17669.0, 'TargetKindPrice': 17683.22, 'TickType': [2], 'Time': '12:10:43.055000', 'TradeAskVolSum': 81269, 'TradeBidVolSum': 85697, 'VolSum': [115143], 'Volume': [1]}!\n",
      "My quote is: {'Amount': [17668.0], 'AmountSum': [2031138970.0], 'AvgPrice': [17639.989665], 'Close': [17668.0], 'Code': 'MXFL1', 'Date': '2021/12/07', 'DiffPrice': [-24.0], 'DiffRate': [-0.135655], 'DiffType': [4], 'High': [17698.0], 'Low': [17588.0], 'Open': 17669.0, 'TargetKindPrice': 17683.22, 'TickType': [2], 'Time': '12:10:43.538000', 'TradeAskVolSum': 81270, 'TradeBidVolSum': 85698, 'VolSum': [115144], 'Volume': [1]}!\n",
      "My quote is: {'Amount': [17668.0], 'AmountSum': [2031156638.0], 'AvgPrice': [17639.989908], 'Close': [17668.0], 'Code': 'MXFL1', 'Date': '2021/12/07', 'DiffPrice': [-24.0], 'DiffRate': [-0.135655], 'DiffType': [4], 'High': [17698.0], 'Low': [17588.0], 'Open': 17669.0, 'TargetKindPrice': 17683.27, 'TickType': [2], 'Time': '12:10:45.529000', 'TradeAskVolSum': 81271, 'TradeBidVolSum': 85699, 'VolSum': [115145], 'Volume': [1]}!\n",
      "My quote is: {'Amount': [17668.0], 'AmountSum': [2031174306.0], 'AvgPrice': [17639.990152], 'Close': [17668.0], 'Code': 'MXFL1', 'Date': '2021/12/07', 'DiffPrice': [-24.0], 'DiffRate': [-0.135655], 'DiffType': [4], 'High': [17698.0], 'Low': [17588.0], 'Open': 17669.0, 'TargetKindPrice': 17683.27, 'TickType': [2], 'Time': '12:10:45.760000', 'TradeAskVolSum': 81272, 'TradeBidVolSum': 85700, 'VolSum': [115146], 'Volume': [1]}!\n",
      "My quote is: {'Amount': [17667.0], 'AmountSum': [2031191973.0], 'AvgPrice': [17639.990386], 'Close': [17667.0], 'Code': 'MXFL1', 'Date': '2021/12/07', 'DiffPrice': [-25.0], 'DiffRate': [-0.141307], 'DiffType': [4], 'High': [17698.0], 'Low': [17588.0], 'Open': 17669.0, 'TargetKindPrice': 17683.27, 'TickType': [2], 'Time': '12:10:45.760000', 'TradeAskVolSum': 81273, 'TradeBidVolSum': 85700, 'VolSum': [115147], 'Volume': [1]}!\n",
      "My quote is: {'Amount': [53001.0], 'AmountSum': [2031244974.0], 'AvgPrice': [17639.99109], 'Close': [17667.0], 'Code': 'MXFL1', 'Date': '2021/12/07', 'DiffPrice': [-25.0], 'DiffRate': [-0.141307], 'DiffType': [4], 'High': [17698.0], 'Low': [17588.0], 'Open': 17669.0, 'TargetKindPrice': 17683.27, 'TickType': [2], 'Time': '12:10:45.763000', 'TradeAskVolSum': 81275, 'TradeBidVolSum': 85702, 'VolSum': [115150], 'Volume': [3]}!\n",
      "My quote is: {'Amount': [17667.0], 'AmountSum': [2031262641.0], 'AvgPrice': [17639.991324], 'Close': [17667.0], 'Code': 'MXFL1', 'Date': '2021/12/07', 'DiffPrice': [-25.0], 'DiffRate': [-0.141307], 'DiffType': [4], 'High': [17698.0], 'Low': [17588.0], 'Open': 17669.0, 'TargetKindPrice': 17683.27, 'TickType': [2], 'Time': '12:10:45.810000', 'TradeAskVolSum': 81274, 'TradeBidVolSum': 85705, 'VolSum': [115151], 'Volume': [1]}!\n",
      "My quote is: {'Amount': [17667.0], 'AmountSum': [2031280308.0], 'AvgPrice': [17639.991559], 'Close': [17667.0], 'Code': 'MXFL1', 'Date': '2021/12/07', 'DiffPrice': [-25.0], 'DiffRate': [-0.141307], 'DiffType': [4], 'High': [17698.0], 'Low': [17588.0], 'Open': 17669.0, 'TargetKindPrice': 17683.27, 'TickType': [2], 'Time': '12:10:46.151000', 'TradeAskVolSum': 81275, 'TradeBidVolSum': 85706, 'VolSum': [115152], 'Volume': [1]}!\n",
      "My quote is: {'Amount': [17667.0], 'AmountSum': [2031297975.0], 'AvgPrice': [17639.991794], 'Close': [17667.0], 'Code': 'MXFL1', 'Date': '2021/12/07', 'DiffPrice': [-25.0], 'DiffRate': [-0.141307], 'DiffType': [4], 'High': [17698.0], 'Low': [17588.0], 'Open': 17669.0, 'TargetKindPrice': 17683.27, 'TickType': [2], 'Time': '12:10:46.262000', 'TradeAskVolSum': 81276, 'TradeBidVolSum': 85707, 'VolSum': [115153], 'Volume': [1]}!\n",
      "My quote is: {'Amount': [106008.0], 'AmountSum': [2031403983.0], 'AvgPrice': [17639.993253], 'Close': [17668.0], 'Code': 'MXFL1', 'Date': '2021/12/07', 'DiffPrice': [-24.0], 'DiffRate': [-0.135655], 'DiffType': [4], 'High': [17698.0], 'Low': [17588.0], 'Open': 17669.0, 'TargetKindPrice': 17683.27, 'TickType': [1], 'Time': '12:10:46.406000', 'TradeAskVolSum': 81276, 'TradeBidVolSum': 85714, 'VolSum': [115159], 'Volume': [6]}!\n",
      "My quote is: {'Amount': [17668.0], 'AmountSum': [2031421651.0], 'AvgPrice': [17639.993496], 'Close': [17668.0], 'Code': 'MXFL1', 'Date': '2021/12/07', 'DiffPrice': [-24.0], 'DiffRate': [-0.135655], 'DiffType': [4], 'High': [17698.0], 'Low': [17588.0], 'Open': 17669.0, 'TargetKindPrice': 17683.27, 'TickType': [2], 'Time': '12:10:46.894000', 'TradeAskVolSum': 81280, 'TradeBidVolSum': 85709, 'VolSum': [115160], 'Volume': [1]}!\n"
     ]
    }
   ],
   "source": [
    "# callback \n",
    "@api.quote.on_quote\n",
    "def quote_callback(topic: str, quote: dict):\n",
    "    #print(f\"Topic: {topic}, Quote: {quote}\")\n",
    "    q.quote = quote\n",
    "    q.print_quote()"
   ]
  },
  {
   "cell_type": "code",
   "execution_count": 50,
   "id": "fed79f45",
   "metadata": {},
   "outputs": [
    {
     "name": "stdout",
     "output_type": "stream",
     "text": [
      "My quote is: {'Amount': [17668.0], 'AmountSum': [2031439319.0], 'AvgPrice': [17639.993739], 'Close': [17668.0], 'Code': 'MXFL1', 'Date': '2021/12/07', 'DiffPrice': [-24.0], 'DiffRate': [-0.135655], 'DiffType': [4], 'High': [17698.0], 'Low': [17588.0], 'Open': 17669.0, 'TargetKindPrice': 17683.27, 'TickType': [2], 'Time': '12:10:47.102000', 'TradeAskVolSum': 81281, 'TradeBidVolSum': 85710, 'VolSum': [115161], 'Volume': [1]}!\n",
      "My quote is: {'Amount': [53007.0], 'AmountSum': [2031492326.0], 'AvgPrice': [17639.994495], 'Close': [17669.0], 'Code': 'MXFL1', 'Date': '2021/12/07', 'DiffPrice': [-23.0], 'DiffRate': [-0.130002], 'DiffType': [4], 'High': [17698.0], 'Low': [17588.0], 'Open': 17669.0, 'TargetKindPrice': 17683.27, 'TickType': [1], 'Time': '12:10:47.103000', 'TradeAskVolSum': 81281, 'TradeBidVolSum': 85714, 'VolSum': [115164], 'Volume': [3]}!\n",
      "My quote is: {'Amount': [17669.0], 'AmountSum': [2031509995.0], 'AvgPrice': [17639.994747], 'Close': [17669.0], 'Code': 'MXFL1', 'Date': '2021/12/07', 'DiffPrice': [-23.0], 'DiffRate': [-0.130002], 'DiffType': [4], 'High': [17698.0], 'Low': [17588.0], 'Open': 17669.0, 'TargetKindPrice': 17683.27, 'TickType': [1], 'Time': '12:10:47.103000', 'TradeAskVolSum': 81283, 'TradeBidVolSum': 85713, 'VolSum': [115165], 'Volume': [1]}!\n",
      "Response Code: 200 | Event Code: 16 | Info: Subscription Already Exists - Topic 'L/*/MXFL1' Subscribe: Response code: '400'; Flags: 'c';  | Event: Subscribe or Unsubscribe ok\n",
      "My quote is: {'Amount': [35338.0], 'AmountSum': [2031545333.0], 'AvgPrice': [17639.99525], 'Close': [17669.0], 'Code': 'MXFL1', 'Date': '2021/12/07', 'DiffPrice': [-23.0], 'DiffRate': [-0.130002], 'DiffType': [4], 'High': [17698.0], 'Low': [17588.0], 'Open': 17669.0, 'TargetKindPrice': 17683.27, 'TickType': [2], 'Time': '12:10:48.761000', 'TradeAskVolSum': 81286, 'TradeBidVolSum': 85713, 'VolSum': [115167], 'Volume': [2]}!\n",
      "My quote is: {'Amount': [17669.0], 'AmountSum': [2031563002.0], 'AvgPrice': [17639.995502], 'Close': [17669.0], 'Code': 'MXFL1', 'Date': '2021/12/07', 'DiffPrice': [-23.0], 'DiffRate': [-0.130002], 'DiffType': [4], 'High': [17698.0], 'Low': [17588.0], 'Open': 17669.0, 'TargetKindPrice': 17683.27, 'TickType': [2], 'Time': '12:10:48.975000', 'TradeAskVolSum': 81286, 'TradeBidVolSum': 85714, 'VolSum': [115168], 'Volume': [1]}!\n",
      "My quote is: {'Amount': [17670.0], 'AmountSum': [2031580672.0], 'AvgPrice': [17639.995763], 'Close': [17670.0], 'Code': 'MXFL1', 'Date': '2021/12/07', 'DiffPrice': [-22.0], 'DiffRate': [-0.12435], 'DiffType': [4], 'High': [17698.0], 'Low': [17588.0], 'Open': 17669.0, 'TargetKindPrice': 17683.27, 'TickType': [1], 'Time': '12:10:49.032000', 'TradeAskVolSum': 81286, 'TradeBidVolSum': 85716, 'VolSum': [115169], 'Volume': [1]}!\n",
      "My quote is: {'Amount': [17669.0], 'AmountSum': [2031598341.0], 'AvgPrice': [17639.996015], 'Close': [17669.0], 'Code': 'MXFL1', 'Date': '2021/12/07', 'DiffPrice': [-23.0], 'DiffRate': [-0.130002], 'DiffType': [4], 'High': [17698.0], 'Low': [17588.0], 'Open': 17669.0, 'TargetKindPrice': 17683.27, 'TickType': [2], 'Time': '12:10:49.214000', 'TradeAskVolSum': 81288, 'TradeBidVolSum': 85716, 'VolSum': [115170], 'Volume': [1]}!\n",
      "My quote is: {'Amount': [17669.0], 'AmountSum': [2031616010.0], 'AvgPrice': [17639.996266], 'Close': [17669.0], 'Code': 'MXFL1', 'Date': '2021/12/07', 'DiffPrice': [-23.0], 'DiffRate': [-0.130002], 'DiffType': [4], 'High': [17698.0], 'Low': [17588.0], 'Open': 17669.0, 'TargetKindPrice': 17683.27, 'TickType': [2], 'Time': '12:10:49.437000', 'TradeAskVolSum': 81289, 'TradeBidVolSum': 85717, 'VolSum': [115171], 'Volume': [1]}!\n",
      "My quote is: {'Amount': [35338.0], 'AmountSum': [2031651348.0], 'AvgPrice': [17639.99677], 'Close': [17669.0], 'Code': 'MXFL1', 'Date': '2021/12/07', 'DiffPrice': [-23.0], 'DiffRate': [-0.130002], 'DiffType': [4], 'High': [17698.0], 'Low': [17588.0], 'Open': 17669.0, 'TargetKindPrice': 17682.04, 'TickType': [2], 'Time': '12:10:50.520000', 'TradeAskVolSum': 81291, 'TradeBidVolSum': 85718, 'VolSum': [115173], 'Volume': [2]}!\n",
      "My quote is: {'Amount': [17669.0], 'AmountSum': [2031669017.0], 'AvgPrice': [17639.997022], 'Close': [17669.0], 'Code': 'MXFL1', 'Date': '2021/12/07', 'DiffPrice': [-23.0], 'DiffRate': [-0.130002], 'DiffType': [4], 'High': [17698.0], 'Low': [17588.0], 'Open': 17669.0, 'TargetKindPrice': 17682.04, 'TickType': [2], 'Time': '12:10:50.608000', 'TradeAskVolSum': 81291, 'TradeBidVolSum': 85720, 'VolSum': [115174], 'Volume': [1]}!\n",
      "My quote is: {'Amount': [17669.0], 'AmountSum': [2031686686.0], 'AvgPrice': [17639.997274], 'Close': [17669.0], 'Code': 'MXFL1', 'Date': '2021/12/07', 'DiffPrice': [-23.0], 'DiffRate': [-0.130002], 'DiffType': [4], 'High': [17698.0], 'Low': [17588.0], 'Open': 17669.0, 'TargetKindPrice': 17682.04, 'TickType': [2], 'Time': '12:10:51.477000', 'TradeAskVolSum': 81292, 'TradeBidVolSum': 85721, 'VolSum': [115175], 'Volume': [1]}!\n",
      "My quote is: {'Amount': [17669.0], 'AmountSum': [2031704355.0], 'AvgPrice': [17639.997526], 'Close': [17669.0], 'Code': 'MXFL1', 'Date': '2021/12/07', 'DiffPrice': [-23.0], 'DiffRate': [-0.130002], 'DiffType': [4], 'High': [17698.0], 'Low': [17588.0], 'Open': 17669.0, 'TargetKindPrice': 17682.04, 'TickType': [2], 'Time': '12:10:51.830000', 'TradeAskVolSum': 81293, 'TradeBidVolSum': 85722, 'VolSum': [115176], 'Volume': [1]}!\n",
      "My quote is: {'Amount': [17669.0], 'AmountSum': [2031722024.0], 'AvgPrice': [17639.997777], 'Close': [17669.0], 'Code': 'MXFL1', 'Date': '2021/12/07', 'DiffPrice': [-23.0], 'DiffRate': [-0.130002], 'DiffType': [4], 'High': [17698.0], 'Low': [17588.0], 'Open': 17669.0, 'TargetKindPrice': 17682.04, 'TickType': [2], 'Time': '12:10:52.046000', 'TradeAskVolSum': 81294, 'TradeBidVolSum': 85723, 'VolSum': [115177], 'Volume': [1]}!\n",
      "My quote is: {'Amount': [35340.0], 'AmountSum': [2031757364.0], 'AvgPrice': [17639.998298], 'Close': [17670.0], 'Code': 'MXFL1', 'Date': '2021/12/07', 'DiffPrice': [-22.0], 'DiffRate': [-0.12435], 'DiffType': [4], 'High': [17698.0], 'Low': [17588.0], 'Open': 17669.0, 'TargetKindPrice': 17682.04, 'TickType': [1], 'Time': '12:10:52.083000', 'TradeAskVolSum': 81294, 'TradeBidVolSum': 85726, 'VolSum': [115179], 'Volume': [2]}!\n",
      "My quote is: {'Amount': [17669.0], 'AmountSum': [2031775033.0], 'AvgPrice': [17639.99855], 'Close': [17669.0], 'Code': 'MXFL1', 'Date': '2021/12/07', 'DiffPrice': [-23.0], 'DiffRate': [-0.130002], 'DiffType': [4], 'High': [17698.0], 'Low': [17588.0], 'Open': 17669.0, 'TargetKindPrice': 17682.04, 'TickType': [2], 'Time': '12:10:52.765000', 'TradeAskVolSum': 81297, 'TradeBidVolSum': 85725, 'VolSum': [115180], 'Volume': [1]}!\n",
      "My quote is: {'Amount': [35338.0], 'AmountSum': [2031810371.0], 'AvgPrice': [17639.999054], 'Close': [17669.0], 'Code': 'MXFL1', 'Date': '2021/12/07', 'DiffPrice': [-23.0], 'DiffRate': [-0.130002], 'DiffType': [4], 'High': [17698.0], 'Low': [17588.0], 'Open': 17669.0, 'TargetKindPrice': 17682.04, 'TickType': [2], 'Time': '12:10:52.837000', 'TradeAskVolSum': 81299, 'TradeBidVolSum': 85726, 'VolSum': [115182], 'Volume': [2]}!\n"
     ]
    }
   ],
   "source": [
    "# subscribe tick data\n",
    "api.quote.subscribe(contract_txf, quote_type=sj.constant.QuoteType.Tick)"
   ]
  },
  {
   "cell_type": "code",
   "execution_count": 51,
   "id": "57a1611d",
   "metadata": {},
   "outputs": [
    {
     "name": "stdout",
     "output_type": "stream",
     "text": [
      "Response Code: 200 | Event Code: 16 | Info: L/*/MXFL1 | Event: Subscribe or Unsubscribe ok\n"
     ]
    }
   ],
   "source": [
    "# unsubscribe tick data\n",
    "api.quote.unsubscribe(contract_txf, quote_type=sj.constant.QuoteType.Tick)"
   ]
  },
  {
   "cell_type": "code",
   "execution_count": 39,
   "id": "68742b45",
   "metadata": {},
   "outputs": [
    {
     "name": "stdout",
     "output_type": "stream",
     "text": [
      "L/TFE/MXFL1\n"
     ]
    }
   ],
   "source": [
    "print(MyClass.i)"
   ]
  },
  {
   "cell_type": "code",
   "execution_count": 30,
   "id": "c2e5df5a",
   "metadata": {},
   "outputs": [
    {
     "name": "stdout",
     "output_type": "stream",
     "text": [
      "Response Code: 200 | Event Code: 16 | Info: Q/*/MXFL1 | Event: Subscribe or Unsubscribe ok\n",
      "Topic: Q/TFE/MXFL1, Quote: {'AskPrice': [17661.0, 17662.0, 17663.0, 17664.0, 17665.0], 'AskVolSum': 144, 'AskVolume': [12, 26, 25, 36, 45], 'BidPrice': [17660.0, 17659.0, 17658.0, 17657.0, 17656.0], 'BidVolSum': 129, 'BidVolume': [11, 25, 32, 31, 30], 'Code': 'MXFL1', 'Date': '2021/12/07', 'DiffAskVol': [0, 0, 1, 0, -1], 'DiffAskVolSum': 0, 'DiffBidVol': [0, 0, 0, 0, 0], 'DiffBidVolSum': 0, 'FirstDerivedAskPrice': 17663.0, 'FirstDerivedAskVolume': 2, 'FirstDerivedBidPrice': 17657.0, 'FirstDerivedBidVolume': 10, 'TargetKindPrice': 17677.12, 'Time': '12:03:47.397000'}\n",
      "Topic: Q/TFE/MXFL1, Quote: {'AskPrice': [17661.0, 17662.0, 17663.0, 17664.0, 17665.0], 'AskVolSum': 141, 'AskVolume': [9, 26, 25, 36, 45], 'BidPrice': [17660.0, 17659.0, 17658.0, 17657.0, 17656.0], 'BidVolSum': 130, 'BidVolume': [12, 25, 32, 31, 30], 'Code': 'MXFL1', 'Date': '2021/12/07', 'DiffAskVol': [-3, 0, 0, 0, 0], 'DiffAskVolSum': 0, 'DiffBidVol': [1, 0, 0, 0, 0], 'DiffBidVolSum': 0, 'FirstDerivedAskPrice': 17663.0, 'FirstDerivedAskVolume': 2, 'FirstDerivedBidPrice': 17657.0, 'FirstDerivedBidVolume': 10, 'TargetKindPrice': 17677.12, 'Time': '12:03:47.522000'}\n",
      "Topic: Q/TFE/MXFL1, Quote: {'AskPrice': [17661.0, 17662.0, 17663.0, 17664.0, 17665.0], 'AskVolSum': 142, 'AskVolume': [10, 26, 25, 36, 45], 'BidPrice': [17660.0, 17659.0, 17658.0, 17657.0, 17656.0], 'BidVolSum': 133, 'BidVolume': [15, 25, 32, 31, 30], 'Code': 'MXFL1', 'Date': '2021/12/07', 'DiffAskVol': [1, 0, 0, 0, 0], 'DiffAskVolSum': 0, 'DiffBidVol': [3, 0, 0, 0, 0], 'DiffBidVolSum': 0, 'FirstDerivedAskPrice': 17663.0, 'FirstDerivedAskVolume': 2, 'FirstDerivedBidPrice': 17657.0, 'FirstDerivedBidVolume': 10, 'TargetKindPrice': 17677.12, 'Time': '12:03:47.647000'}\n",
      "Topic: Q/TFE/MXFL1, Quote: {'AskPrice': [17661.0, 17662.0, 17663.0, 17664.0, 17665.0], 'AskVolSum': 142, 'AskVolume': [10, 26, 25, 36, 45], 'BidPrice': [17660.0, 17659.0, 17658.0, 17657.0, 17656.0], 'BidVolSum': 131, 'BidVolume': [13, 25, 32, 31, 30], 'Code': 'MXFL1', 'Date': '2021/12/07', 'DiffAskVol': [0, 0, 0, 0, 0], 'DiffAskVolSum': 0, 'DiffBidVol': [-2, 0, 0, 0, 0], 'DiffBidVolSum': 0, 'FirstDerivedAskPrice': 17663.0, 'FirstDerivedAskVolume': 2, 'FirstDerivedBidPrice': 17657.0, 'FirstDerivedBidVolume': 10, 'TargetKindPrice': 17677.12, 'Time': '12:03:47.772000'}\n",
      "Topic: Q/TFE/MXFL1, Quote: {'AskPrice': [17661.0, 17662.0, 17663.0, 17664.0, 17665.0], 'AskVolSum': 142, 'AskVolume': [10, 26, 25, 36, 45], 'BidPrice': [17660.0, 17659.0, 17658.0, 17657.0, 17656.0], 'BidVolSum': 132, 'BidVolume': [14, 25, 32, 31, 30], 'Code': 'MXFL1', 'Date': '2021/12/07', 'DiffAskVol': [0, 0, 0, 0, 0], 'DiffAskVolSum': 0, 'DiffBidVol': [1, 0, 0, 0, 0], 'DiffBidVolSum': 0, 'FirstDerivedAskPrice': 17663.0, 'FirstDerivedAskVolume': 2, 'FirstDerivedBidPrice': 17657.0, 'FirstDerivedBidVolume': 10, 'TargetKindPrice': 17677.12, 'Time': '12:03:47.897000'}\n",
      "Topic: Q/TFE/MXFL1, Quote: {'AskPrice': [17661.0, 17662.0, 17663.0, 17664.0, 17665.0], 'AskVolSum': 142, 'AskVolume': [10, 26, 25, 36, 45], 'BidPrice': [17660.0, 17659.0, 17658.0, 17657.0, 17656.0], 'BidVolSum': 131, 'BidVolume': [14, 25, 32, 30, 30], 'Code': 'MXFL1', 'Date': '2021/12/07', 'DiffAskVol': [0, 0, 0, 0, 0], 'DiffAskVolSum': 0, 'DiffBidVol': [0, 0, 0, -1, 0], 'DiffBidVolSum': 0, 'FirstDerivedAskPrice': 17663.0, 'FirstDerivedAskVolume': 2, 'FirstDerivedBidPrice': 17657.0, 'FirstDerivedBidVolume': 10, 'TargetKindPrice': 17677.12, 'Time': '12:03:48.022000'}\n",
      "Topic: Q/TFE/MXFL1, Quote: {'AskPrice': [17661.0, 17662.0, 17663.0, 17664.0, 17665.0], 'AskVolSum': 142, 'AskVolume': [10, 26, 25, 36, 45], 'BidPrice': [17660.0, 17659.0, 17658.0, 17657.0, 17656.0], 'BidVolSum': 133, 'BidVolume': [16, 25, 32, 30, 30], 'Code': 'MXFL1', 'Date': '2021/12/07', 'DiffAskVol': [0, 0, 0, 0, 0], 'DiffAskVolSum': 0, 'DiffBidVol': [2, 0, 0, 0, 0], 'DiffBidVolSum': 0, 'FirstDerivedAskPrice': 17663.0, 'FirstDerivedAskVolume': 2, 'FirstDerivedBidPrice': 17657.0, 'FirstDerivedBidVolume': 10, 'TargetKindPrice': 17677.12, 'Time': '12:03:48.272000'}\n",
      "Topic: Q/TFE/MXFL1, Quote: {'AskPrice': [17661.0, 17662.0, 17663.0, 17664.0, 17665.0], 'AskVolSum': 142, 'AskVolume': [10, 26, 25, 36, 45], 'BidPrice': [17660.0, 17659.0, 17658.0, 17657.0, 17656.0], 'BidVolSum': 133, 'BidVolume': [16, 25, 32, 30, 30], 'Code': 'MXFL1', 'Date': '2021/12/07', 'DiffAskVol': [0, 0, 0, 0, 0], 'DiffAskVolSum': 0, 'DiffBidVol': [0, 0, 0, 0, 0], 'DiffBidVolSum': 0, 'FirstDerivedAskPrice': 17663.0, 'FirstDerivedAskVolume': 2, 'FirstDerivedBidPrice': 17657.0, 'FirstDerivedBidVolume': 10, 'TargetKindPrice': 17677.12, 'Time': '12:03:48.897000'}\n",
      "Topic: Q/TFE/MXFL1, Quote: {'AskPrice': [17661.0, 17662.0, 17663.0, 17664.0, 17665.0], 'AskVolSum': 143, 'AskVolume': [11, 26, 25, 36, 45], 'BidPrice': [17660.0, 17659.0, 17658.0, 17657.0, 17656.0], 'BidVolSum': 132, 'BidVolume': [15, 25, 32, 30, 30], 'Code': 'MXFL1', 'Date': '2021/12/07', 'DiffAskVol': [1, 0, 0, 0, 0], 'DiffAskVolSum': 0, 'DiffBidVol': [-1, 0, 0, 0, 0], 'DiffBidVolSum': 0, 'FirstDerivedAskPrice': 17663.0, 'FirstDerivedAskVolume': 2, 'FirstDerivedBidPrice': 17657.0, 'FirstDerivedBidVolume': 10, 'TargetKindPrice': 17677.12, 'Time': '12:03:49.022000'}\n",
      "Topic: Q/TFE/MXFL1, Quote: {'AskPrice': [17661.0, 17662.0, 17663.0, 17664.0, 17665.0], 'AskVolSum': 144, 'AskVolume': [11, 26, 26, 36, 45], 'BidPrice': [17660.0, 17659.0, 17658.0, 17657.0, 17656.0], 'BidVolSum': 132, 'BidVolume': [15, 25, 32, 30, 30], 'Code': 'MXFL1', 'Date': '2021/12/07', 'DiffAskVol': [0, 0, 1, 0, 0], 'DiffAskVolSum': 0, 'DiffBidVol': [0, 0, 0, 0, 0], 'DiffBidVolSum': 0, 'FirstDerivedAskPrice': 17663.0, 'FirstDerivedAskVolume': 2, 'FirstDerivedBidPrice': 17657.0, 'FirstDerivedBidVolume': 10, 'TargetKindPrice': 17677.12, 'Time': '12:03:49.272000'}\n",
      "Topic: Q/TFE/MXFL1, Quote: {'AskPrice': [17661.0, 17662.0, 17663.0, 17664.0, 17665.0], 'AskVolSum': 144, 'AskVolume': [11, 26, 26, 36, 45], 'BidPrice': [17660.0, 17659.0, 17658.0, 17657.0, 17656.0], 'BidVolSum': 132, 'BidVolume': [15, 25, 32, 30, 30], 'Code': 'MXFL1', 'Date': '2021/12/07', 'DiffAskVol': [0, 0, 0, 0, 0], 'DiffAskVolSum': 0, 'DiffBidVol': [0, 0, 0, 0, 0], 'DiffBidVolSum': 0, 'FirstDerivedAskPrice': 17663.0, 'FirstDerivedAskVolume': 2, 'FirstDerivedBidPrice': 17657.0, 'FirstDerivedBidVolume': 10, 'TargetKindPrice': 17677.12, 'Time': '12:03:49.397000'}\n",
      "Topic: Q/TFE/MXFL1, Quote: {'AskPrice': [17661.0, 17662.0, 17663.0, 17664.0, 17665.0], 'AskVolSum': 144, 'AskVolume': [11, 26, 26, 36, 45], 'BidPrice': [17660.0, 17659.0, 17658.0, 17657.0, 17656.0], 'BidVolSum': 131, 'BidVolume': [14, 25, 32, 30, 30], 'Code': 'MXFL1', 'Date': '2021/12/07', 'DiffAskVol': [0, 0, 0, 0, 0], 'DiffAskVolSum': 0, 'DiffBidVol': [-1, 0, 0, 0, 0], 'DiffBidVolSum': 0, 'FirstDerivedAskPrice': 17663.0, 'FirstDerivedAskVolume': 2, 'FirstDerivedBidPrice': 17657.0, 'FirstDerivedBidVolume': 10, 'TargetKindPrice': 17677.12, 'Time': '12:03:49.522000'}\n",
      "Topic: Q/TFE/MXFL1, Quote: {'AskPrice': [17661.0, 17662.0, 17663.0, 17664.0, 17665.0], 'AskVolSum': 144, 'AskVolume': [11, 26, 26, 36, 45], 'BidPrice': [17660.0, 17659.0, 17658.0, 17657.0, 17656.0], 'BidVolSum': 131, 'BidVolume': [14, 25, 32, 30, 30], 'Code': 'MXFL1', 'Date': '2021/12/07', 'DiffAskVol': [0, 0, 0, 0, 0], 'DiffAskVolSum': 0, 'DiffBidVol': [0, 0, 0, 0, 0], 'DiffBidVolSum': 0, 'FirstDerivedAskPrice': 17663.0, 'FirstDerivedAskVolume': 2, 'FirstDerivedBidPrice': 17657.0, 'FirstDerivedBidVolume': 10, 'TargetKindPrice': 17677.12, 'Time': '12:03:49.897000'}\n",
      "Topic: Q/TFE/MXFL1, Quote: {'AskPrice': [17661.0, 17662.0, 17663.0, 17664.0, 17665.0], 'AskVolSum': 144, 'AskVolume': [11, 26, 26, 36, 45], 'BidPrice': [17660.0, 17659.0, 17658.0, 17657.0, 17656.0], 'BidVolSum': 131, 'BidVolume': [14, 25, 32, 30, 30], 'Code': 'MXFL1', 'Date': '2021/12/07', 'DiffAskVol': [0, 0, 0, 0, 0], 'DiffAskVolSum': 0, 'DiffBidVol': [0, 0, 0, 0, 0], 'DiffBidVolSum': 0, 'FirstDerivedAskPrice': 17663.0, 'FirstDerivedAskVolume': 2, 'FirstDerivedBidPrice': 17657.0, 'FirstDerivedBidVolume': 10, 'TargetKindPrice': 17677.12, 'Time': '12:03:50.022000'}\n",
      "Topic: Q/TFE/MXFL1, Quote: {'AskPrice': [17661.0, 17662.0, 17663.0, 17664.0, 17665.0], 'AskVolSum': 144, 'AskVolume': [11, 26, 26, 36, 45], 'BidPrice': [17660.0, 17659.0, 17658.0, 17657.0, 17656.0], 'BidVolSum': 132, 'BidVolume': [15, 25, 32, 30, 30], 'Code': 'MXFL1', 'Date': '2021/12/07', 'DiffAskVol': [0, 0, 0, 0, 0], 'DiffAskVolSum': 0, 'DiffBidVol': [1, 0, 0, 0, 0], 'DiffBidVolSum': 0, 'FirstDerivedAskPrice': 17663.0, 'FirstDerivedAskVolume': 2, 'FirstDerivedBidPrice': 17657.0, 'FirstDerivedBidVolume': 10, 'TargetKindPrice': 17677.08, 'Time': '12:03:50.147000'}\n"
     ]
    },
    {
     "name": "stdout",
     "output_type": "stream",
     "text": [
      "Topic: Q/TFE/MXFL1, Quote: {'AskPrice': [17661.0, 17662.0, 17663.0, 17664.0, 17665.0], 'AskVolSum': 144, 'AskVolume': [11, 26, 26, 36, 45], 'BidPrice': [17660.0, 17659.0, 17658.0, 17657.0, 17656.0], 'BidVolSum': 134, 'BidVolume': [15, 25, 32, 30, 32], 'Code': 'MXFL1', 'Date': '2021/12/07', 'DiffAskVol': [0, 0, 0, 0, 0], 'DiffAskVolSum': 0, 'DiffBidVol': [0, 0, 0, 0, 2], 'DiffBidVolSum': 0, 'FirstDerivedAskPrice': 17663.0, 'FirstDerivedAskVolume': 2, 'FirstDerivedBidPrice': 17657.0, 'FirstDerivedBidVolume': 10, 'TargetKindPrice': 17677.08, 'Time': '12:03:50.522000'}\n",
      "Topic: Q/TFE/MXFL1, Quote: {'AskPrice': [17661.0, 17662.0, 17663.0, 17664.0, 17665.0], 'AskVolSum': 145, 'AskVolume': [12, 26, 26, 36, 45], 'BidPrice': [17660.0, 17659.0, 17658.0, 17657.0, 17656.0], 'BidVolSum': 131, 'BidVolume': [12, 25, 32, 30, 32], 'Code': 'MXFL1', 'Date': '2021/12/07', 'DiffAskVol': [1, 0, 0, 0, 0], 'DiffAskVolSum': 0, 'DiffBidVol': [-3, 0, 0, 0, 0], 'DiffBidVolSum': 0, 'FirstDerivedAskPrice': 17663.0, 'FirstDerivedAskVolume': 2, 'FirstDerivedBidPrice': 17657.0, 'FirstDerivedBidVolume': 10, 'TargetKindPrice': 17677.08, 'Time': '12:03:50.772000'}\n",
      "Topic: Q/TFE/MXFL1, Quote: {'AskPrice': [17661.0, 17662.0, 17663.0, 17664.0, 17665.0], 'AskVolSum': 145, 'AskVolume': [12, 26, 26, 36, 45], 'BidPrice': [17660.0, 17659.0, 17658.0, 17657.0, 17656.0], 'BidVolSum': 131, 'BidVolume': [12, 25, 31, 30, 33], 'Code': 'MXFL1', 'Date': '2021/12/07', 'DiffAskVol': [0, 0, 0, 0, 0], 'DiffAskVolSum': 0, 'DiffBidVol': [0, 0, -1, 0, 1], 'DiffBidVolSum': 0, 'FirstDerivedAskPrice': 17663.0, 'FirstDerivedAskVolume': 2, 'FirstDerivedBidPrice': 17657.0, 'FirstDerivedBidVolume': 10, 'TargetKindPrice': 17677.08, 'Time': '12:03:50.897000'}\n",
      "Topic: Q/TFE/MXFL1, Quote: {'AskPrice': [17661.0, 17662.0, 17663.0, 17664.0, 17665.0], 'AskVolSum': 145, 'AskVolume': [12, 26, 26, 36, 45], 'BidPrice': [17660.0, 17659.0, 17658.0, 17657.0, 17656.0], 'BidVolSum': 131, 'BidVolume': [12, 25, 31, 30, 33], 'Code': 'MXFL1', 'Date': '2021/12/07', 'DiffAskVol': [0, 0, 0, 0, 0], 'DiffAskVolSum': 0, 'DiffBidVol': [0, 0, 0, 0, 0], 'DiffBidVolSum': 0, 'FirstDerivedAskPrice': 17663.0, 'FirstDerivedAskVolume': 2, 'FirstDerivedBidPrice': 17657.0, 'FirstDerivedBidVolume': 10, 'TargetKindPrice': 17677.08, 'Time': '12:03:51.022000'}\n",
      "Topic: Q/TFE/MXFL1, Quote: {'AskPrice': [17661.0, 17662.0, 17663.0, 17664.0, 17665.0], 'AskVolSum': 145, 'AskVolume': [12, 27, 26, 36, 44], 'BidPrice': [17660.0, 17659.0, 17658.0, 17657.0, 17656.0], 'BidVolSum': 131, 'BidVolume': [12, 25, 31, 30, 33], 'Code': 'MXFL1', 'Date': '2021/12/07', 'DiffAskVol': [0, 1, 0, 0, -1], 'DiffAskVolSum': 0, 'DiffBidVol': [0, 0, 0, 0, 0], 'DiffBidVolSum': 0, 'FirstDerivedAskPrice': 17663.0, 'FirstDerivedAskVolume': 2, 'FirstDerivedBidPrice': 17657.0, 'FirstDerivedBidVolume': 10, 'TargetKindPrice': 17677.08, 'Time': '12:03:51.147000'}\n",
      "Topic: Q/TFE/MXFL1, Quote: {'AskPrice': [17661.0, 17662.0, 17663.0, 17664.0, 17665.0], 'AskVolSum': 144, 'AskVolume': [11, 27, 26, 36, 44], 'BidPrice': [17660.0, 17659.0, 17658.0, 17657.0, 17656.0], 'BidVolSum': 130, 'BidVolume': [11, 25, 31, 30, 33], 'Code': 'MXFL1', 'Date': '2021/12/07', 'DiffAskVol': [-1, 0, 0, 0, 0], 'DiffAskVolSum': 0, 'DiffBidVol': [-1, 0, 0, 0, 0], 'DiffBidVolSum': 0, 'FirstDerivedAskPrice': 17663.0, 'FirstDerivedAskVolume': 2, 'FirstDerivedBidPrice': 17657.0, 'FirstDerivedBidVolume': 10, 'TargetKindPrice': 17677.08, 'Time': '12:03:51.272000'}\n",
      "Topic: Q/TFE/MXFL1, Quote: {'AskPrice': [17661.0, 17662.0, 17663.0, 17664.0, 17665.0], 'AskVolSum': 145, 'AskVolume': [11, 28, 26, 36, 44], 'BidPrice': [17660.0, 17659.0, 17658.0, 17657.0, 17656.0], 'BidVolSum': 130, 'BidVolume': [11, 25, 31, 30, 33], 'Code': 'MXFL1', 'Date': '2021/12/07', 'DiffAskVol': [0, 1, 0, 0, 0], 'DiffAskVolSum': 0, 'DiffBidVol': [0, 0, 0, 0, 0], 'DiffBidVolSum': 0, 'FirstDerivedAskPrice': 17663.0, 'FirstDerivedAskVolume': 2, 'FirstDerivedBidPrice': 17657.0, 'FirstDerivedBidVolume': 10, 'TargetKindPrice': 17677.08, 'Time': '12:03:51.397000'}\n",
      "Topic: Q/TFE/MXFL1, Quote: {'AskPrice': [17661.0, 17662.0, 17663.0, 17664.0, 17665.0], 'AskVolSum': 145, 'AskVolume': [11, 28, 26, 36, 44], 'BidPrice': [17660.0, 17659.0, 17658.0, 17657.0, 17656.0], 'BidVolSum': 132, 'BidVolume': [13, 25, 31, 30, 33], 'Code': 'MXFL1', 'Date': '2021/12/07', 'DiffAskVol': [0, 0, 0, 0, 0], 'DiffAskVolSum': 0, 'DiffBidVol': [2, 0, 0, 0, 0], 'DiffBidVolSum': 0, 'FirstDerivedAskPrice': 17663.0, 'FirstDerivedAskVolume': 2, 'FirstDerivedBidPrice': 17657.0, 'FirstDerivedBidVolume': 10, 'TargetKindPrice': 17677.08, 'Time': '12:03:51.522000'}\n",
      "Topic: Q/TFE/MXFL1, Quote: {'AskPrice': [17661.0, 17662.0, 17663.0, 17664.0, 17665.0], 'AskVolSum': 149, 'AskVolume': [11, 32, 26, 36, 44], 'BidPrice': [17660.0, 17659.0, 17658.0, 17657.0, 17656.0], 'BidVolSum': 133, 'BidVolume': [14, 25, 31, 30, 33], 'Code': 'MXFL1', 'Date': '2021/12/07', 'DiffAskVol': [0, 4, 0, 0, 0], 'DiffAskVolSum': 0, 'DiffBidVol': [1, 0, 0, 0, 0], 'DiffBidVolSum': 0, 'FirstDerivedAskPrice': 17663.0, 'FirstDerivedAskVolume': 2, 'FirstDerivedBidPrice': 17657.0, 'FirstDerivedBidVolume': 10, 'TargetKindPrice': 17677.08, 'Time': '12:03:51.647000'}\n",
      "Topic: Q/TFE/MXFL1, Quote: {'AskPrice': [17661.0, 17662.0, 17663.0, 17664.0, 17665.0], 'AskVolSum': 149, 'AskVolume': [11, 32, 26, 36, 44], 'BidPrice': [17660.0, 17659.0, 17658.0, 17657.0, 17656.0], 'BidVolSum': 133, 'BidVolume': [14, 25, 31, 30, 33], 'Code': 'MXFL1', 'Date': '2021/12/07', 'DiffAskVol': [0, 0, 0, 0, 0], 'DiffAskVolSum': 0, 'DiffBidVol': [0, 0, 0, 0, 0], 'DiffBidVolSum': 0, 'FirstDerivedAskPrice': 17663.0, 'FirstDerivedAskVolume': 2, 'FirstDerivedBidPrice': 17657.0, 'FirstDerivedBidVolume': 10, 'TargetKindPrice': 17677.08, 'Time': '12:03:51.772000'}\n",
      "Topic: Q/TFE/MXFL1, Quote: {'AskPrice': [17661.0, 17662.0, 17663.0, 17664.0, 17665.0], 'AskVolSum': 149, 'AskVolume': [11, 32, 26, 36, 44], 'BidPrice': [17660.0, 17659.0, 17658.0, 17657.0, 17656.0], 'BidVolSum': 130, 'BidVolume': [11, 25, 31, 30, 33], 'Code': 'MXFL1', 'Date': '2021/12/07', 'DiffAskVol': [0, 0, 0, 0, 0], 'DiffAskVolSum': 0, 'DiffBidVol': [-3, 0, 0, 0, 0], 'DiffBidVolSum': 0, 'FirstDerivedAskPrice': 17663.0, 'FirstDerivedAskVolume': 2, 'FirstDerivedBidPrice': 17657.0, 'FirstDerivedBidVolume': 10, 'TargetKindPrice': 17677.08, 'Time': '12:03:51.897000'}\n",
      "Topic: Q/TFE/MXFL1, Quote: {'AskPrice': [17661.0, 17662.0, 17663.0, 17664.0, 17665.0], 'AskVolSum': 150, 'AskVolume': [11, 33, 26, 36, 44], 'BidPrice': [17660.0, 17659.0, 17658.0, 17657.0, 17656.0], 'BidVolSum': 126, 'BidVolume': [10, 25, 28, 30, 33], 'Code': 'MXFL1', 'Date': '2021/12/07', 'DiffAskVol': [0, 1, 0, 0, 0], 'DiffAskVolSum': 0, 'DiffBidVol': [-1, 0, -3, 0, 0], 'DiffBidVolSum': 0, 'FirstDerivedAskPrice': 17663.0, 'FirstDerivedAskVolume': 2, 'FirstDerivedBidPrice': 17657.0, 'FirstDerivedBidVolume': 10, 'TargetKindPrice': 17677.08, 'Time': '12:03:52.022000'}\n",
      "Topic: Q/TFE/MXFL1, Quote: {'AskPrice': [17661.0, 17662.0, 17663.0, 17664.0, 17665.0], 'AskVolSum': 151, 'AskVolume': [12, 33, 26, 36, 44], 'BidPrice': [17660.0, 17659.0, 17658.0, 17657.0, 17656.0], 'BidVolSum': 126, 'BidVolume': [10, 25, 28, 30, 33], 'Code': 'MXFL1', 'Date': '2021/12/07', 'DiffAskVol': [1, 0, 0, 0, 0], 'DiffAskVolSum': 0, 'DiffBidVol': [0, 0, 0, 0, 0], 'DiffBidVolSum': 0, 'FirstDerivedAskPrice': 17663.0, 'FirstDerivedAskVolume': 2, 'FirstDerivedBidPrice': 17657.0, 'FirstDerivedBidVolume': 10, 'TargetKindPrice': 17677.08, 'Time': '12:03:52.147000'}\n",
      "Topic: Q/TFE/MXFL1, Quote: {'AskPrice': [17661.0, 17662.0, 17663.0, 17664.0, 17665.0], 'AskVolSum': 151, 'AskVolume': [12, 33, 26, 36, 44], 'BidPrice': [17660.0, 17659.0, 17658.0, 17657.0, 17656.0], 'BidVolSum': 126, 'BidVolume': [10, 25, 28, 30, 33], 'Code': 'MXFL1', 'Date': '2021/12/07', 'DiffAskVol': [0, 0, 0, 0, 0], 'DiffAskVolSum': 0, 'DiffBidVol': [0, 0, 0, 0, 0], 'DiffBidVolSum': 0, 'FirstDerivedAskPrice': 17663.0, 'FirstDerivedAskVolume': 2, 'FirstDerivedBidPrice': 17657.0, 'FirstDerivedBidVolume': 10, 'TargetKindPrice': 17677.08, 'Time': '12:03:52.272000'}\n",
      "Topic: Q/TFE/MXFL1, Quote: {'AskPrice': [17661.0, 17662.0, 17663.0, 17664.0, 17665.0], 'AskVolSum': 153, 'AskVolume': [12, 33, 28, 36, 44], 'BidPrice': [17660.0, 17659.0, 17658.0, 17657.0, 17656.0], 'BidVolSum': 126, 'BidVolume': [10, 25, 28, 30, 33], 'Code': 'MXFL1', 'Date': '2021/12/07', 'DiffAskVol': [0, 0, 2, 0, 0], 'DiffAskVolSum': 0, 'DiffBidVol': [0, 0, 0, 0, 0], 'DiffBidVolSum': 0, 'FirstDerivedAskPrice': 17663.0, 'FirstDerivedAskVolume': 2, 'FirstDerivedBidPrice': 17657.0, 'FirstDerivedBidVolume': 10, 'TargetKindPrice': 17677.08, 'Time': '12:03:52.397000'}\n"
     ]
    },
    {
     "name": "stdout",
     "output_type": "stream",
     "text": [
      "Topic: Q/TFE/MXFL1, Quote: {'AskPrice': [17661.0, 17662.0, 17663.0, 17664.0, 17665.0], 'AskVolSum': 153, 'AskVolume': [12, 33, 28, 36, 44], 'BidPrice': [17660.0, 17659.0, 17658.0, 17657.0, 17656.0], 'BidVolSum': 125, 'BidVolume': [9, 25, 28, 30, 33], 'Code': 'MXFL1', 'Date': '2021/12/07', 'DiffAskVol': [0, 0, 0, 0, 0], 'DiffAskVolSum': 0, 'DiffBidVol': [-1, 0, 0, 0, 0], 'DiffBidVolSum': 0, 'FirstDerivedAskPrice': 17663.0, 'FirstDerivedAskVolume': 2, 'FirstDerivedBidPrice': 17657.0, 'FirstDerivedBidVolume': 10, 'TargetKindPrice': 17677.08, 'Time': '12:03:52.522000'}\n",
      "Topic: Q/TFE/MXFL1, Quote: {'AskPrice': [17661.0, 17662.0, 17663.0, 17664.0, 17665.0], 'AskVolSum': 153, 'AskVolume': [12, 33, 28, 36, 44], 'BidPrice': [17660.0, 17659.0, 17658.0, 17657.0, 17656.0], 'BidVolSum': 126, 'BidVolume': [10, 25, 28, 30, 33], 'Code': 'MXFL1', 'Date': '2021/12/07', 'DiffAskVol': [0, 0, 0, 0, 0], 'DiffAskVolSum': 0, 'DiffBidVol': [1, 0, 0, 0, 0], 'DiffBidVolSum': 0, 'FirstDerivedAskPrice': 17663.0, 'FirstDerivedAskVolume': 2, 'FirstDerivedBidPrice': 17657.0, 'FirstDerivedBidVolume': 10, 'TargetKindPrice': 17677.08, 'Time': '12:03:52.647000'}\n",
      "Topic: Q/TFE/MXFL1, Quote: {'AskPrice': [17661.0, 17662.0, 17663.0, 17664.0, 17665.0], 'AskVolSum': 154, 'AskVolume': [13, 33, 28, 36, 44], 'BidPrice': [17660.0, 17659.0, 17658.0, 17657.0, 17656.0], 'BidVolSum': 126, 'BidVolume': [10, 25, 28, 30, 33], 'Code': 'MXFL1', 'Date': '2021/12/07', 'DiffAskVol': [1, 0, 0, 0, 0], 'DiffAskVolSum': 0, 'DiffBidVol': [0, 0, 0, 0, 0], 'DiffBidVolSum': 0, 'FirstDerivedAskPrice': 17663.0, 'FirstDerivedAskVolume': 2, 'FirstDerivedBidPrice': 17657.0, 'FirstDerivedBidVolume': 10, 'TargetKindPrice': 17677.08, 'Time': '12:03:52.772000'}\n",
      "Topic: Q/TFE/MXFL1, Quote: {'AskPrice': [17661.0, 17662.0, 17663.0, 17664.0, 17665.0], 'AskVolSum': 155, 'AskVolume': [14, 33, 28, 36, 44], 'BidPrice': [17660.0, 17659.0, 17658.0, 17657.0, 17656.0], 'BidVolSum': 125, 'BidVolume': [9, 25, 28, 30, 33], 'Code': 'MXFL1', 'Date': '2021/12/07', 'DiffAskVol': [1, 0, 0, 0, 0], 'DiffAskVolSum': 0, 'DiffBidVol': [-1, 0, 0, 0, 0], 'DiffBidVolSum': 0, 'FirstDerivedAskPrice': 17663.0, 'FirstDerivedAskVolume': 2, 'FirstDerivedBidPrice': 17657.0, 'FirstDerivedBidVolume': 10, 'TargetKindPrice': 17677.08, 'Time': '12:03:52.897000'}\n",
      "Topic: Q/TFE/MXFL1, Quote: {'AskPrice': [17661.0, 17662.0, 17663.0, 17664.0, 17665.0], 'AskVolSum': 154, 'AskVolume': [14, 33, 27, 36, 44], 'BidPrice': [17660.0, 17659.0, 17658.0, 17657.0, 17656.0], 'BidVolSum': 125, 'BidVolume': [9, 25, 28, 30, 33], 'Code': 'MXFL1', 'Date': '2021/12/07', 'DiffAskVol': [0, 0, -1, 0, 0], 'DiffAskVolSum': 0, 'DiffBidVol': [0, 0, 0, 0, 0], 'DiffBidVolSum': 0, 'FirstDerivedAskPrice': 17663.0, 'FirstDerivedAskVolume': 2, 'FirstDerivedBidPrice': 17657.0, 'FirstDerivedBidVolume': 10, 'TargetKindPrice': 17677.08, 'Time': '12:03:53.022000'}\n",
      "Topic: Q/TFE/MXFL1, Quote: {'AskPrice': [17661.0, 17662.0, 17663.0, 17664.0, 17665.0], 'AskVolSum': 154, 'AskVolume': [14, 33, 27, 36, 44], 'BidPrice': [17660.0, 17659.0, 17658.0, 17657.0, 17656.0], 'BidVolSum': 125, 'BidVolume': [9, 25, 28, 30, 33], 'Code': 'MXFL1', 'Date': '2021/12/07', 'DiffAskVol': [0, 0, 0, 0, 0], 'DiffAskVolSum': 0, 'DiffBidVol': [0, 0, 0, 0, 0], 'DiffBidVolSum': 0, 'FirstDerivedAskPrice': 17663.0, 'FirstDerivedAskVolume': 2, 'FirstDerivedBidPrice': 17657.0, 'FirstDerivedBidVolume': 10, 'TargetKindPrice': 17677.08, 'Time': '12:03:53.272000'}\n",
      "Topic: Q/TFE/MXFL1, Quote: {'AskPrice': [17661.0, 17662.0, 17663.0, 17664.0, 17665.0], 'AskVolSum': 154, 'AskVolume': [14, 33, 27, 36, 44], 'BidPrice': [17660.0, 17659.0, 17658.0, 17657.0, 17656.0], 'BidVolSum': 126, 'BidVolume': [10, 25, 28, 30, 33], 'Code': 'MXFL1', 'Date': '2021/12/07', 'DiffAskVol': [0, 0, 0, 0, 0], 'DiffAskVolSum': 0, 'DiffBidVol': [1, 0, 0, 0, 0], 'DiffBidVolSum': 0, 'FirstDerivedAskPrice': 17663.0, 'FirstDerivedAskVolume': 2, 'FirstDerivedBidPrice': 17657.0, 'FirstDerivedBidVolume': 10, 'TargetKindPrice': 17677.08, 'Time': '12:03:53.397000'}\n",
      "Topic: Q/TFE/MXFL1, Quote: {'AskPrice': [17661.0, 17662.0, 17663.0, 17664.0, 17665.0], 'AskVolSum': 155, 'AskVolume': [15, 33, 27, 36, 44], 'BidPrice': [17660.0, 17659.0, 17658.0, 17657.0, 17656.0], 'BidVolSum': 126, 'BidVolume': [10, 25, 28, 30, 33], 'Code': 'MXFL1', 'Date': '2021/12/07', 'DiffAskVol': [1, 0, 0, 0, 0], 'DiffAskVolSum': 0, 'DiffBidVol': [0, 0, 0, 0, 0], 'DiffBidVolSum': 0, 'FirstDerivedAskPrice': 17663.0, 'FirstDerivedAskVolume': 2, 'FirstDerivedBidPrice': 17657.0, 'FirstDerivedBidVolume': 10, 'TargetKindPrice': 17677.08, 'Time': '12:03:53.522000'}\n",
      "Topic: Q/TFE/MXFL1, Quote: {'AskPrice': [17661.0, 17662.0, 17663.0, 17664.0, 17665.0], 'AskVolSum': 156, 'AskVolume': [16, 33, 27, 36, 44], 'BidPrice': [17660.0, 17659.0, 17658.0, 17657.0, 17656.0], 'BidVolSum': 125, 'BidVolume': [9, 25, 28, 30, 33], 'Code': 'MXFL1', 'Date': '2021/12/07', 'DiffAskVol': [1, 0, 0, 0, 0], 'DiffAskVolSum': 0, 'DiffBidVol': [-1, 0, 0, 0, 0], 'DiffBidVolSum': 0, 'FirstDerivedAskPrice': 17663.0, 'FirstDerivedAskVolume': 2, 'FirstDerivedBidPrice': 17657.0, 'FirstDerivedBidVolume': 10, 'TargetKindPrice': 17677.08, 'Time': '12:03:53.647000'}\n",
      "Topic: Q/TFE/MXFL1, Quote: {'AskPrice': [17661.0, 17662.0, 17663.0, 17664.0, 17665.0], 'AskVolSum': 156, 'AskVolume': [16, 33, 27, 36, 44], 'BidPrice': [17660.0, 17659.0, 17658.0, 17657.0, 17656.0], 'BidVolSum': 125, 'BidVolume': [9, 25, 28, 30, 33], 'Code': 'MXFL1', 'Date': '2021/12/07', 'DiffAskVol': [0, 0, 0, 0, 0], 'DiffAskVolSum': 0, 'DiffBidVol': [0, 0, 0, 0, 0], 'DiffBidVolSum': 0, 'FirstDerivedAskPrice': 17663.0, 'FirstDerivedAskVolume': 2, 'FirstDerivedBidPrice': 17657.0, 'FirstDerivedBidVolume': 10, 'TargetKindPrice': 17677.08, 'Time': '12:03:53.897000'}\n",
      "Topic: Q/TFE/MXFL1, Quote: {'AskPrice': [17661.0, 17662.0, 17663.0, 17664.0, 17665.0], 'AskVolSum': 157, 'AskVolume': [17, 33, 27, 36, 44], 'BidPrice': [17660.0, 17659.0, 17658.0, 17657.0, 17656.0], 'BidVolSum': 113, 'BidVolume': [3, 19, 28, 30, 33], 'Code': 'MXFL1', 'Date': '2021/12/07', 'DiffAskVol': [1, 0, 0, 0, 0], 'DiffAskVolSum': 0, 'DiffBidVol': [-6, -6, 0, 0, 0], 'DiffBidVolSum': 0, 'FirstDerivedAskPrice': 17663.0, 'FirstDerivedAskVolume': 2, 'FirstDerivedBidPrice': 17657.0, 'FirstDerivedBidVolume': 10, 'TargetKindPrice': 17677.08, 'Time': '12:03:54.022000'}\n",
      "Topic: Q/TFE/MXFL1, Quote: {'AskPrice': [17661.0, 17662.0, 17663.0, 17664.0, 17665.0], 'AskVolSum': 157, 'AskVolume': [17, 33, 27, 36, 44], 'BidPrice': [17660.0, 17659.0, 17658.0, 17657.0, 17656.0], 'BidVolSum': 114, 'BidVolume': [3, 19, 28, 31, 33], 'Code': 'MXFL1', 'Date': '2021/12/07', 'DiffAskVol': [0, 0, 0, 0, 0], 'DiffAskVolSum': 0, 'DiffBidVol': [0, 0, 0, 1, 0], 'DiffBidVolSum': 0, 'FirstDerivedAskPrice': 17663.0, 'FirstDerivedAskVolume': 2, 'FirstDerivedBidPrice': 17657.0, 'FirstDerivedBidVolume': 10, 'TargetKindPrice': 17677.08, 'Time': '12:03:54.272000'}\n",
      "Topic: Q/TFE/MXFL1, Quote: {'AskPrice': [17661.0, 17662.0, 17663.0, 17664.0, 17665.0], 'AskVolSum': 157, 'AskVolume': [17, 33, 27, 36, 44], 'BidPrice': [17660.0, 17659.0, 17658.0, 17657.0, 17656.0], 'BidVolSum': 112, 'BidVolume': [1, 19, 28, 31, 33], 'Code': 'MXFL1', 'Date': '2021/12/07', 'DiffAskVol': [0, 0, 0, 0, 0], 'DiffAskVolSum': 0, 'DiffBidVol': [-2, 0, 0, 0, 0], 'DiffBidVolSum': 0, 'FirstDerivedAskPrice': 17663.0, 'FirstDerivedAskVolume': 2, 'FirstDerivedBidPrice': 17657.0, 'FirstDerivedBidVolume': 10, 'TargetKindPrice': 17677.08, 'Time': '12:03:54.772000'}\n",
      "Topic: Q/TFE/MXFL1, Quote: {'AskPrice': [17661.0, 17662.0, 17663.0, 17664.0, 17665.0], 'AskVolSum': 155, 'AskVolume': [15, 33, 27, 36, 44], 'BidPrice': [17660.0, 17659.0, 17658.0, 17657.0, 17656.0], 'BidVolSum': 125, 'BidVolume': [9, 24, 28, 31, 33], 'Code': 'MXFL1', 'Date': '2021/12/07', 'DiffAskVol': [-2, 0, 0, 0, 0], 'DiffAskVolSum': 0, 'DiffBidVol': [8, 5, 0, 0, 0], 'DiffBidVolSum': 0, 'FirstDerivedAskPrice': 17663.0, 'FirstDerivedAskVolume': 2, 'FirstDerivedBidPrice': 17657.0, 'FirstDerivedBidVolume': 10, 'TargetKindPrice': 17677.08, 'Time': '12:03:54.897000'}\n",
      "Topic: Q/TFE/MXFL1, Quote: {'AskPrice': [17661.0, 17662.0, 17663.0, 17664.0, 17665.0], 'AskVolSum': 156, 'AskVolume': [15, 34, 27, 36, 44], 'BidPrice': [17660.0, 17659.0, 17658.0, 17657.0, 17656.0], 'BidVolSum': 125, 'BidVolume': [9, 24, 28, 31, 33], 'Code': 'MXFL1', 'Date': '2021/12/07', 'DiffAskVol': [0, 1, 0, 0, 0], 'DiffAskVolSum': 0, 'DiffBidVol': [0, 0, 0, 0, 0], 'DiffBidVolSum': 0, 'FirstDerivedAskPrice': 17663.0, 'FirstDerivedAskVolume': 2, 'FirstDerivedBidPrice': 17657.0, 'FirstDerivedBidVolume': 10, 'TargetKindPrice': 17677.08, 'Time': '12:03:55.022000'}\n",
      "Topic: Q/TFE/MXFL1, Quote: {'AskPrice': [17661.0, 17662.0, 17663.0, 17664.0, 17665.0], 'AskVolSum': 156, 'AskVolume': [15, 34, 27, 36, 44], 'BidPrice': [17660.0, 17659.0, 17658.0, 17657.0, 17656.0], 'BidVolSum': 125, 'BidVolume': [9, 24, 28, 31, 33], 'Code': 'MXFL1', 'Date': '2021/12/07', 'DiffAskVol': [0, 0, 0, 0, 0], 'DiffAskVolSum': 0, 'DiffBidVol': [0, 0, 0, 0, 0], 'DiffBidVolSum': 0, 'FirstDerivedAskPrice': 17663.0, 'FirstDerivedAskVolume': 2, 'FirstDerivedBidPrice': 17657.0, 'FirstDerivedBidVolume': 10, 'TargetKindPrice': 17677.07, 'Time': '12:03:55.147000'}\n"
     ]
    },
    {
     "name": "stdout",
     "output_type": "stream",
     "text": [
      "Topic: Q/TFE/MXFL1, Quote: {'AskPrice': [17661.0, 17662.0, 17663.0, 17664.0, 17665.0], 'AskVolSum': 157, 'AskVolume': [16, 34, 27, 36, 44], 'BidPrice': [17660.0, 17659.0, 17658.0, 17657.0, 17656.0], 'BidVolSum': 121, 'BidVolume': [5, 24, 28, 31, 33], 'Code': 'MXFL1', 'Date': '2021/12/07', 'DiffAskVol': [1, 0, 0, 0, 0], 'DiffAskVolSum': 0, 'DiffBidVol': [-4, 0, 0, 0, 0], 'DiffBidVolSum': 0, 'FirstDerivedAskPrice': 17663.0, 'FirstDerivedAskVolume': 2, 'FirstDerivedBidPrice': 17657.0, 'FirstDerivedBidVolume': 10, 'TargetKindPrice': 17677.07, 'Time': '12:03:55.397000'}\n",
      "Topic: Q/TFE/MXFL1, Quote: {'AskPrice': [17661.0, 17662.0, 17663.0, 17664.0, 17665.0], 'AskVolSum': 157, 'AskVolume': [16, 34, 27, 36, 44], 'BidPrice': [17660.0, 17659.0, 17658.0, 17657.0, 17656.0], 'BidVolSum': 121, 'BidVolume': [5, 24, 28, 31, 33], 'Code': 'MXFL1', 'Date': '2021/12/07', 'DiffAskVol': [0, 0, 0, 0, 0], 'DiffAskVolSum': 0, 'DiffBidVol': [0, 0, 0, 0, 0], 'DiffBidVolSum': 0, 'FirstDerivedAskPrice': 17663.0, 'FirstDerivedAskVolume': 2, 'FirstDerivedBidPrice': 17657.0, 'FirstDerivedBidVolume': 10, 'TargetKindPrice': 17677.07, 'Time': '12:03:55.647000'}\n",
      "Topic: Q/TFE/MXFL1, Quote: {'AskPrice': [17661.0, 17662.0, 17663.0, 17664.0, 17665.0], 'AskVolSum': 159, 'AskVolume': [18, 34, 27, 36, 44], 'BidPrice': [17660.0, 17659.0, 17658.0, 17657.0, 17656.0], 'BidVolSum': 126, 'BidVolume': [10, 24, 28, 31, 33], 'Code': 'MXFL1', 'Date': '2021/12/07', 'DiffAskVol': [2, 0, 0, 0, 0], 'DiffAskVolSum': 0, 'DiffBidVol': [5, 0, 0, 0, 0], 'DiffBidVolSum': 0, 'FirstDerivedAskPrice': 17663.0, 'FirstDerivedAskVolume': 2, 'FirstDerivedBidPrice': 17657.0, 'FirstDerivedBidVolume': 10, 'TargetKindPrice': 17677.07, 'Time': '12:03:55.897000'}\n",
      "Topic: Q/TFE/MXFL1, Quote: {'AskPrice': [17661.0, 17662.0, 17663.0, 17664.0, 17665.0], 'AskVolSum': 159, 'AskVolume': [18, 34, 27, 36, 44], 'BidPrice': [17660.0, 17659.0, 17658.0, 17657.0, 17656.0], 'BidVolSum': 126, 'BidVolume': [10, 24, 28, 31, 33], 'Code': 'MXFL1', 'Date': '2021/12/07', 'DiffAskVol': [0, 0, 0, 0, 0], 'DiffAskVolSum': 0, 'DiffBidVol': [0, 0, 0, 0, 0], 'DiffBidVolSum': 0, 'FirstDerivedAskPrice': 17663.0, 'FirstDerivedAskVolume': 2, 'FirstDerivedBidPrice': 17657.0, 'FirstDerivedBidVolume': 10, 'TargetKindPrice': 17677.07, 'Time': '12:03:56.647000'}\n",
      "Topic: Q/TFE/MXFL1, Quote: {'AskPrice': [17661.0, 17662.0, 17663.0, 17664.0, 17665.0], 'AskVolSum': 159, 'AskVolume': [18, 34, 27, 36, 44], 'BidPrice': [17660.0, 17659.0, 17658.0, 17657.0, 17656.0], 'BidVolSum': 126, 'BidVolume': [10, 24, 28, 31, 33], 'Code': 'MXFL1', 'Date': '2021/12/07', 'DiffAskVol': [0, 0, 0, 0, 0], 'DiffAskVolSum': 0, 'DiffBidVol': [0, 0, 0, 0, 0], 'DiffBidVolSum': 0, 'FirstDerivedAskPrice': 17663.0, 'FirstDerivedAskVolume': 2, 'FirstDerivedBidPrice': 17657.0, 'FirstDerivedBidVolume': 10, 'TargetKindPrice': 17677.07, 'Time': '12:03:56.772000'}\n",
      "Topic: Q/TFE/MXFL1, Quote: {'AskPrice': [17661.0, 17662.0, 17663.0, 17664.0, 17665.0], 'AskVolSum': 159, 'AskVolume': [18, 34, 27, 36, 44], 'BidPrice': [17660.0, 17659.0, 17658.0, 17657.0, 17656.0], 'BidVolSum': 123, 'BidVolume': [10, 24, 25, 31, 33], 'Code': 'MXFL1', 'Date': '2021/12/07', 'DiffAskVol': [0, 0, 0, 0, 0], 'DiffAskVolSum': 0, 'DiffBidVol': [0, 0, -3, 0, 0], 'DiffBidVolSum': 0, 'FirstDerivedAskPrice': 17663.0, 'FirstDerivedAskVolume': 2, 'FirstDerivedBidPrice': 17657.0, 'FirstDerivedBidVolume': 10, 'TargetKindPrice': 17677.07, 'Time': '12:03:56.897000'}\n",
      "Topic: Q/TFE/MXFL1, Quote: {'AskPrice': [17661.0, 17662.0, 17663.0, 17664.0, 17665.0], 'AskVolSum': 159, 'AskVolume': [18, 34, 27, 36, 44], 'BidPrice': [17660.0, 17659.0, 17658.0, 17657.0, 17656.0], 'BidVolSum': 122, 'BidVolume': [10, 24, 25, 30, 33], 'Code': 'MXFL1', 'Date': '2021/12/07', 'DiffAskVol': [0, 0, 0, 0, 0], 'DiffAskVolSum': 0, 'DiffBidVol': [0, 0, 0, -1, 0], 'DiffBidVolSum': 0, 'FirstDerivedAskPrice': 17663.0, 'FirstDerivedAskVolume': 2, 'FirstDerivedBidPrice': 17657.0, 'FirstDerivedBidVolume': 10, 'TargetKindPrice': 17677.07, 'Time': '12:03:57.022000'}\n",
      "Topic: Q/TFE/MXFL1, Quote: {'AskPrice': [17661.0, 17662.0, 17663.0, 17664.0, 17665.0], 'AskVolSum': 159, 'AskVolume': [18, 34, 27, 36, 44], 'BidPrice': [17660.0, 17659.0, 17658.0, 17657.0, 17656.0], 'BidVolSum': 121, 'BidVolume': [9, 24, 25, 30, 33], 'Code': 'MXFL1', 'Date': '2021/12/07', 'DiffAskVol': [0, 0, 0, 0, 0], 'DiffAskVolSum': 0, 'DiffBidVol': [-1, 0, 0, 0, 0], 'DiffBidVolSum': 0, 'FirstDerivedAskPrice': 17663.0, 'FirstDerivedAskVolume': 2, 'FirstDerivedBidPrice': 17657.0, 'FirstDerivedBidVolume': 10, 'TargetKindPrice': 17677.07, 'Time': '12:03:57.272000'}\n",
      "Topic: Q/TFE/MXFL1, Quote: {'AskPrice': [17661.0, 17662.0, 17663.0, 17664.0, 17665.0], 'AskVolSum': 159, 'AskVolume': [18, 34, 27, 36, 44], 'BidPrice': [17660.0, 17659.0, 17658.0, 17657.0, 17656.0], 'BidVolSum': 121, 'BidVolume': [9, 24, 25, 30, 33], 'Code': 'MXFL1', 'Date': '2021/12/07', 'DiffAskVol': [0, 0, 0, 0, 0], 'DiffAskVolSum': 0, 'DiffBidVol': [0, 0, 0, 0, 0], 'DiffBidVolSum': 0, 'FirstDerivedAskPrice': 17663.0, 'FirstDerivedAskVolume': 2, 'FirstDerivedBidPrice': 17657.0, 'FirstDerivedBidVolume': 10, 'TargetKindPrice': 17677.07, 'Time': '12:03:57.522000'}\n",
      "Topic: Q/TFE/MXFL1, Quote: {'AskPrice': [17661.0, 17662.0, 17663.0, 17664.0, 17665.0], 'AskVolSum': 159, 'AskVolume': [18, 34, 27, 36, 44], 'BidPrice': [17660.0, 17659.0, 17658.0, 17657.0, 17656.0], 'BidVolSum': 121, 'BidVolume': [9, 24, 25, 30, 33], 'Code': 'MXFL1', 'Date': '2021/12/07', 'DiffAskVol': [0, 0, 0, 0, 0], 'DiffAskVolSum': 0, 'DiffBidVol': [0, 0, 0, 0, 0], 'DiffBidVolSum': 0, 'FirstDerivedAskPrice': 17663.0, 'FirstDerivedAskVolume': 2, 'FirstDerivedBidPrice': 17657.0, 'FirstDerivedBidVolume': 10, 'TargetKindPrice': 17677.07, 'Time': '12:03:57.647000'}\n",
      "Topic: Q/TFE/MXFL1, Quote: {'AskPrice': [17662.0, 17663.0, 17664.0, 17665.0, 17666.0], 'AskVolSum': 186, 'AskVolume': [23, 23, 36, 44, 60], 'BidPrice': [17661.0, 17660.0, 17659.0, 17658.0, 17657.0], 'BidVolSum': 109, 'BidVolume': [8, 22, 24, 25, 30], 'Code': 'MXFL1', 'Date': '2021/12/07', 'DiffAskVol': [-11, -4, 0, 0, 4], 'DiffAskVolSum': 0, 'DiffBidVol': [7, 13, 0, 0, 0], 'DiffBidVolSum': 0, 'FirstDerivedAskPrice': 17663.0, 'FirstDerivedAskVolume': 2, 'FirstDerivedBidPrice': 17658.0, 'FirstDerivedBidVolume': 3, 'TargetKindPrice': 17677.07, 'Time': '12:03:57.772000'}\n",
      "Topic: Q/TFE/MXFL1, Quote: {'AskPrice': [17663.0, 17664.0, 17665.0, 17666.0, 17667.0], 'AskVolSum': 227, 'AskVolume': [12, 36, 44, 60, 75], 'BidPrice': [17662.0, 17661.0, 17660.0, 17659.0, 17658.0], 'BidVolSum': 94, 'BidVolume': [8, 17, 22, 24, 23], 'Code': 'MXFL1', 'Date': '2021/12/07', 'DiffAskVol': [-11, 0, 0, 0, 7], 'DiffAskVolSum': 0, 'DiffBidVol': [6, 9, 0, 0, -2], 'DiffBidVolSum': 0, 'FirstDerivedAskPrice': 17665.0, 'FirstDerivedAskVolume': 10, 'FirstDerivedBidPrice': 17658.0, 'FirstDerivedBidVolume': 3, 'TargetKindPrice': 17677.07, 'Time': '12:03:57.897000'}\n",
      "Topic: Q/TFE/MXFL1, Quote: {'AskPrice': [17663.0, 17664.0, 17665.0, 17666.0, 17667.0], 'AskVolSum': 227, 'AskVolume': [12, 36, 44, 60, 75], 'BidPrice': [17662.0, 17661.0, 17660.0, 17659.0, 17658.0], 'BidVolSum': 102, 'BidVolume': [12, 21, 22, 24, 23], 'Code': 'MXFL1', 'Date': '2021/12/07', 'DiffAskVol': [0, 0, 0, 0, 0], 'DiffAskVolSum': 0, 'DiffBidVol': [4, 4, 0, 0, 0], 'DiffBidVolSum': 0, 'FirstDerivedAskPrice': 17665.0, 'FirstDerivedAskVolume': 2, 'FirstDerivedBidPrice': 17658.0, 'FirstDerivedBidVolume': 3, 'TargetKindPrice': 17677.07, 'Time': '12:03:58.022000'}\n",
      "Topic: Q/TFE/MXFL1, Quote: {'AskPrice': [17663.0, 17664.0, 17665.0, 17666.0, 17667.0], 'AskVolSum': 227, 'AskVolume': [12, 36, 44, 60, 75], 'BidPrice': [17662.0, 17661.0, 17660.0, 17659.0, 17658.0], 'BidVolSum': 104, 'BidVolume': [14, 21, 23, 24, 22], 'Code': 'MXFL1', 'Date': '2021/12/07', 'DiffAskVol': [0, 0, 0, 0, 0], 'DiffAskVolSum': 0, 'DiffBidVol': [2, 0, 1, 0, -1], 'DiffBidVolSum': 0, 'FirstDerivedAskPrice': 17665.0, 'FirstDerivedAskVolume': 2, 'FirstDerivedBidPrice': 17658.0, 'FirstDerivedBidVolume': 3, 'TargetKindPrice': 17677.07, 'Time': '12:03:58.147000'}\n",
      "Topic: Q/TFE/MXFL1, Quote: {'AskPrice': [17663.0, 17664.0, 17665.0, 17666.0, 17667.0], 'AskVolSum': 227, 'AskVolume': [12, 36, 44, 60, 75], 'BidPrice': [17662.0, 17661.0, 17660.0, 17659.0, 17658.0], 'BidVolSum': 103, 'BidVolume': [13, 21, 23, 24, 22], 'Code': 'MXFL1', 'Date': '2021/12/07', 'DiffAskVol': [0, 0, 0, 0, 0], 'DiffAskVolSum': 0, 'DiffBidVol': [-1, 0, 0, 0, 0], 'DiffBidVolSum': 0, 'FirstDerivedAskPrice': 17665.0, 'FirstDerivedAskVolume': 2, 'FirstDerivedBidPrice': 17658.0, 'FirstDerivedBidVolume': 3, 'TargetKindPrice': 17677.07, 'Time': '12:03:58.272000'}\n",
      "Topic: Q/TFE/MXFL1, Quote: {'AskPrice': [17663.0, 17664.0, 17665.0, 17666.0, 17667.0], 'AskVolSum': 227, 'AskVolume': [12, 36, 44, 60, 75], 'BidPrice': [17662.0, 17661.0, 17660.0, 17659.0, 17658.0], 'BidVolSum': 103, 'BidVolume': [12, 21, 24, 24, 22], 'Code': 'MXFL1', 'Date': '2021/12/07', 'DiffAskVol': [0, 0, 0, 0, 0], 'DiffAskVolSum': 0, 'DiffBidVol': [-1, 0, 1, 0, 0], 'DiffBidVolSum': 0, 'FirstDerivedAskPrice': 17665.0, 'FirstDerivedAskVolume': 2, 'FirstDerivedBidPrice': 17658.0, 'FirstDerivedBidVolume': 3, 'TargetKindPrice': 17677.07, 'Time': '12:03:58.397000'}\n"
     ]
    },
    {
     "name": "stdout",
     "output_type": "stream",
     "text": [
      "Topic: Q/TFE/MXFL1, Quote: {'AskPrice': [17663.0, 17664.0, 17665.0, 17666.0, 17667.0], 'AskVolSum': 228, 'AskVolume': [12, 36, 44, 61, 75], 'BidPrice': [17662.0, 17661.0, 17660.0, 17659.0, 17658.0], 'BidVolSum': 101, 'BidVolume': [10, 21, 24, 24, 22], 'Code': 'MXFL1', 'Date': '2021/12/07', 'DiffAskVol': [0, 0, 0, 1, 0], 'DiffAskVolSum': 0, 'DiffBidVol': [-2, 0, 0, 0, 0], 'DiffBidVolSum': 0, 'FirstDerivedAskPrice': 17665.0, 'FirstDerivedAskVolume': 2, 'FirstDerivedBidPrice': 17658.0, 'FirstDerivedBidVolume': 3, 'TargetKindPrice': 17677.07, 'Time': '12:03:58.647000'}\n",
      "Topic: Q/TFE/MXFL1, Quote: {'AskPrice': [17663.0, 17664.0, 17665.0, 17666.0, 17667.0], 'AskVolSum': 228, 'AskVolume': [12, 36, 44, 61, 75], 'BidPrice': [17662.0, 17661.0, 17660.0, 17659.0, 17658.0], 'BidVolSum': 97, 'BidVolume': [9, 17, 24, 24, 23], 'Code': 'MXFL1', 'Date': '2021/12/07', 'DiffAskVol': [0, 0, 0, 0, 0], 'DiffAskVolSum': 0, 'DiffBidVol': [-1, -4, 0, 0, 1], 'DiffBidVolSum': 0, 'FirstDerivedAskPrice': 17665.0, 'FirstDerivedAskVolume': 2, 'FirstDerivedBidPrice': 17658.0, 'FirstDerivedBidVolume': 3, 'TargetKindPrice': 17677.07, 'Time': '12:03:58.772000'}\n",
      "Topic: Q/TFE/MXFL1, Quote: {'AskPrice': [17663.0, 17664.0, 17665.0, 17666.0, 17667.0], 'AskVolSum': 227, 'AskVolume': [12, 36, 43, 61, 75], 'BidPrice': [17662.0, 17661.0, 17660.0, 17659.0, 17658.0], 'BidVolSum': 97, 'BidVolume': [9, 17, 24, 24, 23], 'Code': 'MXFL1', 'Date': '2021/12/07', 'DiffAskVol': [0, 0, -1, 0, 0], 'DiffAskVolSum': 0, 'DiffBidVol': [0, 0, 0, 0, 0], 'DiffBidVolSum': 0, 'FirstDerivedAskPrice': 17665.0, 'FirstDerivedAskVolume': 2, 'FirstDerivedBidPrice': 17658.0, 'FirstDerivedBidVolume': 11, 'TargetKindPrice': 17677.07, 'Time': '12:03:58.897000'}\n",
      "Topic: Q/TFE/MXFL1, Quote: {'AskPrice': [17663.0, 17664.0, 17665.0, 17666.0, 17667.0], 'AskVolSum': 233, 'AskVolume': [18, 36, 43, 61, 75], 'BidPrice': [17662.0, 17661.0, 17660.0, 17659.0, 17658.0], 'BidVolSum': 89, 'BidVolume': [1, 17, 24, 24, 23], 'Code': 'MXFL1', 'Date': '2021/12/07', 'DiffAskVol': [6, 0, 0, 0, 0], 'DiffAskVolSum': 0, 'DiffBidVol': [-8, 0, 0, 0, 0], 'DiffBidVolSum': 0, 'FirstDerivedAskPrice': 17665.0, 'FirstDerivedAskVolume': 2, 'FirstDerivedBidPrice': 17658.0, 'FirstDerivedBidVolume': 11, 'TargetKindPrice': 17677.07, 'Time': '12:03:59.022000'}\n",
      "Topic: Q/TFE/MXFL1, Quote: {'AskPrice': [17662.0, 17663.0, 17664.0, 17665.0, 17666.0], 'AskVolSum': 173, 'AskVolume': [10, 23, 36, 43, 61], 'BidPrice': [17660.0, 17659.0, 17658.0, 17657.0, 17656.0], 'BidVolSum': 123, 'BidVolume': [14, 24, 23, 30, 32], 'Code': 'MXFL1', 'Date': '2021/12/07', 'DiffAskVol': [-13, 5, 0, 0, 0], 'DiffAskVolSum': 0, 'DiffBidVol': [-10, 0, 0, 0, -1], 'DiffBidVolSum': 0, 'FirstDerivedAskPrice': 17665.0, 'FirstDerivedAskVolume': 2, 'FirstDerivedBidPrice': 17658.0, 'FirstDerivedBidVolume': 11, 'TargetKindPrice': 17677.07, 'Time': '12:03:59.147000'}\n",
      "Topic: Q/TFE/MXFL1, Quote: {'AskPrice': [17662.0, 17663.0, 17664.0, 17665.0, 17666.0], 'AskVolSum': 172, 'AskVolume': [11, 23, 35, 42, 61], 'BidPrice': [17660.0, 17659.0, 17658.0, 17657.0, 17656.0], 'BidVolSum': 121, 'BidVolume': [12, 24, 23, 30, 32], 'Code': 'MXFL1', 'Date': '2021/12/07', 'DiffAskVol': [1, 0, -1, -1, 0], 'DiffAskVolSum': 0, 'DiffBidVol': [-2, 0, 0, 0, 0], 'DiffBidVolSum': 0, 'FirstDerivedAskPrice': 17665.0, 'FirstDerivedAskVolume': 2, 'FirstDerivedBidPrice': 17658.0, 'FirstDerivedBidVolume': 11, 'TargetKindPrice': 17677.07, 'Time': '12:03:59.272000'}\n",
      "Topic: Q/TFE/MXFL1, Quote: {'AskPrice': [17662.0, 17663.0, 17664.0, 17665.0, 17666.0], 'AskVolSum': 162, 'AskVolume': [1, 23, 35, 42, 61], 'BidPrice': [17661.0, 17660.0, 17659.0, 17658.0, 17657.0], 'BidVolSum': 98, 'BidVolume': [7, 14, 24, 23, 30], 'Code': 'MXFL1', 'Date': '2021/12/07', 'DiffAskVol': [-10, 0, 0, 0, 0], 'DiffAskVolSum': 0, 'DiffBidVol': [-10, 2, 0, 0, 0], 'DiffBidVolSum': 0, 'FirstDerivedAskPrice': 17665.0, 'FirstDerivedAskVolume': 2, 'FirstDerivedBidPrice': 17658.0, 'FirstDerivedBidVolume': 11, 'TargetKindPrice': 17677.07, 'Time': '12:03:59.522000'}\n",
      "Topic: Q/TFE/MXFL1, Quote: {'AskPrice': [17662.0, 17663.0, 17664.0, 17665.0, 17666.0], 'AskVolSum': 164, 'AskVolume': [3, 23, 35, 42, 61], 'BidPrice': [17661.0, 17660.0, 17659.0, 17658.0, 17657.0], 'BidVolSum': 98, 'BidVolume': [7, 14, 24, 23, 30], 'Code': 'MXFL1', 'Date': '2021/12/07', 'DiffAskVol': [2, 0, 0, 0, 0], 'DiffAskVolSum': 0, 'DiffBidVol': [0, 0, 0, 0, 0], 'DiffBidVolSum': 0, 'FirstDerivedAskPrice': 17665.0, 'FirstDerivedAskVolume': 2, 'FirstDerivedBidPrice': 17658.0, 'FirstDerivedBidVolume': 11, 'TargetKindPrice': 17677.07, 'Time': '12:03:59.647000'}\n",
      "Topic: Q/TFE/MXFL1, Quote: {'AskPrice': [17662.0, 17663.0, 17664.0, 17665.0, 17666.0], 'AskVolSum': 166, 'AskVolume': [5, 23, 35, 42, 61], 'BidPrice': [17661.0, 17660.0, 17659.0, 17658.0, 17657.0], 'BidVolSum': 94, 'BidVolume': [3, 14, 24, 23, 30], 'Code': 'MXFL1', 'Date': '2021/12/07', 'DiffAskVol': [2, 0, 0, 0, 0], 'DiffAskVolSum': 0, 'DiffBidVol': [-4, 0, 0, 0, 0], 'DiffBidVolSum': 0, 'FirstDerivedAskPrice': 17665.0, 'FirstDerivedAskVolume': 2, 'FirstDerivedBidPrice': 17658.0, 'FirstDerivedBidVolume': 11, 'TargetKindPrice': 17677.07, 'Time': '12:03:59.897000'}\n",
      "Topic: Q/TFE/MXFL1, Quote: {'AskPrice': [17662.0, 17663.0, 17664.0, 17665.0, 17666.0], 'AskVolSum': 171, 'AskVolume': [10, 23, 35, 42, 61], 'BidPrice': [17660.0, 17659.0, 17658.0, 17657.0, 17656.0], 'BidVolSum': 124, 'BidVolume': [14, 24, 23, 30, 33], 'Code': 'MXFL1', 'Date': '2021/12/07', 'DiffAskVol': [5, 0, 0, 0, 0], 'DiffAskVolSum': 0, 'DiffBidVol': [0, 0, 0, 0, 1], 'DiffBidVolSum': 0, 'FirstDerivedAskPrice': 17665.0, 'FirstDerivedAskVolume': 10, 'FirstDerivedBidPrice': 17658.0, 'FirstDerivedBidVolume': 11, 'TargetKindPrice': 17677.07, 'Time': '12:04:00.022000'}\n",
      "Topic: Q/TFE/MXFL1, Quote: {'AskPrice': [17662.0, 17663.0, 17664.0, 17665.0, 17666.0], 'AskVolSum': 170, 'AskVolume': [10, 23, 35, 41, 61], 'BidPrice': [17660.0, 17659.0, 17658.0, 17657.0, 17656.0], 'BidVolSum': 124, 'BidVolume': [14, 24, 23, 30, 33], 'Code': 'MXFL1', 'Date': '2021/12/07', 'DiffAskVol': [0, 0, 0, -1, 0], 'DiffAskVolSum': 0, 'DiffBidVol': [0, 0, 0, 0, 0], 'DiffBidVolSum': 0, 'FirstDerivedAskPrice': 17665.0, 'FirstDerivedAskVolume': 10, 'FirstDerivedBidPrice': 17658.0, 'FirstDerivedBidVolume': 11, 'TargetKindPrice': 17668.04, 'Time': '12:04:00.147000'}\n",
      "Topic: Q/TFE/MXFL1, Quote: {'AskPrice': [17662.0, 17663.0, 17664.0, 17665.0, 17666.0], 'AskVolSum': 165, 'AskVolume': [5, 23, 35, 41, 61], 'BidPrice': [17661.0, 17660.0, 17659.0, 17658.0, 17657.0], 'BidVolSum': 94, 'BidVolume': [3, 14, 24, 23, 30], 'Code': 'MXFL1', 'Date': '2021/12/07', 'DiffAskVol': [-5, 0, 0, 0, 0], 'DiffAskVolSum': 0, 'DiffBidVol': [0, 0, 0, 0, 0], 'DiffBidVolSum': 0, 'FirstDerivedAskPrice': 17665.0, 'FirstDerivedAskVolume': 10, 'FirstDerivedBidPrice': 17658.0, 'FirstDerivedBidVolume': 11, 'TargetKindPrice': 17668.04, 'Time': '12:04:00.272000'}\n",
      "Topic: Q/TFE/MXFL1, Quote: {'AskPrice': [17662.0, 17663.0, 17664.0, 17665.0, 17666.0], 'AskVolSum': 165, 'AskVolume': [5, 23, 35, 41, 61], 'BidPrice': [17661.0, 17660.0, 17659.0, 17658.0, 17657.0], 'BidVolSum': 92, 'BidVolume': [1, 14, 24, 23, 30], 'Code': 'MXFL1', 'Date': '2021/12/07', 'DiffAskVol': [0, 0, 0, 0, 0], 'DiffAskVolSum': 0, 'DiffBidVol': [-2, 0, 0, 0, 0], 'DiffBidVolSum': 0, 'FirstDerivedAskPrice': 17665.0, 'FirstDerivedAskVolume': 10, 'FirstDerivedBidPrice': 17658.0, 'FirstDerivedBidVolume': 11, 'TargetKindPrice': 17668.04, 'Time': '12:04:00.397000'}\n",
      "Topic: Q/TFE/MXFL1, Quote: {'AskPrice': [17662.0, 17663.0, 17664.0, 17665.0, 17666.0], 'AskVolSum': 165, 'AskVolume': [5, 23, 35, 41, 61], 'BidPrice': [17661.0, 17660.0, 17659.0, 17658.0, 17657.0], 'BidVolSum': 92, 'BidVolume': [1, 14, 24, 23, 30], 'Code': 'MXFL1', 'Date': '2021/12/07', 'DiffAskVol': [0, 0, 0, 0, 0], 'DiffAskVolSum': 0, 'DiffBidVol': [0, 0, 0, 0, 0], 'DiffBidVolSum': 0, 'FirstDerivedAskPrice': 17665.0, 'FirstDerivedAskVolume': 10, 'FirstDerivedBidPrice': 17658.0, 'FirstDerivedBidVolume': 11, 'TargetKindPrice': 17668.04, 'Time': '12:04:00.647000'}\n",
      "Topic: Q/TFE/MXFL1, Quote: {'AskPrice': [17662.0, 17663.0, 17664.0, 17665.0, 17666.0], 'AskVolSum': 166, 'AskVolume': [6, 23, 35, 41, 61], 'BidPrice': [17660.0, 17659.0, 17658.0, 17657.0, 17656.0], 'BidVolSum': 125, 'BidVolume': [15, 24, 23, 30, 33], 'Code': 'MXFL1', 'Date': '2021/12/07', 'DiffAskVol': [1, 0, 0, 0, 0], 'DiffAskVolSum': 0, 'DiffBidVol': [1, 0, 0, 0, 0], 'DiffBidVolSum': 0, 'FirstDerivedAskPrice': 17665.0, 'FirstDerivedAskVolume': 10, 'FirstDerivedBidPrice': 17658.0, 'FirstDerivedBidVolume': 11, 'TargetKindPrice': 17668.04, 'Time': '12:04:00.772000'}\n"
     ]
    },
    {
     "name": "stdout",
     "output_type": "stream",
     "text": [
      "Topic: Q/TFE/MXFL1, Quote: {'AskPrice': [17662.0, 17663.0, 17664.0, 17665.0, 17666.0], 'AskVolSum': 168, 'AskVolume': [8, 23, 35, 41, 61], 'BidPrice': [17660.0, 17659.0, 17658.0, 17657.0, 17656.0], 'BidVolSum': 125, 'BidVolume': [15, 24, 23, 30, 33], 'Code': 'MXFL1', 'Date': '2021/12/07', 'DiffAskVol': [2, 0, 0, 0, 0], 'DiffAskVolSum': 0, 'DiffBidVol': [0, 0, 0, 0, 0], 'DiffBidVolSum': 0, 'FirstDerivedAskPrice': 17665.0, 'FirstDerivedAskVolume': 10, 'FirstDerivedBidPrice': 17658.0, 'FirstDerivedBidVolume': 11, 'TargetKindPrice': 17668.04, 'Time': '12:04:01.022000'}\n",
      "Topic: Q/TFE/MXFL1, Quote: {'AskPrice': [17662.0, 17663.0, 17664.0, 17665.0, 17666.0], 'AskVolSum': 168, 'AskVolume': [8, 22, 35, 41, 62], 'BidPrice': [17660.0, 17659.0, 17658.0, 17657.0, 17656.0], 'BidVolSum': 125, 'BidVolume': [15, 24, 23, 30, 33], 'Code': 'MXFL1', 'Date': '2021/12/07', 'DiffAskVol': [0, -1, 0, 0, 1], 'DiffAskVolSum': 0, 'DiffBidVol': [0, 0, 0, 0, 0], 'DiffBidVolSum': 0, 'FirstDerivedAskPrice': 17665.0, 'FirstDerivedAskVolume': 10, 'FirstDerivedBidPrice': 17658.0, 'FirstDerivedBidVolume': 11, 'TargetKindPrice': 17668.04, 'Time': '12:04:01.272000'}\n",
      "Topic: Q/TFE/MXFL1, Quote: {'AskPrice': [17662.0, 17663.0, 17664.0, 17665.0, 17666.0], 'AskVolSum': 169, 'AskVolume': [8, 22, 36, 41, 62], 'BidPrice': [17660.0, 17659.0, 17658.0, 17657.0, 17656.0], 'BidVolSum': 125, 'BidVolume': [15, 24, 23, 30, 33], 'Code': 'MXFL1', 'Date': '2021/12/07', 'DiffAskVol': [0, 0, 1, 0, 0], 'DiffAskVolSum': 0, 'DiffBidVol': [0, 0, 0, 0, 0], 'DiffBidVolSum': 0, 'FirstDerivedAskPrice': 17665.0, 'FirstDerivedAskVolume': 10, 'FirstDerivedBidPrice': 17658.0, 'FirstDerivedBidVolume': 11, 'TargetKindPrice': 17668.04, 'Time': '12:04:01.397000'}\n",
      "Topic: Q/TFE/MXFL1, Quote: {'AskPrice': [17662.0, 17663.0, 17664.0, 17665.0, 17666.0], 'AskVolSum': 170, 'AskVolume': [8, 22, 37, 41, 62], 'BidPrice': [17660.0, 17659.0, 17658.0, 17657.0, 17656.0], 'BidVolSum': 125, 'BidVolume': [15, 24, 23, 30, 33], 'Code': 'MXFL1', 'Date': '2021/12/07', 'DiffAskVol': [0, 0, 1, 0, 0], 'DiffAskVolSum': 0, 'DiffBidVol': [0, 0, 0, 0, 0], 'DiffBidVolSum': 0, 'FirstDerivedAskPrice': 17665.0, 'FirstDerivedAskVolume': 10, 'FirstDerivedBidPrice': 17658.0, 'FirstDerivedBidVolume': 11, 'TargetKindPrice': 17668.04, 'Time': '12:04:01.522000'}\n",
      "Topic: Q/TFE/MXFL1, Quote: {'AskPrice': [17662.0, 17663.0, 17664.0, 17665.0, 17666.0], 'AskVolSum': 170, 'AskVolume': [8, 22, 37, 41, 62], 'BidPrice': [17660.0, 17659.0, 17658.0, 17657.0, 17656.0], 'BidVolSum': 125, 'BidVolume': [15, 24, 23, 30, 33], 'Code': 'MXFL1', 'Date': '2021/12/07', 'DiffAskVol': [0, 0, 0, 0, 0], 'DiffAskVolSum': 0, 'DiffBidVol': [0, 0, 0, 0, 0], 'DiffBidVolSum': 0, 'FirstDerivedAskPrice': 17665.0, 'FirstDerivedAskVolume': 10, 'FirstDerivedBidPrice': 17658.0, 'FirstDerivedBidVolume': 11, 'TargetKindPrice': 17668.04, 'Time': '12:04:01.647000'}\n",
      "Topic: Q/TFE/MXFL1, Quote: {'AskPrice': [17663.0, 17664.0, 17665.0, 17666.0, 17667.0], 'AskVolSum': 235, 'AskVolume': [22, 37, 41, 62, 73], 'BidPrice': [17661.0, 17660.0, 17659.0, 17658.0, 17657.0], 'BidVolSum': 101, 'BidVolume': [7, 17, 24, 23, 30], 'Code': 'MXFL1', 'Date': '2021/12/07', 'DiffAskVol': [0, 0, 0, 0, -2], 'DiffAskVolSum': 0, 'DiffBidVol': [6, 2, 0, 0, 0], 'DiffBidVolSum': 0, 'FirstDerivedAskPrice': 17665.0, 'FirstDerivedAskVolume': 10, 'FirstDerivedBidPrice': 17658.0, 'FirstDerivedBidVolume': 11, 'TargetKindPrice': 17668.04, 'Time': '12:04:01.772000'}\n",
      "Topic: Q/TFE/MXFL1, Quote: {'AskPrice': [17663.0, 17664.0, 17665.0, 17666.0, 17667.0], 'AskVolSum': 235, 'AskVolume': [22, 37, 41, 62, 73], 'BidPrice': [17661.0, 17660.0, 17659.0, 17658.0, 17657.0], 'BidVolSum': 101, 'BidVolume': [7, 17, 24, 23, 30], 'Code': 'MXFL1', 'Date': '2021/12/07', 'DiffAskVol': [0, 0, 0, 0, 0], 'DiffAskVolSum': 0, 'DiffBidVol': [0, 0, 0, 0, 0], 'DiffBidVolSum': 0, 'FirstDerivedAskPrice': 17665.0, 'FirstDerivedAskVolume': 10, 'FirstDerivedBidPrice': 17658.0, 'FirstDerivedBidVolume': 11, 'TargetKindPrice': 17668.04, 'Time': '12:04:02.022000'}\n",
      "Topic: Q/TFE/MXFL1, Quote: {'AskPrice': [17663.0, 17664.0, 17665.0, 17666.0, 17667.0], 'AskVolSum': 234, 'AskVolume': [22, 37, 41, 62, 72], 'BidPrice': [17661.0, 17660.0, 17659.0, 17658.0, 17657.0], 'BidVolSum': 101, 'BidVolume': [7, 17, 24, 23, 30], 'Code': 'MXFL1', 'Date': '2021/12/07', 'DiffAskVol': [0, 0, 0, 0, -1], 'DiffAskVolSum': 0, 'DiffBidVol': [0, 0, 0, 0, 0], 'DiffBidVolSum': 0, 'FirstDerivedAskPrice': 17665.0, 'FirstDerivedAskVolume': 10, 'FirstDerivedBidPrice': 17658.0, 'FirstDerivedBidVolume': 11, 'TargetKindPrice': 17668.04, 'Time': '12:04:02.147000'}\n",
      "Topic: Q/TFE/MXFL1, Quote: {'AskPrice': [17663.0, 17664.0, 17665.0, 17666.0, 17667.0], 'AskVolSum': 234, 'AskVolume': [22, 37, 41, 62, 72], 'BidPrice': [17661.0, 17660.0, 17659.0, 17658.0, 17657.0], 'BidVolSum': 101, 'BidVolume': [7, 17, 24, 23, 30], 'Code': 'MXFL1', 'Date': '2021/12/07', 'DiffAskVol': [0, 0, 0, 0, 0], 'DiffAskVolSum': 0, 'DiffBidVol': [0, 0, 0, 0, 0], 'DiffBidVolSum': 0, 'FirstDerivedAskPrice': 17665.0, 'FirstDerivedAskVolume': 10, 'FirstDerivedBidPrice': 17658.0, 'FirstDerivedBidVolume': 11, 'TargetKindPrice': 17668.04, 'Time': '12:04:02.272000'}\n",
      "Topic: Q/TFE/MXFL1, Quote: {'AskPrice': [17663.0, 17664.0, 17665.0, 17666.0, 17667.0], 'AskVolSum': 234, 'AskVolume': [22, 37, 41, 62, 72], 'BidPrice': [17661.0, 17660.0, 17659.0, 17658.0, 17657.0], 'BidVolSum': 100, 'BidVolume': [6, 17, 24, 23, 30], 'Code': 'MXFL1', 'Date': '2021/12/07', 'DiffAskVol': [0, 0, 0, 0, 0], 'DiffAskVolSum': 0, 'DiffBidVol': [-1, 0, 0, 0, 0], 'DiffBidVolSum': 0, 'FirstDerivedAskPrice': 17665.0, 'FirstDerivedAskVolume': 10, 'FirstDerivedBidPrice': 17658.0, 'FirstDerivedBidVolume': 11, 'TargetKindPrice': 17668.04, 'Time': '12:04:02.397000'}\n",
      "Topic: Q/TFE/MXFL1, Quote: {'AskPrice': [17663.0, 17664.0, 17665.0, 17666.0, 17667.0], 'AskVolSum': 234, 'AskVolume': [22, 37, 41, 62, 72], 'BidPrice': [17661.0, 17660.0, 17659.0, 17658.0, 17657.0], 'BidVolSum': 100, 'BidVolume': [6, 17, 24, 23, 30], 'Code': 'MXFL1', 'Date': '2021/12/07', 'DiffAskVol': [0, 0, 0, 0, 0], 'DiffAskVolSum': 0, 'DiffBidVol': [0, 0, 0, 0, 0], 'DiffBidVolSum': 0, 'FirstDerivedAskPrice': 17665.0, 'FirstDerivedAskVolume': 10, 'FirstDerivedBidPrice': 17658.0, 'FirstDerivedBidVolume': 11, 'TargetKindPrice': 17668.04, 'Time': '12:04:02.522000'}\n",
      "Topic: Q/TFE/MXFL1, Quote: {'AskPrice': [17663.0, 17664.0, 17665.0, 17666.0, 17667.0], 'AskVolSum': 235, 'AskVolume': [22, 37, 42, 62, 72], 'BidPrice': [17661.0, 17660.0, 17659.0, 17658.0, 17657.0], 'BidVolSum': 100, 'BidVolume': [6, 17, 24, 23, 30], 'Code': 'MXFL1', 'Date': '2021/12/07', 'DiffAskVol': [0, 0, 1, 0, 0], 'DiffAskVolSum': 0, 'DiffBidVol': [0, 0, 0, 0, 0], 'DiffBidVolSum': 0, 'FirstDerivedAskPrice': 17665.0, 'FirstDerivedAskVolume': 10, 'FirstDerivedBidPrice': 17658.0, 'FirstDerivedBidVolume': 11, 'TargetKindPrice': 17668.04, 'Time': '12:04:02.772000'}\n",
      "Topic: Q/TFE/MXFL1, Quote: {'AskPrice': [17663.0, 17664.0, 17665.0, 17666.0, 17667.0], 'AskVolSum': 235, 'AskVolume': [22, 37, 42, 62, 72], 'BidPrice': [17661.0, 17660.0, 17659.0, 17658.0, 17657.0], 'BidVolSum': 100, 'BidVolume': [6, 17, 24, 23, 30], 'Code': 'MXFL1', 'Date': '2021/12/07', 'DiffAskVol': [0, 0, 0, 0, 0], 'DiffAskVolSum': 0, 'DiffBidVol': [0, 0, 0, 0, 0], 'DiffBidVolSum': 0, 'FirstDerivedAskPrice': 17665.0, 'FirstDerivedAskVolume': 10, 'FirstDerivedBidPrice': 17658.0, 'FirstDerivedBidVolume': 11, 'TargetKindPrice': 17668.04, 'Time': '12:04:02.897000'}\n",
      "Topic: Q/TFE/MXFL1, Quote: {'AskPrice': [17663.0, 17664.0, 17665.0, 17666.0, 17667.0], 'AskVolSum': 235, 'AskVolume': [22, 37, 42, 62, 72], 'BidPrice': [17661.0, 17660.0, 17659.0, 17658.0, 17657.0], 'BidVolSum': 100, 'BidVolume': [6, 17, 24, 23, 30], 'Code': 'MXFL1', 'Date': '2021/12/07', 'DiffAskVol': [0, 0, 0, 0, 0], 'DiffAskVolSum': 0, 'DiffBidVol': [0, 0, 0, 0, 0], 'DiffBidVolSum': 0, 'FirstDerivedAskPrice': 17665.0, 'FirstDerivedAskVolume': 10, 'FirstDerivedBidPrice': 17658.0, 'FirstDerivedBidVolume': 11, 'TargetKindPrice': 17668.04, 'Time': '12:04:03.397000'}\n",
      "Topic: Q/TFE/MXFL1, Quote: {'AskPrice': [17663.0, 17664.0, 17665.0, 17666.0, 17667.0], 'AskVolSum': 235, 'AskVolume': [22, 37, 42, 62, 72], 'BidPrice': [17661.0, 17660.0, 17659.0, 17658.0, 17657.0], 'BidVolSum': 100, 'BidVolume': [6, 17, 24, 23, 30], 'Code': 'MXFL1', 'Date': '2021/12/07', 'DiffAskVol': [0, 0, 0, 0, 0], 'DiffAskVolSum': 0, 'DiffBidVol': [0, 0, 0, 0, 0], 'DiffBidVolSum': 0, 'FirstDerivedAskPrice': 17665.0, 'FirstDerivedAskVolume': 10, 'FirstDerivedBidPrice': 17658.0, 'FirstDerivedBidVolume': 11, 'TargetKindPrice': 17668.04, 'Time': '12:04:03.522000'}\n"
     ]
    },
    {
     "name": "stdout",
     "output_type": "stream",
     "text": [
      "Topic: Q/TFE/MXFL1, Quote: {'AskPrice': [17663.0, 17664.0, 17665.0, 17666.0, 17667.0], 'AskVolSum': 232, 'AskVolume': [19, 37, 42, 62, 72], 'BidPrice': [17661.0, 17660.0, 17659.0, 17658.0, 17657.0], 'BidVolSum': 110, 'BidVolume': [11, 26, 24, 23, 26], 'Code': 'MXFL1', 'Date': '2021/12/07', 'DiffAskVol': [-3, 0, 0, 0, 0], 'DiffAskVolSum': 0, 'DiffBidVol': [5, 9, 0, 0, -4], 'DiffBidVolSum': 0, 'FirstDerivedAskPrice': 17665.0, 'FirstDerivedAskVolume': 10, 'FirstDerivedBidPrice': 17658.0, 'FirstDerivedBidVolume': 11, 'TargetKindPrice': 17668.04, 'Time': '12:04:03.647000'}\n",
      "Topic: Q/TFE/MXFL1, Quote: {'AskPrice': [17662.0, 17663.0, 17664.0, 17665.0, 17666.0], 'AskVolSum': 163, 'AskVolume': [1, 21, 37, 42, 62], 'BidPrice': [17661.0, 17660.0, 17659.0, 17658.0, 17657.0], 'BidVolSum': 109, 'BidVolume': [10, 26, 24, 23, 26], 'Code': 'MXFL1', 'Date': '2021/12/07', 'DiffAskVol': [-7, 2, 0, 0, 0], 'DiffAskVolSum': 0, 'DiffBidVol': [-1, 0, 0, 0, 0], 'DiffBidVolSum': 0, 'FirstDerivedAskPrice': 17665.0, 'FirstDerivedAskVolume': 10, 'FirstDerivedBidPrice': 17658.0, 'FirstDerivedBidVolume': 11, 'TargetKindPrice': 17668.04, 'Time': '12:04:03.772000'}\n",
      "Topic: Q/TFE/MXFL1, Quote: {'AskPrice': [17662.0, 17663.0, 17664.0, 17665.0, 17666.0], 'AskVolSum': 163, 'AskVolume': [1, 21, 37, 42, 62], 'BidPrice': [17661.0, 17660.0, 17659.0, 17658.0, 17657.0], 'BidVolSum': 108, 'BidVolume': [9, 26, 24, 23, 26], 'Code': 'MXFL1', 'Date': '2021/12/07', 'DiffAskVol': [0, 0, 0, 0, 0], 'DiffAskVolSum': 0, 'DiffBidVol': [-1, 0, 0, 0, 0], 'DiffBidVolSum': 0, 'FirstDerivedAskPrice': 17665.0, 'FirstDerivedAskVolume': 10, 'FirstDerivedBidPrice': 17658.0, 'FirstDerivedBidVolume': 11, 'TargetKindPrice': 17668.04, 'Time': '12:04:03.897000'}\n",
      "Topic: Q/TFE/MXFL1, Quote: {'AskPrice': [17662.0, 17663.0, 17664.0, 17665.0, 17666.0], 'AskVolSum': 163, 'AskVolume': [1, 21, 37, 42, 62], 'BidPrice': [17661.0, 17660.0, 17659.0, 17658.0, 17657.0], 'BidVolSum': 108, 'BidVolume': [9, 26, 24, 23, 26], 'Code': 'MXFL1', 'Date': '2021/12/07', 'DiffAskVol': [0, 0, 0, 0, 0], 'DiffAskVolSum': 0, 'DiffBidVol': [0, 0, 0, 0, 0], 'DiffBidVolSum': 0, 'FirstDerivedAskPrice': 17665.0, 'FirstDerivedAskVolume': 10, 'FirstDerivedBidPrice': 17658.0, 'FirstDerivedBidVolume': 11, 'TargetKindPrice': 17668.04, 'Time': '12:04:04.022000'}\n",
      "Topic: Q/TFE/MXFL1, Quote: {'AskPrice': [17662.0, 17663.0, 17664.0, 17665.0, 17666.0], 'AskVolSum': 163, 'AskVolume': [1, 21, 37, 42, 62], 'BidPrice': [17661.0, 17660.0, 17659.0, 17658.0, 17657.0], 'BidVolSum': 109, 'BidVolume': [9, 26, 25, 23, 26], 'Code': 'MXFL1', 'Date': '2021/12/07', 'DiffAskVol': [0, 0, 0, 0, 0], 'DiffAskVolSum': 0, 'DiffBidVol': [0, 0, 1, 0, 0], 'DiffBidVolSum': 0, 'FirstDerivedAskPrice': 17665.0, 'FirstDerivedAskVolume': 10, 'FirstDerivedBidPrice': 17658.0, 'FirstDerivedBidVolume': 11, 'TargetKindPrice': 17668.04, 'Time': '12:04:04.147000'}\n",
      "Topic: Q/TFE/MXFL1, Quote: {'AskPrice': [17663.0, 17664.0, 17665.0, 17666.0, 17667.0], 'AskVolSum': 231, 'AskVolume': [18, 37, 42, 62, 72], 'BidPrice': [17661.0, 17660.0, 17659.0, 17658.0, 17657.0], 'BidVolSum': 110, 'BidVolume': [10, 26, 25, 23, 26], 'Code': 'MXFL1', 'Date': '2021/12/07', 'DiffAskVol': [-3, 0, 0, 0, 0], 'DiffAskVolSum': 0, 'DiffBidVol': [1, 0, 0, 0, 0], 'DiffBidVolSum': 0, 'FirstDerivedAskPrice': 17665.0, 'FirstDerivedAskVolume': 10, 'FirstDerivedBidPrice': 17658.0, 'FirstDerivedBidVolume': 11, 'TargetKindPrice': 17668.04, 'Time': '12:04:04.647000'}\n",
      "Topic: Q/TFE/MXFL1, Quote: {'AskPrice': [17662.0, 17663.0, 17664.0, 17665.0, 17666.0], 'AskVolSum': 161, 'AskVolume': [2, 18, 37, 42, 62], 'BidPrice': [17661.0, 17660.0, 17659.0, 17658.0, 17657.0], 'BidVolSum': 109, 'BidVolume': [10, 25, 25, 23, 26], 'Code': 'MXFL1', 'Date': '2021/12/07', 'DiffAskVol': [1, 0, 0, 0, 0], 'DiffAskVolSum': 0, 'DiffBidVol': [0, -1, 0, 0, 0], 'DiffBidVolSum': 0, 'FirstDerivedAskPrice': 17665.0, 'FirstDerivedAskVolume': 10, 'FirstDerivedBidPrice': 17658.0, 'FirstDerivedBidVolume': 11, 'TargetKindPrice': 17668.04, 'Time': '12:04:04.772000'}\n",
      "Topic: Q/TFE/MXFL1, Quote: {'AskPrice': [17662.0, 17663.0, 17664.0, 17665.0, 17666.0], 'AskVolSum': 161, 'AskVolume': [2, 18, 37, 42, 62], 'BidPrice': [17661.0, 17660.0, 17659.0, 17658.0, 17657.0], 'BidVolSum': 109, 'BidVolume': [10, 25, 25, 23, 26], 'Code': 'MXFL1', 'Date': '2021/12/07', 'DiffAskVol': [0, 0, 0, 0, 0], 'DiffAskVolSum': 0, 'DiffBidVol': [0, 0, 0, 0, 0], 'DiffBidVolSum': 0, 'FirstDerivedAskPrice': 17665.0, 'FirstDerivedAskVolume': 10, 'FirstDerivedBidPrice': 17658.0, 'FirstDerivedBidVolume': 11, 'TargetKindPrice': 17668.04, 'Time': '12:04:04.897000'}\n",
      "Topic: Q/TFE/MXFL1, Quote: {'AskPrice': [17662.0, 17663.0, 17664.0, 17665.0, 17666.0], 'AskVolSum': 161, 'AskVolume': [2, 18, 37, 42, 62], 'BidPrice': [17661.0, 17660.0, 17659.0, 17658.0, 17657.0], 'BidVolSum': 108, 'BidVolume': [9, 25, 25, 23, 26], 'Code': 'MXFL1', 'Date': '2021/12/07', 'DiffAskVol': [0, 0, 0, 0, 0], 'DiffAskVolSum': 0, 'DiffBidVol': [-1, 0, 0, 0, 0], 'DiffBidVolSum': 0, 'FirstDerivedAskPrice': 17665.0, 'FirstDerivedAskVolume': 10, 'FirstDerivedBidPrice': 17658.0, 'FirstDerivedBidVolume': 11, 'TargetKindPrice': 17668.04, 'Time': '12:04:05.022000'}\n",
      "Topic: Q/TFE/MXFL1, Quote: {'AskPrice': [17662.0, 17663.0, 17664.0, 17665.0, 17666.0], 'AskVolSum': 161, 'AskVolume': [2, 18, 37, 42, 62], 'BidPrice': [17661.0, 17660.0, 17659.0, 17658.0, 17657.0], 'BidVolSum': 106, 'BidVolume': [9, 23, 25, 23, 26], 'Code': 'MXFL1', 'Date': '2021/12/07', 'DiffAskVol': [0, 0, 0, 0, 0], 'DiffAskVolSum': 0, 'DiffBidVol': [0, -2, 0, 0, 0], 'DiffBidVolSum': 0, 'FirstDerivedAskPrice': 17665.0, 'FirstDerivedAskVolume': 10, 'FirstDerivedBidPrice': 17658.0, 'FirstDerivedBidVolume': 11, 'TargetKindPrice': 17671.53, 'Time': '12:04:05.147000'}\n",
      "Topic: Q/TFE/MXFL1, Quote: {'AskPrice': [17662.0, 17663.0, 17664.0, 17665.0, 17666.0], 'AskVolSum': 172, 'AskVolume': [11, 20, 37, 42, 62], 'BidPrice': [17660.0, 17659.0, 17658.0, 17657.0, 17656.0], 'BidVolSum': 125, 'BidVolume': [15, 25, 23, 30, 32], 'Code': 'MXFL1', 'Date': '2021/12/07', 'DiffAskVol': [9, 2, 0, 0, 0], 'DiffAskVolSum': 0, 'DiffBidVol': [-8, 0, 0, 4, -1], 'DiffBidVolSum': 0, 'FirstDerivedAskPrice': 17665.0, 'FirstDerivedAskVolume': 10, 'FirstDerivedBidPrice': 17658.0, 'FirstDerivedBidVolume': 3, 'TargetKindPrice': 17671.53, 'Time': '12:04:05.272000'}\n",
      "Topic: Q/TFE/MXFL1, Quote: {'AskPrice': [17662.0, 17663.0, 17664.0, 17665.0, 17666.0], 'AskVolSum': 163, 'AskVolume': [2, 20, 37, 42, 62], 'BidPrice': [17661.0, 17660.0, 17659.0, 17658.0, 17657.0], 'BidVolSum': 104, 'BidVolume': [15, 15, 25, 23, 26], 'Code': 'MXFL1', 'Date': '2021/12/07', 'DiffAskVol': [-9, 0, 0, 0, 0], 'DiffAskVolSum': 0, 'DiffBidVol': [6, 0, 0, 0, -4], 'DiffBidVolSum': 0, 'FirstDerivedAskPrice': 17665.0, 'FirstDerivedAskVolume': 10, 'FirstDerivedBidPrice': 17658.0, 'FirstDerivedBidVolume': 3, 'TargetKindPrice': 17671.53, 'Time': '12:04:05.397000'}\n",
      "Topic: Q/TFE/MXFL1, Quote: {'AskPrice': [17662.0, 17663.0, 17664.0, 17665.0, 17666.0], 'AskVolSum': 167, 'AskVolume': [6, 20, 37, 42, 62], 'BidPrice': [17661.0, 17660.0, 17659.0, 17658.0, 17657.0], 'BidVolSum': 103, 'BidVolume': [10, 15, 25, 23, 30], 'Code': 'MXFL1', 'Date': '2021/12/07', 'DiffAskVol': [4, 0, 0, 0, 0], 'DiffAskVolSum': 0, 'DiffBidVol': [-5, 0, 0, 0, 4], 'DiffBidVolSum': 0, 'FirstDerivedAskPrice': 17665.0, 'FirstDerivedAskVolume': 10, 'FirstDerivedBidPrice': 17658.0, 'FirstDerivedBidVolume': 3, 'TargetKindPrice': 17671.53, 'Time': '12:04:05.522000'}\n",
      "Topic: Q/TFE/MXFL1, Quote: {'AskPrice': [17662.0, 17663.0, 17664.0, 17665.0, 17666.0], 'AskVolSum': 167, 'AskVolume': [6, 20, 37, 42, 62], 'BidPrice': [17661.0, 17660.0, 17659.0, 17658.0, 17657.0], 'BidVolSum': 103, 'BidVolume': [10, 15, 25, 23, 30], 'Code': 'MXFL1', 'Date': '2021/12/07', 'DiffAskVol': [0, 0, 0, 0, 0], 'DiffAskVolSum': 0, 'DiffBidVol': [0, 0, 0, 0, 0], 'DiffBidVolSum': 0, 'FirstDerivedAskPrice': 17665.0, 'FirstDerivedAskVolume': 10, 'FirstDerivedBidPrice': 17658.0, 'FirstDerivedBidVolume': 3, 'TargetKindPrice': 17671.53, 'Time': '12:04:05.647000'}\n",
      "Topic: Q/TFE/MXFL1, Quote: {'AskPrice': [17662.0, 17663.0, 17664.0, 17665.0, 17666.0], 'AskVolSum': 167, 'AskVolume': [6, 20, 37, 42, 62], 'BidPrice': [17661.0, 17660.0, 17659.0, 17658.0, 17657.0], 'BidVolSum': 101, 'BidVolume': [8, 15, 25, 23, 30], 'Code': 'MXFL1', 'Date': '2021/12/07', 'DiffAskVol': [0, 0, 0, 0, 0], 'DiffAskVolSum': 0, 'DiffBidVol': [-2, 0, 0, 0, 0], 'DiffBidVolSum': 0, 'FirstDerivedAskPrice': 17665.0, 'FirstDerivedAskVolume': 10, 'FirstDerivedBidPrice': 17658.0, 'FirstDerivedBidVolume': 3, 'TargetKindPrice': 17671.53, 'Time': '12:04:05.772000'}\n",
      "Topic: Q/TFE/MXFL1, Quote: {'AskPrice': [17662.0, 17663.0, 17664.0, 17665.0, 17666.0], 'AskVolSum': 167, 'AskVolume': [6, 20, 37, 42, 62], 'BidPrice': [17661.0, 17660.0, 17659.0, 17658.0, 17657.0], 'BidVolSum': 101, 'BidVolume': [8, 15, 25, 23, 30], 'Code': 'MXFL1', 'Date': '2021/12/07', 'DiffAskVol': [0, 0, 0, 0, 0], 'DiffAskVolSum': 0, 'DiffBidVol': [0, 0, 0, 0, 0], 'DiffBidVolSum': 0, 'FirstDerivedAskPrice': 17665.0, 'FirstDerivedAskVolume': 10, 'FirstDerivedBidPrice': 17658.0, 'FirstDerivedBidVolume': 3, 'TargetKindPrice': 17671.53, 'Time': '12:04:05.897000'}\n"
     ]
    },
    {
     "name": "stdout",
     "output_type": "stream",
     "text": [
      "Topic: Q/TFE/MXFL1, Quote: {'AskPrice': [17662.0, 17663.0, 17664.0, 17665.0, 17666.0], 'AskVolSum': 167, 'AskVolume': [6, 20, 37, 42, 62], 'BidPrice': [17661.0, 17660.0, 17659.0, 17658.0, 17657.0], 'BidVolSum': 99, 'BidVolume': [6, 15, 25, 23, 30], 'Code': 'MXFL1', 'Date': '2021/12/07', 'DiffAskVol': [0, 0, 0, 0, 0], 'DiffAskVolSum': 0, 'DiffBidVol': [-2, 0, 0, 0, 0], 'DiffBidVolSum': 0, 'FirstDerivedAskPrice': 17665.0, 'FirstDerivedAskVolume': 10, 'FirstDerivedBidPrice': 17658.0, 'FirstDerivedBidVolume': 3, 'TargetKindPrice': 17671.53, 'Time': '12:04:06.022000'}\n",
      "Topic: Q/TFE/MXFL1, Quote: {'AskPrice': [17662.0, 17663.0, 17664.0, 17665.0, 17666.0], 'AskVolSum': 168, 'AskVolume': [6, 20, 37, 42, 63], 'BidPrice': [17661.0, 17660.0, 17659.0, 17658.0, 17657.0], 'BidVolSum': 99, 'BidVolume': [6, 15, 25, 23, 30], 'Code': 'MXFL1', 'Date': '2021/12/07', 'DiffAskVol': [0, 0, 0, 0, 1], 'DiffAskVolSum': 0, 'DiffBidVol': [0, 0, 0, 0, 0], 'DiffBidVolSum': 0, 'FirstDerivedAskPrice': 17665.0, 'FirstDerivedAskVolume': 10, 'FirstDerivedBidPrice': 17658.0, 'FirstDerivedBidVolume': 3, 'TargetKindPrice': 17671.53, 'Time': '12:04:06.147000'}\n",
      "Topic: Q/TFE/MXFL1, Quote: {'AskPrice': [17662.0, 17663.0, 17664.0, 17665.0, 17666.0], 'AskVolSum': 171, 'AskVolume': [9, 20, 37, 42, 63], 'BidPrice': [17660.0, 17659.0, 17658.0, 17657.0, 17656.0], 'BidVolSum': 124, 'BidVolume': [14, 25, 23, 30, 32], 'Code': 'MXFL1', 'Date': '2021/12/07', 'DiffAskVol': [3, 0, 0, 0, 0], 'DiffAskVolSum': 0, 'DiffBidVol': [-1, 0, 0, 0, 0], 'DiffBidVolSum': 0, 'FirstDerivedAskPrice': 17665.0, 'FirstDerivedAskVolume': 10, 'FirstDerivedBidPrice': 17658.0, 'FirstDerivedBidVolume': 3, 'TargetKindPrice': 17671.53, 'Time': '12:04:06.272000'}\n",
      "Topic: Q/TFE/MXFL1, Quote: {'AskPrice': [17662.0, 17663.0, 17664.0, 17665.0, 17666.0], 'AskVolSum': 169, 'AskVolume': [7, 20, 37, 42, 63], 'BidPrice': [17661.0, 17660.0, 17659.0, 17658.0, 17657.0], 'BidVolSum': 93, 'BidVolume': [1, 14, 25, 23, 30], 'Code': 'MXFL1', 'Date': '2021/12/07', 'DiffAskVol': [-2, 0, 0, 0, 0], 'DiffAskVolSum': 0, 'DiffBidVol': [-5, 0, 0, 0, 0], 'DiffBidVolSum': 0, 'FirstDerivedAskPrice': 17665.0, 'FirstDerivedAskVolume': 10, 'FirstDerivedBidPrice': 17658.0, 'FirstDerivedBidVolume': 3, 'TargetKindPrice': 17671.53, 'Time': '12:04:06.397000'}\n",
      "Topic: Q/TFE/MXFL1, Quote: {'AskPrice': [17662.0, 17663.0, 17664.0, 17665.0, 17666.0], 'AskVolSum': 169, 'AskVolume': [7, 20, 37, 42, 63], 'BidPrice': [17661.0, 17660.0, 17659.0, 17658.0, 17657.0], 'BidVolSum': 92, 'BidVolume': [1, 13, 25, 23, 30], 'Code': 'MXFL1', 'Date': '2021/12/07', 'DiffAskVol': [0, 0, 0, 0, 0], 'DiffAskVolSum': 0, 'DiffBidVol': [0, -1, 0, 0, 0], 'DiffBidVolSum': 0, 'FirstDerivedAskPrice': 17665.0, 'FirstDerivedAskVolume': 10, 'FirstDerivedBidPrice': 17658.0, 'FirstDerivedBidVolume': 3, 'TargetKindPrice': 17671.53, 'Time': '12:04:06.522000'}\n",
      "Topic: Q/TFE/MXFL1, Quote: {'AskPrice': [17662.0, 17663.0, 17664.0, 17665.0, 17666.0], 'AskVolSum': 168, 'AskVolume': [7, 19, 37, 42, 63], 'BidPrice': [17661.0, 17660.0, 17659.0, 17658.0, 17657.0], 'BidVolSum': 92, 'BidVolume': [1, 13, 25, 23, 30], 'Code': 'MXFL1', 'Date': '2021/12/07', 'DiffAskVol': [0, -1, 0, 0, 0], 'DiffAskVolSum': 0, 'DiffBidVol': [0, 0, 0, 0, 0], 'DiffBidVolSum': 0, 'FirstDerivedAskPrice': 17665.0, 'FirstDerivedAskVolume': 10, 'FirstDerivedBidPrice': 17658.0, 'FirstDerivedBidVolume': 3, 'TargetKindPrice': 17671.53, 'Time': '12:04:06.772000'}\n",
      "Topic: Q/TFE/MXFL1, Quote: {'AskPrice': [17662.0, 17663.0, 17664.0, 17665.0, 17666.0], 'AskVolSum': 167, 'AskVolume': [6, 19, 37, 42, 63], 'BidPrice': [17661.0, 17660.0, 17659.0, 17658.0, 17657.0], 'BidVolSum': 92, 'BidVolume': [1, 13, 25, 23, 30], 'Code': 'MXFL1', 'Date': '2021/12/07', 'DiffAskVol': [-1, 0, 0, 0, 0], 'DiffAskVolSum': 0, 'DiffBidVol': [0, 0, 0, 0, 0], 'DiffBidVolSum': 0, 'FirstDerivedAskPrice': 17665.0, 'FirstDerivedAskVolume': 10, 'FirstDerivedBidPrice': 17658.0, 'FirstDerivedBidVolume': 3, 'TargetKindPrice': 17671.53, 'Time': '12:04:07.022000'}\n",
      "Topic: Q/TFE/MXFL1, Quote: {'AskPrice': [17662.0, 17663.0, 17664.0, 17665.0, 17666.0], 'AskVolSum': 199, 'AskVolume': [34, 23, 37, 42, 63], 'BidPrice': [17660.0, 17659.0, 17658.0, 17657.0, 17656.0], 'BidVolSum': 110, 'BidVolume': [5, 20, 23, 30, 32], 'Code': 'MXFL1', 'Date': '2021/12/07', 'DiffAskVol': [28, 4, 0, 0, 0], 'DiffAskVolSum': 0, 'DiffBidVol': [-8, -5, 0, 0, 0], 'DiffBidVolSum': 0, 'FirstDerivedAskPrice': 17665.0, 'FirstDerivedAskVolume': 18, 'FirstDerivedBidPrice': 17657.0, 'FirstDerivedBidVolume': 10, 'TargetKindPrice': 17671.53, 'Time': '12:04:07.147000'}\n",
      "Topic: Q/TFE/MXFL1, Quote: {'AskPrice': [17662.0, 17663.0, 17664.0, 17665.0, 17666.0], 'AskVolSum': 200, 'AskVolume': [35, 23, 37, 42, 63], 'BidPrice': [17660.0, 17659.0, 17658.0, 17657.0, 17656.0], 'BidVolSum': 111, 'BidVolume': [6, 20, 23, 30, 32], 'Code': 'MXFL1', 'Date': '2021/12/07', 'DiffAskVol': [1, 0, 0, 0, 0], 'DiffAskVolSum': 0, 'DiffBidVol': [1, 0, 0, 0, 0], 'DiffBidVolSum': 0, 'FirstDerivedAskPrice': 17665.0, 'FirstDerivedAskVolume': 18, 'FirstDerivedBidPrice': 17657.0, 'FirstDerivedBidVolume': 10, 'TargetKindPrice': 17671.53, 'Time': '12:04:07.272000'}\n",
      "Topic: Q/TFE/MXFL1, Quote: {'AskPrice': [17662.0, 17663.0, 17664.0, 17665.0, 17666.0], 'AskVolSum': 200, 'AskVolume': [35, 23, 37, 42, 63], 'BidPrice': [17661.0, 17660.0, 17659.0, 17658.0, 17657.0], 'BidVolSum': 80, 'BidVolume': [1, 6, 20, 23, 30], 'Code': 'MXFL1', 'Date': '2021/12/07', 'DiffAskVol': [0, 0, 0, 0, 0], 'DiffAskVolSum': 0, 'DiffBidVol': [0, 0, 0, 0, 0], 'DiffBidVolSum': 0, 'FirstDerivedAskPrice': 17665.0, 'FirstDerivedAskVolume': 18, 'FirstDerivedBidPrice': 17657.0, 'FirstDerivedBidVolume': 10, 'TargetKindPrice': 17671.53, 'Time': '12:04:07.397000'}\n",
      "Topic: Q/TFE/MXFL1, Quote: {'AskPrice': [17661.0, 17662.0, 17663.0, 17664.0, 17665.0], 'AskVolSum': 157, 'AskVolume': [19, 36, 23, 37, 42], 'BidPrice': [17660.0, 17659.0, 17658.0, 17657.0, 17656.0], 'BidVolSum': 104, 'BidVolume': [1, 18, 23, 30, 32], 'Code': 'MXFL1', 'Date': '2021/12/07', 'DiffAskVol': [1, 1, 0, 0, 0], 'DiffAskVolSum': 0, 'DiffBidVol': [-5, -2, 0, 0, 0], 'DiffBidVolSum': 0, 'FirstDerivedAskPrice': 17665.0, 'FirstDerivedAskVolume': 19, 'FirstDerivedBidPrice': 17657.0, 'FirstDerivedBidVolume': 10, 'TargetKindPrice': 17671.53, 'Time': '12:04:07.522000'}\n",
      "Topic: Q/TFE/MXFL1, Quote: {'AskPrice': [17661.0, 17662.0, 17663.0, 17664.0, 17665.0], 'AskVolSum': 157, 'AskVolume': [19, 36, 23, 37, 42], 'BidPrice': [17660.0, 17659.0, 17658.0, 17657.0, 17656.0], 'BidVolSum': 104, 'BidVolume': [1, 18, 23, 30, 32], 'Code': 'MXFL1', 'Date': '2021/12/07', 'DiffAskVol': [0, 0, 0, 0, 0], 'DiffAskVolSum': 0, 'DiffBidVol': [0, 0, 0, 0, 0], 'DiffBidVolSum': 0, 'FirstDerivedAskPrice': 17665.0, 'FirstDerivedAskVolume': 19, 'FirstDerivedBidPrice': 17657.0, 'FirstDerivedBidVolume': 10, 'TargetKindPrice': 17671.53, 'Time': '12:04:07.647000'}\n",
      "Topic: Q/TFE/MXFL1, Quote: {'AskPrice': [17661.0, 17662.0, 17663.0, 17664.0, 17665.0], 'AskVolSum': 157, 'AskVolume': [19, 36, 23, 37, 42], 'BidPrice': [17660.0, 17659.0, 17658.0, 17657.0, 17656.0], 'BidVolSum': 104, 'BidVolume': [1, 18, 23, 30, 32], 'Code': 'MXFL1', 'Date': '2021/12/07', 'DiffAskVol': [0, 0, 0, 0, 0], 'DiffAskVolSum': 0, 'DiffBidVol': [0, 0, 0, 0, 0], 'DiffBidVolSum': 0, 'FirstDerivedAskPrice': 17665.0, 'FirstDerivedAskVolume': 19, 'FirstDerivedBidPrice': 17657.0, 'FirstDerivedBidVolume': 10, 'TargetKindPrice': 17671.53, 'Time': '12:04:07.772000'}\n",
      "Topic: Q/TFE/MXFL1, Quote: {'AskPrice': [17661.0, 17662.0, 17663.0, 17664.0, 17665.0], 'AskVolSum': 158, 'AskVolume': [19, 37, 23, 37, 42], 'BidPrice': [17660.0, 17659.0, 17658.0, 17657.0, 17656.0], 'BidVolSum': 104, 'BidVolume': [1, 18, 23, 30, 32], 'Code': 'MXFL1', 'Date': '2021/12/07', 'DiffAskVol': [0, 1, 0, 0, 0], 'DiffAskVolSum': 0, 'DiffBidVol': [0, 0, 0, 0, 0], 'DiffBidVolSum': 0, 'FirstDerivedAskPrice': 17665.0, 'FirstDerivedAskVolume': 19, 'FirstDerivedBidPrice': 17657.0, 'FirstDerivedBidVolume': 10, 'TargetKindPrice': 17671.53, 'Time': '12:04:07.897000'}\n",
      "Topic: Q/TFE/MXFL1, Quote: {'AskPrice': [17661.0, 17662.0, 17663.0, 17664.0, 17665.0], 'AskVolSum': 157, 'AskVolume': [18, 37, 23, 37, 42], 'BidPrice': [17660.0, 17659.0, 17658.0, 17657.0, 17656.0], 'BidVolSum': 104, 'BidVolume': [1, 18, 23, 30, 32], 'Code': 'MXFL1', 'Date': '2021/12/07', 'DiffAskVol': [-1, 0, 0, 0, 0], 'DiffAskVolSum': 0, 'DiffBidVol': [0, 0, 0, 0, 0], 'DiffBidVolSum': 0, 'FirstDerivedAskPrice': 17665.0, 'FirstDerivedAskVolume': 27, 'FirstDerivedBidPrice': 17657.0, 'FirstDerivedBidVolume': 3, 'TargetKindPrice': 17671.53, 'Time': '12:04:08.272000'}\n",
      "Topic: Q/TFE/MXFL1, Quote: {'AskPrice': [17661.0, 17662.0, 17663.0, 17664.0, 17665.0], 'AskVolSum': 157, 'AskVolume': [18, 37, 23, 37, 42], 'BidPrice': [17660.0, 17659.0, 17658.0, 17657.0, 17656.0], 'BidVolSum': 105, 'BidVolume': [2, 18, 23, 30, 32], 'Code': 'MXFL1', 'Date': '2021/12/07', 'DiffAskVol': [0, 0, 0, 0, 0], 'DiffAskVolSum': 0, 'DiffBidVol': [1, 0, 0, 0, 0], 'DiffBidVolSum': 0, 'FirstDerivedAskPrice': 17665.0, 'FirstDerivedAskVolume': 27, 'FirstDerivedBidPrice': 17657.0, 'FirstDerivedBidVolume': 3, 'TargetKindPrice': 17671.53, 'Time': '12:04:08.397000'}\n"
     ]
    },
    {
     "name": "stdout",
     "output_type": "stream",
     "text": [
      "Topic: Q/TFE/MXFL1, Quote: {'AskPrice': [17661.0, 17662.0, 17663.0, 17664.0, 17665.0], 'AskVolSum': 157, 'AskVolume': [18, 37, 23, 37, 42], 'BidPrice': [17660.0, 17659.0, 17658.0, 17657.0, 17656.0], 'BidVolSum': 105, 'BidVolume': [2, 18, 23, 30, 32], 'Code': 'MXFL1', 'Date': '2021/12/07', 'DiffAskVol': [0, 0, 0, 0, 0], 'DiffAskVolSum': 0, 'DiffBidVol': [0, 0, 0, 0, 0], 'DiffBidVolSum': 0, 'FirstDerivedAskPrice': 17664.0, 'FirstDerivedAskVolume': 8, 'FirstDerivedBidPrice': 17657.0, 'FirstDerivedBidVolume': 3, 'TargetKindPrice': 17671.53, 'Time': '12:04:08.522000'}\n",
      "Topic: Q/TFE/MXFL1, Quote: {'AskPrice': [17662.0, 17663.0, 17664.0, 17665.0, 17666.0], 'AskVolSum': 202, 'AskVolume': [37, 23, 37, 42, 63], 'BidPrice': [17660.0, 17659.0, 17658.0, 17657.0, 17656.0], 'BidVolSum': 113, 'BidVolume': [10, 18, 23, 30, 32], 'Code': 'MXFL1', 'Date': '2021/12/07', 'DiffAskVol': [0, 0, 0, 0, 0], 'DiffAskVolSum': 0, 'DiffBidVol': [8, 0, 0, 0, 0], 'DiffBidVolSum': 0, 'FirstDerivedAskPrice': 17664.0, 'FirstDerivedAskVolume': 8, 'FirstDerivedBidPrice': 17657.0, 'FirstDerivedBidVolume': 3, 'TargetKindPrice': 17671.53, 'Time': '12:04:08.647000'}\n",
      "Topic: Q/TFE/MXFL1, Quote: {'AskPrice': [17662.0, 17663.0, 17664.0, 17665.0, 17666.0], 'AskVolSum': 202, 'AskVolume': [36, 24, 37, 42, 63], 'BidPrice': [17660.0, 17659.0, 17658.0, 17657.0, 17656.0], 'BidVolSum': 114, 'BidVolume': [10, 18, 24, 30, 32], 'Code': 'MXFL1', 'Date': '2021/12/07', 'DiffAskVol': [-1, 1, 0, 0, 0], 'DiffAskVolSum': 0, 'DiffBidVol': [0, 0, 1, 0, 0], 'DiffBidVolSum': 0, 'FirstDerivedAskPrice': 17664.0, 'FirstDerivedAskVolume': 8, 'FirstDerivedBidPrice': 17657.0, 'FirstDerivedBidVolume': 3, 'TargetKindPrice': 17671.53, 'Time': '12:04:08.772000'}\n",
      "Topic: Q/TFE/MXFL1, Quote: {'AskPrice': [17662.0, 17663.0, 17664.0, 17665.0, 17666.0], 'AskVolSum': 166, 'AskVolume': [4, 20, 37, 42, 63], 'BidPrice': [17661.0, 17660.0, 17659.0, 17658.0, 17657.0], 'BidVolSum': 97, 'BidVolume': [8, 12, 23, 24, 30], 'Code': 'MXFL1', 'Date': '2021/12/07', 'DiffAskVol': [-32, -4, 0, 0, 0], 'DiffAskVolSum': 0, 'DiffBidVol': [7, 2, 5, 0, 0], 'DiffBidVolSum': 0, 'FirstDerivedAskPrice': 17664.0, 'FirstDerivedAskVolume': 8, 'FirstDerivedBidPrice': 17657.0, 'FirstDerivedBidVolume': 3, 'TargetKindPrice': 17671.53, 'Time': '12:04:08.897000'}\n",
      "Topic: Q/TFE/MXFL1, Quote: {'AskPrice': [17662.0, 17663.0, 17664.0, 17665.0, 17666.0], 'AskVolSum': 168, 'AskVolume': [6, 20, 37, 42, 63], 'BidPrice': [17661.0, 17660.0, 17659.0, 17658.0, 17657.0], 'BidVolSum': 96, 'BidVolume': [7, 12, 23, 24, 30], 'Code': 'MXFL1', 'Date': '2021/12/07', 'DiffAskVol': [2, 0, 0, 0, 0], 'DiffAskVolSum': 0, 'DiffBidVol': [-1, 0, 0, 0, 0], 'DiffBidVolSum': 0, 'FirstDerivedAskPrice': 17664.0, 'FirstDerivedAskVolume': 8, 'FirstDerivedBidPrice': 17657.0, 'FirstDerivedBidVolume': 3, 'TargetKindPrice': 17671.53, 'Time': '12:04:09.022000'}\n",
      "Topic: Q/TFE/MXFL1, Quote: {'AskPrice': [17662.0, 17663.0, 17664.0, 17665.0, 17666.0], 'AskVolSum': 168, 'AskVolume': [6, 20, 37, 42, 63], 'BidPrice': [17661.0, 17660.0, 17659.0, 17658.0, 17657.0], 'BidVolSum': 95, 'BidVolume': [6, 12, 23, 24, 30], 'Code': 'MXFL1', 'Date': '2021/12/07', 'DiffAskVol': [0, 0, 0, 0, 0], 'DiffAskVolSum': 0, 'DiffBidVol': [-1, 0, 0, 0, 0], 'DiffBidVolSum': 0, 'FirstDerivedAskPrice': 17664.0, 'FirstDerivedAskVolume': 8, 'FirstDerivedBidPrice': 17657.0, 'FirstDerivedBidVolume': 3, 'TargetKindPrice': 17671.53, 'Time': '12:04:09.147000'}\n",
      "Topic: Q/TFE/MXFL1, Quote: {'AskPrice': [17662.0, 17663.0, 17664.0, 17665.0, 17666.0], 'AskVolSum': 178, 'AskVolume': [6, 20, 37, 42, 73], 'BidPrice': [17661.0, 17660.0, 17659.0, 17658.0, 17657.0], 'BidVolSum': 95, 'BidVolume': [6, 12, 23, 24, 30], 'Code': 'MXFL1', 'Date': '2021/12/07', 'DiffAskVol': [0, 0, 0, 0, 10], 'DiffAskVolSum': 0, 'DiffBidVol': [0, 0, 0, 0, 0], 'DiffBidVolSum': 0, 'FirstDerivedAskPrice': 17664.0, 'FirstDerivedAskVolume': 8, 'FirstDerivedBidPrice': 17657.0, 'FirstDerivedBidVolume': 3, 'TargetKindPrice': 17671.53, 'Time': '12:04:09.272000'}\n",
      "Topic: Q/TFE/MXFL1, Quote: {'AskPrice': [17662.0, 17663.0, 17664.0, 17665.0, 17666.0], 'AskVolSum': 179, 'AskVolume': [6, 20, 37, 43, 73], 'BidPrice': [17661.0, 17660.0, 17659.0, 17658.0, 17657.0], 'BidVolSum': 95, 'BidVolume': [6, 12, 23, 24, 30], 'Code': 'MXFL1', 'Date': '2021/12/07', 'DiffAskVol': [0, 0, 0, 1, 0], 'DiffAskVolSum': 0, 'DiffBidVol': [0, 0, 0, 0, 0], 'DiffBidVolSum': 0, 'FirstDerivedAskPrice': 17664.0, 'FirstDerivedAskVolume': 8, 'FirstDerivedBidPrice': 17657.0, 'FirstDerivedBidVolume': 3, 'TargetKindPrice': 17671.53, 'Time': '12:04:09.397000'}\n",
      "Topic: Q/TFE/MXFL1, Quote: {'AskPrice': [17662.0, 17663.0, 17664.0, 17665.0, 17666.0], 'AskVolSum': 179, 'AskVolume': [6, 20, 37, 43, 73], 'BidPrice': [17661.0, 17660.0, 17659.0, 17658.0, 17657.0], 'BidVolSum': 95, 'BidVolume': [6, 12, 23, 24, 30], 'Code': 'MXFL1', 'Date': '2021/12/07', 'DiffAskVol': [0, 0, 0, 0, 0], 'DiffAskVolSum': 0, 'DiffBidVol': [0, 0, 0, 0, 0], 'DiffBidVolSum': 0, 'FirstDerivedAskPrice': 17664.0, 'FirstDerivedAskVolume': 8, 'FirstDerivedBidPrice': 17657.0, 'FirstDerivedBidVolume': 3, 'TargetKindPrice': 17671.53, 'Time': '12:04:09.522000'}\n",
      "Topic: Q/TFE/MXFL1, Quote: {'AskPrice': [17662.0, 17663.0, 17664.0, 17665.0, 17666.0], 'AskVolSum': 182, 'AskVolume': [6, 23, 37, 43, 73], 'BidPrice': [17661.0, 17660.0, 17659.0, 17658.0, 17657.0], 'BidVolSum': 96, 'BidVolume': [6, 12, 24, 24, 30], 'Code': 'MXFL1', 'Date': '2021/12/07', 'DiffAskVol': [0, 3, 0, 0, 0], 'DiffAskVolSum': 0, 'DiffBidVol': [0, 0, 1, 0, 0], 'DiffBidVolSum': 0, 'FirstDerivedAskPrice': 17664.0, 'FirstDerivedAskVolume': 8, 'FirstDerivedBidPrice': 17657.0, 'FirstDerivedBidVolume': 11, 'TargetKindPrice': 17671.53, 'Time': '12:04:09.647000'}\n",
      "Topic: Q/TFE/MXFL1, Quote: {'AskPrice': [17662.0, 17663.0, 17664.0, 17665.0, 17666.0], 'AskVolSum': 182, 'AskVolume': [6, 23, 37, 43, 73], 'BidPrice': [17661.0, 17660.0, 17659.0, 17658.0, 17657.0], 'BidVolSum': 97, 'BidVolume': [7, 12, 24, 24, 30], 'Code': 'MXFL1', 'Date': '2021/12/07', 'DiffAskVol': [0, 0, 0, 0, 0], 'DiffAskVolSum': 0, 'DiffBidVol': [1, 0, 0, 0, 0], 'DiffBidVolSum': 0, 'FirstDerivedAskPrice': 17664.0, 'FirstDerivedAskVolume': 8, 'FirstDerivedBidPrice': 17657.0, 'FirstDerivedBidVolume': 11, 'TargetKindPrice': 17671.53, 'Time': '12:04:09.772000'}\n",
      "Topic: Q/TFE/MXFL1, Quote: {'AskPrice': [17662.0, 17663.0, 17664.0, 17665.0, 17666.0], 'AskVolSum': 182, 'AskVolume': [6, 23, 37, 43, 73], 'BidPrice': [17661.0, 17660.0, 17659.0, 17658.0, 17657.0], 'BidVolSum': 96, 'BidVolume': [5, 12, 24, 24, 31], 'Code': 'MXFL1', 'Date': '2021/12/07', 'DiffAskVol': [0, 0, 0, 0, 0], 'DiffAskVolSum': 0, 'DiffBidVol': [-2, 0, 0, 0, 1], 'DiffBidVolSum': 0, 'FirstDerivedAskPrice': 17664.0, 'FirstDerivedAskVolume': 8, 'FirstDerivedBidPrice': 17657.0, 'FirstDerivedBidVolume': 11, 'TargetKindPrice': 17671.53, 'Time': '12:04:09.897000'}\n",
      "Topic: Q/TFE/MXFL1, Quote: {'AskPrice': [17662.0, 17663.0, 17664.0, 17665.0, 17666.0], 'AskVolSum': 192, 'AskVolume': [16, 23, 37, 43, 73], 'BidPrice': [17661.0, 17660.0, 17659.0, 17658.0, 17657.0], 'BidVolSum': 92, 'BidVolume': [1, 12, 24, 24, 31], 'Code': 'MXFL1', 'Date': '2021/12/07', 'DiffAskVol': [10, 0, 0, 0, 0], 'DiffAskVolSum': 0, 'DiffBidVol': [-4, 0, 0, 0, 0], 'DiffBidVolSum': 0, 'FirstDerivedAskPrice': 17665.0, 'FirstDerivedAskVolume': 18, 'FirstDerivedBidPrice': 17657.0, 'FirstDerivedBidVolume': 11, 'TargetKindPrice': 17671.53, 'Time': '12:04:10.022000'}\n",
      "Topic: Q/TFE/MXFL1, Quote: {'AskPrice': [17662.0, 17663.0, 17664.0, 17665.0, 17666.0], 'AskVolSum': 191, 'AskVolume': [15, 23, 37, 43, 73], 'BidPrice': [17661.0, 17660.0, 17659.0, 17658.0, 17657.0], 'BidVolSum': 92, 'BidVolume': [1, 12, 24, 24, 31], 'Code': 'MXFL1', 'Date': '2021/12/07', 'DiffAskVol': [-1, 0, 0, 0, 0], 'DiffAskVolSum': 0, 'DiffBidVol': [0, 0, 0, 0, 0], 'DiffBidVolSum': 0, 'FirstDerivedAskPrice': 17665.0, 'FirstDerivedAskVolume': 18, 'FirstDerivedBidPrice': 17657.0, 'FirstDerivedBidVolume': 11, 'TargetKindPrice': 17679.43, 'Time': '12:04:10.147000'}\n",
      "Topic: Q/TFE/MXFL1, Quote: {'AskPrice': [17662.0, 17663.0, 17664.0, 17665.0, 17666.0], 'AskVolSum': 191, 'AskVolume': [15, 23, 37, 43, 73], 'BidPrice': [17661.0, 17660.0, 17659.0, 17658.0, 17657.0], 'BidVolSum': 92, 'BidVolume': [1, 13, 23, 24, 31], 'Code': 'MXFL1', 'Date': '2021/12/07', 'DiffAskVol': [0, 0, 0, 0, 0], 'DiffAskVolSum': 0, 'DiffBidVol': [0, 1, -1, 0, 0], 'DiffBidVolSum': 0, 'FirstDerivedAskPrice': 17665.0, 'FirstDerivedAskVolume': 18, 'FirstDerivedBidPrice': 17657.0, 'FirstDerivedBidVolume': 11, 'TargetKindPrice': 17679.43, 'Time': '12:04:10.272000'}\n",
      "Topic: Q/TFE/MXFL1, Quote: {'AskPrice': [17662.0, 17663.0, 17664.0, 17665.0, 17666.0], 'AskVolSum': 191, 'AskVolume': [15, 23, 37, 43, 73], 'BidPrice': [17661.0, 17660.0, 17659.0, 17658.0, 17657.0], 'BidVolSum': 93, 'BidVolume': [1, 13, 23, 25, 31], 'Code': 'MXFL1', 'Date': '2021/12/07', 'DiffAskVol': [0, 0, 0, 0, 0], 'DiffAskVolSum': 0, 'DiffBidVol': [0, 0, 0, 1, 0], 'DiffBidVolSum': 0, 'FirstDerivedAskPrice': 17665.0, 'FirstDerivedAskVolume': 18, 'FirstDerivedBidPrice': 17657.0, 'FirstDerivedBidVolume': 11, 'TargetKindPrice': 17679.43, 'Time': '12:04:10.397000'}\n"
     ]
    },
    {
     "name": "stdout",
     "output_type": "stream",
     "text": [
      "Topic: Q/TFE/MXFL1, Quote: {'AskPrice': [17662.0, 17663.0, 17664.0, 17665.0, 17666.0], 'AskVolSum': 194, 'AskVolume': [17, 24, 37, 43, 73], 'BidPrice': [17661.0, 17660.0, 17659.0, 17658.0, 17657.0], 'BidVolSum': 93, 'BidVolume': [1, 13, 23, 25, 31], 'Code': 'MXFL1', 'Date': '2021/12/07', 'DiffAskVol': [2, 1, 0, 0, 0], 'DiffAskVolSum': 0, 'DiffBidVol': [0, 0, 0, 0, 0], 'DiffBidVolSum': 0, 'FirstDerivedAskPrice': 17665.0, 'FirstDerivedAskVolume': 18, 'FirstDerivedBidPrice': 17657.0, 'FirstDerivedBidVolume': 11, 'TargetKindPrice': 17679.43, 'Time': '12:04:10.647000'}\n",
      "Topic: Q/TFE/MXFL1, Quote: {'AskPrice': [17662.0, 17663.0, 17664.0, 17665.0, 17666.0], 'AskVolSum': 194, 'AskVolume': [17, 24, 37, 43, 73], 'BidPrice': [17661.0, 17660.0, 17659.0, 17658.0, 17657.0], 'BidVolSum': 93, 'BidVolume': [1, 13, 23, 25, 31], 'Code': 'MXFL1', 'Date': '2021/12/07', 'DiffAskVol': [0, 0, 0, 0, 0], 'DiffAskVolSum': 0, 'DiffBidVol': [0, 0, 0, 0, 0], 'DiffBidVolSum': 0, 'FirstDerivedAskPrice': 17665.0, 'FirstDerivedAskVolume': 18, 'FirstDerivedBidPrice': 17657.0, 'FirstDerivedBidVolume': 11, 'TargetKindPrice': 17679.43, 'Time': '12:04:10.897000'}\n",
      "Topic: Q/TFE/MXFL1, Quote: {'AskPrice': [17662.0, 17663.0, 17664.0, 17665.0, 17666.0], 'AskVolSum': 200, 'AskVolume': [19, 28, 37, 43, 73], 'BidPrice': [17660.0, 17659.0, 17658.0, 17657.0, 17656.0], 'BidVolSum': 123, 'BidVolume': [12, 23, 25, 31, 32], 'Code': 'MXFL1', 'Date': '2021/12/07', 'DiffAskVol': [2, 4, 0, 0, 0], 'DiffAskVolSum': 0, 'DiffBidVol': [-1, 0, 0, 0, 0], 'DiffBidVolSum': 0, 'FirstDerivedAskPrice': 17665.0, 'FirstDerivedAskVolume': 18, 'FirstDerivedBidPrice': 17657.0, 'FirstDerivedBidVolume': 11, 'TargetKindPrice': 17679.43, 'Time': '12:04:11.022000'}\n",
      "Topic: Q/TFE/MXFL1, Quote: {'AskPrice': [17662.0, 17663.0, 17664.0, 17665.0, 17666.0], 'AskVolSum': 200, 'AskVolume': [19, 28, 37, 43, 73], 'BidPrice': [17660.0, 17659.0, 17658.0, 17657.0, 17656.0], 'BidVolSum': 122, 'BidVolume': [11, 23, 25, 31, 32], 'Code': 'MXFL1', 'Date': '2021/12/07', 'DiffAskVol': [0, 0, 0, 0, 0], 'DiffAskVolSum': 0, 'DiffBidVol': [-1, 0, 0, 0, 0], 'DiffBidVolSum': 0, 'FirstDerivedAskPrice': 17665.0, 'FirstDerivedAskVolume': 18, 'FirstDerivedBidPrice': 17657.0, 'FirstDerivedBidVolume': 11, 'TargetKindPrice': 17679.43, 'Time': '12:04:11.147000'}\n",
      "Topic: Q/TFE/MXFL1, Quote: {'AskPrice': [17662.0, 17663.0, 17664.0, 17665.0, 17666.0], 'AskVolSum': 200, 'AskVolume': [19, 28, 37, 43, 73], 'BidPrice': [17660.0, 17659.0, 17658.0, 17657.0, 17656.0], 'BidVolSum': 122, 'BidVolume': [11, 23, 25, 31, 32], 'Code': 'MXFL1', 'Date': '2021/12/07', 'DiffAskVol': [0, 0, 0, 0, 0], 'DiffAskVolSum': 0, 'DiffBidVol': [0, 0, 0, 0, 0], 'DiffBidVolSum': 0, 'FirstDerivedAskPrice': 17665.0, 'FirstDerivedAskVolume': 18, 'FirstDerivedBidPrice': 17657.0, 'FirstDerivedBidVolume': 11, 'TargetKindPrice': 17679.43, 'Time': '12:04:11.272000'}\n",
      "Topic: Q/TFE/MXFL1, Quote: {'AskPrice': [17662.0, 17663.0, 17664.0, 17665.0, 17666.0], 'AskVolSum': 200, 'AskVolume': [19, 28, 37, 43, 73], 'BidPrice': [17660.0, 17659.0, 17658.0, 17657.0, 17656.0], 'BidVolSum': 124, 'BidVolume': [13, 23, 25, 31, 32], 'Code': 'MXFL1', 'Date': '2021/12/07', 'DiffAskVol': [0, 0, 0, 0, 0], 'DiffAskVolSum': 0, 'DiffBidVol': [2, 0, 0, 0, 0], 'DiffBidVolSum': 0, 'FirstDerivedAskPrice': 17663.0, 'FirstDerivedAskVolume': 1, 'FirstDerivedBidPrice': 17657.0, 'FirstDerivedBidVolume': 11, 'TargetKindPrice': 17679.43, 'Time': '12:04:11.397000'}\n",
      "Topic: Q/TFE/MXFL1, Quote: {'AskPrice': [17662.0, 17663.0, 17664.0, 17665.0, 17666.0], 'AskVolSum': 192, 'AskVolume': [11, 28, 37, 43, 73], 'BidPrice': [17660.0, 17659.0, 17658.0, 17657.0, 17656.0], 'BidVolSum': 124, 'BidVolume': [13, 23, 25, 31, 32], 'Code': 'MXFL1', 'Date': '2021/12/07', 'DiffAskVol': [-8, 0, 0, 0, 0], 'DiffAskVolSum': 0, 'DiffBidVol': [0, 0, 0, 0, 0], 'DiffBidVolSum': 0, 'FirstDerivedAskPrice': 17663.0, 'FirstDerivedAskVolume': 1, 'FirstDerivedBidPrice': 17657.0, 'FirstDerivedBidVolume': 11, 'TargetKindPrice': 17679.43, 'Time': '12:04:11.647000'}\n",
      "Topic: Q/TFE/MXFL1, Quote: {'AskPrice': [17662.0, 17663.0, 17664.0, 17665.0, 17666.0], 'AskVolSum': 193, 'AskVolume': [11, 29, 37, 43, 73], 'BidPrice': [17660.0, 17659.0, 17658.0, 17657.0, 17656.0], 'BidVolSum': 124, 'BidVolume': [13, 23, 25, 31, 32], 'Code': 'MXFL1', 'Date': '2021/12/07', 'DiffAskVol': [0, 1, 0, 0, 0], 'DiffAskVolSum': 0, 'DiffBidVol': [0, 0, 0, 0, 0], 'DiffBidVolSum': 0, 'FirstDerivedAskPrice': 17663.0, 'FirstDerivedAskVolume': 1, 'FirstDerivedBidPrice': 17657.0, 'FirstDerivedBidVolume': 11, 'TargetKindPrice': 17679.43, 'Time': '12:04:11.772000'}\n",
      "Topic: Q/TFE/MXFL1, Quote: {'AskPrice': [17662.0, 17663.0, 17664.0, 17665.0, 17666.0], 'AskVolSum': 189, 'AskVolume': [10, 25, 37, 43, 74], 'BidPrice': [17660.0, 17659.0, 17658.0, 17657.0, 17656.0], 'BidVolSum': 124, 'BidVolume': [13, 23, 25, 31, 32], 'Code': 'MXFL1', 'Date': '2021/12/07', 'DiffAskVol': [-1, -4, 0, 0, 1], 'DiffAskVolSum': 0, 'DiffBidVol': [0, 0, 0, 0, 0], 'DiffBidVolSum': 0, 'FirstDerivedAskPrice': 17663.0, 'FirstDerivedAskVolume': 1, 'FirstDerivedBidPrice': 17657.0, 'FirstDerivedBidVolume': 11, 'TargetKindPrice': 17679.43, 'Time': '12:04:11.897000'}\n",
      "Topic: Q/TFE/MXFL1, Quote: {'AskPrice': [17662.0, 17663.0, 17664.0, 17665.0, 17666.0], 'AskVolSum': 190, 'AskVolume': [11, 25, 37, 43, 74], 'BidPrice': [17660.0, 17659.0, 17658.0, 17657.0, 17656.0], 'BidVolSum': 124, 'BidVolume': [13, 23, 25, 31, 32], 'Code': 'MXFL1', 'Date': '2021/12/07', 'DiffAskVol': [1, 0, 0, 0, 0], 'DiffAskVolSum': 0, 'DiffBidVol': [0, 0, 0, 0, 0], 'DiffBidVolSum': 0, 'FirstDerivedAskPrice': 17663.0, 'FirstDerivedAskVolume': 1, 'FirstDerivedBidPrice': 17657.0, 'FirstDerivedBidVolume': 11, 'TargetKindPrice': 17679.43, 'Time': '12:04:12.147000'}\n",
      "Topic: Q/TFE/MXFL1, Quote: {'AskPrice': [17661.0, 17662.0, 17663.0, 17664.0, 17665.0], 'AskVolSum': 123, 'AskVolume': [4, 14, 25, 37, 43], 'BidPrice': [17660.0, 17659.0, 17658.0, 17657.0, 17656.0], 'BidVolSum': 124, 'BidVolume': [13, 23, 25, 31, 32], 'Code': 'MXFL1', 'Date': '2021/12/07', 'DiffAskVol': [-14, 3, 0, 0, 0], 'DiffAskVolSum': 0, 'DiffBidVol': [0, 0, 0, 0, 0], 'DiffBidVolSum': 0, 'FirstDerivedAskPrice': 17663.0, 'FirstDerivedAskVolume': 1, 'FirstDerivedBidPrice': 17657.0, 'FirstDerivedBidVolume': 11, 'TargetKindPrice': 17679.43, 'Time': '12:04:12.272000'}\n",
      "Topic: Q/TFE/MXFL1, Quote: {'AskPrice': [17661.0, 17662.0, 17663.0, 17664.0, 17665.0], 'AskVolSum': 124, 'AskVolume': [4, 15, 25, 37, 43], 'BidPrice': [17660.0, 17659.0, 17658.0, 17657.0, 17656.0], 'BidVolSum': 124, 'BidVolume': [13, 23, 25, 31, 32], 'Code': 'MXFL1', 'Date': '2021/12/07', 'DiffAskVol': [0, 1, 0, 0, 0], 'DiffAskVolSum': 0, 'DiffBidVol': [0, 0, 0, 0, 0], 'DiffBidVolSum': 0, 'FirstDerivedAskPrice': 17663.0, 'FirstDerivedAskVolume': 1, 'FirstDerivedBidPrice': 17657.0, 'FirstDerivedBidVolume': 11, 'TargetKindPrice': 17679.43, 'Time': '12:04:12.397000'}\n",
      "Topic: Q/TFE/MXFL1, Quote: {'AskPrice': [17661.0, 17662.0, 17663.0, 17664.0, 17665.0], 'AskVolSum': 124, 'AskVolume': [4, 15, 25, 37, 43], 'BidPrice': [17660.0, 17659.0, 17658.0, 17657.0, 17656.0], 'BidVolSum': 123, 'BidVolume': [12, 23, 25, 31, 32], 'Code': 'MXFL1', 'Date': '2021/12/07', 'DiffAskVol': [0, 0, 0, 0, 0], 'DiffAskVolSum': 0, 'DiffBidVol': [-1, 0, 0, 0, 0], 'DiffBidVolSum': 0, 'FirstDerivedAskPrice': 17663.0, 'FirstDerivedAskVolume': 1, 'FirstDerivedBidPrice': 17657.0, 'FirstDerivedBidVolume': 11, 'TargetKindPrice': 17679.43, 'Time': '12:04:12.522000'}\n",
      "Topic: Q/TFE/MXFL1, Quote: {'AskPrice': [17661.0, 17662.0, 17663.0, 17664.0, 17665.0], 'AskVolSum': 124, 'AskVolume': [4, 15, 25, 37, 43], 'BidPrice': [17660.0, 17659.0, 17658.0, 17657.0, 17656.0], 'BidVolSum': 123, 'BidVolume': [12, 23, 25, 31, 32], 'Code': 'MXFL1', 'Date': '2021/12/07', 'DiffAskVol': [0, 0, 0, 0, 0], 'DiffAskVolSum': 0, 'DiffBidVol': [0, 0, 0, 0, 0], 'DiffBidVolSum': 0, 'FirstDerivedAskPrice': 17663.0, 'FirstDerivedAskVolume': 1, 'FirstDerivedBidPrice': 17657.0, 'FirstDerivedBidVolume': 11, 'TargetKindPrice': 17679.43, 'Time': '12:04:12.647000'}\n",
      "Topic: Q/TFE/MXFL1, Quote: {'AskPrice': [17661.0, 17662.0, 17663.0, 17664.0, 17665.0], 'AskVolSum': 127, 'AskVolume': [2, 15, 30, 37, 43], 'BidPrice': [17660.0, 17659.0, 17658.0, 17657.0, 17656.0], 'BidVolSum': 124, 'BidVolume': [13, 23, 25, 31, 32], 'Code': 'MXFL1', 'Date': '2021/12/07', 'DiffAskVol': [-2, 0, 5, 0, 0], 'DiffAskVolSum': 0, 'DiffBidVol': [1, 0, 0, 0, 0], 'DiffBidVolSum': 0, 'FirstDerivedAskPrice': 17663.0, 'FirstDerivedAskVolume': 1, 'FirstDerivedBidPrice': 17657.0, 'FirstDerivedBidVolume': 11, 'TargetKindPrice': 17679.43, 'Time': '12:04:12.772000'}\n"
     ]
    },
    {
     "name": "stdout",
     "output_type": "stream",
     "text": [
      "Topic: Q/TFE/MXFL1, Quote: {'AskPrice': [17661.0, 17662.0, 17663.0, 17664.0, 17665.0], 'AskVolSum': 127, 'AskVolume': [2, 15, 30, 37, 43], 'BidPrice': [17660.0, 17659.0, 17658.0, 17657.0, 17656.0], 'BidVolSum': 123, 'BidVolume': [12, 23, 25, 31, 32], 'Code': 'MXFL1', 'Date': '2021/12/07', 'DiffAskVol': [0, 0, 0, 0, 0], 'DiffAskVolSum': 0, 'DiffBidVol': [-1, 0, 0, 0, 0], 'DiffBidVolSum': 0, 'FirstDerivedAskPrice': 17663.0, 'FirstDerivedAskVolume': 1, 'FirstDerivedBidPrice': 17657.0, 'FirstDerivedBidVolume': 11, 'TargetKindPrice': 17679.43, 'Time': '12:04:12.897000'}\n",
      "Topic: Q/TFE/MXFL1, Quote: {'AskPrice': [17661.0, 17662.0, 17663.0, 17664.0, 17665.0], 'AskVolSum': 127, 'AskVolume': [2, 15, 30, 37, 43], 'BidPrice': [17660.0, 17659.0, 17658.0, 17657.0, 17656.0], 'BidVolSum': 123, 'BidVolume': [12, 23, 25, 31, 32], 'Code': 'MXFL1', 'Date': '2021/12/07', 'DiffAskVol': [0, 0, 0, 0, 0], 'DiffAskVolSum': 0, 'DiffBidVol': [0, 0, 0, 0, 0], 'DiffBidVolSum': 0, 'FirstDerivedAskPrice': 17663.0, 'FirstDerivedAskVolume': 1, 'FirstDerivedBidPrice': 17657.0, 'FirstDerivedBidVolume': 11, 'TargetKindPrice': 17679.43, 'Time': '12:04:13.022000'}\n"
     ]
    }
   ],
   "source": [
    "api.quote.subscribe(contract_txf, quote_type=sj.constant.QuoteType.BidAsk)"
   ]
  },
  {
   "cell_type": "code",
   "execution_count": 34,
   "id": "1f40370c",
   "metadata": {},
   "outputs": [
    {
     "name": "stdout",
     "output_type": "stream",
     "text": [
      "Response Code: 200 | Event Code: 16 | Info: Q/*/MXFL1 | Event: Subscribe or Unsubscribe ok\n"
     ]
    }
   ],
   "source": [
    "api.quote.unsubscribe(contract_txf, quote_type=sj.constant.QuoteType.BidAsk)"
   ]
  },
  {
   "cell_type": "markdown",
   "id": "8b5654ff",
   "metadata": {},
   "source": [
    "練習用: snapshots"
   ]
  },
  {
   "cell_type": "code",
   "execution_count": 52,
   "id": "3e6914ca",
   "metadata": {},
   "outputs": [
    {
     "data": {
      "text/plain": [
       "[Snapshot(ts=1638879202629000000, code='2330', exchange='TSE', open=602.0, high=603.0, low=597.0, close=599.0, tick_type=<TickType.Buy: 'Buy'>, change_price=-1.0, change_rate=-0.17, change_type=<ChangeType.Down: 'Down'>, average_price=599.66, volume=1, total_volume=10275, amount=599000, total_amount=6161459000, yesterday_volume=23589.0, buy_price=598.0, buy_volume=535.0, sell_price=599.0, sell_volume=190, volume_ratio=0.44),\n",
       " Snapshot(ts=1638879226038000000, code='3481', exchange='TSE', open=18.5, high=19.0, low=18.4, close=18.9, tick_type=<TickType.Sell: 'Sell'>, change_price=0.7, change_rate=3.85, change_type=<ChangeType.Up: 'Up'>, average_price=18.72, volume=3, total_volume=216389, amount=56700, total_amount=4049845850, yesterday_volume=138924.0, buy_price=18.9, buy_volume=1579.0, sell_price=18.95, sell_volume=3496, volume_ratio=1.56)]"
      ]
     },
     "execution_count": 52,
     "metadata": {},
     "output_type": "execute_result"
    }
   ],
   "source": [
    "contracts = [api.Contracts.Stocks['2330'], api.Contracts.Stocks['3481']]\n",
    "snapshots = api.snapshots(contracts)\n",
    "snapshots"
   ]
  },
  {
   "cell_type": "code",
   "execution_count": null,
   "id": "ff15f5e4",
   "metadata": {},
   "outputs": [],
   "source": []
  }
 ],
 "metadata": {
  "kernelspec": {
   "display_name": "Python 3",
   "language": "python",
   "name": "python3"
  },
  "language_info": {
   "codemirror_mode": {
    "name": "ipython",
    "version": 3
   },
   "file_extension": ".py",
   "mimetype": "text/x-python",
   "name": "python",
   "nbconvert_exporter": "python",
   "pygments_lexer": "ipython3",
   "version": "3.8.8"
  }
 },
 "nbformat": 4,
 "nbformat_minor": 5
}
