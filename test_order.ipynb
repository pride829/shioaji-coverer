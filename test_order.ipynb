{
 "cells": [
  {
   "cell_type": "code",
   "execution_count": 1,
   "id": "0556e778",
   "metadata": {},
   "outputs": [
    {
     "data": {
      "text/plain": [
       "<module 'shioaji_login' from 'C:\\\\Users\\\\pride\\\\git\\\\shioaji-coverer\\\\shioaji_login.py'>"
      ]
     },
     "execution_count": 1,
     "metadata": {},
     "output_type": "execute_result"
    }
   ],
   "source": [
    "import codecs\n",
    "import datetime\n",
    "import importlib\n",
    "import os\n",
    "import json\n",
    "\n",
    "from pathlib import Path\n",
    "\n",
    "import shioaji as sj\n",
    "import shioaji_login\n",
    "importlib.reload(shioaji_login)"
   ]
  },
  {
   "cell_type": "code",
   "execution_count": 2,
   "id": "66fca538",
   "metadata": {},
   "outputs": [],
   "source": [
    "def write_log(text):\n",
    "    \"\"\"\n",
    "    Write into log file.\n",
    "    \n",
    "    :param text: (str)\n",
    "    :return: None\n",
    "    \"\"\"\n",
    "\n",
    "    now = datetime.datetime.now()\n",
    "    path = 'test_logs'\n",
    "    try:\n",
    "        Path(path).mkdir(parents=True, exist_ok=True)\n",
    "    except FileExistsError:\n",
    "        # directory already exists\n",
    "        pass\n",
    "    \n",
    "    log_name = now.strftime('%Y%m%d') + '.log'\n",
    "    path = os.path.join(path, log_name)\n",
    "\n",
    "    # In order to let json dumps chinese correctly, codecs is needed.\n",
    "    # When ever use json dumps, specify ensure_ascii=False\n",
    "    fp = codecs.open(path, 'a+', 'utf16')\n",
    "    fp.write(text)\n",
    "    fp.close()"
   ]
  },
  {
   "cell_type": "code",
   "execution_count": 3,
   "id": "1b3e1912",
   "metadata": {},
   "outputs": [
    {
     "name": "stdout",
     "output_type": "stream",
     "text": [
      "Response Code: 0 | Event Code: 0 | Info: host '203.66.91.161:80', hostname '203.66.91.161:80' IP 203.66.91.161:80 (host 1 of 1) (host connection attempt 1 of 1) (total connection attempt 1 of 1) | Event: Session up\n",
      "Login with ID N125685958\n",
      "Login status: [FutureAccount(person_id='N125685958', broker_id='F002000', account_id='1645949', signed=True, username='曾天裕'), Account(account_type=<AccountType.H: 'H'>, person_id='N125685958', broker_id='9A9X', account_id='0137289', username='曾天裕'), StockAccount(person_id='N125685958', broker_id='9A9X', account_id='0498332', signed=True, username='曾天裕\\u3000\\u3000')]\n",
      "Activating CA at the path C:\\Users\\pride\\git\\shioaji-coverer\\sinopac\\Sinopac.pfx\n",
      "\n",
      "\n"
     ]
    }
   ],
   "source": [
    "api = shioaji_login.login()"
   ]
  },
  {
   "cell_type": "code",
   "execution_count": 5,
   "id": "d8a85ccb",
   "metadata": {},
   "outputs": [
    {
     "name": "stdout",
     "output_type": "stream",
     "text": [
      "***\n",
      "Trade msg: \n",
      "Trade(contract=Future(code='MXFB2', symbol='MXF202202', name='小型臺指W102', category='MXF', delivery_month='202202', delivery_date='2022/02/16', underlying_kind='I', unit=1, limit_up=19386.0, limit_down=15862.0, reference=17624.0, update_date='2022/01/27'), order=Order(action=<Action.Buy: 'Buy'>, price=16000, quantity=1, id='886c422a', seqno='118222', account=Account(account_type=<AccountType.Future: 'F'>, person_id='N125685958', broker_id='F002000', account_id='1645949', signed=True), price_type=<StockPriceType.LMT: 'LMT'>, order_type=<FuturesOrderType.FOK: 'FOK'>, octype=<FuturesOCType.New: 'New'>), status=OrderStatus(id='886c422a', status=<Status.PendingSubmit: 'PendingSubmit'>, status_code='    ', order_datetime=datetime.datetime(2022, 2, 7, 0, 48, 32), deals=[]))\n",
      "***\n",
      "\n",
      "OrderState.FOrder {'operation': {'op_type': 'New', 'op_code': '00', 'op_msg': '預約完成'}, 'order': {'id': '886c422a', 'seqno': '118222', 'ordno': 'tn00e', 'account': {'account_type': 'F', 'person_id': '', 'broker_id': 'F002000', 'account_id': '1645949', 'signed': True}, 'action': 'Buy', 'price': 16000.0, 'quantity': 1, 'order_type': 'FOK', 'market_type': 'Day', 'oc_type': 'New', 'subaccount': ''}, 'status': {'id': '886c422a', 'exchange_ts': 1644166113, 'modified_price': 0.0, 'cancel_quantity': 0, 'order_quantity': 1}, 'contract': {'security_type': 'FUT', 'code': 'MXF', 'exchange': 'TIM', 'delivery_month': '202202', 'delivery_date': '', 'strike_price': 0.0, 'option_right': 'Future'}}\n",
      "OrderState.FOrder {'operation': {'op_type': 'Cancel', 'op_code': '00', 'op_msg': ''}, 'order': {'id': '886c422a', 'seqno': '118222', 'ordno': 'tn00e', 'account': {'account_type': 'F', 'person_id': '', 'broker_id': 'F002000', 'account_id': '1645949', 'signed': True}, 'action': 'Buy', 'price': 16000.0, 'quantity': 1, 'order_type': 'FOK', 'market_type': 'Day', 'oc_type': 'New', 'subaccount': ''}, 'status': {'id': '886c422a', 'exchange_ts': 1644166164, 'modified_price': 0.0, 'cancel_quantity': 1, 'order_quantity': 1}, 'contract': {'security_type': 'FUT', 'code': 'MXF', 'exchange': 'TIM', 'delivery_month': '202202', 'delivery_date': '', 'strike_price': 0.0, 'option_right': 'Future'}}\n",
      "OrderState.FOrder {'operation': {'op_type': 'New', 'op_code': '99Q1', 'op_msg': '超過客戶可平倉口數'}, 'order': {'id': '65277dfe', 'seqno': '118224', 'ordno': '00', 'account': {'account_type': 'F', 'person_id': '', 'broker_id': 'F002000', 'account_id': '1645949', 'signed': True}, 'action': 'Sell', 'price': 0.0, 'quantity': 2, 'order_type': 'FOK', 'market_type': 'Day', 'oc_type': 'Cover', 'subaccount': ''}, 'status': {'id': '65277dfe', 'exchange_ts': 1644166239, 'modified_price': 0.0, 'cancel_quantity': 0, 'order_quantity': 2}, 'contract': {'security_type': 'FUT', 'code': 'MXF', 'exchange': 'TIM', 'delivery_month': '202202', 'delivery_date': '', 'strike_price': 0.0, 'option_right': 'Future'}}\n",
      "Response Code: 0 | Event Code: 12 | Info: solClient.c:12194                    (000044ec) Session '(c0,s1)_sinopac' keep-alive on tcp_TxRx detected session down, client name 'PYAPI/N125685958/0206/164804/021071/220.143.93.204', VPN name 'sinopac', peer address 'hostname '203.66.91.161:80' IP 203. | Event: Session reconnecting\n",
      "Response Code: 0 | Event Code: 13 | Info: host '203.66.91.161:80', hostname '203.66.91.161:80' IP 203.66.91.161:80 (host 1 of 1) (host connection attempt 1 of 1) (total reconnection attempt 2 of 10) | Event: Session reconnected\n",
      "Response Code: 0 | Event Code: 12 | Info: solClientOS.c:5777                   (000044ec) TCP: Could not read from socket 1960, error = Connection reset by peer (10054) | Event: Session reconnecting\n",
      "Response Code: 0 | Event Code: 13 | Info: host '203.66.91.161:80', hostname '203.66.91.161:80' IP 203.66.91.161:80 (host 1 of 1) (host connection attempt 1 of 1) (total reconnection attempt 1 of 10) | Event: Session reconnected\n"
     ]
    }
   ],
   "source": [
    "# Get contract\n",
    "contract = api.Contracts.Futures['MXFB2']\n",
    "\n",
    "# 下單\n",
    "fut_order = api.Order(\n",
    "    action=sj.constant.Action.Buy, # 購買\n",
    "    price=16000, # 用16000點\n",
    "    quantity=1, # 買一口\n",
    "    price_type=sj.constant.FuturesPriceType.LMT,\n",
    "    order_type=sj.constant.FuturesOrderType.FOK, \n",
    "    octype=sj.constant.FuturesOCType.New,\n",
    "    account=api.futopt_account\n",
    ")\n",
    "\n",
    "# Placing order\n",
    "trade = api.place_order(contract, fut_order)\n",
    "\n",
    "print('***')\n",
    "print(f'Trade msg: {trade.status.msg}')\n",
    "write_log(f'Trade msg: {trade.status.msg}')\n",
    "write_log('\\n')\n",
    "print(repr(trade))\n",
    "write_log(f'Full trade: {repr(trade)}')\n",
    "print('***\\n')"
   ]
  },
  {
   "cell_type": "code",
   "execution_count": 5,
   "id": "48eda8a5",
   "metadata": {},
   "outputs": [
    {
     "name": "stdout",
     "output_type": "stream",
     "text": [
      "OrderState.FOrder {'operation': {'op_type': 'New', 'op_code': '99S8', 'op_msg': '開盤前不接受此種委託'}, 'order': {'id': 'f3658ac1', 'seqno': '118204', 'ordno': '00', 'account': {'account_type': 'F', 'person_id': '', 'broker_id': 'F002000', 'account_id': '1645949', 'signed': True}, 'action': 'Buy', 'price': 16000.0, 'quantity': 1, 'order_type': 'FOK', 'market_type': 'Day', 'oc_type': 'New', 'subaccount': ''}, 'status': {'id': 'f3658ac1', 'exchange_ts': 1644247079, 'modified_price': 0.0, 'cancel_quantity': 0, 'order_quantity': 1}, 'contract': {'security_type': 'FUT', 'code': 'TXF', 'exchange': 'TIM', 'delivery_month': '202202', 'delivery_date': '', 'strike_price': 0.0, 'option_right': 'Future'}}\n"
     ]
    }
   ],
   "source": [
    "trade = api.place_order(contract, fut_order)"
   ]
  },
  {
   "cell_type": "code",
   "execution_count": null,
   "id": "92102bb7",
   "metadata": {},
   "outputs": [],
   "source": [
    "ㄎ"
   ]
  }
 ],
 "metadata": {
  "kernelspec": {
   "display_name": "Python 3 (ipykernel)",
   "language": "python",
   "name": "python3"
  },
  "language_info": {
   "codemirror_mode": {
    "name": "ipython",
    "version": 3
   },
   "file_extension": ".py",
   "mimetype": "text/x-python",
   "name": "python",
   "nbconvert_exporter": "python",
   "pygments_lexer": "ipython3",
   "version": "3.7.0"
  }
 },
 "nbformat": 4,
 "nbformat_minor": 5
}
