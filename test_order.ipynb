{
 "cells": [
  {
   "cell_type": "code",
   "execution_count": 46,
   "id": "0556e778",
   "metadata": {},
   "outputs": [
    {
     "data": {
      "text/plain": [
       "<module 'shioaji_login' from 'C:\\\\Users\\\\pride\\\\git\\\\shioaji-coverer\\\\shioaji_login.py'>"
      ]
     },
     "execution_count": 46,
     "metadata": {},
     "output_type": "execute_result"
    }
   ],
   "source": [
    "import codecs\n",
    "import datetime\n",
    "import importlib\n",
    "import os\n",
    "import json\n",
    "\n",
    "from pathlib import Path\n",
    "\n",
    "import shioaji as sj\n",
    "import shioaji_login\n",
    "importlib.reload(shioaji_login)"
   ]
  },
  {
   "cell_type": "code",
   "execution_count": 38,
   "id": "66fca538",
   "metadata": {},
   "outputs": [],
   "source": [
    "def write_log(text):\n",
    "    \"\"\"\n",
    "    Write into log file.\n",
    "    \n",
    "    :param text: (str)\n",
    "    :return: None\n",
    "    \"\"\"\n",
    "\n",
    "    now = datetime.datetime.now()\n",
    "    path = 'test_logs'\n",
    "    try:\n",
    "        Path(path).mkdir(parents=True, exist_ok=True)\n",
    "    except FileExistsError:\n",
    "        # directory already exists\n",
    "        pass\n",
    "    \n",
    "    log_name = now.strftime('%Y%m%d') + '.log'\n",
    "    path = os.path.join(path, log_name)\n",
    "\n",
    "    # In order to let json dumps chinese correctly, codecs is needed.\n",
    "    # When ever use json dumps, specify ensure_ascii=False\n",
    "    fp = codecs.open(path, 'a+', 'utf16')\n",
    "    fp.write(text)\n",
    "    fp.close()"
   ]
  },
  {
   "cell_type": "code",
   "execution_count": 47,
   "id": "1b3e1912",
   "metadata": {},
   "outputs": [
    {
     "name": "stdout",
     "output_type": "stream",
     "text": [
      "Response Code: 0 | Event Code: 0 | Info: host '203.66.91.161:80', hostname '203.66.91.161:80' IP 203.66.91.161:80 (host 1 of 1) (host connection attempt 1 of 1) (total connection attempt 1 of 1) | Event: Session up\n",
      "Login with ID N125685958\n",
      "Login status: [FutureAccount(person_id='N125685958', broker_id='F002000', account_id='1645949', signed=True, username='曾天裕'), Account(account_type=<AccountType.H: 'H'>, person_id='N125685958', broker_id='9A9X', account_id='0137289', username='曾天裕'), StockAccount(person_id='N125685958', broker_id='9A9X', account_id='0498332', signed=True, username='曾天裕\\u3000\\u3000')]\n",
      "Activating CA at the path C:\\Users\\pride\\git\\shioaji-coverer\\sinopac\\Sinopac.pfx\n"
     ]
    }
   ],
   "source": [
    "api = shioaji_login.login()"
   ]
  },
  {
   "cell_type": "code",
   "execution_count": 55,
   "id": "d8a85ccb",
   "metadata": {},
   "outputs": [
    {
     "name": "stdout",
     "output_type": "stream",
     "text": [
      "***\n",
      "Trade msg: \n",
      "Trade(contract=Future(code='TXFB2', symbol='TXF202202', name='臺股期貨02', category='TXF', delivery_month='202202', delivery_date='2022/02/16', underlying_kind='I', unit=1, limit_up=19386.0, limit_down=15862.0, reference=17624.0, update_date='2022/01/27'), order=Order(action=<Action.Buy: 'Buy'>, price=16000, quantity=1, account=FutureAccount(person_id='N125685958', broker_id='F002000', account_id='1645949', signed=True, username='曾天裕'), price_type=<StockPriceType.LMT: 'LMT'>, order_type=<FuturesOrderType.FOK: 'FOK'>, octype=<FuturesOCType.New: 'New'>), status=OrderStatus(status=<Status.Failed: 'Failed'>))\n",
      "***\n",
      "\n"
     ]
    }
   ],
   "source": [
    "# Get contract\n",
    "contract = api.Contracts.Futures['TXFB2']\n",
    "\n",
    "# 下單\n",
    "fut_order = api.Order(\n",
    "    action=sj.constant.Action.Buy, # 購買\n",
    "    price=16000, # 用16000點\n",
    "    quantity=1, # 買一口\n",
    "    price_type=sj.constant.FuturesPriceType.LMT,\n",
    "    order_type=sj.constant.FuturesOrderType.FOK, \n",
    "    octype=sj.constant.FuturesOCType.New,\n",
    "    account=api.futopt_account\n",
    ")\n",
    "\n",
    "# Placing order\n",
    "trade = api.place_order(contract, fut_order)\n",
    "\n",
    "print('***')\n",
    "print(f'Trade msg: {trade.status.msg}')\n",
    "write_log(f'Trade msg: {trade.status.msg}')\n",
    "write_log('\\n')\n",
    "print(repr(trade))\n",
    "write_log(f'Full trade: {repr(trade)}')\n",
    "print('***\\n')"
   ]
  }
 ],
 "metadata": {
  "kernelspec": {
   "display_name": "Python 3 (ipykernel)",
   "language": "python",
   "name": "python3"
  },
  "language_info": {
   "codemirror_mode": {
    "name": "ipython",
    "version": 3
   },
   "file_extension": ".py",
   "mimetype": "text/x-python",
   "name": "python",
   "nbconvert_exporter": "python",
   "pygments_lexer": "ipython3",
   "version": "3.7.0"
  }
 },
 "nbformat": 4,
 "nbformat_minor": 5
}
